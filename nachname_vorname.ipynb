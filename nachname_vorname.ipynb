{
 "metadata": {
  "language_info": {
   "codemirror_mode": {
    "name": "ipython",
    "version": 3
   },
   "file_extension": ".py",
   "mimetype": "text/x-python",
   "name": "python",
   "nbconvert_exporter": "python",
   "pygments_lexer": "ipython3",
   "version": "3.7.6"
  },
  "orig_nbformat": 4,
  "kernelspec": {
   "name": "python3",
   "display_name": "Python 3.7.6 64-bit ('base': conda)"
  },
  "interpreter": {
   "hash": "cea365e6e84b3fcad284e94afc0945114e7e44a6e35f92468a14f9ff01e6520c"
  }
 },
 "nbformat": 4,
 "nbformat_minor": 2,
 "cells": [
  {
   "source": [
    "# Data Analytics SoSe 2021\n",
    "## Gruppenmitglieder: Anja Stricker, Annika Stadelmann"
   ],
   "cell_type": "markdown",
   "metadata": {}
  },
  {
   "source": [
    "### Aufgabe 1\n",
    "#### (Datenvorbereitung)\n",
    "Lesen Sie den unter der o.g. Adresse verfugbaren Tankstellendatensatz zum Stand 31.05.2021\n",
    "in einen DataFrame namens df stations ein. Dieser soll in dieser Aufgabe fur die weitere\n",
    "Verwendung vorbereitet werden."
   ],
   "cell_type": "markdown",
   "metadata": {}
  },
  {
   "cell_type": "code",
   "execution_count": 86,
   "metadata": {},
   "outputs": [
    {
     "output_type": "execute_result",
     "data": {
      "text/plain": [
       "                                   uuid                     name    brand  \\\n",
       "0  0e18d0d3-ed38-4e7f-a18e-507a78ad901d  OIL! Tankstelle München     OIL!   \n",
       "1  44e2bdb7-13e3-4156-8576-8326cdd20459           bft Tankstelle      NaN   \n",
       "2  ad812258-94e7-473d-aa80-d392f7532218   bft Bonn-Bad Godesberg      bft   \n",
       "3  e52d755d-4be7-4962-a917-3b0139e6f352          Esso Tankstelle     ESSO   \n",
       "4  e52a5d92-33c6-4c77-b6cd-ea90ca1c7c62     Friedrich Dankelmann  Markant   \n",
       "\n",
       "                street house_number post_code     city   latitude  longitude  \\\n",
       "0  Eversbuschstraße 33          NaN     80999  München  48.180700  11.460900   \n",
       "1       Schellengasse            53     36304  Alsfeld  50.752009   9.279039   \n",
       "2    Godesberger Allee           55     53175     Bonn  50.695100   7.142760   \n",
       "3  OSNABRUECKER STR. 5                  49163   BOHMTE  52.358250   8.304064   \n",
       "4     Strangenhäuschen           10     52070   Aachen  50.801680   6.110960   \n",
       "\n",
       "             first_active                                  openingtimes_json  \n",
       "0  1970-01-01 01:00:00+01  {\"openingTimes\":[{\"applicable_days\":192,\"perio...  \n",
       "1  1970-01-01 01:00:00+01  {\"openingTimes\":[{\"applicable_days\":63,\"period...  \n",
       "2  1970-01-01 01:00:00+01  {\"openingTimes\":[{\"applicable_days\":31,\"period...  \n",
       "3  2014-03-18 16:45:31+01  {\"openingTimes\":[{\"applicable_days\":31,\"period...  \n",
       "4  2014-03-18 16:45:31+01  {\"openingTimes\":[{\"applicable_days\":63,\"period...  "
      ],
      "text/html": "<div>\n<style scoped>\n    .dataframe tbody tr th:only-of-type {\n        vertical-align: middle;\n    }\n\n    .dataframe tbody tr th {\n        vertical-align: top;\n    }\n\n    .dataframe thead th {\n        text-align: right;\n    }\n</style>\n<table border=\"1\" class=\"dataframe\">\n  <thead>\n    <tr style=\"text-align: right;\">\n      <th></th>\n      <th>uuid</th>\n      <th>name</th>\n      <th>brand</th>\n      <th>street</th>\n      <th>house_number</th>\n      <th>post_code</th>\n      <th>city</th>\n      <th>latitude</th>\n      <th>longitude</th>\n      <th>first_active</th>\n      <th>openingtimes_json</th>\n    </tr>\n  </thead>\n  <tbody>\n    <tr>\n      <th>0</th>\n      <td>0e18d0d3-ed38-4e7f-a18e-507a78ad901d</td>\n      <td>OIL! Tankstelle München</td>\n      <td>OIL!</td>\n      <td>Eversbuschstraße 33</td>\n      <td>NaN</td>\n      <td>80999</td>\n      <td>München</td>\n      <td>48.180700</td>\n      <td>11.460900</td>\n      <td>1970-01-01 01:00:00+01</td>\n      <td>{\"openingTimes\":[{\"applicable_days\":192,\"perio...</td>\n    </tr>\n    <tr>\n      <th>1</th>\n      <td>44e2bdb7-13e3-4156-8576-8326cdd20459</td>\n      <td>bft Tankstelle</td>\n      <td>NaN</td>\n      <td>Schellengasse</td>\n      <td>53</td>\n      <td>36304</td>\n      <td>Alsfeld</td>\n      <td>50.752009</td>\n      <td>9.279039</td>\n      <td>1970-01-01 01:00:00+01</td>\n      <td>{\"openingTimes\":[{\"applicable_days\":63,\"period...</td>\n    </tr>\n    <tr>\n      <th>2</th>\n      <td>ad812258-94e7-473d-aa80-d392f7532218</td>\n      <td>bft Bonn-Bad Godesberg</td>\n      <td>bft</td>\n      <td>Godesberger Allee</td>\n      <td>55</td>\n      <td>53175</td>\n      <td>Bonn</td>\n      <td>50.695100</td>\n      <td>7.142760</td>\n      <td>1970-01-01 01:00:00+01</td>\n      <td>{\"openingTimes\":[{\"applicable_days\":31,\"period...</td>\n    </tr>\n    <tr>\n      <th>3</th>\n      <td>e52d755d-4be7-4962-a917-3b0139e6f352</td>\n      <td>Esso Tankstelle</td>\n      <td>ESSO</td>\n      <td>OSNABRUECKER STR. 5</td>\n      <td></td>\n      <td>49163</td>\n      <td>BOHMTE</td>\n      <td>52.358250</td>\n      <td>8.304064</td>\n      <td>2014-03-18 16:45:31+01</td>\n      <td>{\"openingTimes\":[{\"applicable_days\":31,\"period...</td>\n    </tr>\n    <tr>\n      <th>4</th>\n      <td>e52a5d92-33c6-4c77-b6cd-ea90ca1c7c62</td>\n      <td>Friedrich Dankelmann</td>\n      <td>Markant</td>\n      <td>Strangenhäuschen</td>\n      <td>10</td>\n      <td>52070</td>\n      <td>Aachen</td>\n      <td>50.801680</td>\n      <td>6.110960</td>\n      <td>2014-03-18 16:45:31+01</td>\n      <td>{\"openingTimes\":[{\"applicable_days\":63,\"period...</td>\n    </tr>\n  </tbody>\n</table>\n</div>"
     },
     "metadata": {},
     "execution_count": 86
    }
   ],
   "source": [
    "import pandas as pd\n",
    "import numpy as np\n",
    "\n",
    "df_stations = pd.read_csv(\"2021-05-31-stations.csv\")\n",
    "df_stations.head()"
   ]
  },
  {
   "source": [
    "a) Untersuchen Sie den Datensatz auf fehlende Werte und setzen Sie ggf. eine geeignete Strategie um, um mit diesen zu verfahren. Begrunden Sie Ihr Vorgehen."
   ],
   "cell_type": "markdown",
   "metadata": {}
  },
  {
   "cell_type": "code",
   "execution_count": 87,
   "metadata": {},
   "outputs": [
    {
     "output_type": "execute_result",
     "data": {
      "text/plain": [
       "uuid                    0\n",
       "name                    0\n",
       "brand                 670\n",
       "street                  3\n",
       "house_number         2940\n",
       "post_code               3\n",
       "city                    4\n",
       "latitude                0\n",
       "longitude               0\n",
       "first_active            0\n",
       "openingtimes_json       0\n",
       "dtype: int64"
      ]
     },
     "metadata": {},
     "execution_count": 87
    }
   ],
   "source": [
    "df_stations.isnull().sum()"
   ]
  },
  {
   "source": [
    "Im folgenden werden nur noch die Spalten betrachtet die einen NaN Wert über 0 haben.\n",
    "Alle Spalten mit 0 haben keine NaN Werte und müssen demnach nicht nochmal kontrolliert werden.\n",
    "\n",
    "NaN Werte werden durch passende andere Werte ersetzt."
   ],
   "cell_type": "markdown",
   "metadata": {}
  },
  {
   "cell_type": "code",
   "execution_count": 88,
   "metadata": {},
   "outputs": [],
   "source": [
    "# df_stations[\"street\"] = df_stations[\"street\"].fillna(\"\")\n",
    "# df_stations[\"house_number\"] = df_stations[\"house_number\"].fillna(0)\n",
    "df_stations[\"brand\"] = df_stations[\"brand\"].fillna(\"other\")\n",
    "df_stations[\"post_code\"] = df_stations[\"post_code\"].fillna(00000)\n",
    "df_stations[\"openingtimes_json\"] = df_stations[\"openingtimes_json\"].replace(\"{}\", \"empty\")"
   ]
  },
  {
   "cell_type": "code",
   "execution_count": 101,
   "metadata": {},
   "outputs": [
    {
     "output_type": "execute_result",
     "data": {
      "text/plain": [
       "                                       uuid                 name  \\\n",
       "4340   fe9134a0-cba9-42b1-812a-25a3ed0728b8      RWG Kirchhatten   \n",
       "8597   6e05afa7-bf37-4b6b-938b-ac3080f37b9a                  NaN   \n",
       "14395  b6fbf4e8-7edb-430d-1743-7bece8984ef3                  NaN   \n",
       "14690  5947e7a2-eb5b-4fc7-412b-22628e6405b8  Dörge Brennstoffe &   \n",
       "14717  00061969-105e-4444-8888-acdc00000001                  NaN   \n",
       "14827  aa38d2ff-acec-4003-a139-fed820371b73                  NaN   \n",
       "14828  7f909989-e01c-4de2-b96d-19022479e183                  NaN   \n",
       "14833  55fabb87-c310-4357-a328-994da9b34818                  NaN   \n",
       "14835  93a1f345-e930-4a36-a620-4a80a4f5de1e                  NaN   \n",
       "14837  fc9f5d15-5345-45b6-bac0-52f4467f4eb6                  NaN   \n",
       "14841  8ba75b2f-5a6c-4ca3-a49b-f532d13c8061                  NaN   \n",
       "14842  bd53db9c-b8f3-46b9-be11-81d1c49f44c3                  NaN   \n",
       "14843  b6c31547-5044-401f-befa-85732621f4b1                  NaN   \n",
       "14847  cc5971f5-9196-415b-8e5e-12f9d6a5d099                  NaN   \n",
       "14852  3bb1faf8-2fa7-4316-bdf9-d1a6715d4b61                  NaN   \n",
       "14872  ea82e96f-4e04-d9ba-06e6-35cc7274a20f                  NaN   \n",
       "14883  00006210-0037-4444-8888-acdc00006210                  NaN   \n",
       "14902  4c7244c4-d03c-46c2-aef8-5258f71e794c                  NaN   \n",
       "14911  5e04adca-bd37-46a4-ba88-c92ec80b4dd5                  NaN   \n",
       "14999  00060162-0001-4444-8888-acdc00000001                  NaN   \n",
       "15063  00061777-7224-4444-8888-acdc00000001                  NaN   \n",
       "15064  00062259-2c7f-4444-8888-acdc00000001                  NaN   \n",
       "15071  9317d5f1-66d9-405f-cc30-8b46bb296ed3                  NaN   \n",
       "15213  00062259-1d51-4444-8888-acdc00000001                  NaN   \n",
       "15336  65e91377-3423-44a9-ad4f-4c66fca4001a                  NaN   \n",
       "15347  25db4d50-5821-452a-85b5-d2e10a465ac6                  NaN   \n",
       "15354  a2538512-8dc8-4b1c-ab4b-e4f93e2d7ce6                  NaN   \n",
       "15373  00060821-4ff8-392e-8ddc-d5f700060821                  NaN   \n",
       "15374  00060075-2fbd-482c-8fe6-c1d800060075                  NaN   \n",
       "15381  15703934-03c0-4c4e-8dfb-02ce60ed66cb                  NaN   \n",
       "15403  00061525-50d3-3bb7-eaef-e90f00061525                  NaN   \n",
       "15432  d38df585-ee70-43e6-a56e-85158f002d22                  NaN   \n",
       "15467  3704574f-bbc5-4ded-b962-7b608f076297                  NaN   \n",
       "15554  4ac41989-605f-421f-99d0-d58ef8c9bda2                  NaN   \n",
       "15569  c647722b-fe6b-4124-80aa-77ca6f36d11b                  NaN   \n",
       "15576  00062381-330f-4444-8888-acdc00000001                  NaN   \n",
       "15604  00060570-d6dc-4444-8888-acdc00000001                  NaN   \n",
       "15608  51ba10bc-cefc-4544-88e8-0d830b11e961                  NaN   \n",
       "15762  51b7dda5-a14c-11e9-aa1f-005056a2a083                  NaN   \n",
       "15774  7a7968f0-5753-47b5-9c54-4fde40e35804                  NaN   \n",
       "15796  36e62e6b-821d-4ac0-8e03-2c62839451bf                  NaN   \n",
       "15797  7cee10d1-21c4-4356-b8f4-1473c9bee18d                  NaN   \n",
       "15813  135a4619-2e62-4852-b16e-9073f9052ebb                  NaN   \n",
       "15842  00060617-e2ad-4444-8888-acdc00000001                  NaN   \n",
       "15928  7ebebcc8-fa03-4b12-aa42-1b82d7ac83d0                  NaN   \n",
       "15934  25a9bf75-a698-406a-8e91-5310e6008b93                  NaN   \n",
       "15946  f1251e4c-647f-43cf-9654-345961cce015                  NaN   \n",
       "16126  b43d5c2d-fcd3-11ea-a696-005056a2a083                  NaN   \n",
       "16142  3264c223-e223-4795-ab9d-c6e2c5275ece                  NaN   \n",
       "16164  bc8be4d4-58a4-4a6d-b6e2-991d1c1e2988                  NaN   \n",
       "16242  dfd80afa-bc7c-403f-80c4-f2476e54d606                  NaN   \n",
       "16243  227a99f5-0be5-49f1-8f58-645ab5da32a8                  NaN   \n",
       "16272  09449b93-fd85-47c5-ab68-9db4b85f23ee                  NaN   \n",
       "16295  9c1356c4-2951-cd52-4368-76e259170d4c                  NaN   \n",
       "\n",
       "                                      brand street house_number post_code  \\\n",
       "4340                   RAIFFEISEN HATTEN EG    NaN          NaN         0   \n",
       "8597                                   ARAL    NaN          NaN       NaN   \n",
       "14395                      NICHT MEHR AKTIV    NaN          NaN       NaN   \n",
       "14690  DÖRGE BRENNSTOFFE & DIENSTLEISTUNGEN    NaN          NaN     39397   \n",
       "14717                                 OTHER    NaN          NaN       NaN   \n",
       "14827                                  AVIA    NaN          NaN       NaN   \n",
       "14828                                  AVIA    NaN          NaN       NaN   \n",
       "14833                                  AVIA    NaN          NaN       NaN   \n",
       "14835                                   BFT    NaN          NaN       NaN   \n",
       "14837                                  AVIA    NaN          NaN       NaN   \n",
       "14841                                  AVIA    NaN          NaN       NaN   \n",
       "14842                                  AVIA    NaN          NaN       NaN   \n",
       "14843                                  AVIA    NaN          NaN       NaN   \n",
       "14847                                FULMIN    NaN          NaN       NaN   \n",
       "14852                                  AVIA    NaN          NaN       NaN   \n",
       "14872                                  FREI    NaN          NaN       NaN   \n",
       "14883                              BEDUCKER    NaN          NaN       NaN   \n",
       "14902                        SUPERMARKT C&C    NaN          NaN       NaN   \n",
       "14911                        SUPERMARKT C&C    NaN          NaN       NaN   \n",
       "14999                                 OTHER    NaN          NaN       NaN   \n",
       "15063                                 OTHER    NaN          NaN       NaN   \n",
       "15064                                   BFT    NaN          NaN       NaN   \n",
       "15071                    TANK & WASCHCENTER    NaN          NaN       NaN   \n",
       "15213                                   BFT    NaN          NaN       NaN   \n",
       "15336                                 BAYWA    NaN          NaN       NaN   \n",
       "15347                                  ARAL    NaN          NaN       NaN   \n",
       "15354                                  AVIA    NaN          NaN       NaN   \n",
       "15373                                   BFT    NaN          NaN       NaN   \n",
       "15374                               1A TANK    NaN          NaN       NaN   \n",
       "15381                                 OTHER    NaN          NaN       NaN   \n",
       "15403                              EUROTANK    NaN          NaN       NaN   \n",
       "15432                            TANKSTELLE    NaN          NaN       NaN   \n",
       "15467                            BUDGET OIL    NaN          NaN       NaN   \n",
       "15554                                  ESSO    NaN          NaN       NaN   \n",
       "15569                            BUDGET OIL    NaN          NaN       NaN   \n",
       "15576                                 OTHER    NaN          NaN       NaN   \n",
       "15604                                 OTHER    NaN          NaN       NaN   \n",
       "15608                           STARKSTELLE    NaN          NaN       NaN   \n",
       "15762                               CLASSIC    NaN          NaN       NaN   \n",
       "15774                                  AVIA    NaN          NaN       NaN   \n",
       "15796                                 OTHER    NaN          NaN       NaN   \n",
       "15797                                   MLZ    NaN          NaN       NaN   \n",
       "15813                                  ARAL    NaN          NaN       NaN   \n",
       "15842                                 OTHER    NaN          NaN       NaN   \n",
       "15928                                 OTHER    NaN          NaN       NaN   \n",
       "15934                                 OTHER    NaN          NaN       NaN   \n",
       "15946                      FREIE TANKSTELLE    NaN          NaN       NaN   \n",
       "16126                        AUTO GERBAULET    NaN          NaN       NaN   \n",
       "16142      SCHILLHORN MINERALÖLE GMBH HEMME    NaN          NaN       NaN   \n",
       "16164                   MU MALLASCH & UHLEN    NaN          NaN       NaN   \n",
       "16242                      FREIE TANKSTELLE    NaN          NaN       NaN   \n",
       "16243                      FREIE TANKSTELLE    NaN          NaN       NaN   \n",
       "16272                                  FREI    NaN          NaN       NaN   \n",
       "16295    SCHILLHORN MINERALÖLE GMBH TÖNNING    NaN          NaN       NaN   \n",
       "\n",
       "                            city   latitude  longitude  \\\n",
       "4340     BREITSCHEID-RABENSCHEID  47.813210   8.332200   \n",
       "8597                    DIEBLICH  50.267532   7.509913   \n",
       "14395                 MEHR AKTIV  53.473092   7.481026   \n",
       "14690                SCHWANEBECK  51.960184  11.121097   \n",
       "14717            SÜDBROOKMERLAND  53.514870   7.371779   \n",
       "14827                    GLATTEN  48.446160   8.510563   \n",
       "14828  WILLINGSHAUSEN-MERZHAUSEN  50.851040   9.219599   \n",
       "14833                  HOSENFELD  50.504170   9.479580   \n",
       "14835                 LÜTZELBACH  49.788213   9.065122   \n",
       "14837       KARLSRUHE-KNIELINGEN  49.029480   8.342968   \n",
       "14841       BENSHEIM-WILMSHAUSEN  49.695720   8.660591   \n",
       "14842                   ESCHWEGE  51.186960  10.061180   \n",
       "14843                     MENDIG  50.374450   7.264921   \n",
       "14847                      FULDA  50.530310   9.691664   \n",
       "14852        HERLESHAUSEN-WOMMEN  51.016100  10.119420   \n",
       "14872                  ABENSBERG  48.814124  11.849968   \n",
       "14883                  MEITINGEN  48.555683  10.850848   \n",
       "14902                    LUEBBEN  51.941011  13.923612   \n",
       "14911                  LUEBBECKE  52.302889   8.596023   \n",
       "14999                   BAYREUTH  49.938751  11.559593   \n",
       "15063             SÜDLOHN-OEDING  51.934258   6.823810   \n",
       "15064                     ACHERN  48.636436   8.063143   \n",
       "15071                WIEFELSTEDE  53.183454   8.178904   \n",
       "15213                     ACHERN  48.636436   8.063143   \n",
       "15336                   KNETZGAU  49.990502  10.551216   \n",
       "15347                 SALZGITTER  52.188896  10.396215   \n",
       "15354           RÖDENTAL-EINBERG  50.286926  11.048899   \n",
       "15373                   LÜBBENAU  51.846634  13.959889   \n",
       "15374                      GOTHA  50.930862  10.718163   \n",
       "15381                   SCHWERTE  51.422260   7.574320   \n",
       "15403                    SCHWELM  51.292419   7.283360   \n",
       "15432                    KELHEIM  48.908241  11.883522   \n",
       "15467                  WUPPERTAL  51.273600   7.179010   \n",
       "15554                  LADENBURG  49.471800   8.618400   \n",
       "15569                  WUPPERTAL  51.273600   7.179010   \n",
       "15576                  NEUENRADE  51.285721   7.804030   \n",
       "15604                 WASSERBURG  48.057838  12.231788   \n",
       "15608                  WERTINGEN  48.551942  10.685124   \n",
       "15762               VISSELHÖVEDE  52.990880   9.588850   \n",
       "15774           BERNBURG (SAALE)  51.779766  11.770196   \n",
       "15796                    USINGEN  50.331700   8.527920   \n",
       "15797                    USINGEN  50.331770   8.527920   \n",
       "15813                    GEFREES  50.094050  11.731639   \n",
       "15842                 OSTERHOFEN  48.696594  13.029259   \n",
       "15928                       KÖLN  50.965275   7.025043   \n",
       "15934                 HILLESHEIM  50.295425   6.671644   \n",
       "15946                 LAUENFÖRDE  51.665123   9.385921   \n",
       "16126                HARSEWINKEL  51.955700   8.241390   \n",
       "16142                      HEMME  54.279999   9.010000   \n",
       "16164                     MEPPEN  52.668739   7.295693   \n",
       "16242                     HEHLEN  51.984638   9.477750   \n",
       "16243                      HALLE  51.988682   9.558080   \n",
       "16272                   ADLKOFEN  48.550050  12.269040   \n",
       "16295                    TÖNNING  54.330002   8.950000   \n",
       "\n",
       "                 first_active  \\\n",
       "4340   2014-03-18 16:45:31+01   \n",
       "8597   2014-03-18 16:45:31+01   \n",
       "14395  2015-11-26 00:00:01+01   \n",
       "14690  2016-09-17 00:00:01+02   \n",
       "14717  2016-10-08 00:00:01+02   \n",
       "14827  2017-01-27 00:00:26+01   \n",
       "14828  2017-01-28 00:00:26+01   \n",
       "14833  2017-02-01 00:00:26+01   \n",
       "14835  2017-02-03 00:00:26+01   \n",
       "14837  2017-02-04 00:00:26+01   \n",
       "14841  2017-02-09 00:00:27+01   \n",
       "14842  2017-02-09 00:00:27+01   \n",
       "14843  2017-02-09 00:00:27+01   \n",
       "14847  2017-02-16 00:00:26+01   \n",
       "14852  2017-02-24 00:00:26+01   \n",
       "14872  2017-03-21 00:00:26+01   \n",
       "14883  2017-04-07 00:00:26+02   \n",
       "14902  2017-04-29 00:00:26+02   \n",
       "14911  2017-05-05 00:00:26+02   \n",
       "14999  2017-08-25 23:30:06+02   \n",
       "15063  2017-11-10 23:30:06+01   \n",
       "15064  2017-11-10 23:30:06+01   \n",
       "15071  2017-11-17 23:30:06+01   \n",
       "15213  2018-02-20 23:30:06+01   \n",
       "15336  2018-05-30 23:30:06+02   \n",
       "15347  2018-06-06 23:30:06+02   \n",
       "15354  2018-06-12 23:30:07+02   \n",
       "15373  2018-07-10 23:30:07+02   \n",
       "15374  2018-07-10 23:30:07+02   \n",
       "15381  2018-07-24 23:30:07+02   \n",
       "15403  2018-08-14 23:30:10+02   \n",
       "15432  2018-09-19 23:30:06+02   \n",
       "15467  2018-11-15 23:30:07+01   \n",
       "15554  2019-01-18 23:30:06+01   \n",
       "15569  2019-01-28 23:30:06+01   \n",
       "15576  2019-02-01 23:30:06+01   \n",
       "15604  2019-03-08 23:30:06+01   \n",
       "15608  2019-03-22 23:30:06+01   \n",
       "15762  2019-08-23 23:30:10+02   \n",
       "15774  2019-09-04 00:01:15+02   \n",
       "15796  2019-09-30 18:01:13+02   \n",
       "15797  2019-09-30 18:01:13+02   \n",
       "15813  2019-10-11 06:01:13+02   \n",
       "15842  2019-11-21 10:01:13+01   \n",
       "15928  2020-01-25 00:01:26+01   \n",
       "15934  2020-01-31 14:01:14+01   \n",
       "15946  2020-02-12 14:01:14+01   \n",
       "16126  2020-11-16 06:01:18+01   \n",
       "16142  2020-12-08 16:01:17+01   \n",
       "16164  2021-01-05 18:01:15+01   \n",
       "16242  2021-03-14 00:01:20+01   \n",
       "16243  2021-03-14 00:01:20+01   \n",
       "16272  2021-04-14 22:01:19+02   \n",
       "16295  2021-05-19 10:01:19+02   \n",
       "\n",
       "                                       openingtimes_json  \n",
       "4340                                               empty  \n",
       "8597                                               empty  \n",
       "14395                                              empty  \n",
       "14690  {\"openingTimes\":[{\"applicable_days\":31,\"period...  \n",
       "14717                                              empty  \n",
       "14827                                              empty  \n",
       "14828                                              empty  \n",
       "14833                                              empty  \n",
       "14835  {\"openingTimes\":[{\"applicable_days\":31,\"period...  \n",
       "14837  {\"openingTimes\":[{\"applicable_days\":31,\"period...  \n",
       "14841  {\"openingTimes\":[{\"applicable_days\":31,\"period...  \n",
       "14842  {\"openingTimes\":[{\"applicable_days\":31,\"period...  \n",
       "14843  {\"openingTimes\":[{\"applicable_days\":31,\"period...  \n",
       "14847                                              empty  \n",
       "14852                                              empty  \n",
       "14872                                              empty  \n",
       "14883                                              empty  \n",
       "14902  {\"overrides\":[{\"startp\":\"2019-06-28 16:45\",\"en...  \n",
       "14911  {\"overrides\":[{\"startp\":\"2020-03-31 23:59\",\"en...  \n",
       "14999                                              empty  \n",
       "15063                                              empty  \n",
       "15064                                              empty  \n",
       "15071                                              empty  \n",
       "15213                                              empty  \n",
       "15336                                              empty  \n",
       "15347                                              empty  \n",
       "15354                                              empty  \n",
       "15373                                              empty  \n",
       "15374  {\"openingTimes\":[{\"applicable_days\":31,\"period...  \n",
       "15381                                              empty  \n",
       "15403  {\"openingTimes\":[{\"applicable_days\":31,\"period...  \n",
       "15432                                              empty  \n",
       "15467                                              empty  \n",
       "15554  {\"openingTimes\":[{\"applicable_days\":31,\"period...  \n",
       "15569                                              empty  \n",
       "15576  {\"openingTimes\":[{\"applicable_days\":31,\"period...  \n",
       "15604                                              empty  \n",
       "15608                                              empty  \n",
       "15762                                              empty  \n",
       "15774  {\"openingTimes\":[{\"applicable_days\":31,\"period...  \n",
       "15796                                              empty  \n",
       "15797                                              empty  \n",
       "15813  {\"openingTimes\":[{\"applicable_days\":31,\"period...  \n",
       "15842                                              empty  \n",
       "15928                                              empty  \n",
       "15934                                              empty  \n",
       "15946                                              empty  \n",
       "16126  {\"openingTimes\":[{\"applicable_days\":31,\"period...  \n",
       "16142                                              empty  \n",
       "16164                                              empty  \n",
       "16242                                              empty  \n",
       "16243                                              empty  \n",
       "16272  {\"openingTimes\":[{\"applicable_days\":127,\"perio...  \n",
       "16295                                              empty  "
      ],
      "text/html": "<div>\n<style scoped>\n    .dataframe tbody tr th:only-of-type {\n        vertical-align: middle;\n    }\n\n    .dataframe tbody tr th {\n        vertical-align: top;\n    }\n\n    .dataframe thead th {\n        text-align: right;\n    }\n</style>\n<table border=\"1\" class=\"dataframe\">\n  <thead>\n    <tr style=\"text-align: right;\">\n      <th></th>\n      <th>uuid</th>\n      <th>name</th>\n      <th>brand</th>\n      <th>street</th>\n      <th>house_number</th>\n      <th>post_code</th>\n      <th>city</th>\n      <th>latitude</th>\n      <th>longitude</th>\n      <th>first_active</th>\n      <th>openingtimes_json</th>\n    </tr>\n  </thead>\n  <tbody>\n    <tr>\n      <th>4340</th>\n      <td>fe9134a0-cba9-42b1-812a-25a3ed0728b8</td>\n      <td>RWG Kirchhatten</td>\n      <td>RAIFFEISEN HATTEN EG</td>\n      <td>NaN</td>\n      <td>NaN</td>\n      <td>0</td>\n      <td>BREITSCHEID-RABENSCHEID</td>\n      <td>47.813210</td>\n      <td>8.332200</td>\n      <td>2014-03-18 16:45:31+01</td>\n      <td>empty</td>\n    </tr>\n    <tr>\n      <th>8597</th>\n      <td>6e05afa7-bf37-4b6b-938b-ac3080f37b9a</td>\n      <td>NaN</td>\n      <td>ARAL</td>\n      <td>NaN</td>\n      <td>NaN</td>\n      <td>NaN</td>\n      <td>DIEBLICH</td>\n      <td>50.267532</td>\n      <td>7.509913</td>\n      <td>2014-03-18 16:45:31+01</td>\n      <td>empty</td>\n    </tr>\n    <tr>\n      <th>14395</th>\n      <td>b6fbf4e8-7edb-430d-1743-7bece8984ef3</td>\n      <td>NaN</td>\n      <td>NICHT MEHR AKTIV</td>\n      <td>NaN</td>\n      <td>NaN</td>\n      <td>NaN</td>\n      <td>MEHR AKTIV</td>\n      <td>53.473092</td>\n      <td>7.481026</td>\n      <td>2015-11-26 00:00:01+01</td>\n      <td>empty</td>\n    </tr>\n    <tr>\n      <th>14690</th>\n      <td>5947e7a2-eb5b-4fc7-412b-22628e6405b8</td>\n      <td>Dörge Brennstoffe &amp;</td>\n      <td>DÖRGE BRENNSTOFFE &amp; DIENSTLEISTUNGEN</td>\n      <td>NaN</td>\n      <td>NaN</td>\n      <td>39397</td>\n      <td>SCHWANEBECK</td>\n      <td>51.960184</td>\n      <td>11.121097</td>\n      <td>2016-09-17 00:00:01+02</td>\n      <td>{\"openingTimes\":[{\"applicable_days\":31,\"period...</td>\n    </tr>\n    <tr>\n      <th>14717</th>\n      <td>00061969-105e-4444-8888-acdc00000001</td>\n      <td>NaN</td>\n      <td>OTHER</td>\n      <td>NaN</td>\n      <td>NaN</td>\n      <td>NaN</td>\n      <td>SÜDBROOKMERLAND</td>\n      <td>53.514870</td>\n      <td>7.371779</td>\n      <td>2016-10-08 00:00:01+02</td>\n      <td>empty</td>\n    </tr>\n    <tr>\n      <th>14827</th>\n      <td>aa38d2ff-acec-4003-a139-fed820371b73</td>\n      <td>NaN</td>\n      <td>AVIA</td>\n      <td>NaN</td>\n      <td>NaN</td>\n      <td>NaN</td>\n      <td>GLATTEN</td>\n      <td>48.446160</td>\n      <td>8.510563</td>\n      <td>2017-01-27 00:00:26+01</td>\n      <td>empty</td>\n    </tr>\n    <tr>\n      <th>14828</th>\n      <td>7f909989-e01c-4de2-b96d-19022479e183</td>\n      <td>NaN</td>\n      <td>AVIA</td>\n      <td>NaN</td>\n      <td>NaN</td>\n      <td>NaN</td>\n      <td>WILLINGSHAUSEN-MERZHAUSEN</td>\n      <td>50.851040</td>\n      <td>9.219599</td>\n      <td>2017-01-28 00:00:26+01</td>\n      <td>empty</td>\n    </tr>\n    <tr>\n      <th>14833</th>\n      <td>55fabb87-c310-4357-a328-994da9b34818</td>\n      <td>NaN</td>\n      <td>AVIA</td>\n      <td>NaN</td>\n      <td>NaN</td>\n      <td>NaN</td>\n      <td>HOSENFELD</td>\n      <td>50.504170</td>\n      <td>9.479580</td>\n      <td>2017-02-01 00:00:26+01</td>\n      <td>empty</td>\n    </tr>\n    <tr>\n      <th>14835</th>\n      <td>93a1f345-e930-4a36-a620-4a80a4f5de1e</td>\n      <td>NaN</td>\n      <td>BFT</td>\n      <td>NaN</td>\n      <td>NaN</td>\n      <td>NaN</td>\n      <td>LÜTZELBACH</td>\n      <td>49.788213</td>\n      <td>9.065122</td>\n      <td>2017-02-03 00:00:26+01</td>\n      <td>{\"openingTimes\":[{\"applicable_days\":31,\"period...</td>\n    </tr>\n    <tr>\n      <th>14837</th>\n      <td>fc9f5d15-5345-45b6-bac0-52f4467f4eb6</td>\n      <td>NaN</td>\n      <td>AVIA</td>\n      <td>NaN</td>\n      <td>NaN</td>\n      <td>NaN</td>\n      <td>KARLSRUHE-KNIELINGEN</td>\n      <td>49.029480</td>\n      <td>8.342968</td>\n      <td>2017-02-04 00:00:26+01</td>\n      <td>{\"openingTimes\":[{\"applicable_days\":31,\"period...</td>\n    </tr>\n    <tr>\n      <th>14841</th>\n      <td>8ba75b2f-5a6c-4ca3-a49b-f532d13c8061</td>\n      <td>NaN</td>\n      <td>AVIA</td>\n      <td>NaN</td>\n      <td>NaN</td>\n      <td>NaN</td>\n      <td>BENSHEIM-WILMSHAUSEN</td>\n      <td>49.695720</td>\n      <td>8.660591</td>\n      <td>2017-02-09 00:00:27+01</td>\n      <td>{\"openingTimes\":[{\"applicable_days\":31,\"period...</td>\n    </tr>\n    <tr>\n      <th>14842</th>\n      <td>bd53db9c-b8f3-46b9-be11-81d1c49f44c3</td>\n      <td>NaN</td>\n      <td>AVIA</td>\n      <td>NaN</td>\n      <td>NaN</td>\n      <td>NaN</td>\n      <td>ESCHWEGE</td>\n      <td>51.186960</td>\n      <td>10.061180</td>\n      <td>2017-02-09 00:00:27+01</td>\n      <td>{\"openingTimes\":[{\"applicable_days\":31,\"period...</td>\n    </tr>\n    <tr>\n      <th>14843</th>\n      <td>b6c31547-5044-401f-befa-85732621f4b1</td>\n      <td>NaN</td>\n      <td>AVIA</td>\n      <td>NaN</td>\n      <td>NaN</td>\n      <td>NaN</td>\n      <td>MENDIG</td>\n      <td>50.374450</td>\n      <td>7.264921</td>\n      <td>2017-02-09 00:00:27+01</td>\n      <td>{\"openingTimes\":[{\"applicable_days\":31,\"period...</td>\n    </tr>\n    <tr>\n      <th>14847</th>\n      <td>cc5971f5-9196-415b-8e5e-12f9d6a5d099</td>\n      <td>NaN</td>\n      <td>FULMIN</td>\n      <td>NaN</td>\n      <td>NaN</td>\n      <td>NaN</td>\n      <td>FULDA</td>\n      <td>50.530310</td>\n      <td>9.691664</td>\n      <td>2017-02-16 00:00:26+01</td>\n      <td>empty</td>\n    </tr>\n    <tr>\n      <th>14852</th>\n      <td>3bb1faf8-2fa7-4316-bdf9-d1a6715d4b61</td>\n      <td>NaN</td>\n      <td>AVIA</td>\n      <td>NaN</td>\n      <td>NaN</td>\n      <td>NaN</td>\n      <td>HERLESHAUSEN-WOMMEN</td>\n      <td>51.016100</td>\n      <td>10.119420</td>\n      <td>2017-02-24 00:00:26+01</td>\n      <td>empty</td>\n    </tr>\n    <tr>\n      <th>14872</th>\n      <td>ea82e96f-4e04-d9ba-06e6-35cc7274a20f</td>\n      <td>NaN</td>\n      <td>FREI</td>\n      <td>NaN</td>\n      <td>NaN</td>\n      <td>NaN</td>\n      <td>ABENSBERG</td>\n      <td>48.814124</td>\n      <td>11.849968</td>\n      <td>2017-03-21 00:00:26+01</td>\n      <td>empty</td>\n    </tr>\n    <tr>\n      <th>14883</th>\n      <td>00006210-0037-4444-8888-acdc00006210</td>\n      <td>NaN</td>\n      <td>BEDUCKER</td>\n      <td>NaN</td>\n      <td>NaN</td>\n      <td>NaN</td>\n      <td>MEITINGEN</td>\n      <td>48.555683</td>\n      <td>10.850848</td>\n      <td>2017-04-07 00:00:26+02</td>\n      <td>empty</td>\n    </tr>\n    <tr>\n      <th>14902</th>\n      <td>4c7244c4-d03c-46c2-aef8-5258f71e794c</td>\n      <td>NaN</td>\n      <td>SUPERMARKT C&amp;C</td>\n      <td>NaN</td>\n      <td>NaN</td>\n      <td>NaN</td>\n      <td>LUEBBEN</td>\n      <td>51.941011</td>\n      <td>13.923612</td>\n      <td>2017-04-29 00:00:26+02</td>\n      <td>{\"overrides\":[{\"startp\":\"2019-06-28 16:45\",\"en...</td>\n    </tr>\n    <tr>\n      <th>14911</th>\n      <td>5e04adca-bd37-46a4-ba88-c92ec80b4dd5</td>\n      <td>NaN</td>\n      <td>SUPERMARKT C&amp;C</td>\n      <td>NaN</td>\n      <td>NaN</td>\n      <td>NaN</td>\n      <td>LUEBBECKE</td>\n      <td>52.302889</td>\n      <td>8.596023</td>\n      <td>2017-05-05 00:00:26+02</td>\n      <td>{\"overrides\":[{\"startp\":\"2020-03-31 23:59\",\"en...</td>\n    </tr>\n    <tr>\n      <th>14999</th>\n      <td>00060162-0001-4444-8888-acdc00000001</td>\n      <td>NaN</td>\n      <td>OTHER</td>\n      <td>NaN</td>\n      <td>NaN</td>\n      <td>NaN</td>\n      <td>BAYREUTH</td>\n      <td>49.938751</td>\n      <td>11.559593</td>\n      <td>2017-08-25 23:30:06+02</td>\n      <td>empty</td>\n    </tr>\n    <tr>\n      <th>15063</th>\n      <td>00061777-7224-4444-8888-acdc00000001</td>\n      <td>NaN</td>\n      <td>OTHER</td>\n      <td>NaN</td>\n      <td>NaN</td>\n      <td>NaN</td>\n      <td>SÜDLOHN-OEDING</td>\n      <td>51.934258</td>\n      <td>6.823810</td>\n      <td>2017-11-10 23:30:06+01</td>\n      <td>empty</td>\n    </tr>\n    <tr>\n      <th>15064</th>\n      <td>00062259-2c7f-4444-8888-acdc00000001</td>\n      <td>NaN</td>\n      <td>BFT</td>\n      <td>NaN</td>\n      <td>NaN</td>\n      <td>NaN</td>\n      <td>ACHERN</td>\n      <td>48.636436</td>\n      <td>8.063143</td>\n      <td>2017-11-10 23:30:06+01</td>\n      <td>empty</td>\n    </tr>\n    <tr>\n      <th>15071</th>\n      <td>9317d5f1-66d9-405f-cc30-8b46bb296ed3</td>\n      <td>NaN</td>\n      <td>TANK &amp; WASCHCENTER</td>\n      <td>NaN</td>\n      <td>NaN</td>\n      <td>NaN</td>\n      <td>WIEFELSTEDE</td>\n      <td>53.183454</td>\n      <td>8.178904</td>\n      <td>2017-11-17 23:30:06+01</td>\n      <td>empty</td>\n    </tr>\n    <tr>\n      <th>15213</th>\n      <td>00062259-1d51-4444-8888-acdc00000001</td>\n      <td>NaN</td>\n      <td>BFT</td>\n      <td>NaN</td>\n      <td>NaN</td>\n      <td>NaN</td>\n      <td>ACHERN</td>\n      <td>48.636436</td>\n      <td>8.063143</td>\n      <td>2018-02-20 23:30:06+01</td>\n      <td>empty</td>\n    </tr>\n    <tr>\n      <th>15336</th>\n      <td>65e91377-3423-44a9-ad4f-4c66fca4001a</td>\n      <td>NaN</td>\n      <td>BAYWA</td>\n      <td>NaN</td>\n      <td>NaN</td>\n      <td>NaN</td>\n      <td>KNETZGAU</td>\n      <td>49.990502</td>\n      <td>10.551216</td>\n      <td>2018-05-30 23:30:06+02</td>\n      <td>empty</td>\n    </tr>\n    <tr>\n      <th>15347</th>\n      <td>25db4d50-5821-452a-85b5-d2e10a465ac6</td>\n      <td>NaN</td>\n      <td>ARAL</td>\n      <td>NaN</td>\n      <td>NaN</td>\n      <td>NaN</td>\n      <td>SALZGITTER</td>\n      <td>52.188896</td>\n      <td>10.396215</td>\n      <td>2018-06-06 23:30:06+02</td>\n      <td>empty</td>\n    </tr>\n    <tr>\n      <th>15354</th>\n      <td>a2538512-8dc8-4b1c-ab4b-e4f93e2d7ce6</td>\n      <td>NaN</td>\n      <td>AVIA</td>\n      <td>NaN</td>\n      <td>NaN</td>\n      <td>NaN</td>\n      <td>RÖDENTAL-EINBERG</td>\n      <td>50.286926</td>\n      <td>11.048899</td>\n      <td>2018-06-12 23:30:07+02</td>\n      <td>empty</td>\n    </tr>\n    <tr>\n      <th>15373</th>\n      <td>00060821-4ff8-392e-8ddc-d5f700060821</td>\n      <td>NaN</td>\n      <td>BFT</td>\n      <td>NaN</td>\n      <td>NaN</td>\n      <td>NaN</td>\n      <td>LÜBBENAU</td>\n      <td>51.846634</td>\n      <td>13.959889</td>\n      <td>2018-07-10 23:30:07+02</td>\n      <td>empty</td>\n    </tr>\n    <tr>\n      <th>15374</th>\n      <td>00060075-2fbd-482c-8fe6-c1d800060075</td>\n      <td>NaN</td>\n      <td>1A TANK</td>\n      <td>NaN</td>\n      <td>NaN</td>\n      <td>NaN</td>\n      <td>GOTHA</td>\n      <td>50.930862</td>\n      <td>10.718163</td>\n      <td>2018-07-10 23:30:07+02</td>\n      <td>{\"openingTimes\":[{\"applicable_days\":31,\"period...</td>\n    </tr>\n    <tr>\n      <th>15381</th>\n      <td>15703934-03c0-4c4e-8dfb-02ce60ed66cb</td>\n      <td>NaN</td>\n      <td>OTHER</td>\n      <td>NaN</td>\n      <td>NaN</td>\n      <td>NaN</td>\n      <td>SCHWERTE</td>\n      <td>51.422260</td>\n      <td>7.574320</td>\n      <td>2018-07-24 23:30:07+02</td>\n      <td>empty</td>\n    </tr>\n    <tr>\n      <th>15403</th>\n      <td>00061525-50d3-3bb7-eaef-e90f00061525</td>\n      <td>NaN</td>\n      <td>EUROTANK</td>\n      <td>NaN</td>\n      <td>NaN</td>\n      <td>NaN</td>\n      <td>SCHWELM</td>\n      <td>51.292419</td>\n      <td>7.283360</td>\n      <td>2018-08-14 23:30:10+02</td>\n      <td>{\"openingTimes\":[{\"applicable_days\":31,\"period...</td>\n    </tr>\n    <tr>\n      <th>15432</th>\n      <td>d38df585-ee70-43e6-a56e-85158f002d22</td>\n      <td>NaN</td>\n      <td>TANKSTELLE</td>\n      <td>NaN</td>\n      <td>NaN</td>\n      <td>NaN</td>\n      <td>KELHEIM</td>\n      <td>48.908241</td>\n      <td>11.883522</td>\n      <td>2018-09-19 23:30:06+02</td>\n      <td>empty</td>\n    </tr>\n    <tr>\n      <th>15467</th>\n      <td>3704574f-bbc5-4ded-b962-7b608f076297</td>\n      <td>NaN</td>\n      <td>BUDGET OIL</td>\n      <td>NaN</td>\n      <td>NaN</td>\n      <td>NaN</td>\n      <td>WUPPERTAL</td>\n      <td>51.273600</td>\n      <td>7.179010</td>\n      <td>2018-11-15 23:30:07+01</td>\n      <td>empty</td>\n    </tr>\n    <tr>\n      <th>15554</th>\n      <td>4ac41989-605f-421f-99d0-d58ef8c9bda2</td>\n      <td>NaN</td>\n      <td>ESSO</td>\n      <td>NaN</td>\n      <td>NaN</td>\n      <td>NaN</td>\n      <td>LADENBURG</td>\n      <td>49.471800</td>\n      <td>8.618400</td>\n      <td>2019-01-18 23:30:06+01</td>\n      <td>{\"openingTimes\":[{\"applicable_days\":31,\"period...</td>\n    </tr>\n    <tr>\n      <th>15569</th>\n      <td>c647722b-fe6b-4124-80aa-77ca6f36d11b</td>\n      <td>NaN</td>\n      <td>BUDGET OIL</td>\n      <td>NaN</td>\n      <td>NaN</td>\n      <td>NaN</td>\n      <td>WUPPERTAL</td>\n      <td>51.273600</td>\n      <td>7.179010</td>\n      <td>2019-01-28 23:30:06+01</td>\n      <td>empty</td>\n    </tr>\n    <tr>\n      <th>15576</th>\n      <td>00062381-330f-4444-8888-acdc00000001</td>\n      <td>NaN</td>\n      <td>OTHER</td>\n      <td>NaN</td>\n      <td>NaN</td>\n      <td>NaN</td>\n      <td>NEUENRADE</td>\n      <td>51.285721</td>\n      <td>7.804030</td>\n      <td>2019-02-01 23:30:06+01</td>\n      <td>{\"openingTimes\":[{\"applicable_days\":31,\"period...</td>\n    </tr>\n    <tr>\n      <th>15604</th>\n      <td>00060570-d6dc-4444-8888-acdc00000001</td>\n      <td>NaN</td>\n      <td>OTHER</td>\n      <td>NaN</td>\n      <td>NaN</td>\n      <td>NaN</td>\n      <td>WASSERBURG</td>\n      <td>48.057838</td>\n      <td>12.231788</td>\n      <td>2019-03-08 23:30:06+01</td>\n      <td>empty</td>\n    </tr>\n    <tr>\n      <th>15608</th>\n      <td>51ba10bc-cefc-4544-88e8-0d830b11e961</td>\n      <td>NaN</td>\n      <td>STARKSTELLE</td>\n      <td>NaN</td>\n      <td>NaN</td>\n      <td>NaN</td>\n      <td>WERTINGEN</td>\n      <td>48.551942</td>\n      <td>10.685124</td>\n      <td>2019-03-22 23:30:06+01</td>\n      <td>empty</td>\n    </tr>\n    <tr>\n      <th>15762</th>\n      <td>51b7dda5-a14c-11e9-aa1f-005056a2a083</td>\n      <td>NaN</td>\n      <td>CLASSIC</td>\n      <td>NaN</td>\n      <td>NaN</td>\n      <td>NaN</td>\n      <td>VISSELHÖVEDE</td>\n      <td>52.990880</td>\n      <td>9.588850</td>\n      <td>2019-08-23 23:30:10+02</td>\n      <td>empty</td>\n    </tr>\n    <tr>\n      <th>15774</th>\n      <td>7a7968f0-5753-47b5-9c54-4fde40e35804</td>\n      <td>NaN</td>\n      <td>AVIA</td>\n      <td>NaN</td>\n      <td>NaN</td>\n      <td>NaN</td>\n      <td>BERNBURG (SAALE)</td>\n      <td>51.779766</td>\n      <td>11.770196</td>\n      <td>2019-09-04 00:01:15+02</td>\n      <td>{\"openingTimes\":[{\"applicable_days\":31,\"period...</td>\n    </tr>\n    <tr>\n      <th>15796</th>\n      <td>36e62e6b-821d-4ac0-8e03-2c62839451bf</td>\n      <td>NaN</td>\n      <td>OTHER</td>\n      <td>NaN</td>\n      <td>NaN</td>\n      <td>NaN</td>\n      <td>USINGEN</td>\n      <td>50.331700</td>\n      <td>8.527920</td>\n      <td>2019-09-30 18:01:13+02</td>\n      <td>empty</td>\n    </tr>\n    <tr>\n      <th>15797</th>\n      <td>7cee10d1-21c4-4356-b8f4-1473c9bee18d</td>\n      <td>NaN</td>\n      <td>MLZ</td>\n      <td>NaN</td>\n      <td>NaN</td>\n      <td>NaN</td>\n      <td>USINGEN</td>\n      <td>50.331770</td>\n      <td>8.527920</td>\n      <td>2019-09-30 18:01:13+02</td>\n      <td>empty</td>\n    </tr>\n    <tr>\n      <th>15813</th>\n      <td>135a4619-2e62-4852-b16e-9073f9052ebb</td>\n      <td>NaN</td>\n      <td>ARAL</td>\n      <td>NaN</td>\n      <td>NaN</td>\n      <td>NaN</td>\n      <td>GEFREES</td>\n      <td>50.094050</td>\n      <td>11.731639</td>\n      <td>2019-10-11 06:01:13+02</td>\n      <td>{\"openingTimes\":[{\"applicable_days\":31,\"period...</td>\n    </tr>\n    <tr>\n      <th>15842</th>\n      <td>00060617-e2ad-4444-8888-acdc00000001</td>\n      <td>NaN</td>\n      <td>OTHER</td>\n      <td>NaN</td>\n      <td>NaN</td>\n      <td>NaN</td>\n      <td>OSTERHOFEN</td>\n      <td>48.696594</td>\n      <td>13.029259</td>\n      <td>2019-11-21 10:01:13+01</td>\n      <td>empty</td>\n    </tr>\n    <tr>\n      <th>15928</th>\n      <td>7ebebcc8-fa03-4b12-aa42-1b82d7ac83d0</td>\n      <td>NaN</td>\n      <td>OTHER</td>\n      <td>NaN</td>\n      <td>NaN</td>\n      <td>NaN</td>\n      <td>KÖLN</td>\n      <td>50.965275</td>\n      <td>7.025043</td>\n      <td>2020-01-25 00:01:26+01</td>\n      <td>empty</td>\n    </tr>\n    <tr>\n      <th>15934</th>\n      <td>25a9bf75-a698-406a-8e91-5310e6008b93</td>\n      <td>NaN</td>\n      <td>OTHER</td>\n      <td>NaN</td>\n      <td>NaN</td>\n      <td>NaN</td>\n      <td>HILLESHEIM</td>\n      <td>50.295425</td>\n      <td>6.671644</td>\n      <td>2020-01-31 14:01:14+01</td>\n      <td>empty</td>\n    </tr>\n    <tr>\n      <th>15946</th>\n      <td>f1251e4c-647f-43cf-9654-345961cce015</td>\n      <td>NaN</td>\n      <td>FREIE TANKSTELLE</td>\n      <td>NaN</td>\n      <td>NaN</td>\n      <td>NaN</td>\n      <td>LAUENFÖRDE</td>\n      <td>51.665123</td>\n      <td>9.385921</td>\n      <td>2020-02-12 14:01:14+01</td>\n      <td>empty</td>\n    </tr>\n    <tr>\n      <th>16126</th>\n      <td>b43d5c2d-fcd3-11ea-a696-005056a2a083</td>\n      <td>NaN</td>\n      <td>AUTO GERBAULET</td>\n      <td>NaN</td>\n      <td>NaN</td>\n      <td>NaN</td>\n      <td>HARSEWINKEL</td>\n      <td>51.955700</td>\n      <td>8.241390</td>\n      <td>2020-11-16 06:01:18+01</td>\n      <td>{\"openingTimes\":[{\"applicable_days\":31,\"period...</td>\n    </tr>\n    <tr>\n      <th>16142</th>\n      <td>3264c223-e223-4795-ab9d-c6e2c5275ece</td>\n      <td>NaN</td>\n      <td>SCHILLHORN MINERALÖLE GMBH HEMME</td>\n      <td>NaN</td>\n      <td>NaN</td>\n      <td>NaN</td>\n      <td>HEMME</td>\n      <td>54.279999</td>\n      <td>9.010000</td>\n      <td>2020-12-08 16:01:17+01</td>\n      <td>empty</td>\n    </tr>\n    <tr>\n      <th>16164</th>\n      <td>bc8be4d4-58a4-4a6d-b6e2-991d1c1e2988</td>\n      <td>NaN</td>\n      <td>MU MALLASCH &amp; UHLEN</td>\n      <td>NaN</td>\n      <td>NaN</td>\n      <td>NaN</td>\n      <td>MEPPEN</td>\n      <td>52.668739</td>\n      <td>7.295693</td>\n      <td>2021-01-05 18:01:15+01</td>\n      <td>empty</td>\n    </tr>\n    <tr>\n      <th>16242</th>\n      <td>dfd80afa-bc7c-403f-80c4-f2476e54d606</td>\n      <td>NaN</td>\n      <td>FREIE TANKSTELLE</td>\n      <td>NaN</td>\n      <td>NaN</td>\n      <td>NaN</td>\n      <td>HEHLEN</td>\n      <td>51.984638</td>\n      <td>9.477750</td>\n      <td>2021-03-14 00:01:20+01</td>\n      <td>empty</td>\n    </tr>\n    <tr>\n      <th>16243</th>\n      <td>227a99f5-0be5-49f1-8f58-645ab5da32a8</td>\n      <td>NaN</td>\n      <td>FREIE TANKSTELLE</td>\n      <td>NaN</td>\n      <td>NaN</td>\n      <td>NaN</td>\n      <td>HALLE</td>\n      <td>51.988682</td>\n      <td>9.558080</td>\n      <td>2021-03-14 00:01:20+01</td>\n      <td>empty</td>\n    </tr>\n    <tr>\n      <th>16272</th>\n      <td>09449b93-fd85-47c5-ab68-9db4b85f23ee</td>\n      <td>NaN</td>\n      <td>FREI</td>\n      <td>NaN</td>\n      <td>NaN</td>\n      <td>NaN</td>\n      <td>ADLKOFEN</td>\n      <td>48.550050</td>\n      <td>12.269040</td>\n      <td>2021-04-14 22:01:19+02</td>\n      <td>{\"openingTimes\":[{\"applicable_days\":127,\"perio...</td>\n    </tr>\n    <tr>\n      <th>16295</th>\n      <td>9c1356c4-2951-cd52-4368-76e259170d4c</td>\n      <td>NaN</td>\n      <td>SCHILLHORN MINERALÖLE GMBH TÖNNING</td>\n      <td>NaN</td>\n      <td>NaN</td>\n      <td>NaN</td>\n      <td>TÖNNING</td>\n      <td>54.330002</td>\n      <td>8.950000</td>\n      <td>2021-05-19 10:01:19+02</td>\n      <td>empty</td>\n    </tr>\n  </tbody>\n</table>\n</div>"
     },
     "metadata": {},
     "execution_count": 101
    }
   ],
   "source": [
    "from geopy.geocoders import Nominatim\n",
    "geolocator = Nominatim(user_agent=\"DA_stud\")\n",
    "df = pd.DataFrame()\n",
    "\n",
    "missing_house_number = df_stations[df_stations[\"street\"].isnull()]\n",
    "\n",
    "for i in df_stations.loc[df_stations[\"street\"].isnull()].index:\n",
    "    missing_house_number = df_stations.iloc[i]\n",
    "    \n",
    "    location = geolocator.reverse(str(missing_house_number[\"latitude\"]) + \", \" + str(missing_house_number[\"longitude\"]))\n",
    "    df = location.raw[\"address\"]\n",
    "\n",
    "# df_stations[df_stations[\"street\"].isnull()]\n"
   ]
  },
  {
   "source": [
    "Prüfen ob Cities NaN sind"
   ],
   "cell_type": "markdown",
   "metadata": {}
  },
  {
   "cell_type": "code",
   "execution_count": 90,
   "metadata": {},
   "outputs": [
    {
     "output_type": "execute_result",
     "data": {
      "text/plain": [
       "                                       uuid  \\\n",
       "4340   fe9134a0-cba9-42b1-812a-25a3ed0728b8   \n",
       "13379  5cbfcf42-67b5-495b-bcaa-e4871ceb3988   \n",
       "14200  4e8ecfc5-5d0d-4463-901b-6b9ff8fee510   \n",
       "15262  27b7b18e-85a8-455d-863c-2f8dbdcf256d   \n",
       "\n",
       "                                         name                 brand  \\\n",
       "4340                          RWG Kirchhatten  Raiffeisen Hatten eG   \n",
       "13379                            bft Grefrath                   bft   \n",
       "14200                                 01_test                 other   \n",
       "15262  Dortmund (44357),Deininghauser Str. 2                   Gulf   \n",
       "\n",
       "                    street house_number post_code city  latitude  longitude  \\\n",
       "4340                   NaN          NaN         0  NaN  47.81321    8.33220   \n",
       "13379     Mülhausener Str.            3     47929  NaN  51.33770    6.34416   \n",
       "14200                  NaN          NaN         0  NaN   0.00000    0.00000   \n",
       "15262  Deininghauser Str.             2     44357  NaN  51.55210    7.36620   \n",
       "\n",
       "                 first_active  \\\n",
       "4340   2014-03-18 16:45:31+01   \n",
       "13379  2014-03-20 00:00:01+01   \n",
       "14200  2015-05-27 00:00:01+02   \n",
       "15262  2018-04-01 23:30:06+02   \n",
       "\n",
       "                                       openingtimes_json  \n",
       "4340                                               empty  \n",
       "13379  {\"openingTimes\":[{\"applicable_days\":31,\"period...  \n",
       "14200                                              empty  \n",
       "15262  {\"openingTimes\":[{\"applicable_days\":64,\"period...  "
      ],
      "text/html": "<div>\n<style scoped>\n    .dataframe tbody tr th:only-of-type {\n        vertical-align: middle;\n    }\n\n    .dataframe tbody tr th {\n        vertical-align: top;\n    }\n\n    .dataframe thead th {\n        text-align: right;\n    }\n</style>\n<table border=\"1\" class=\"dataframe\">\n  <thead>\n    <tr style=\"text-align: right;\">\n      <th></th>\n      <th>uuid</th>\n      <th>name</th>\n      <th>brand</th>\n      <th>street</th>\n      <th>house_number</th>\n      <th>post_code</th>\n      <th>city</th>\n      <th>latitude</th>\n      <th>longitude</th>\n      <th>first_active</th>\n      <th>openingtimes_json</th>\n    </tr>\n  </thead>\n  <tbody>\n    <tr>\n      <th>4340</th>\n      <td>fe9134a0-cba9-42b1-812a-25a3ed0728b8</td>\n      <td>RWG Kirchhatten</td>\n      <td>Raiffeisen Hatten eG</td>\n      <td>NaN</td>\n      <td>NaN</td>\n      <td>0</td>\n      <td>NaN</td>\n      <td>47.81321</td>\n      <td>8.33220</td>\n      <td>2014-03-18 16:45:31+01</td>\n      <td>empty</td>\n    </tr>\n    <tr>\n      <th>13379</th>\n      <td>5cbfcf42-67b5-495b-bcaa-e4871ceb3988</td>\n      <td>bft Grefrath</td>\n      <td>bft</td>\n      <td>Mülhausener Str.</td>\n      <td>3</td>\n      <td>47929</td>\n      <td>NaN</td>\n      <td>51.33770</td>\n      <td>6.34416</td>\n      <td>2014-03-20 00:00:01+01</td>\n      <td>{\"openingTimes\":[{\"applicable_days\":31,\"period...</td>\n    </tr>\n    <tr>\n      <th>14200</th>\n      <td>4e8ecfc5-5d0d-4463-901b-6b9ff8fee510</td>\n      <td>01_test</td>\n      <td>other</td>\n      <td>NaN</td>\n      <td>NaN</td>\n      <td>0</td>\n      <td>NaN</td>\n      <td>0.00000</td>\n      <td>0.00000</td>\n      <td>2015-05-27 00:00:01+02</td>\n      <td>empty</td>\n    </tr>\n    <tr>\n      <th>15262</th>\n      <td>27b7b18e-85a8-455d-863c-2f8dbdcf256d</td>\n      <td>Dortmund (44357),Deininghauser Str. 2</td>\n      <td>Gulf</td>\n      <td>Deininghauser Str.</td>\n      <td>2</td>\n      <td>44357</td>\n      <td>NaN</td>\n      <td>51.55210</td>\n      <td>7.36620</td>\n      <td>2018-04-01 23:30:06+02</td>\n      <td>{\"openingTimes\":[{\"applicable_days\":64,\"period...</td>\n    </tr>\n  </tbody>\n</table>\n</div>"
     },
     "metadata": {},
     "execution_count": 90
    }
   ],
   "source": [
    "df_stations[df_stations[\"city\"].isnull()]"
   ]
  },
  {
   "source": [
    "Einträge die City, Post_Code und Coordinaten NaN haben werden gelöscht."
   ],
   "cell_type": "markdown",
   "metadata": {}
  },
  {
   "cell_type": "code",
   "execution_count": 91,
   "metadata": {},
   "outputs": [],
   "source": [
    "df_stations = df_stations.drop(df_stations.loc[(df_stations[\"city\"].isnull()) & (df_stations[\"post_code\"] == 00000) & (df_stations[\"latitude\"] == 0.0) & (df_stations[\"longitude\"] == 0.0)].index)"
   ]
  },
  {
   "source": [
    "Citys die einen NaN Wert haben, aber einen Postcode, werden mit den anderen Postcode einträgen verglichen und erhalten den Namen der City."
   ],
   "cell_type": "markdown",
   "metadata": {}
  },
  {
   "cell_type": "code",
   "execution_count": 92,
   "metadata": {},
   "outputs": [],
   "source": [
    "def findCityWithPostcode(row):\n",
    "    return df_stations[\"city\"][(df_stations[\"post_code\"] == row[\"post_code\"]) & (df_stations[\"city\"].notnull())].item()\n",
    "df_stations[\"city\"] = df_stations[[\"city\", \"post_code\"]].apply(lambda x: findCityWithPostcode(x) if x[\"city\"] is np.nan else x[\"city\"], axis=1)"
   ]
  },
  {
   "source": [
    "b) Transformieren Sie die Spalten brand, street und city, sodass die Werte jeweils nur\n",
    "in Großbuchstaben ausgeben werden."
   ],
   "cell_type": "markdown",
   "metadata": {}
  },
  {
   "cell_type": "code",
   "execution_count": 93,
   "metadata": {},
   "outputs": [
    {
     "output_type": "execute_result",
     "data": {
      "text/plain": [
       "                                   uuid                     name    brand  \\\n",
       "0  0e18d0d3-ed38-4e7f-a18e-507a78ad901d  OIL! Tankstelle München     OIL!   \n",
       "1  44e2bdb7-13e3-4156-8576-8326cdd20459           bft Tankstelle    OTHER   \n",
       "2  ad812258-94e7-473d-aa80-d392f7532218   bft Bonn-Bad Godesberg      BFT   \n",
       "3  e52d755d-4be7-4962-a917-3b0139e6f352          Esso Tankstelle     ESSO   \n",
       "4  e52a5d92-33c6-4c77-b6cd-ea90ca1c7c62     Friedrich Dankelmann  MARKANT   \n",
       "\n",
       "                 street house_number post_code     city   latitude  longitude  \\\n",
       "0  EVERSBUSCHSTRASSE 33          NaN     80999  MÜNCHEN  48.180700  11.460900   \n",
       "1        SCHELLENGASSE            53     36304  ALSFELD  50.752009   9.279039   \n",
       "2     GODESBERGER ALLEE           55     53175     BONN  50.695100   7.142760   \n",
       "3   OSNABRUECKER STR. 5                  49163   BOHMTE  52.358250   8.304064   \n",
       "4      STRANGENHÄUSCHEN           10     52070   AACHEN  50.801680   6.110960   \n",
       "\n",
       "             first_active                                  openingtimes_json  \n",
       "0  1970-01-01 01:00:00+01  {\"openingTimes\":[{\"applicable_days\":192,\"perio...  \n",
       "1  1970-01-01 01:00:00+01  {\"openingTimes\":[{\"applicable_days\":63,\"period...  \n",
       "2  1970-01-01 01:00:00+01  {\"openingTimes\":[{\"applicable_days\":31,\"period...  \n",
       "3  2014-03-18 16:45:31+01  {\"openingTimes\":[{\"applicable_days\":31,\"period...  \n",
       "4  2014-03-18 16:45:31+01  {\"openingTimes\":[{\"applicable_days\":63,\"period...  "
      ],
      "text/html": "<div>\n<style scoped>\n    .dataframe tbody tr th:only-of-type {\n        vertical-align: middle;\n    }\n\n    .dataframe tbody tr th {\n        vertical-align: top;\n    }\n\n    .dataframe thead th {\n        text-align: right;\n    }\n</style>\n<table border=\"1\" class=\"dataframe\">\n  <thead>\n    <tr style=\"text-align: right;\">\n      <th></th>\n      <th>uuid</th>\n      <th>name</th>\n      <th>brand</th>\n      <th>street</th>\n      <th>house_number</th>\n      <th>post_code</th>\n      <th>city</th>\n      <th>latitude</th>\n      <th>longitude</th>\n      <th>first_active</th>\n      <th>openingtimes_json</th>\n    </tr>\n  </thead>\n  <tbody>\n    <tr>\n      <th>0</th>\n      <td>0e18d0d3-ed38-4e7f-a18e-507a78ad901d</td>\n      <td>OIL! Tankstelle München</td>\n      <td>OIL!</td>\n      <td>EVERSBUSCHSTRASSE 33</td>\n      <td>NaN</td>\n      <td>80999</td>\n      <td>MÜNCHEN</td>\n      <td>48.180700</td>\n      <td>11.460900</td>\n      <td>1970-01-01 01:00:00+01</td>\n      <td>{\"openingTimes\":[{\"applicable_days\":192,\"perio...</td>\n    </tr>\n    <tr>\n      <th>1</th>\n      <td>44e2bdb7-13e3-4156-8576-8326cdd20459</td>\n      <td>bft Tankstelle</td>\n      <td>OTHER</td>\n      <td>SCHELLENGASSE</td>\n      <td>53</td>\n      <td>36304</td>\n      <td>ALSFELD</td>\n      <td>50.752009</td>\n      <td>9.279039</td>\n      <td>1970-01-01 01:00:00+01</td>\n      <td>{\"openingTimes\":[{\"applicable_days\":63,\"period...</td>\n    </tr>\n    <tr>\n      <th>2</th>\n      <td>ad812258-94e7-473d-aa80-d392f7532218</td>\n      <td>bft Bonn-Bad Godesberg</td>\n      <td>BFT</td>\n      <td>GODESBERGER ALLEE</td>\n      <td>55</td>\n      <td>53175</td>\n      <td>BONN</td>\n      <td>50.695100</td>\n      <td>7.142760</td>\n      <td>1970-01-01 01:00:00+01</td>\n      <td>{\"openingTimes\":[{\"applicable_days\":31,\"period...</td>\n    </tr>\n    <tr>\n      <th>3</th>\n      <td>e52d755d-4be7-4962-a917-3b0139e6f352</td>\n      <td>Esso Tankstelle</td>\n      <td>ESSO</td>\n      <td>OSNABRUECKER STR. 5</td>\n      <td></td>\n      <td>49163</td>\n      <td>BOHMTE</td>\n      <td>52.358250</td>\n      <td>8.304064</td>\n      <td>2014-03-18 16:45:31+01</td>\n      <td>{\"openingTimes\":[{\"applicable_days\":31,\"period...</td>\n    </tr>\n    <tr>\n      <th>4</th>\n      <td>e52a5d92-33c6-4c77-b6cd-ea90ca1c7c62</td>\n      <td>Friedrich Dankelmann</td>\n      <td>MARKANT</td>\n      <td>STRANGENHÄUSCHEN</td>\n      <td>10</td>\n      <td>52070</td>\n      <td>AACHEN</td>\n      <td>50.801680</td>\n      <td>6.110960</td>\n      <td>2014-03-18 16:45:31+01</td>\n      <td>{\"openingTimes\":[{\"applicable_days\":63,\"period...</td>\n    </tr>\n  </tbody>\n</table>\n</div>"
     },
     "metadata": {},
     "execution_count": 93
    }
   ],
   "source": [
    "df_stations[\"brand\"] = df_stations[\"brand\"].str.upper()\n",
    "df_stations[\"street\"] = df_stations[\"street\"].str.upper()\n",
    "df_stations[\"city\"] = df_stations[\"city\"].str.upper()\n",
    "\n",
    "df_stations.head()"
   ]
  },
  {
   "source": [
    "c) Uberprüfen Sie, ob der Datensatz Duplikate enth ¨ alt und entfernen Sie diese ggf. Ein Dupli- ¨\n",
    "kat liege dann vor, wenn zwei Tankstellen in den Spalten name, street, house number\n",
    "und post code ubereinstimmen. Geben Sie aus, wie viele Duplikate ermittelt und entfernt ¨\n",
    "wurden."
   ],
   "cell_type": "markdown",
   "metadata": {}
  },
  {
   "cell_type": "code",
   "execution_count": 94,
   "metadata": {},
   "outputs": [
    {
     "output_type": "execute_result",
     "data": {
      "text/plain": [
       "52"
      ]
     },
     "metadata": {},
     "execution_count": 94
    }
   ],
   "source": [
    "df_stations[[\"name\", \"street\", \"house_number\", \"post_code\"]].duplicated().sum()"
   ]
  },
  {
   "source": [
    "Es wurden 52 Duplikate ermittelt"
   ],
   "cell_type": "markdown",
   "metadata": {}
  },
  {
   "cell_type": "code",
   "execution_count": 95,
   "metadata": {},
   "outputs": [
    {
     "output_type": "execute_result",
     "data": {
      "text/plain": [
       "51"
      ]
     },
     "metadata": {},
     "execution_count": 95
    }
   ],
   "source": [
    "df_stations[[\"name\", \"street\", \"house_number\", \"post_code\"]] = df_stations[[\"name\", \"street\", \"house_number\", \"post_code\"]].drop_duplicates()\n",
    "df_stations[[\"name\", \"street\", \"house_number\", \"post_code\"]].duplicated().sum()"
   ]
  },
  {
   "source": [
    "d) Untersuchen Sie die Spalten longitude und latitude auf unphysikalische Werte, indem Sie zunachst deren Verteilung in einem Histogramm visualisieren. Entfernen oder kor- ¨\n",
    "rigieren Sie anschließend die Eintrage zu denjenigen Tankstellen, bei denen Sie unphysi- ¨\n",
    "kalische Werte festgestellt haben. Zeichnen Sie anschließend erneut Histogramme fur die ¨\n",
    "beiden Spalten longitude und latitude."
   ],
   "cell_type": "markdown",
   "metadata": {}
  },
  {
   "source": [
    "Zuerst analysieren wir die Daten."
   ],
   "cell_type": "markdown",
   "metadata": {}
  },
  {
   "cell_type": "code",
   "execution_count": 96,
   "metadata": {},
   "outputs": [
    {
     "output_type": "execute_result",
     "data": {
      "text/plain": [
       "(0, 10)"
      ]
     },
     "metadata": {},
     "execution_count": 96
    },
    {
     "output_type": "display_data",
     "data": {
      "text/plain": "<Figure size 432x288 with 1 Axes>",
      "image/svg+xml": "<?xml version=\"1.0\" encoding=\"utf-8\" standalone=\"no\"?>\r\n<!DOCTYPE svg PUBLIC \"-//W3C//DTD SVG 1.1//EN\"\r\n  \"http://www.w3.org/Graphics/SVG/1.1/DTD/svg11.dtd\">\r\n<!-- Created with matplotlib (https://matplotlib.org/) -->\r\n<svg height=\"252.317344pt\" version=\"1.1\" viewBox=\"0 0 368.925 252.317344\" width=\"368.925pt\" xmlns=\"http://www.w3.org/2000/svg\" xmlns:xlink=\"http://www.w3.org/1999/xlink\">\r\n <defs>\r\n  <style type=\"text/css\">\r\n*{stroke-linecap:butt;stroke-linejoin:round;}\r\n  </style>\r\n </defs>\r\n <g id=\"figure_1\">\r\n  <g id=\"patch_1\">\r\n   <path d=\"M -0 252.317344 \r\nL 368.925 252.317344 \r\nL 368.925 0 \r\nL -0 0 \r\nz\r\n\" style=\"fill:none;\"/>\r\n  </g>\r\n  <g id=\"axes_1\">\r\n   <g id=\"patch_2\">\r\n    <path d=\"M 26.925 228.439219 \r\nL 361.725 228.439219 \r\nL 361.725 10.999219 \r\nL 26.925 10.999219 \r\nz\r\n\" style=\"fill:#ffffff;\"/>\r\n   </g>\r\n   <g id=\"patch_3\">\r\n    <path clip-path=\"url(#p4bc9731b4c)\" d=\"M 42.143182 228.439219 \r\nL 48.230455 228.439219 \r\nL 48.230455 32.743219 \r\nL 42.143182 32.743219 \r\nz\r\n\" style=\"fill:#1f77b4;\"/>\r\n   </g>\r\n   <g id=\"patch_4\">\r\n    <path clip-path=\"url(#p4bc9731b4c)\" d=\"M 48.230455 228.439219 \r\nL 54.317727 228.439219 \r\nL 54.317727 228.439219 \r\nL 48.230455 228.439219 \r\nz\r\n\" style=\"fill:#1f77b4;\"/>\r\n   </g>\r\n   <g id=\"patch_5\">\r\n    <path clip-path=\"url(#p4bc9731b4c)\" d=\"M 54.317727 228.439219 \r\nL 60.405 228.439219 \r\nL 60.405 228.439219 \r\nL 54.317727 228.439219 \r\nz\r\n\" style=\"fill:#1f77b4;\"/>\r\n   </g>\r\n   <g id=\"patch_6\">\r\n    <path clip-path=\"url(#p4bc9731b4c)\" d=\"M 60.405 228.439219 \r\nL 66.492273 228.439219 \r\nL 66.492273 228.439219 \r\nL 60.405 228.439219 \r\nz\r\n\" style=\"fill:#1f77b4;\"/>\r\n   </g>\r\n   <g id=\"patch_7\">\r\n    <path clip-path=\"url(#p4bc9731b4c)\" d=\"M 66.492273 228.439219 \r\nL 72.579545 228.439219 \r\nL 72.579545 228.439219 \r\nL 66.492273 228.439219 \r\nz\r\n\" style=\"fill:#1f77b4;\"/>\r\n   </g>\r\n   <g id=\"patch_8\">\r\n    <path clip-path=\"url(#p4bc9731b4c)\" d=\"M 72.579545 228.439219 \r\nL 78.666818 228.439219 \r\nL 78.666818 228.439219 \r\nL 72.579545 228.439219 \r\nz\r\n\" style=\"fill:#1f77b4;\"/>\r\n   </g>\r\n   <g id=\"patch_9\">\r\n    <path clip-path=\"url(#p4bc9731b4c)\" d=\"M 78.666818 228.439219 \r\nL 84.754091 228.439219 \r\nL 84.754091 228.439219 \r\nL 78.666818 228.439219 \r\nz\r\n\" style=\"fill:#1f77b4;\"/>\r\n   </g>\r\n   <g id=\"patch_10\">\r\n    <path clip-path=\"url(#p4bc9731b4c)\" d=\"M 84.754091 228.439219 \r\nL 90.841364 228.439219 \r\nL 90.841364 228.439219 \r\nL 84.754091 228.439219 \r\nz\r\n\" style=\"fill:#1f77b4;\"/>\r\n   </g>\r\n   <g id=\"patch_11\">\r\n    <path clip-path=\"url(#p4bc9731b4c)\" d=\"M 90.841364 228.439219 \r\nL 96.928636 228.439219 \r\nL 96.928636 228.439219 \r\nL 90.841364 228.439219 \r\nz\r\n\" style=\"fill:#1f77b4;\"/>\r\n   </g>\r\n   <g id=\"patch_12\">\r\n    <path clip-path=\"url(#p4bc9731b4c)\" d=\"M 96.928636 228.439219 \r\nL 103.015909 228.439219 \r\nL 103.015909 228.439219 \r\nL 96.928636 228.439219 \r\nz\r\n\" style=\"fill:#1f77b4;\"/>\r\n   </g>\r\n   <g id=\"patch_13\">\r\n    <path clip-path=\"url(#p4bc9731b4c)\" d=\"M 103.015909 228.439219 \r\nL 109.103182 228.439219 \r\nL 109.103182 228.439219 \r\nL 103.015909 228.439219 \r\nz\r\n\" style=\"fill:#1f77b4;\"/>\r\n   </g>\r\n   <g id=\"patch_14\">\r\n    <path clip-path=\"url(#p4bc9731b4c)\" d=\"M 109.103182 228.439219 \r\nL 115.190455 228.439219 \r\nL 115.190455 228.439219 \r\nL 109.103182 228.439219 \r\nz\r\n\" style=\"fill:#1f77b4;\"/>\r\n   </g>\r\n   <g id=\"patch_15\">\r\n    <path clip-path=\"url(#p4bc9731b4c)\" d=\"M 115.190455 228.439219 \r\nL 121.277727 228.439219 \r\nL 121.277727 228.439219 \r\nL 115.190455 228.439219 \r\nz\r\n\" style=\"fill:#1f77b4;\"/>\r\n   </g>\r\n   <g id=\"patch_16\">\r\n    <path clip-path=\"url(#p4bc9731b4c)\" d=\"M 121.277727 228.439219 \r\nL 127.365 228.439219 \r\nL 127.365 228.439219 \r\nL 121.277727 228.439219 \r\nz\r\n\" style=\"fill:#1f77b4;\"/>\r\n   </g>\r\n   <g id=\"patch_17\">\r\n    <path clip-path=\"url(#p4bc9731b4c)\" d=\"M 127.365 228.439219 \r\nL 133.452273 228.439219 \r\nL 133.452273 228.439219 \r\nL 127.365 228.439219 \r\nz\r\n\" style=\"fill:#1f77b4;\"/>\r\n   </g>\r\n   <g id=\"patch_18\">\r\n    <path clip-path=\"url(#p4bc9731b4c)\" d=\"M 133.452273 228.439219 \r\nL 139.539545 228.439219 \r\nL 139.539545 228.439219 \r\nL 133.452273 228.439219 \r\nz\r\n\" style=\"fill:#1f77b4;\"/>\r\n   </g>\r\n   <g id=\"patch_19\">\r\n    <path clip-path=\"url(#p4bc9731b4c)\" d=\"M 139.539545 228.439219 \r\nL 145.626818 228.439219 \r\nL 145.626818 228.439219 \r\nL 139.539545 228.439219 \r\nz\r\n\" style=\"fill:#1f77b4;\"/>\r\n   </g>\r\n   <g id=\"patch_20\">\r\n    <path clip-path=\"url(#p4bc9731b4c)\" d=\"M 145.626818 228.439219 \r\nL 151.714091 228.439219 \r\nL 151.714091 228.439219 \r\nL 145.626818 228.439219 \r\nz\r\n\" style=\"fill:#1f77b4;\"/>\r\n   </g>\r\n   <g id=\"patch_21\">\r\n    <path clip-path=\"url(#p4bc9731b4c)\" d=\"M 151.714091 228.439219 \r\nL 157.801364 228.439219 \r\nL 157.801364 228.439219 \r\nL 151.714091 228.439219 \r\nz\r\n\" style=\"fill:#1f77b4;\"/>\r\n   </g>\r\n   <g id=\"patch_22\">\r\n    <path clip-path=\"url(#p4bc9731b4c)\" d=\"M 157.801364 228.439219 \r\nL 163.888636 228.439219 \r\nL 163.888636 228.439219 \r\nL 157.801364 228.439219 \r\nz\r\n\" style=\"fill:#1f77b4;\"/>\r\n   </g>\r\n   <g id=\"patch_23\">\r\n    <path clip-path=\"url(#p4bc9731b4c)\" d=\"M 163.888636 228.439219 \r\nL 169.975909 228.439219 \r\nL 169.975909 228.439219 \r\nL 163.888636 228.439219 \r\nz\r\n\" style=\"fill:#1f77b4;\"/>\r\n   </g>\r\n   <g id=\"patch_24\">\r\n    <path clip-path=\"url(#p4bc9731b4c)\" d=\"M 169.975909 228.439219 \r\nL 176.063182 228.439219 \r\nL 176.063182 228.439219 \r\nL 169.975909 228.439219 \r\nz\r\n\" style=\"fill:#1f77b4;\"/>\r\n   </g>\r\n   <g id=\"patch_25\">\r\n    <path clip-path=\"url(#p4bc9731b4c)\" d=\"M 176.063182 228.439219 \r\nL 182.150455 228.439219 \r\nL 182.150455 228.439219 \r\nL 176.063182 228.439219 \r\nz\r\n\" style=\"fill:#1f77b4;\"/>\r\n   </g>\r\n   <g id=\"patch_26\">\r\n    <path clip-path=\"url(#p4bc9731b4c)\" d=\"M 182.150455 228.439219 \r\nL 188.237727 228.439219 \r\nL 188.237727 228.439219 \r\nL 182.150455 228.439219 \r\nz\r\n\" style=\"fill:#1f77b4;\"/>\r\n   </g>\r\n   <g id=\"patch_27\">\r\n    <path clip-path=\"url(#p4bc9731b4c)\" d=\"M 188.237727 228.439219 \r\nL 194.325 228.439219 \r\nL 194.325 228.439219 \r\nL 188.237727 228.439219 \r\nz\r\n\" style=\"fill:#1f77b4;\"/>\r\n   </g>\r\n   <g id=\"patch_28\">\r\n    <path clip-path=\"url(#p4bc9731b4c)\" d=\"M 194.325 228.439219 \r\nL 200.412273 228.439219 \r\nL 200.412273 228.439219 \r\nL 194.325 228.439219 \r\nz\r\n\" style=\"fill:#1f77b4;\"/>\r\n   </g>\r\n   <g id=\"patch_29\">\r\n    <path clip-path=\"url(#p4bc9731b4c)\" d=\"M 200.412273 228.439219 \r\nL 206.499545 228.439219 \r\nL 206.499545 228.439219 \r\nL 200.412273 228.439219 \r\nz\r\n\" style=\"fill:#1f77b4;\"/>\r\n   </g>\r\n   <g id=\"patch_30\">\r\n    <path clip-path=\"url(#p4bc9731b4c)\" d=\"M 206.499545 228.439219 \r\nL 212.586818 228.439219 \r\nL 212.586818 228.439219 \r\nL 206.499545 228.439219 \r\nz\r\n\" style=\"fill:#1f77b4;\"/>\r\n   </g>\r\n   <g id=\"patch_31\">\r\n    <path clip-path=\"url(#p4bc9731b4c)\" d=\"M 212.586818 228.439219 \r\nL 218.674091 228.439219 \r\nL 218.674091 228.439219 \r\nL 212.586818 228.439219 \r\nz\r\n\" style=\"fill:#1f77b4;\"/>\r\n   </g>\r\n   <g id=\"patch_32\">\r\n    <path clip-path=\"url(#p4bc9731b4c)\" d=\"M 218.674091 228.439219 \r\nL 224.761364 228.439219 \r\nL 224.761364 228.439219 \r\nL 218.674091 228.439219 \r\nz\r\n\" style=\"fill:#1f77b4;\"/>\r\n   </g>\r\n   <g id=\"patch_33\">\r\n    <path clip-path=\"url(#p4bc9731b4c)\" d=\"M 224.761364 228.439219 \r\nL 230.848636 228.439219 \r\nL 230.848636 228.439219 \r\nL 224.761364 228.439219 \r\nz\r\n\" style=\"fill:#1f77b4;\"/>\r\n   </g>\r\n   <g id=\"patch_34\">\r\n    <path clip-path=\"url(#p4bc9731b4c)\" d=\"M 230.848636 228.439219 \r\nL 236.935909 228.439219 \r\nL 236.935909 228.439219 \r\nL 230.848636 228.439219 \r\nz\r\n\" style=\"fill:#1f77b4;\"/>\r\n   </g>\r\n   <g id=\"patch_35\">\r\n    <path clip-path=\"url(#p4bc9731b4c)\" d=\"M 236.935909 228.439219 \r\nL 243.023182 228.439219 \r\nL 243.023182 228.439219 \r\nL 236.935909 228.439219 \r\nz\r\n\" style=\"fill:#1f77b4;\"/>\r\n   </g>\r\n   <g id=\"patch_36\">\r\n    <path clip-path=\"url(#p4bc9731b4c)\" d=\"M 243.023182 228.439219 \r\nL 249.110455 228.439219 \r\nL 249.110455 228.439219 \r\nL 243.023182 228.439219 \r\nz\r\n\" style=\"fill:#1f77b4;\"/>\r\n   </g>\r\n   <g id=\"patch_37\">\r\n    <path clip-path=\"url(#p4bc9731b4c)\" d=\"M 249.110455 228.439219 \r\nL 255.197727 228.439219 \r\nL 255.197727 228.439219 \r\nL 249.110455 228.439219 \r\nz\r\n\" style=\"fill:#1f77b4;\"/>\r\n   </g>\r\n   <g id=\"patch_38\">\r\n    <path clip-path=\"url(#p4bc9731b4c)\" d=\"M 255.197727 228.439219 \r\nL 261.285 228.439219 \r\nL 261.285 228.439219 \r\nL 255.197727 228.439219 \r\nz\r\n\" style=\"fill:#1f77b4;\"/>\r\n   </g>\r\n   <g id=\"patch_39\">\r\n    <path clip-path=\"url(#p4bc9731b4c)\" d=\"M 261.285 228.439219 \r\nL 267.372273 228.439219 \r\nL 267.372273 228.439219 \r\nL 261.285 228.439219 \r\nz\r\n\" style=\"fill:#1f77b4;\"/>\r\n   </g>\r\n   <g id=\"patch_40\">\r\n    <path clip-path=\"url(#p4bc9731b4c)\" d=\"M 267.372273 228.439219 \r\nL 273.459545 228.439219 \r\nL 273.459545 228.439219 \r\nL 267.372273 228.439219 \r\nz\r\n\" style=\"fill:#1f77b4;\"/>\r\n   </g>\r\n   <g id=\"patch_41\">\r\n    <path clip-path=\"url(#p4bc9731b4c)\" d=\"M 273.459545 228.439219 \r\nL 279.546818 228.439219 \r\nL 279.546818 228.439219 \r\nL 273.459545 228.439219 \r\nz\r\n\" style=\"fill:#1f77b4;\"/>\r\n   </g>\r\n   <g id=\"patch_42\">\r\n    <path clip-path=\"url(#p4bc9731b4c)\" d=\"M 279.546818 228.439219 \r\nL 285.634091 228.439219 \r\nL 285.634091 228.439219 \r\nL 279.546818 228.439219 \r\nz\r\n\" style=\"fill:#1f77b4;\"/>\r\n   </g>\r\n   <g id=\"patch_43\">\r\n    <path clip-path=\"url(#p4bc9731b4c)\" d=\"M 285.634091 228.439219 \r\nL 291.721364 228.439219 \r\nL 291.721364 228.439219 \r\nL 285.634091 228.439219 \r\nz\r\n\" style=\"fill:#1f77b4;\"/>\r\n   </g>\r\n   <g id=\"patch_44\">\r\n    <path clip-path=\"url(#p4bc9731b4c)\" d=\"M 291.721364 228.439219 \r\nL 297.808636 228.439219 \r\nL 297.808636 228.439219 \r\nL 291.721364 228.439219 \r\nz\r\n\" style=\"fill:#1f77b4;\"/>\r\n   </g>\r\n   <g id=\"patch_45\">\r\n    <path clip-path=\"url(#p4bc9731b4c)\" d=\"M 297.808636 228.439219 \r\nL 303.895909 228.439219 \r\nL 303.895909 228.439219 \r\nL 297.808636 228.439219 \r\nz\r\n\" style=\"fill:#1f77b4;\"/>\r\n   </g>\r\n   <g id=\"patch_46\">\r\n    <path clip-path=\"url(#p4bc9731b4c)\" d=\"M 303.895909 228.439219 \r\nL 309.983182 228.439219 \r\nL 309.983182 -35540.440781 \r\nL 303.895909 -35540.440781 \r\nz\r\n\" style=\"fill:#1f77b4;\"/>\r\n   </g>\r\n   <g id=\"patch_47\">\r\n    <path clip-path=\"url(#p4bc9731b4c)\" d=\"M 309.983182 228.439219 \r\nL 316.070455 228.439219 \r\nL 316.070455 -61394.056781 \r\nL 309.983182 -61394.056781 \r\nz\r\n\" style=\"fill:#1f77b4;\"/>\r\n   </g>\r\n   <g id=\"patch_48\">\r\n    <path clip-path=\"url(#p4bc9731b4c)\" d=\"M 316.070455 228.439219 \r\nL 322.157727 228.439219 \r\nL 322.157727 -52196.344781 \r\nL 316.070455 -52196.344781 \r\nz\r\n\" style=\"fill:#1f77b4;\"/>\r\n   </g>\r\n   <g id=\"patch_49\">\r\n    <path clip-path=\"url(#p4bc9731b4c)\" d=\"M 322.157727 228.439219 \r\nL 328.245 228.439219 \r\nL 328.245 -91009.384781 \r\nL 322.157727 -91009.384781 \r\nz\r\n\" style=\"fill:#1f77b4;\"/>\r\n   </g>\r\n   <g id=\"patch_50\">\r\n    <path clip-path=\"url(#p4bc9731b4c)\" d=\"M 328.245 228.439219 \r\nL 334.332273 228.439219 \r\nL 334.332273 -61654.984781 \r\nL 328.245 -61654.984781 \r\nz\r\n\" style=\"fill:#1f77b4;\"/>\r\n   </g>\r\n   <g id=\"patch_51\">\r\n    <path clip-path=\"url(#p4bc9731b4c)\" d=\"M 334.332273 228.439219 \r\nL 340.419545 228.439219 \r\nL 340.419545 -38910.760781 \r\nL 334.332273 -38910.760781 \r\nz\r\n\" style=\"fill:#1f77b4;\"/>\r\n   </g>\r\n   <g id=\"patch_52\">\r\n    <path clip-path=\"url(#p4bc9731b4c)\" d=\"M 340.419545 228.439219 \r\nL 346.506818 228.439219 \r\nL 346.506818 -11926.456781 \r\nL 340.419545 -11926.456781 \r\nz\r\n\" style=\"fill:#1f77b4;\"/>\r\n   </g>\r\n   <g id=\"matplotlib.axis_1\">\r\n    <g id=\"xtick_1\">\r\n     <g id=\"line2d_1\">\r\n      <path clip-path=\"url(#p4bc9731b4c)\" d=\"M 42.143182 228.439219 \r\nL 42.143182 10.999219 \r\n\" style=\"fill:none;stroke:#b0b0b0;stroke-linecap:square;stroke-width:0.8;\"/>\r\n     </g>\r\n     <g id=\"line2d_2\">\r\n      <defs>\r\n       <path d=\"M 0 0 \r\nL 0 3.5 \r\n\" id=\"md5e1a63ba3\" style=\"stroke:#000000;stroke-width:0.8;\"/>\r\n      </defs>\r\n      <g>\r\n       <use style=\"stroke:#000000;stroke-width:0.8;\" x=\"42.143182\" xlink:href=\"#md5e1a63ba3\" y=\"228.439219\"/>\r\n      </g>\r\n     </g>\r\n     <g id=\"text_1\">\r\n      <!-- 0 -->\r\n      <defs>\r\n       <path d=\"M 31.78125 66.40625 \r\nQ 24.171875 66.40625 20.328125 58.90625 \r\nQ 16.5 51.421875 16.5 36.375 \r\nQ 16.5 21.390625 20.328125 13.890625 \r\nQ 24.171875 6.390625 31.78125 6.390625 \r\nQ 39.453125 6.390625 43.28125 13.890625 \r\nQ 47.125 21.390625 47.125 36.375 \r\nQ 47.125 51.421875 43.28125 58.90625 \r\nQ 39.453125 66.40625 31.78125 66.40625 \r\nz\r\nM 31.78125 74.21875 \r\nQ 44.046875 74.21875 50.515625 64.515625 \r\nQ 56.984375 54.828125 56.984375 36.375 \r\nQ 56.984375 17.96875 50.515625 8.265625 \r\nQ 44.046875 -1.421875 31.78125 -1.421875 \r\nQ 19.53125 -1.421875 13.0625 8.265625 \r\nQ 6.59375 17.96875 6.59375 36.375 \r\nQ 6.59375 54.828125 13.0625 64.515625 \r\nQ 19.53125 74.21875 31.78125 74.21875 \r\nz\r\n\" id=\"DejaVuSans-48\"/>\r\n      </defs>\r\n      <g transform=\"translate(38.961932 243.037656)scale(0.1 -0.1)\">\r\n       <use xlink:href=\"#DejaVuSans-48\"/>\r\n      </g>\r\n     </g>\r\n    </g>\r\n    <g id=\"xtick_2\">\r\n     <g id=\"line2d_3\">\r\n      <path clip-path=\"url(#p4bc9731b4c)\" d=\"M 97.465989 228.439219 \r\nL 97.465989 10.999219 \r\n\" style=\"fill:none;stroke:#b0b0b0;stroke-linecap:square;stroke-width:0.8;\"/>\r\n     </g>\r\n     <g id=\"line2d_4\">\r\n      <g>\r\n       <use style=\"stroke:#000000;stroke-width:0.8;\" x=\"97.465989\" xlink:href=\"#md5e1a63ba3\" y=\"228.439219\"/>\r\n      </g>\r\n     </g>\r\n     <g id=\"text_2\">\r\n      <!-- 10 -->\r\n      <defs>\r\n       <path d=\"M 12.40625 8.296875 \r\nL 28.515625 8.296875 \r\nL 28.515625 63.921875 \r\nL 10.984375 60.40625 \r\nL 10.984375 69.390625 \r\nL 28.421875 72.90625 \r\nL 38.28125 72.90625 \r\nL 38.28125 8.296875 \r\nL 54.390625 8.296875 \r\nL 54.390625 0 \r\nL 12.40625 0 \r\nz\r\n\" id=\"DejaVuSans-49\"/>\r\n      </defs>\r\n      <g transform=\"translate(91.103489 243.037656)scale(0.1 -0.1)\">\r\n       <use xlink:href=\"#DejaVuSans-49\"/>\r\n       <use x=\"63.623047\" xlink:href=\"#DejaVuSans-48\"/>\r\n      </g>\r\n     </g>\r\n    </g>\r\n    <g id=\"xtick_3\">\r\n     <g id=\"line2d_5\">\r\n      <path clip-path=\"url(#p4bc9731b4c)\" d=\"M 152.788797 228.439219 \r\nL 152.788797 10.999219 \r\n\" style=\"fill:none;stroke:#b0b0b0;stroke-linecap:square;stroke-width:0.8;\"/>\r\n     </g>\r\n     <g id=\"line2d_6\">\r\n      <g>\r\n       <use style=\"stroke:#000000;stroke-width:0.8;\" x=\"152.788797\" xlink:href=\"#md5e1a63ba3\" y=\"228.439219\"/>\r\n      </g>\r\n     </g>\r\n     <g id=\"text_3\">\r\n      <!-- 20 -->\r\n      <defs>\r\n       <path d=\"M 19.1875 8.296875 \r\nL 53.609375 8.296875 \r\nL 53.609375 0 \r\nL 7.328125 0 \r\nL 7.328125 8.296875 \r\nQ 12.9375 14.109375 22.625 23.890625 \r\nQ 32.328125 33.6875 34.8125 36.53125 \r\nQ 39.546875 41.84375 41.421875 45.53125 \r\nQ 43.3125 49.21875 43.3125 52.78125 \r\nQ 43.3125 58.59375 39.234375 62.25 \r\nQ 35.15625 65.921875 28.609375 65.921875 \r\nQ 23.96875 65.921875 18.8125 64.3125 \r\nQ 13.671875 62.703125 7.8125 59.421875 \r\nL 7.8125 69.390625 \r\nQ 13.765625 71.78125 18.9375 73 \r\nQ 24.125 74.21875 28.421875 74.21875 \r\nQ 39.75 74.21875 46.484375 68.546875 \r\nQ 53.21875 62.890625 53.21875 53.421875 \r\nQ 53.21875 48.921875 51.53125 44.890625 \r\nQ 49.859375 40.875 45.40625 35.40625 \r\nQ 44.1875 33.984375 37.640625 27.21875 \r\nQ 31.109375 20.453125 19.1875 8.296875 \r\nz\r\n\" id=\"DejaVuSans-50\"/>\r\n      </defs>\r\n      <g transform=\"translate(146.426297 243.037656)scale(0.1 -0.1)\">\r\n       <use xlink:href=\"#DejaVuSans-50\"/>\r\n       <use x=\"63.623047\" xlink:href=\"#DejaVuSans-48\"/>\r\n      </g>\r\n     </g>\r\n    </g>\r\n    <g id=\"xtick_4\">\r\n     <g id=\"line2d_7\">\r\n      <path clip-path=\"url(#p4bc9731b4c)\" d=\"M 208.111604 228.439219 \r\nL 208.111604 10.999219 \r\n\" style=\"fill:none;stroke:#b0b0b0;stroke-linecap:square;stroke-width:0.8;\"/>\r\n     </g>\r\n     <g id=\"line2d_8\">\r\n      <g>\r\n       <use style=\"stroke:#000000;stroke-width:0.8;\" x=\"208.111604\" xlink:href=\"#md5e1a63ba3\" y=\"228.439219\"/>\r\n      </g>\r\n     </g>\r\n     <g id=\"text_4\">\r\n      <!-- 30 -->\r\n      <defs>\r\n       <path d=\"M 40.578125 39.3125 \r\nQ 47.65625 37.796875 51.625 33 \r\nQ 55.609375 28.21875 55.609375 21.1875 \r\nQ 55.609375 10.40625 48.1875 4.484375 \r\nQ 40.765625 -1.421875 27.09375 -1.421875 \r\nQ 22.515625 -1.421875 17.65625 -0.515625 \r\nQ 12.796875 0.390625 7.625 2.203125 \r\nL 7.625 11.71875 \r\nQ 11.71875 9.328125 16.59375 8.109375 \r\nQ 21.484375 6.890625 26.8125 6.890625 \r\nQ 36.078125 6.890625 40.9375 10.546875 \r\nQ 45.796875 14.203125 45.796875 21.1875 \r\nQ 45.796875 27.640625 41.28125 31.265625 \r\nQ 36.765625 34.90625 28.71875 34.90625 \r\nL 20.21875 34.90625 \r\nL 20.21875 43.015625 \r\nL 29.109375 43.015625 \r\nQ 36.375 43.015625 40.234375 45.921875 \r\nQ 44.09375 48.828125 44.09375 54.296875 \r\nQ 44.09375 59.90625 40.109375 62.90625 \r\nQ 36.140625 65.921875 28.71875 65.921875 \r\nQ 24.65625 65.921875 20.015625 65.03125 \r\nQ 15.375 64.15625 9.8125 62.3125 \r\nL 9.8125 71.09375 \r\nQ 15.4375 72.65625 20.34375 73.4375 \r\nQ 25.25 74.21875 29.59375 74.21875 \r\nQ 40.828125 74.21875 47.359375 69.109375 \r\nQ 53.90625 64.015625 53.90625 55.328125 \r\nQ 53.90625 49.265625 50.4375 45.09375 \r\nQ 46.96875 40.921875 40.578125 39.3125 \r\nz\r\n\" id=\"DejaVuSans-51\"/>\r\n      </defs>\r\n      <g transform=\"translate(201.749104 243.037656)scale(0.1 -0.1)\">\r\n       <use xlink:href=\"#DejaVuSans-51\"/>\r\n       <use x=\"63.623047\" xlink:href=\"#DejaVuSans-48\"/>\r\n      </g>\r\n     </g>\r\n    </g>\r\n    <g id=\"xtick_5\">\r\n     <g id=\"line2d_9\">\r\n      <path clip-path=\"url(#p4bc9731b4c)\" d=\"M 263.434411 228.439219 \r\nL 263.434411 10.999219 \r\n\" style=\"fill:none;stroke:#b0b0b0;stroke-linecap:square;stroke-width:0.8;\"/>\r\n     </g>\r\n     <g id=\"line2d_10\">\r\n      <g>\r\n       <use style=\"stroke:#000000;stroke-width:0.8;\" x=\"263.434411\" xlink:href=\"#md5e1a63ba3\" y=\"228.439219\"/>\r\n      </g>\r\n     </g>\r\n     <g id=\"text_5\">\r\n      <!-- 40 -->\r\n      <defs>\r\n       <path d=\"M 37.796875 64.3125 \r\nL 12.890625 25.390625 \r\nL 37.796875 25.390625 \r\nz\r\nM 35.203125 72.90625 \r\nL 47.609375 72.90625 \r\nL 47.609375 25.390625 \r\nL 58.015625 25.390625 \r\nL 58.015625 17.1875 \r\nL 47.609375 17.1875 \r\nL 47.609375 0 \r\nL 37.796875 0 \r\nL 37.796875 17.1875 \r\nL 4.890625 17.1875 \r\nL 4.890625 26.703125 \r\nz\r\n\" id=\"DejaVuSans-52\"/>\r\n      </defs>\r\n      <g transform=\"translate(257.071911 243.037656)scale(0.1 -0.1)\">\r\n       <use xlink:href=\"#DejaVuSans-52\"/>\r\n       <use x=\"63.623047\" xlink:href=\"#DejaVuSans-48\"/>\r\n      </g>\r\n     </g>\r\n    </g>\r\n    <g id=\"xtick_6\">\r\n     <g id=\"line2d_11\">\r\n      <path clip-path=\"url(#p4bc9731b4c)\" d=\"M 318.757219 228.439219 \r\nL 318.757219 10.999219 \r\n\" style=\"fill:none;stroke:#b0b0b0;stroke-linecap:square;stroke-width:0.8;\"/>\r\n     </g>\r\n     <g id=\"line2d_12\">\r\n      <g>\r\n       <use style=\"stroke:#000000;stroke-width:0.8;\" x=\"318.757219\" xlink:href=\"#md5e1a63ba3\" y=\"228.439219\"/>\r\n      </g>\r\n     </g>\r\n     <g id=\"text_6\">\r\n      <!-- 50 -->\r\n      <defs>\r\n       <path d=\"M 10.796875 72.90625 \r\nL 49.515625 72.90625 \r\nL 49.515625 64.59375 \r\nL 19.828125 64.59375 \r\nL 19.828125 46.734375 \r\nQ 21.96875 47.46875 24.109375 47.828125 \r\nQ 26.265625 48.1875 28.421875 48.1875 \r\nQ 40.625 48.1875 47.75 41.5 \r\nQ 54.890625 34.8125 54.890625 23.390625 \r\nQ 54.890625 11.625 47.5625 5.09375 \r\nQ 40.234375 -1.421875 26.90625 -1.421875 \r\nQ 22.3125 -1.421875 17.546875 -0.640625 \r\nQ 12.796875 0.140625 7.71875 1.703125 \r\nL 7.71875 11.625 \r\nQ 12.109375 9.234375 16.796875 8.0625 \r\nQ 21.484375 6.890625 26.703125 6.890625 \r\nQ 35.15625 6.890625 40.078125 11.328125 \r\nQ 45.015625 15.765625 45.015625 23.390625 \r\nQ 45.015625 31 40.078125 35.4375 \r\nQ 35.15625 39.890625 26.703125 39.890625 \r\nQ 22.75 39.890625 18.8125 39.015625 \r\nQ 14.890625 38.140625 10.796875 36.28125 \r\nz\r\n\" id=\"DejaVuSans-53\"/>\r\n      </defs>\r\n      <g transform=\"translate(312.394719 243.037656)scale(0.1 -0.1)\">\r\n       <use xlink:href=\"#DejaVuSans-53\"/>\r\n       <use x=\"63.623047\" xlink:href=\"#DejaVuSans-48\"/>\r\n      </g>\r\n     </g>\r\n    </g>\r\n   </g>\r\n   <g id=\"matplotlib.axis_2\">\r\n    <g id=\"ytick_1\">\r\n     <g id=\"line2d_13\">\r\n      <path clip-path=\"url(#p4bc9731b4c)\" d=\"M 26.925 228.439219 \r\nL 361.725 228.439219 \r\n\" style=\"fill:none;stroke:#b0b0b0;stroke-linecap:square;stroke-width:0.8;\"/>\r\n     </g>\r\n     <g id=\"line2d_14\">\r\n      <defs>\r\n       <path d=\"M 0 0 \r\nL -3.5 0 \r\n\" id=\"m4cd0938a4a\" style=\"stroke:#000000;stroke-width:0.8;\"/>\r\n      </defs>\r\n      <g>\r\n       <use style=\"stroke:#000000;stroke-width:0.8;\" x=\"26.925\" xlink:href=\"#m4cd0938a4a\" y=\"228.439219\"/>\r\n      </g>\r\n     </g>\r\n     <g id=\"text_7\">\r\n      <!-- 0 -->\r\n      <g transform=\"translate(13.5625 232.238437)scale(0.1 -0.1)\">\r\n       <use xlink:href=\"#DejaVuSans-48\"/>\r\n      </g>\r\n     </g>\r\n    </g>\r\n    <g id=\"ytick_2\">\r\n     <g id=\"line2d_15\">\r\n      <path clip-path=\"url(#p4bc9731b4c)\" d=\"M 26.925 184.951219 \r\nL 361.725 184.951219 \r\n\" style=\"fill:none;stroke:#b0b0b0;stroke-linecap:square;stroke-width:0.8;\"/>\r\n     </g>\r\n     <g id=\"line2d_16\">\r\n      <g>\r\n       <use style=\"stroke:#000000;stroke-width:0.8;\" x=\"26.925\" xlink:href=\"#m4cd0938a4a\" y=\"184.951219\"/>\r\n      </g>\r\n     </g>\r\n     <g id=\"text_8\">\r\n      <!-- 2 -->\r\n      <g transform=\"translate(13.5625 188.750437)scale(0.1 -0.1)\">\r\n       <use xlink:href=\"#DejaVuSans-50\"/>\r\n      </g>\r\n     </g>\r\n    </g>\r\n    <g id=\"ytick_3\">\r\n     <g id=\"line2d_17\">\r\n      <path clip-path=\"url(#p4bc9731b4c)\" d=\"M 26.925 141.463219 \r\nL 361.725 141.463219 \r\n\" style=\"fill:none;stroke:#b0b0b0;stroke-linecap:square;stroke-width:0.8;\"/>\r\n     </g>\r\n     <g id=\"line2d_18\">\r\n      <g>\r\n       <use style=\"stroke:#000000;stroke-width:0.8;\" x=\"26.925\" xlink:href=\"#m4cd0938a4a\" y=\"141.463219\"/>\r\n      </g>\r\n     </g>\r\n     <g id=\"text_9\">\r\n      <!-- 4 -->\r\n      <g transform=\"translate(13.5625 145.262437)scale(0.1 -0.1)\">\r\n       <use xlink:href=\"#DejaVuSans-52\"/>\r\n      </g>\r\n     </g>\r\n    </g>\r\n    <g id=\"ytick_4\">\r\n     <g id=\"line2d_19\">\r\n      <path clip-path=\"url(#p4bc9731b4c)\" d=\"M 26.925 97.975219 \r\nL 361.725 97.975219 \r\n\" style=\"fill:none;stroke:#b0b0b0;stroke-linecap:square;stroke-width:0.8;\"/>\r\n     </g>\r\n     <g id=\"line2d_20\">\r\n      <g>\r\n       <use style=\"stroke:#000000;stroke-width:0.8;\" x=\"26.925\" xlink:href=\"#m4cd0938a4a\" y=\"97.975219\"/>\r\n      </g>\r\n     </g>\r\n     <g id=\"text_10\">\r\n      <!-- 6 -->\r\n      <defs>\r\n       <path d=\"M 33.015625 40.375 \r\nQ 26.375 40.375 22.484375 35.828125 \r\nQ 18.609375 31.296875 18.609375 23.390625 \r\nQ 18.609375 15.53125 22.484375 10.953125 \r\nQ 26.375 6.390625 33.015625 6.390625 \r\nQ 39.65625 6.390625 43.53125 10.953125 \r\nQ 47.40625 15.53125 47.40625 23.390625 \r\nQ 47.40625 31.296875 43.53125 35.828125 \r\nQ 39.65625 40.375 33.015625 40.375 \r\nz\r\nM 52.59375 71.296875 \r\nL 52.59375 62.3125 \r\nQ 48.875 64.0625 45.09375 64.984375 \r\nQ 41.3125 65.921875 37.59375 65.921875 \r\nQ 27.828125 65.921875 22.671875 59.328125 \r\nQ 17.53125 52.734375 16.796875 39.40625 \r\nQ 19.671875 43.65625 24.015625 45.921875 \r\nQ 28.375 48.1875 33.59375 48.1875 \r\nQ 44.578125 48.1875 50.953125 41.515625 \r\nQ 57.328125 34.859375 57.328125 23.390625 \r\nQ 57.328125 12.15625 50.6875 5.359375 \r\nQ 44.046875 -1.421875 33.015625 -1.421875 \r\nQ 20.359375 -1.421875 13.671875 8.265625 \r\nQ 6.984375 17.96875 6.984375 36.375 \r\nQ 6.984375 53.65625 15.1875 63.9375 \r\nQ 23.390625 74.21875 37.203125 74.21875 \r\nQ 40.921875 74.21875 44.703125 73.484375 \r\nQ 48.484375 72.75 52.59375 71.296875 \r\nz\r\n\" id=\"DejaVuSans-54\"/>\r\n      </defs>\r\n      <g transform=\"translate(13.5625 101.774437)scale(0.1 -0.1)\">\r\n       <use xlink:href=\"#DejaVuSans-54\"/>\r\n      </g>\r\n     </g>\r\n    </g>\r\n    <g id=\"ytick_5\">\r\n     <g id=\"line2d_21\">\r\n      <path clip-path=\"url(#p4bc9731b4c)\" d=\"M 26.925 54.487219 \r\nL 361.725 54.487219 \r\n\" style=\"fill:none;stroke:#b0b0b0;stroke-linecap:square;stroke-width:0.8;\"/>\r\n     </g>\r\n     <g id=\"line2d_22\">\r\n      <g>\r\n       <use style=\"stroke:#000000;stroke-width:0.8;\" x=\"26.925\" xlink:href=\"#m4cd0938a4a\" y=\"54.487219\"/>\r\n      </g>\r\n     </g>\r\n     <g id=\"text_11\">\r\n      <!-- 8 -->\r\n      <defs>\r\n       <path d=\"M 31.78125 34.625 \r\nQ 24.75 34.625 20.71875 30.859375 \r\nQ 16.703125 27.09375 16.703125 20.515625 \r\nQ 16.703125 13.921875 20.71875 10.15625 \r\nQ 24.75 6.390625 31.78125 6.390625 \r\nQ 38.8125 6.390625 42.859375 10.171875 \r\nQ 46.921875 13.96875 46.921875 20.515625 \r\nQ 46.921875 27.09375 42.890625 30.859375 \r\nQ 38.875 34.625 31.78125 34.625 \r\nz\r\nM 21.921875 38.8125 \r\nQ 15.578125 40.375 12.03125 44.71875 \r\nQ 8.5 49.078125 8.5 55.328125 \r\nQ 8.5 64.0625 14.71875 69.140625 \r\nQ 20.953125 74.21875 31.78125 74.21875 \r\nQ 42.671875 74.21875 48.875 69.140625 \r\nQ 55.078125 64.0625 55.078125 55.328125 \r\nQ 55.078125 49.078125 51.53125 44.71875 \r\nQ 48 40.375 41.703125 38.8125 \r\nQ 48.828125 37.15625 52.796875 32.3125 \r\nQ 56.78125 27.484375 56.78125 20.515625 \r\nQ 56.78125 9.90625 50.3125 4.234375 \r\nQ 43.84375 -1.421875 31.78125 -1.421875 \r\nQ 19.734375 -1.421875 13.25 4.234375 \r\nQ 6.78125 9.90625 6.78125 20.515625 \r\nQ 6.78125 27.484375 10.78125 32.3125 \r\nQ 14.796875 37.15625 21.921875 38.8125 \r\nz\r\nM 18.3125 54.390625 \r\nQ 18.3125 48.734375 21.84375 45.5625 \r\nQ 25.390625 42.390625 31.78125 42.390625 \r\nQ 38.140625 42.390625 41.71875 45.5625 \r\nQ 45.3125 48.734375 45.3125 54.390625 \r\nQ 45.3125 60.0625 41.71875 63.234375 \r\nQ 38.140625 66.40625 31.78125 66.40625 \r\nQ 25.390625 66.40625 21.84375 63.234375 \r\nQ 18.3125 60.0625 18.3125 54.390625 \r\nz\r\n\" id=\"DejaVuSans-56\"/>\r\n      </defs>\r\n      <g transform=\"translate(13.5625 58.286437)scale(0.1 -0.1)\">\r\n       <use xlink:href=\"#DejaVuSans-56\"/>\r\n      </g>\r\n     </g>\r\n    </g>\r\n    <g id=\"ytick_6\">\r\n     <g id=\"line2d_23\">\r\n      <path clip-path=\"url(#p4bc9731b4c)\" d=\"M 26.925 10.999219 \r\nL 361.725 10.999219 \r\n\" style=\"fill:none;stroke:#b0b0b0;stroke-linecap:square;stroke-width:0.8;\"/>\r\n     </g>\r\n     <g id=\"line2d_24\">\r\n      <g>\r\n       <use style=\"stroke:#000000;stroke-width:0.8;\" x=\"26.925\" xlink:href=\"#m4cd0938a4a\" y=\"10.999219\"/>\r\n      </g>\r\n     </g>\r\n     <g id=\"text_12\">\r\n      <!-- 10 -->\r\n      <g transform=\"translate(7.2 14.798437)scale(0.1 -0.1)\">\r\n       <use xlink:href=\"#DejaVuSans-49\"/>\r\n       <use x=\"63.623047\" xlink:href=\"#DejaVuSans-48\"/>\r\n      </g>\r\n     </g>\r\n    </g>\r\n   </g>\r\n   <g id=\"patch_53\">\r\n    <path d=\"M 26.925 228.439219 \r\nL 26.925 10.999219 \r\n\" style=\"fill:none;stroke:#000000;stroke-linecap:square;stroke-linejoin:miter;stroke-width:0.8;\"/>\r\n   </g>\r\n   <g id=\"patch_54\">\r\n    <path d=\"M 361.725 228.439219 \r\nL 361.725 10.999219 \r\n\" style=\"fill:none;stroke:#000000;stroke-linecap:square;stroke-linejoin:miter;stroke-width:0.8;\"/>\r\n   </g>\r\n   <g id=\"patch_55\">\r\n    <path d=\"M 26.925 228.439219 \r\nL 361.725 228.439219 \r\n\" style=\"fill:none;stroke:#000000;stroke-linecap:square;stroke-linejoin:miter;stroke-width:0.8;\"/>\r\n   </g>\r\n   <g id=\"patch_56\">\r\n    <path d=\"M 26.925 10.999219 \r\nL 361.725 10.999219 \r\n\" style=\"fill:none;stroke:#000000;stroke-linecap:square;stroke-linejoin:miter;stroke-width:0.8;\"/>\r\n   </g>\r\n  </g>\r\n </g>\r\n <defs>\r\n  <clipPath id=\"p4bc9731b4c\">\r\n   <rect height=\"217.44\" width=\"334.8\" x=\"26.925\" y=\"10.999219\"/>\r\n  </clipPath>\r\n </defs>\r\n</svg>\r\n",
      "image/png": "[encoded data removed]"
     },
     "metadata": {
      "needs_background": "light"
     }
    }
   ],
   "source": [
    "import matplotlib.pyplot as plt\n",
    "\n",
    "df_stations['latitude'].hist(bins=50)\n",
    "plt.ylim(0, 10)"
   ]
  },
  {
   "cell_type": "code",
   "execution_count": 97,
   "metadata": {},
   "outputs": [
    {
     "output_type": "error",
     "ename": "SyntaxError",
     "evalue": "invalid syntax (<ipython-input-97-05d81de00a25>, line 1)",
     "traceback": [
      "\u001b[1;36m  File \u001b[1;32m\"<ipython-input-97-05d81de00a25>\"\u001b[1;36m, line \u001b[1;32m1\u001b[0m\n\u001b[1;33m    Die erkannten Ausreißer bei 0.0 werden gelöscht.\u001b[0m\n\u001b[1;37m                ^\u001b[0m\n\u001b[1;31mSyntaxError\u001b[0m\u001b[1;31m:\u001b[0m invalid syntax\n"
     ]
    }
   ],
   "source": [
    "Die erkannten Ausreißer bei 0.0 werden gelöscht.\n",
    "Werte von 0.0 werden zunächst rausgefiltert"
   ]
  },
  {
   "cell_type": "code",
   "execution_count": null,
   "metadata": {},
   "outputs": [],
   "source": [
    "vectors = df_stations.loc[(df_stations[\"longitude\"] != 0.0) & (df_stations[\"latitude\"] != 0.0)]"
   ]
  },
  {
   "cell_type": "code",
   "execution_count": 31,
   "metadata": {},
   "outputs": [
    {
     "output_type": "execute_result",
     "data": {
      "text/plain": [
       "(array([7.146e+03, 6.717e+03, 2.426e+03, 0.000e+00, 0.000e+00, 0.000e+00,\n",
       "        0.000e+00, 0.000e+00, 0.000e+00, 0.000e+00, 0.000e+00, 0.000e+00,\n",
       "        0.000e+00, 0.000e+00, 0.000e+00, 0.000e+00, 0.000e+00, 0.000e+00,\n",
       "        0.000e+00, 0.000e+00, 0.000e+00, 0.000e+00, 0.000e+00, 0.000e+00,\n",
       "        0.000e+00, 0.000e+00, 0.000e+00, 0.000e+00, 0.000e+00, 2.000e+00]),\n",
       " array([ 5.901075  ,  8.94982583, 11.99857667, 15.0473275 , 18.09607833,\n",
       "        21.14482917, 24.19358   , 27.24233083, 30.29108167, 33.3398325 ,\n",
       "        36.38858333, 39.43733417, 42.486085  , 45.53483583, 48.58358667,\n",
       "        51.6323375 , 54.68108833, 57.72983917, 60.77859   , 63.82734083,\n",
       "        66.87609167, 69.9248425 , 72.97359333, 76.02234417, 79.071095  ,\n",
       "        82.11984583, 85.16859667, 88.2173475 , 91.26609833, 94.31484917,\n",
       "        97.3636    ]),\n",
       " <a list of 30 Patch objects>)"
      ]
     },
     "metadata": {},
     "execution_count": 31
    },
    {
     "output_type": "display_data",
     "data": {
      "text/plain": "<Figure size 432x288 with 2 Axes>",
      "image/svg+xml": "<?xml version=\"1.0\" encoding=\"utf-8\" standalone=\"no\"?>\r\n<!DOCTYPE svg PUBLIC \"-//W3C//DTD SVG 1.1//EN\"\r\n  \"http://www.w3.org/Graphics/SVG/1.1/DTD/svg11.dtd\">\r\n<!-- Created with matplotlib (https://matplotlib.org/) -->\r\n<svg height=\"248.518125pt\" version=\"1.1\" viewBox=\"0 0 388.264239 248.518125\" width=\"388.264239pt\" xmlns=\"http://www.w3.org/2000/svg\" xmlns:xlink=\"http://www.w3.org/1999/xlink\">\r\n <defs>\r\n  <style type=\"text/css\">\r\n*{stroke-linecap:butt;stroke-linejoin:round;}\r\n  </style>\r\n </defs>\r\n <g id=\"figure_1\">\r\n  <g id=\"patch_1\">\r\n   <path d=\"M -0 248.518125 \r\nL 388.264239 248.518125 \r\nL 388.264239 0 \r\nL -0 0 \r\nz\r\n\" style=\"fill:none;\"/>\r\n  </g>\r\n  <g id=\"axes_1\">\r\n   <g id=\"patch_2\">\r\n    <path d=\"M 39.65 224.64 \r\nL 191.831818 224.64 \r\nL 191.831818 7.2 \r\nL 39.65 7.2 \r\nz\r\n\" style=\"fill:#ffffff;\"/>\r\n   </g>\r\n   <g id=\"patch_3\">\r\n    <path clip-path=\"url(#pb77abf35c4)\" d=\"M 46.567355 224.64 \r\nL 51.178926 224.64 \r\nL 51.178926 200.767889 \r\nL 46.567355 200.767889 \r\nz\r\n\" style=\"fill:#1f77b4;\"/>\r\n   </g>\r\n   <g id=\"patch_4\">\r\n    <path clip-path=\"url(#pb77abf35c4)\" d=\"M 51.178926 224.64 \r\nL 55.790496 224.64 \r\nL 55.790496 149.918351 \r\nL 51.178926 149.918351 \r\nz\r\n\" style=\"fill:#1f77b4;\"/>\r\n   </g>\r\n   <g id=\"patch_5\">\r\n    <path clip-path=\"url(#pb77abf35c4)\" d=\"M 55.790496 224.64 \r\nL 60.402066 224.64 \r\nL 60.402066 118.282951 \r\nL 55.790496 118.282951 \r\nz\r\n\" style=\"fill:#1f77b4;\"/>\r\n   </g>\r\n   <g id=\"patch_6\">\r\n    <path clip-path=\"url(#pb77abf35c4)\" d=\"M 60.402066 224.64 \r\nL 65.013636 224.64 \r\nL 65.013636 109.937416 \r\nL 60.402066 109.937416 \r\nz\r\n\" style=\"fill:#1f77b4;\"/>\r\n   </g>\r\n   <g id=\"patch_7\">\r\n    <path clip-path=\"url(#pb77abf35c4)\" d=\"M 65.013636 224.64 \r\nL 69.625207 224.64 \r\nL 69.625207 118.282951 \r\nL 65.013636 118.282951 \r\nz\r\n\" style=\"fill:#1f77b4;\"/>\r\n   </g>\r\n   <g id=\"patch_8\">\r\n    <path clip-path=\"url(#pb77abf35c4)\" d=\"M 69.625207 224.64 \r\nL 74.236777 224.64 \r\nL 74.236777 79.078345 \r\nL 69.625207 79.078345 \r\nz\r\n\" style=\"fill:#1f77b4;\"/>\r\n   </g>\r\n   <g id=\"patch_9\">\r\n    <path clip-path=\"url(#pb77abf35c4)\" d=\"M 74.236777 224.64 \r\nL 78.848347 224.64 \r\nL 78.848347 122.940924 \r\nL 74.236777 122.940924 \r\nz\r\n\" style=\"fill:#1f77b4;\"/>\r\n   </g>\r\n   <g id=\"patch_10\">\r\n    <path clip-path=\"url(#pb77abf35c4)\" d=\"M 78.848347 224.64 \r\nL 83.459917 224.64 \r\nL 83.459917 87.812044 \r\nL 78.848347 87.812044 \r\nz\r\n\" style=\"fill:#1f77b4;\"/>\r\n   </g>\r\n   <g id=\"patch_11\">\r\n    <path clip-path=\"url(#pb77abf35c4)\" d=\"M 83.459917 224.64 \r\nL 88.071488 224.64 \r\nL 88.071488 101.785963 \r\nL 83.459917 101.785963 \r\nz\r\n\" style=\"fill:#1f77b4;\"/>\r\n   </g>\r\n   <g id=\"patch_12\">\r\n    <path clip-path=\"url(#pb77abf35c4)\" d=\"M 88.071488 224.64 \r\nL 92.683058 224.64 \r\nL 92.683058 123.911335 \r\nL 88.071488 123.911335 \r\nz\r\n\" style=\"fill:#1f77b4;\"/>\r\n   </g>\r\n   <g id=\"patch_13\">\r\n    <path clip-path=\"url(#pb77abf35c4)\" d=\"M 92.683058 224.64 \r\nL 97.294628 224.64 \r\nL 97.294628 88.006127 \r\nL 92.683058 88.006127 \r\nz\r\n\" style=\"fill:#1f77b4;\"/>\r\n   </g>\r\n   <g id=\"patch_14\">\r\n    <path clip-path=\"url(#pb77abf35c4)\" d=\"M 97.294628 224.64 \r\nL 101.906198 224.64 \r\nL 101.906198 128.569308 \r\nL 97.294628 128.569308 \r\nz\r\n\" style=\"fill:#1f77b4;\"/>\r\n   </g>\r\n   <g id=\"patch_15\">\r\n    <path clip-path=\"url(#pb77abf35c4)\" d=\"M 101.906198 224.64 \r\nL 106.517769 224.64 \r\nL 106.517769 113.81906 \r\nL 101.906198 113.81906 \r\nz\r\n\" style=\"fill:#1f77b4;\"/>\r\n   </g>\r\n   <g id=\"patch_16\">\r\n    <path clip-path=\"url(#pb77abf35c4)\" d=\"M 106.517769 224.64 \r\nL 111.129339 224.64 \r\nL 111.129339 35.992095 \r\nL 106.517769 35.992095 \r\nz\r\n\" style=\"fill:#1f77b4;\"/>\r\n   </g>\r\n   <g id=\"patch_17\">\r\n    <path clip-path=\"url(#pb77abf35c4)\" d=\"M 111.129339 224.64 \r\nL 115.740909 224.64 \r\nL 115.740909 41.232315 \r\nL 111.129339 41.232315 \r\nz\r\n\" style=\"fill:#1f77b4;\"/>\r\n   </g>\r\n   <g id=\"patch_18\">\r\n    <path clip-path=\"url(#pb77abf35c4)\" d=\"M 115.740909 224.64 \r\nL 120.352479 224.64 \r\nL 120.352479 17.554286 \r\nL 115.740909 17.554286 \r\nz\r\n\" style=\"fill:#1f77b4;\"/>\r\n   </g>\r\n   <g id=\"patch_19\">\r\n    <path clip-path=\"url(#pb77abf35c4)\" d=\"M 120.352479 224.64 \r\nL 124.96405 224.64 \r\nL 124.96405 29.005136 \r\nL 120.352479 29.005136 \r\nz\r\n\" style=\"fill:#1f77b4;\"/>\r\n   </g>\r\n   <g id=\"patch_20\">\r\n    <path clip-path=\"url(#pb77abf35c4)\" d=\"M 124.96405 224.64 \r\nL 129.57562 224.64 \r\nL 129.57562 96.739826 \r\nL 124.96405 96.739826 \r\nz\r\n\" style=\"fill:#1f77b4;\"/>\r\n   </g>\r\n   <g id=\"patch_21\">\r\n    <path clip-path=\"url(#pb77abf35c4)\" d=\"M 129.57562 224.64 \r\nL 134.18719 224.64 \r\nL 134.18719 98.486566 \r\nL 129.57562 98.486566 \r\nz\r\n\" style=\"fill:#1f77b4;\"/>\r\n   </g>\r\n   <g id=\"patch_22\">\r\n    <path clip-path=\"url(#pb77abf35c4)\" d=\"M 134.18719 224.64 \r\nL 138.79876 224.64 \r\nL 138.79876 58.699713 \r\nL 134.18719 58.699713 \r\nz\r\n\" style=\"fill:#1f77b4;\"/>\r\n   </g>\r\n   <g id=\"patch_23\">\r\n    <path clip-path=\"url(#pb77abf35c4)\" d=\"M 138.79876 224.64 \r\nL 143.410331 224.64 \r\nL 143.410331 109.937416 \r\nL 138.79876 109.937416 \r\nz\r\n\" style=\"fill:#1f77b4;\"/>\r\n   </g>\r\n   <g id=\"patch_24\">\r\n    <path clip-path=\"url(#pb77abf35c4)\" d=\"M 143.410331 224.64 \r\nL 148.021901 224.64 \r\nL 148.021901 163.504105 \r\nL 143.410331 163.504105 \r\nz\r\n\" style=\"fill:#1f77b4;\"/>\r\n   </g>\r\n   <g id=\"patch_25\">\r\n    <path clip-path=\"url(#pb77abf35c4)\" d=\"M 148.021901 224.64 \r\nL 152.633471 224.64 \r\nL 152.633471 139.437911 \r\nL 148.021901 139.437911 \r\nz\r\n\" style=\"fill:#1f77b4;\"/>\r\n   </g>\r\n   <g id=\"patch_26\">\r\n    <path clip-path=\"url(#pb77abf35c4)\" d=\"M 152.633471 224.64 \r\nL 157.245041 224.64 \r\nL 157.245041 153.217748 \r\nL 152.633471 153.217748 \r\nz\r\n\" style=\"fill:#1f77b4;\"/>\r\n   </g>\r\n   <g id=\"patch_27\">\r\n    <path clip-path=\"url(#pb77abf35c4)\" d=\"M 157.245041 224.64 \r\nL 161.856612 224.64 \r\nL 161.856612 114.595389 \r\nL 157.245041 114.595389 \r\nz\r\n\" style=\"fill:#1f77b4;\"/>\r\n   </g>\r\n   <g id=\"patch_28\">\r\n    <path clip-path=\"url(#pb77abf35c4)\" d=\"M 161.856612 224.64 \r\nL 166.468182 224.64 \r\nL 166.468182 173.208215 \r\nL 161.856612 173.208215 \r\nz\r\n\" style=\"fill:#1f77b4;\"/>\r\n   </g>\r\n   <g id=\"patch_29\">\r\n    <path clip-path=\"url(#pb77abf35c4)\" d=\"M 166.468182 224.64 \r\nL 171.079752 224.64 \r\nL 171.079752 184.659065 \r\nL 166.468182 184.659065 \r\nz\r\n\" style=\"fill:#1f77b4;\"/>\r\n   </g>\r\n   <g id=\"patch_30\">\r\n    <path clip-path=\"url(#pb77abf35c4)\" d=\"M 171.079752 224.64 \r\nL 175.691322 224.64 \r\nL 175.691322 190.093367 \r\nL 171.079752 190.093367 \r\nz\r\n\" style=\"fill:#1f77b4;\"/>\r\n   </g>\r\n   <g id=\"patch_31\">\r\n    <path clip-path=\"url(#pb77abf35c4)\" d=\"M 175.691322 224.64 \r\nL 180.302893 224.64 \r\nL 180.302893 212.024657 \r\nL 175.691322 212.024657 \r\nz\r\n\" style=\"fill:#1f77b4;\"/>\r\n   </g>\r\n   <g id=\"patch_32\">\r\n    <path clip-path=\"url(#pb77abf35c4)\" d=\"M 180.302893 224.64 \r\nL 184.914463 224.64 \r\nL 184.914463 215.906301 \r\nL 180.302893 215.906301 \r\nz\r\n\" style=\"fill:#1f77b4;\"/>\r\n   </g>\r\n   <g id=\"matplotlib.axis_1\">\r\n    <g id=\"xtick_1\">\r\n     <g id=\"line2d_1\">\r\n      <defs>\r\n       <path d=\"M 0 0 \r\nL 0 3.5 \r\n\" id=\"ma7271b5336\" style=\"stroke:#000000;stroke-width:0.8;\"/>\r\n      </defs>\r\n      <g>\r\n       <use style=\"stroke:#000000;stroke-width:0.8;\" x=\"57.473828\" xlink:href=\"#ma7271b5336\" y=\"224.64\"/>\r\n      </g>\r\n     </g>\r\n     <g id=\"text_1\">\r\n      <!-- 48 -->\r\n      <defs>\r\n       <path d=\"M 37.796875 64.3125 \r\nL 12.890625 25.390625 \r\nL 37.796875 25.390625 \r\nz\r\nM 35.203125 72.90625 \r\nL 47.609375 72.90625 \r\nL 47.609375 25.390625 \r\nL 58.015625 25.390625 \r\nL 58.015625 17.1875 \r\nL 47.609375 17.1875 \r\nL 47.609375 0 \r\nL 37.796875 0 \r\nL 37.796875 17.1875 \r\nL 4.890625 17.1875 \r\nL 4.890625 26.703125 \r\nz\r\n\" id=\"DejaVuSans-52\"/>\r\n       <path d=\"M 31.78125 34.625 \r\nQ 24.75 34.625 20.71875 30.859375 \r\nQ 16.703125 27.09375 16.703125 20.515625 \r\nQ 16.703125 13.921875 20.71875 10.15625 \r\nQ 24.75 6.390625 31.78125 6.390625 \r\nQ 38.8125 6.390625 42.859375 10.171875 \r\nQ 46.921875 13.96875 46.921875 20.515625 \r\nQ 46.921875 27.09375 42.890625 30.859375 \r\nQ 38.875 34.625 31.78125 34.625 \r\nz\r\nM 21.921875 38.8125 \r\nQ 15.578125 40.375 12.03125 44.71875 \r\nQ 8.5 49.078125 8.5 55.328125 \r\nQ 8.5 64.0625 14.71875 69.140625 \r\nQ 20.953125 74.21875 31.78125 74.21875 \r\nQ 42.671875 74.21875 48.875 69.140625 \r\nQ 55.078125 64.0625 55.078125 55.328125 \r\nQ 55.078125 49.078125 51.53125 44.71875 \r\nQ 48 40.375 41.703125 38.8125 \r\nQ 48.828125 37.15625 52.796875 32.3125 \r\nQ 56.78125 27.484375 56.78125 20.515625 \r\nQ 56.78125 9.90625 50.3125 4.234375 \r\nQ 43.84375 -1.421875 31.78125 -1.421875 \r\nQ 19.734375 -1.421875 13.25 4.234375 \r\nQ 6.78125 9.90625 6.78125 20.515625 \r\nQ 6.78125 27.484375 10.78125 32.3125 \r\nQ 14.796875 37.15625 21.921875 38.8125 \r\nz\r\nM 18.3125 54.390625 \r\nQ 18.3125 48.734375 21.84375 45.5625 \r\nQ 25.390625 42.390625 31.78125 42.390625 \r\nQ 38.140625 42.390625 41.71875 45.5625 \r\nQ 45.3125 48.734375 45.3125 54.390625 \r\nQ 45.3125 60.0625 41.71875 63.234375 \r\nQ 38.140625 66.40625 31.78125 66.40625 \r\nQ 25.390625 66.40625 21.84375 63.234375 \r\nQ 18.3125 60.0625 18.3125 54.390625 \r\nz\r\n\" id=\"DejaVuSans-56\"/>\r\n      </defs>\r\n      <g transform=\"translate(51.111328 239.238438)scale(0.1 -0.1)\">\r\n       <use xlink:href=\"#DejaVuSans-52\"/>\r\n       <use x=\"63.623047\" xlink:href=\"#DejaVuSans-56\"/>\r\n      </g>\r\n     </g>\r\n    </g>\r\n    <g id=\"xtick_2\">\r\n     <g id=\"line2d_2\">\r\n      <g>\r\n       <use style=\"stroke:#000000;stroke-width:0.8;\" x=\"93.802702\" xlink:href=\"#ma7271b5336\" y=\"224.64\"/>\r\n      </g>\r\n     </g>\r\n     <g id=\"text_2\">\r\n      <!-- 50 -->\r\n      <defs>\r\n       <path d=\"M 10.796875 72.90625 \r\nL 49.515625 72.90625 \r\nL 49.515625 64.59375 \r\nL 19.828125 64.59375 \r\nL 19.828125 46.734375 \r\nQ 21.96875 47.46875 24.109375 47.828125 \r\nQ 26.265625 48.1875 28.421875 48.1875 \r\nQ 40.625 48.1875 47.75 41.5 \r\nQ 54.890625 34.8125 54.890625 23.390625 \r\nQ 54.890625 11.625 47.5625 5.09375 \r\nQ 40.234375 -1.421875 26.90625 -1.421875 \r\nQ 22.3125 -1.421875 17.546875 -0.640625 \r\nQ 12.796875 0.140625 7.71875 1.703125 \r\nL 7.71875 11.625 \r\nQ 12.109375 9.234375 16.796875 8.0625 \r\nQ 21.484375 6.890625 26.703125 6.890625 \r\nQ 35.15625 6.890625 40.078125 11.328125 \r\nQ 45.015625 15.765625 45.015625 23.390625 \r\nQ 45.015625 31 40.078125 35.4375 \r\nQ 35.15625 39.890625 26.703125 39.890625 \r\nQ 22.75 39.890625 18.8125 39.015625 \r\nQ 14.890625 38.140625 10.796875 36.28125 \r\nz\r\n\" id=\"DejaVuSans-53\"/>\r\n       <path d=\"M 31.78125 66.40625 \r\nQ 24.171875 66.40625 20.328125 58.90625 \r\nQ 16.5 51.421875 16.5 36.375 \r\nQ 16.5 21.390625 20.328125 13.890625 \r\nQ 24.171875 6.390625 31.78125 6.390625 \r\nQ 39.453125 6.390625 43.28125 13.890625 \r\nQ 47.125 21.390625 47.125 36.375 \r\nQ 47.125 51.421875 43.28125 58.90625 \r\nQ 39.453125 66.40625 31.78125 66.40625 \r\nz\r\nM 31.78125 74.21875 \r\nQ 44.046875 74.21875 50.515625 64.515625 \r\nQ 56.984375 54.828125 56.984375 36.375 \r\nQ 56.984375 17.96875 50.515625 8.265625 \r\nQ 44.046875 -1.421875 31.78125 -1.421875 \r\nQ 19.53125 -1.421875 13.0625 8.265625 \r\nQ 6.59375 17.96875 6.59375 36.375 \r\nQ 6.59375 54.828125 13.0625 64.515625 \r\nQ 19.53125 74.21875 31.78125 74.21875 \r\nz\r\n\" id=\"DejaVuSans-48\"/>\r\n      </defs>\r\n      <g transform=\"translate(87.440202 239.238438)scale(0.1 -0.1)\">\r\n       <use xlink:href=\"#DejaVuSans-53\"/>\r\n       <use x=\"63.623047\" xlink:href=\"#DejaVuSans-48\"/>\r\n      </g>\r\n     </g>\r\n    </g>\r\n    <g id=\"xtick_3\">\r\n     <g id=\"line2d_3\">\r\n      <g>\r\n       <use style=\"stroke:#000000;stroke-width:0.8;\" x=\"130.131575\" xlink:href=\"#ma7271b5336\" y=\"224.64\"/>\r\n      </g>\r\n     </g>\r\n     <g id=\"text_3\">\r\n      <!-- 52 -->\r\n      <defs>\r\n       <path d=\"M 19.1875 8.296875 \r\nL 53.609375 8.296875 \r\nL 53.609375 0 \r\nL 7.328125 0 \r\nL 7.328125 8.296875 \r\nQ 12.9375 14.109375 22.625 23.890625 \r\nQ 32.328125 33.6875 34.8125 36.53125 \r\nQ 39.546875 41.84375 41.421875 45.53125 \r\nQ 43.3125 49.21875 43.3125 52.78125 \r\nQ 43.3125 58.59375 39.234375 62.25 \r\nQ 35.15625 65.921875 28.609375 65.921875 \r\nQ 23.96875 65.921875 18.8125 64.3125 \r\nQ 13.671875 62.703125 7.8125 59.421875 \r\nL 7.8125 69.390625 \r\nQ 13.765625 71.78125 18.9375 73 \r\nQ 24.125 74.21875 28.421875 74.21875 \r\nQ 39.75 74.21875 46.484375 68.546875 \r\nQ 53.21875 62.890625 53.21875 53.421875 \r\nQ 53.21875 48.921875 51.53125 44.890625 \r\nQ 49.859375 40.875 45.40625 35.40625 \r\nQ 44.1875 33.984375 37.640625 27.21875 \r\nQ 31.109375 20.453125 19.1875 8.296875 \r\nz\r\n\" id=\"DejaVuSans-50\"/>\r\n      </defs>\r\n      <g transform=\"translate(123.769075 239.238438)scale(0.1 -0.1)\">\r\n       <use xlink:href=\"#DejaVuSans-53\"/>\r\n       <use x=\"63.623047\" xlink:href=\"#DejaVuSans-50\"/>\r\n      </g>\r\n     </g>\r\n    </g>\r\n    <g id=\"xtick_4\">\r\n     <g id=\"line2d_4\">\r\n      <g>\r\n       <use style=\"stroke:#000000;stroke-width:0.8;\" x=\"166.460449\" xlink:href=\"#ma7271b5336\" y=\"224.64\"/>\r\n      </g>\r\n     </g>\r\n     <g id=\"text_4\">\r\n      <!-- 54 -->\r\n      <g transform=\"translate(160.097949 239.238438)scale(0.1 -0.1)\">\r\n       <use xlink:href=\"#DejaVuSans-53\"/>\r\n       <use x=\"63.623047\" xlink:href=\"#DejaVuSans-52\"/>\r\n      </g>\r\n     </g>\r\n    </g>\r\n   </g>\r\n   <g id=\"matplotlib.axis_2\">\r\n    <g id=\"ytick_1\">\r\n     <g id=\"line2d_5\">\r\n      <defs>\r\n       <path d=\"M 0 0 \r\nL -3.5 0 \r\n\" id=\"m82868ac157\" style=\"stroke:#000000;stroke-width:0.8;\"/>\r\n      </defs>\r\n      <g>\r\n       <use style=\"stroke:#000000;stroke-width:0.8;\" x=\"39.65\" xlink:href=\"#m82868ac157\" y=\"224.64\"/>\r\n      </g>\r\n     </g>\r\n     <g id=\"text_5\">\r\n      <!-- 0 -->\r\n      <g transform=\"translate(26.2875 228.439219)scale(0.1 -0.1)\">\r\n       <use xlink:href=\"#DejaVuSans-48\"/>\r\n      </g>\r\n     </g>\r\n    </g>\r\n    <g id=\"ytick_2\">\r\n     <g id=\"line2d_6\">\r\n      <g>\r\n       <use style=\"stroke:#000000;stroke-width:0.8;\" x=\"39.65\" xlink:href=\"#m82868ac157\" y=\"185.823559\"/>\r\n      </g>\r\n     </g>\r\n     <g id=\"text_6\">\r\n      <!-- 200 -->\r\n      <g transform=\"translate(13.5625 189.622777)scale(0.1 -0.1)\">\r\n       <use xlink:href=\"#DejaVuSans-50\"/>\r\n       <use x=\"63.623047\" xlink:href=\"#DejaVuSans-48\"/>\r\n       <use x=\"127.246094\" xlink:href=\"#DejaVuSans-48\"/>\r\n      </g>\r\n     </g>\r\n    </g>\r\n    <g id=\"ytick_3\">\r\n     <g id=\"line2d_7\">\r\n      <g>\r\n       <use style=\"stroke:#000000;stroke-width:0.8;\" x=\"39.65\" xlink:href=\"#m82868ac157\" y=\"147.007117\"/>\r\n      </g>\r\n     </g>\r\n     <g id=\"text_7\">\r\n      <!-- 400 -->\r\n      <g transform=\"translate(13.5625 150.806336)scale(0.1 -0.1)\">\r\n       <use xlink:href=\"#DejaVuSans-52\"/>\r\n       <use x=\"63.623047\" xlink:href=\"#DejaVuSans-48\"/>\r\n       <use x=\"127.246094\" xlink:href=\"#DejaVuSans-48\"/>\r\n      </g>\r\n     </g>\r\n    </g>\r\n    <g id=\"ytick_4\">\r\n     <g id=\"line2d_8\">\r\n      <g>\r\n       <use style=\"stroke:#000000;stroke-width:0.8;\" x=\"39.65\" xlink:href=\"#m82868ac157\" y=\"108.190676\"/>\r\n      </g>\r\n     </g>\r\n     <g id=\"text_8\">\r\n      <!-- 600 -->\r\n      <defs>\r\n       <path d=\"M 33.015625 40.375 \r\nQ 26.375 40.375 22.484375 35.828125 \r\nQ 18.609375 31.296875 18.609375 23.390625 \r\nQ 18.609375 15.53125 22.484375 10.953125 \r\nQ 26.375 6.390625 33.015625 6.390625 \r\nQ 39.65625 6.390625 43.53125 10.953125 \r\nQ 47.40625 15.53125 47.40625 23.390625 \r\nQ 47.40625 31.296875 43.53125 35.828125 \r\nQ 39.65625 40.375 33.015625 40.375 \r\nz\r\nM 52.59375 71.296875 \r\nL 52.59375 62.3125 \r\nQ 48.875 64.0625 45.09375 64.984375 \r\nQ 41.3125 65.921875 37.59375 65.921875 \r\nQ 27.828125 65.921875 22.671875 59.328125 \r\nQ 17.53125 52.734375 16.796875 39.40625 \r\nQ 19.671875 43.65625 24.015625 45.921875 \r\nQ 28.375 48.1875 33.59375 48.1875 \r\nQ 44.578125 48.1875 50.953125 41.515625 \r\nQ 57.328125 34.859375 57.328125 23.390625 \r\nQ 57.328125 12.15625 50.6875 5.359375 \r\nQ 44.046875 -1.421875 33.015625 -1.421875 \r\nQ 20.359375 -1.421875 13.671875 8.265625 \r\nQ 6.984375 17.96875 6.984375 36.375 \r\nQ 6.984375 53.65625 15.1875 63.9375 \r\nQ 23.390625 74.21875 37.203125 74.21875 \r\nQ 40.921875 74.21875 44.703125 73.484375 \r\nQ 48.484375 72.75 52.59375 71.296875 \r\nz\r\n\" id=\"DejaVuSans-54\"/>\r\n      </defs>\r\n      <g transform=\"translate(13.5625 111.989895)scale(0.1 -0.1)\">\r\n       <use xlink:href=\"#DejaVuSans-54\"/>\r\n       <use x=\"63.623047\" xlink:href=\"#DejaVuSans-48\"/>\r\n       <use x=\"127.246094\" xlink:href=\"#DejaVuSans-48\"/>\r\n      </g>\r\n     </g>\r\n    </g>\r\n    <g id=\"ytick_5\">\r\n     <g id=\"line2d_9\">\r\n      <g>\r\n       <use style=\"stroke:#000000;stroke-width:0.8;\" x=\"39.65\" xlink:href=\"#m82868ac157\" y=\"69.374235\"/>\r\n      </g>\r\n     </g>\r\n     <g id=\"text_9\">\r\n      <!-- 800 -->\r\n      <g transform=\"translate(13.5625 73.173454)scale(0.1 -0.1)\">\r\n       <use xlink:href=\"#DejaVuSans-56\"/>\r\n       <use x=\"63.623047\" xlink:href=\"#DejaVuSans-48\"/>\r\n       <use x=\"127.246094\" xlink:href=\"#DejaVuSans-48\"/>\r\n      </g>\r\n     </g>\r\n    </g>\r\n    <g id=\"ytick_6\">\r\n     <g id=\"line2d_10\">\r\n      <g>\r\n       <use style=\"stroke:#000000;stroke-width:0.8;\" x=\"39.65\" xlink:href=\"#m82868ac157\" y=\"30.557794\"/>\r\n      </g>\r\n     </g>\r\n     <g id=\"text_10\">\r\n      <!-- 1000 -->\r\n      <defs>\r\n       <path d=\"M 12.40625 8.296875 \r\nL 28.515625 8.296875 \r\nL 28.515625 63.921875 \r\nL 10.984375 60.40625 \r\nL 10.984375 69.390625 \r\nL 28.421875 72.90625 \r\nL 38.28125 72.90625 \r\nL 38.28125 8.296875 \r\nL 54.390625 8.296875 \r\nL 54.390625 0 \r\nL 12.40625 0 \r\nz\r\n\" id=\"DejaVuSans-49\"/>\r\n      </defs>\r\n      <g transform=\"translate(7.2 34.357012)scale(0.1 -0.1)\">\r\n       <use xlink:href=\"#DejaVuSans-49\"/>\r\n       <use x=\"63.623047\" xlink:href=\"#DejaVuSans-48\"/>\r\n       <use x=\"127.246094\" xlink:href=\"#DejaVuSans-48\"/>\r\n       <use x=\"190.869141\" xlink:href=\"#DejaVuSans-48\"/>\r\n      </g>\r\n     </g>\r\n    </g>\r\n   </g>\r\n   <g id=\"patch_33\">\r\n    <path d=\"M 39.65 224.64 \r\nL 39.65 7.2 \r\n\" style=\"fill:none;stroke:#000000;stroke-linecap:square;stroke-linejoin:miter;stroke-width:0.8;\"/>\r\n   </g>\r\n   <g id=\"patch_34\">\r\n    <path d=\"M 191.831818 224.64 \r\nL 191.831818 7.2 \r\n\" style=\"fill:none;stroke:#000000;stroke-linecap:square;stroke-linejoin:miter;stroke-width:0.8;\"/>\r\n   </g>\r\n   <g id=\"patch_35\">\r\n    <path d=\"M 39.65 224.64 \r\nL 191.831818 224.64 \r\n\" style=\"fill:none;stroke:#000000;stroke-linecap:square;stroke-linejoin:miter;stroke-width:0.8;\"/>\r\n   </g>\r\n   <g id=\"patch_36\">\r\n    <path d=\"M 39.65 7.2 \r\nL 191.831818 7.2 \r\n\" style=\"fill:none;stroke:#000000;stroke-linecap:square;stroke-linejoin:miter;stroke-width:0.8;\"/>\r\n   </g>\r\n  </g>\r\n  <g id=\"axes_2\">\r\n   <g id=\"patch_37\">\r\n    <path d=\"M 222.268182 224.64 \r\nL 374.45 224.64 \r\nL 374.45 7.2 \r\nL 222.268182 7.2 \r\nz\r\n\" style=\"fill:#ffffff;\"/>\r\n   </g>\r\n   <g id=\"patch_38\">\r\n    <path clip-path=\"url(#p95eb99119f)\" d=\"M 229.185537 224.64 \r\nL 233.797107 224.64 \r\nL 233.797107 17.554286 \r\nL 229.185537 17.554286 \r\nz\r\n\" style=\"fill:#1f77b4;\"/>\r\n   </g>\r\n   <g id=\"patch_39\">\r\n    <path clip-path=\"url(#p95eb99119f)\" d=\"M 233.797107 224.64 \r\nL 238.408678 224.64 \r\nL 238.408678 29.986384 \r\nL 233.797107 29.986384 \r\nz\r\n\" style=\"fill:#1f77b4;\"/>\r\n   </g>\r\n   <g id=\"patch_40\">\r\n    <path clip-path=\"url(#p95eb99119f)\" d=\"M 238.408678 224.64 \r\nL 243.020248 224.64 \r\nL 243.020248 154.336342 \r\nL 238.408678 154.336342 \r\nz\r\n\" style=\"fill:#1f77b4;\"/>\r\n   </g>\r\n   <g id=\"patch_41\">\r\n    <path clip-path=\"url(#p95eb99119f)\" d=\"M 243.020248 224.64 \r\nL 247.631818 224.64 \r\nL 247.631818 224.64 \r\nL 243.020248 224.64 \r\nz\r\n\" style=\"fill:#1f77b4;\"/>\r\n   </g>\r\n   <g id=\"patch_42\">\r\n    <path clip-path=\"url(#p95eb99119f)\" d=\"M 247.631818 224.64 \r\nL 252.243388 224.64 \r\nL 252.243388 224.64 \r\nL 247.631818 224.64 \r\nz\r\n\" style=\"fill:#1f77b4;\"/>\r\n   </g>\r\n   <g id=\"patch_43\">\r\n    <path clip-path=\"url(#p95eb99119f)\" d=\"M 252.243388 224.64 \r\nL 256.854959 224.64 \r\nL 256.854959 224.64 \r\nL 252.243388 224.64 \r\nz\r\n\" style=\"fill:#1f77b4;\"/>\r\n   </g>\r\n   <g id=\"patch_44\">\r\n    <path clip-path=\"url(#p95eb99119f)\" d=\"M 256.854959 224.64 \r\nL 261.466529 224.64 \r\nL 261.466529 224.64 \r\nL 256.854959 224.64 \r\nz\r\n\" style=\"fill:#1f77b4;\"/>\r\n   </g>\r\n   <g id=\"patch_45\">\r\n    <path clip-path=\"url(#p95eb99119f)\" d=\"M 261.466529 224.64 \r\nL 266.078099 224.64 \r\nL 266.078099 224.64 \r\nL 261.466529 224.64 \r\nz\r\n\" style=\"fill:#1f77b4;\"/>\r\n   </g>\r\n   <g id=\"patch_46\">\r\n    <path clip-path=\"url(#p95eb99119f)\" d=\"M 266.078099 224.64 \r\nL 270.689669 224.64 \r\nL 270.689669 224.64 \r\nL 266.078099 224.64 \r\nz\r\n\" style=\"fill:#1f77b4;\"/>\r\n   </g>\r\n   <g id=\"patch_47\">\r\n    <path clip-path=\"url(#p95eb99119f)\" d=\"M 270.689669 224.64 \r\nL 275.30124 224.64 \r\nL 275.30124 224.64 \r\nL 270.689669 224.64 \r\nz\r\n\" style=\"fill:#1f77b4;\"/>\r\n   </g>\r\n   <g id=\"patch_48\">\r\n    <path clip-path=\"url(#p95eb99119f)\" d=\"M 275.30124 224.64 \r\nL 279.91281 224.64 \r\nL 279.91281 224.64 \r\nL 275.30124 224.64 \r\nz\r\n\" style=\"fill:#1f77b4;\"/>\r\n   </g>\r\n   <g id=\"patch_49\">\r\n    <path clip-path=\"url(#p95eb99119f)\" d=\"M 279.91281 224.64 \r\nL 284.52438 224.64 \r\nL 284.52438 224.64 \r\nL 279.91281 224.64 \r\nz\r\n\" style=\"fill:#1f77b4;\"/>\r\n   </g>\r\n   <g id=\"patch_50\">\r\n    <path clip-path=\"url(#p95eb99119f)\" d=\"M 284.52438 224.64 \r\nL 289.13595 224.64 \r\nL 289.13595 224.64 \r\nL 284.52438 224.64 \r\nz\r\n\" style=\"fill:#1f77b4;\"/>\r\n   </g>\r\n   <g id=\"patch_51\">\r\n    <path clip-path=\"url(#p95eb99119f)\" d=\"M 289.13595 224.64 \r\nL 293.747521 224.64 \r\nL 293.747521 224.64 \r\nL 289.13595 224.64 \r\nz\r\n\" style=\"fill:#1f77b4;\"/>\r\n   </g>\r\n   <g id=\"patch_52\">\r\n    <path clip-path=\"url(#p95eb99119f)\" d=\"M 293.747521 224.64 \r\nL 298.359091 224.64 \r\nL 298.359091 224.64 \r\nL 293.747521 224.64 \r\nz\r\n\" style=\"fill:#1f77b4;\"/>\r\n   </g>\r\n   <g id=\"patch_53\">\r\n    <path clip-path=\"url(#p95eb99119f)\" d=\"M 298.359091 224.64 \r\nL 302.970661 224.64 \r\nL 302.970661 224.64 \r\nL 298.359091 224.64 \r\nz\r\n\" style=\"fill:#1f77b4;\"/>\r\n   </g>\r\n   <g id=\"patch_54\">\r\n    <path clip-path=\"url(#p95eb99119f)\" d=\"M 302.970661 224.64 \r\nL 307.582231 224.64 \r\nL 307.582231 224.64 \r\nL 302.970661 224.64 \r\nz\r\n\" style=\"fill:#1f77b4;\"/>\r\n   </g>\r\n   <g id=\"patch_55\">\r\n    <path clip-path=\"url(#p95eb99119f)\" d=\"M 307.582231 224.64 \r\nL 312.193802 224.64 \r\nL 312.193802 224.64 \r\nL 307.582231 224.64 \r\nz\r\n\" style=\"fill:#1f77b4;\"/>\r\n   </g>\r\n   <g id=\"patch_56\">\r\n    <path clip-path=\"url(#p95eb99119f)\" d=\"M 312.193802 224.64 \r\nL 316.805372 224.64 \r\nL 316.805372 224.64 \r\nL 312.193802 224.64 \r\nz\r\n\" style=\"fill:#1f77b4;\"/>\r\n   </g>\r\n   <g id=\"patch_57\">\r\n    <path clip-path=\"url(#p95eb99119f)\" d=\"M 316.805372 224.64 \r\nL 321.416942 224.64 \r\nL 321.416942 224.64 \r\nL 316.805372 224.64 \r\nz\r\n\" style=\"fill:#1f77b4;\"/>\r\n   </g>\r\n   <g id=\"patch_58\">\r\n    <path clip-path=\"url(#p95eb99119f)\" d=\"M 321.416942 224.64 \r\nL 326.028512 224.64 \r\nL 326.028512 224.64 \r\nL 321.416942 224.64 \r\nz\r\n\" style=\"fill:#1f77b4;\"/>\r\n   </g>\r\n   <g id=\"patch_59\">\r\n    <path clip-path=\"url(#p95eb99119f)\" d=\"M 326.028512 224.64 \r\nL 330.640083 224.64 \r\nL 330.640083 224.64 \r\nL 326.028512 224.64 \r\nz\r\n\" style=\"fill:#1f77b4;\"/>\r\n   </g>\r\n   <g id=\"patch_60\">\r\n    <path clip-path=\"url(#p95eb99119f)\" d=\"M 330.640083 224.64 \r\nL 335.251653 224.64 \r\nL 335.251653 224.64 \r\nL 330.640083 224.64 \r\nz\r\n\" style=\"fill:#1f77b4;\"/>\r\n   </g>\r\n   <g id=\"patch_61\">\r\n    <path clip-path=\"url(#p95eb99119f)\" d=\"M 335.251653 224.64 \r\nL 339.863223 224.64 \r\nL 339.863223 224.64 \r\nL 335.251653 224.64 \r\nz\r\n\" style=\"fill:#1f77b4;\"/>\r\n   </g>\r\n   <g id=\"patch_62\">\r\n    <path clip-path=\"url(#p95eb99119f)\" d=\"M 339.863223 224.64 \r\nL 344.474793 224.64 \r\nL 344.474793 224.64 \r\nL 339.863223 224.64 \r\nz\r\n\" style=\"fill:#1f77b4;\"/>\r\n   </g>\r\n   <g id=\"patch_63\">\r\n    <path clip-path=\"url(#p95eb99119f)\" d=\"M 344.474793 224.64 \r\nL 349.086364 224.64 \r\nL 349.086364 224.64 \r\nL 344.474793 224.64 \r\nz\r\n\" style=\"fill:#1f77b4;\"/>\r\n   </g>\r\n   <g id=\"patch_64\">\r\n    <path clip-path=\"url(#p95eb99119f)\" d=\"M 349.086364 224.64 \r\nL 353.697934 224.64 \r\nL 353.697934 224.64 \r\nL 349.086364 224.64 \r\nz\r\n\" style=\"fill:#1f77b4;\"/>\r\n   </g>\r\n   <g id=\"patch_65\">\r\n    <path clip-path=\"url(#p95eb99119f)\" d=\"M 353.697934 224.64 \r\nL 358.309504 224.64 \r\nL 358.309504 224.64 \r\nL 353.697934 224.64 \r\nz\r\n\" style=\"fill:#1f77b4;\"/>\r\n   </g>\r\n   <g id=\"patch_66\">\r\n    <path clip-path=\"url(#p95eb99119f)\" d=\"M 358.309504 224.64 \r\nL 362.921074 224.64 \r\nL 362.921074 224.64 \r\nL 358.309504 224.64 \r\nz\r\n\" style=\"fill:#1f77b4;\"/>\r\n   </g>\r\n   <g id=\"patch_67\">\r\n    <path clip-path=\"url(#p95eb99119f)\" d=\"M 362.921074 224.64 \r\nL 367.532645 224.64 \r\nL 367.532645 224.582042 \r\nL 362.921074 224.582042 \r\nz\r\n\" style=\"fill:#1f77b4;\"/>\r\n   </g>\r\n   <g id=\"matplotlib.axis_3\">\r\n    <g id=\"xtick_5\">\r\n     <g id=\"line2d_11\">\r\n      <g>\r\n       <use style=\"stroke:#000000;stroke-width:0.8;\" x=\"258.074757\" xlink:href=\"#ma7271b5336\" y=\"224.64\"/>\r\n      </g>\r\n     </g>\r\n     <g id=\"text_11\">\r\n      <!-- 25 -->\r\n      <g transform=\"translate(251.712257 239.238438)scale(0.1 -0.1)\">\r\n       <use xlink:href=\"#DejaVuSans-50\"/>\r\n       <use x=\"63.623047\" xlink:href=\"#DejaVuSans-53\"/>\r\n      </g>\r\n     </g>\r\n    </g>\r\n    <g id=\"xtick_6\">\r\n     <g id=\"line2d_12\">\r\n      <g>\r\n       <use style=\"stroke:#000000;stroke-width:0.8;\" x=\"295.890001\" xlink:href=\"#ma7271b5336\" y=\"224.64\"/>\r\n      </g>\r\n     </g>\r\n     <g id=\"text_12\">\r\n      <!-- 50 -->\r\n      <g transform=\"translate(289.527501 239.238438)scale(0.1 -0.1)\">\r\n       <use xlink:href=\"#DejaVuSans-53\"/>\r\n       <use x=\"63.623047\" xlink:href=\"#DejaVuSans-48\"/>\r\n      </g>\r\n     </g>\r\n    </g>\r\n    <g id=\"xtick_7\">\r\n     <g id=\"line2d_13\">\r\n      <g>\r\n       <use style=\"stroke:#000000;stroke-width:0.8;\" x=\"333.705245\" xlink:href=\"#ma7271b5336\" y=\"224.64\"/>\r\n      </g>\r\n     </g>\r\n     <g id=\"text_13\">\r\n      <!-- 75 -->\r\n      <defs>\r\n       <path d=\"M 8.203125 72.90625 \r\nL 55.078125 72.90625 \r\nL 55.078125 68.703125 \r\nL 28.609375 0 \r\nL 18.3125 0 \r\nL 43.21875 64.59375 \r\nL 8.203125 64.59375 \r\nz\r\n\" id=\"DejaVuSans-55\"/>\r\n      </defs>\r\n      <g transform=\"translate(327.342745 239.238438)scale(0.1 -0.1)\">\r\n       <use xlink:href=\"#DejaVuSans-55\"/>\r\n       <use x=\"63.623047\" xlink:href=\"#DejaVuSans-53\"/>\r\n      </g>\r\n     </g>\r\n    </g>\r\n    <g id=\"xtick_8\">\r\n     <g id=\"line2d_14\">\r\n      <g>\r\n       <use style=\"stroke:#000000;stroke-width:0.8;\" x=\"371.520489\" xlink:href=\"#ma7271b5336\" y=\"224.64\"/>\r\n      </g>\r\n     </g>\r\n     <g id=\"text_14\">\r\n      <!-- 100 -->\r\n      <g transform=\"translate(361.976739 239.238438)scale(0.1 -0.1)\">\r\n       <use xlink:href=\"#DejaVuSans-49\"/>\r\n       <use x=\"63.623047\" xlink:href=\"#DejaVuSans-48\"/>\r\n       <use x=\"127.246094\" xlink:href=\"#DejaVuSans-48\"/>\r\n      </g>\r\n     </g>\r\n    </g>\r\n   </g>\r\n   <g id=\"matplotlib.axis_4\">\r\n    <g id=\"ytick_7\">\r\n     <g id=\"line2d_15\">\r\n      <g>\r\n       <use style=\"stroke:#000000;stroke-width:0.8;\" x=\"222.268182\" xlink:href=\"#m82868ac157\" y=\"224.64\"/>\r\n      </g>\r\n     </g>\r\n     <g id=\"text_15\">\r\n      <!-- 0 -->\r\n      <g transform=\"translate(208.905682 228.439219)scale(0.1 -0.1)\">\r\n       <use xlink:href=\"#DejaVuSans-48\"/>\r\n      </g>\r\n     </g>\r\n    </g>\r\n    <g id=\"ytick_8\">\r\n     <g id=\"line2d_16\">\r\n      <g>\r\n       <use style=\"stroke:#000000;stroke-width:0.8;\" x=\"222.268182\" xlink:href=\"#m82868ac157\" y=\"195.660751\"/>\r\n      </g>\r\n     </g>\r\n     <g id=\"text_16\">\r\n      <!-- 1000 -->\r\n      <g transform=\"translate(189.818182 199.45997)scale(0.1 -0.1)\">\r\n       <use xlink:href=\"#DejaVuSans-49\"/>\r\n       <use x=\"63.623047\" xlink:href=\"#DejaVuSans-48\"/>\r\n       <use x=\"127.246094\" xlink:href=\"#DejaVuSans-48\"/>\r\n       <use x=\"190.869141\" xlink:href=\"#DejaVuSans-48\"/>\r\n      </g>\r\n     </g>\r\n    </g>\r\n    <g id=\"ytick_9\">\r\n     <g id=\"line2d_17\">\r\n      <g>\r\n       <use style=\"stroke:#000000;stroke-width:0.8;\" x=\"222.268182\" xlink:href=\"#m82868ac157\" y=\"166.681502\"/>\r\n      </g>\r\n     </g>\r\n     <g id=\"text_17\">\r\n      <!-- 2000 -->\r\n      <g transform=\"translate(189.818182 170.48072)scale(0.1 -0.1)\">\r\n       <use xlink:href=\"#DejaVuSans-50\"/>\r\n       <use x=\"63.623047\" xlink:href=\"#DejaVuSans-48\"/>\r\n       <use x=\"127.246094\" xlink:href=\"#DejaVuSans-48\"/>\r\n       <use x=\"190.869141\" xlink:href=\"#DejaVuSans-48\"/>\r\n      </g>\r\n     </g>\r\n    </g>\r\n    <g id=\"ytick_10\">\r\n     <g id=\"line2d_18\">\r\n      <g>\r\n       <use style=\"stroke:#000000;stroke-width:0.8;\" x=\"222.268182\" xlink:href=\"#m82868ac157\" y=\"137.702253\"/>\r\n      </g>\r\n     </g>\r\n     <g id=\"text_18\">\r\n      <!-- 3000 -->\r\n      <defs>\r\n       <path d=\"M 40.578125 39.3125 \r\nQ 47.65625 37.796875 51.625 33 \r\nQ 55.609375 28.21875 55.609375 21.1875 \r\nQ 55.609375 10.40625 48.1875 4.484375 \r\nQ 40.765625 -1.421875 27.09375 -1.421875 \r\nQ 22.515625 -1.421875 17.65625 -0.515625 \r\nQ 12.796875 0.390625 7.625 2.203125 \r\nL 7.625 11.71875 \r\nQ 11.71875 9.328125 16.59375 8.109375 \r\nQ 21.484375 6.890625 26.8125 6.890625 \r\nQ 36.078125 6.890625 40.9375 10.546875 \r\nQ 45.796875 14.203125 45.796875 21.1875 \r\nQ 45.796875 27.640625 41.28125 31.265625 \r\nQ 36.765625 34.90625 28.71875 34.90625 \r\nL 20.21875 34.90625 \r\nL 20.21875 43.015625 \r\nL 29.109375 43.015625 \r\nQ 36.375 43.015625 40.234375 45.921875 \r\nQ 44.09375 48.828125 44.09375 54.296875 \r\nQ 44.09375 59.90625 40.109375 62.90625 \r\nQ 36.140625 65.921875 28.71875 65.921875 \r\nQ 24.65625 65.921875 20.015625 65.03125 \r\nQ 15.375 64.15625 9.8125 62.3125 \r\nL 9.8125 71.09375 \r\nQ 15.4375 72.65625 20.34375 73.4375 \r\nQ 25.25 74.21875 29.59375 74.21875 \r\nQ 40.828125 74.21875 47.359375 69.109375 \r\nQ 53.90625 64.015625 53.90625 55.328125 \r\nQ 53.90625 49.265625 50.4375 45.09375 \r\nQ 46.96875 40.921875 40.578125 39.3125 \r\nz\r\n\" id=\"DejaVuSans-51\"/>\r\n      </defs>\r\n      <g transform=\"translate(189.818182 141.501471)scale(0.1 -0.1)\">\r\n       <use xlink:href=\"#DejaVuSans-51\"/>\r\n       <use x=\"63.623047\" xlink:href=\"#DejaVuSans-48\"/>\r\n       <use x=\"127.246094\" xlink:href=\"#DejaVuSans-48\"/>\r\n       <use x=\"190.869141\" xlink:href=\"#DejaVuSans-48\"/>\r\n      </g>\r\n     </g>\r\n    </g>\r\n    <g id=\"ytick_11\">\r\n     <g id=\"line2d_19\">\r\n      <g>\r\n       <use style=\"stroke:#000000;stroke-width:0.8;\" x=\"222.268182\" xlink:href=\"#m82868ac157\" y=\"108.723003\"/>\r\n      </g>\r\n     </g>\r\n     <g id=\"text_19\">\r\n      <!-- 4000 -->\r\n      <g transform=\"translate(189.818182 112.522222)scale(0.1 -0.1)\">\r\n       <use xlink:href=\"#DejaVuSans-52\"/>\r\n       <use x=\"63.623047\" xlink:href=\"#DejaVuSans-48\"/>\r\n       <use x=\"127.246094\" xlink:href=\"#DejaVuSans-48\"/>\r\n       <use x=\"190.869141\" xlink:href=\"#DejaVuSans-48\"/>\r\n      </g>\r\n     </g>\r\n    </g>\r\n    <g id=\"ytick_12\">\r\n     <g id=\"line2d_20\">\r\n      <g>\r\n       <use style=\"stroke:#000000;stroke-width:0.8;\" x=\"222.268182\" xlink:href=\"#m82868ac157\" y=\"79.743754\"/>\r\n      </g>\r\n     </g>\r\n     <g id=\"text_20\">\r\n      <!-- 5000 -->\r\n      <g transform=\"translate(189.818182 83.542973)scale(0.1 -0.1)\">\r\n       <use xlink:href=\"#DejaVuSans-53\"/>\r\n       <use x=\"63.623047\" xlink:href=\"#DejaVuSans-48\"/>\r\n       <use x=\"127.246094\" xlink:href=\"#DejaVuSans-48\"/>\r\n       <use x=\"190.869141\" xlink:href=\"#DejaVuSans-48\"/>\r\n      </g>\r\n     </g>\r\n    </g>\r\n    <g id=\"ytick_13\">\r\n     <g id=\"line2d_21\">\r\n      <g>\r\n       <use style=\"stroke:#000000;stroke-width:0.8;\" x=\"222.268182\" xlink:href=\"#m82868ac157\" y=\"50.764505\"/>\r\n      </g>\r\n     </g>\r\n     <g id=\"text_21\">\r\n      <!-- 6000 -->\r\n      <g transform=\"translate(189.818182 54.563724)scale(0.1 -0.1)\">\r\n       <use xlink:href=\"#DejaVuSans-54\"/>\r\n       <use x=\"63.623047\" xlink:href=\"#DejaVuSans-48\"/>\r\n       <use x=\"127.246094\" xlink:href=\"#DejaVuSans-48\"/>\r\n       <use x=\"190.869141\" xlink:href=\"#DejaVuSans-48\"/>\r\n      </g>\r\n     </g>\r\n    </g>\r\n    <g id=\"ytick_14\">\r\n     <g id=\"line2d_22\">\r\n      <g>\r\n       <use style=\"stroke:#000000;stroke-width:0.8;\" x=\"222.268182\" xlink:href=\"#m82868ac157\" y=\"21.785256\"/>\r\n      </g>\r\n     </g>\r\n     <g id=\"text_22\">\r\n      <!-- 7000 -->\r\n      <g transform=\"translate(189.818182 25.584475)scale(0.1 -0.1)\">\r\n       <use xlink:href=\"#DejaVuSans-55\"/>\r\n       <use x=\"63.623047\" xlink:href=\"#DejaVuSans-48\"/>\r\n       <use x=\"127.246094\" xlink:href=\"#DejaVuSans-48\"/>\r\n       <use x=\"190.869141\" xlink:href=\"#DejaVuSans-48\"/>\r\n      </g>\r\n     </g>\r\n    </g>\r\n   </g>\r\n   <g id=\"patch_68\">\r\n    <path d=\"M 222.268182 224.64 \r\nL 222.268182 7.2 \r\n\" style=\"fill:none;stroke:#000000;stroke-linecap:square;stroke-linejoin:miter;stroke-width:0.8;\"/>\r\n   </g>\r\n   <g id=\"patch_69\">\r\n    <path d=\"M 374.45 224.64 \r\nL 374.45 7.2 \r\n\" style=\"fill:none;stroke:#000000;stroke-linecap:square;stroke-linejoin:miter;stroke-width:0.8;\"/>\r\n   </g>\r\n   <g id=\"patch_70\">\r\n    <path d=\"M 222.268182 224.64 \r\nL 374.45 224.64 \r\n\" style=\"fill:none;stroke:#000000;stroke-linecap:square;stroke-linejoin:miter;stroke-width:0.8;\"/>\r\n   </g>\r\n   <g id=\"patch_71\">\r\n    <path d=\"M 222.268182 7.2 \r\nL 374.45 7.2 \r\n\" style=\"fill:none;stroke:#000000;stroke-linecap:square;stroke-linejoin:miter;stroke-width:0.8;\"/>\r\n   </g>\r\n  </g>\r\n </g>\r\n <defs>\r\n  <clipPath id=\"pb77abf35c4\">\r\n   <rect height=\"217.44\" width=\"152.181818\" x=\"39.65\" y=\"7.2\"/>\r\n  </clipPath>\r\n  <clipPath id=\"p95eb99119f\">\r\n   <rect height=\"217.44\" width=\"152.181818\" x=\"222.268182\" y=\"7.2\"/>\r\n  </clipPath>\r\n </defs>\r\n</svg>\r\n",
      "image/png": "[encoded data removed]"
     },
     "metadata": {
      "needs_background": "light"
     }
    }
   ],
   "source": [
    "import matplotlib.pyplot as plt\n",
    "\n",
    "fig, axs = plt.subplots(1, 2)\n",
    "\n",
    "axs[0].hist(vectors[\"latitude\"], bins=30)\n",
    "axs[1].hist(vectors[\"longitude\"], bins=30)"
   ]
  },
  {
   "source": [
    "e) Reichern Sie den Tankstellendatensatz um die Spalte state an, die das Bundesland enthalten soll, in dem sich die Tankstelle befindet. Erzeugen Sie durch Filterung einen DataFrame\n",
    "namens df_stations_BY, der die Informationen zu allen Tankstellen in Bayern enthalt."
   ],
   "cell_type": "markdown",
   "metadata": {}
  },
  {
   "cell_type": "code",
   "execution_count": 13,
   "metadata": {},
   "outputs": [],
   "source": [
    "#TODO"
   ]
  },
  {
   "source": [
    "Lesen Sie nun den Preise-Datensatz aus dem GitLab-Repository in einen DataFrame namens\n",
    "df_prices_BY ein. Dieser wurde durch Filterung der auf der Tankerkonig-Seite verf ¨ ugbaren ¨\n",
    "Preise-Datensatze erzeugt und enth ¨ alt die Angaben zur historischen Preisen und Preis ¨ anderungen ¨\n",
    "an den Tankstellen in Bayern im Betrachtungszeitraum zwischen Januar 2018 und Mai 2021."
   ],
   "cell_type": "markdown",
   "metadata": {}
  },
  {
   "source": [
    "f) Untersuchen Sie die Kraftstoffpreise auf Ausreißer und entfernen Sie diese ggf."
   ],
   "cell_type": "markdown",
   "metadata": {}
  },
  {
   "cell_type": "code",
   "execution_count": 14,
   "metadata": {},
   "outputs": [],
   "source": [
    "#TODO"
   ]
  },
  {
   "source": [
    "g) Uberf ¨ uhren Sie die Spalte ¨ date in ein DateTime-Format."
   ],
   "cell_type": "markdown",
   "metadata": {}
  },
  {
   "cell_type": "code",
   "execution_count": 15,
   "metadata": {},
   "outputs": [],
   "source": [
    "#TODO"
   ]
  },
  {
   "source": [
    "### Aufgabe 2 \n",
    "#### (Explorative Datenanalyse)\n",
    "In dieser Aufgabe sind erste einfache Analysen durchzufuhren und Visualisierungen zu erstellen"
   ],
   "cell_type": "markdown",
   "metadata": {}
  },
  {
   "source": [
    "a) Wie viele Tankstellen gibt es insgesamt in Deutschland? Wie viele pro Bundesland?"
   ],
   "cell_type": "markdown",
   "metadata": {}
  },
  {
   "cell_type": "code",
   "execution_count": 16,
   "metadata": {},
   "outputs": [],
   "source": [
    "#TODO"
   ]
  },
  {
   "source": [
    "b) Welches sind die zehn Tankstellenmarken mit den meisten Niederlassungen in Deutschland?\n",
    "Wie viele Niederlassungen sind es jeweils?"
   ],
   "cell_type": "markdown",
   "metadata": {}
  },
  {
   "cell_type": "code",
   "execution_count": 17,
   "metadata": {},
   "outputs": [],
   "source": [
    "#TODO"
   ]
  },
  {
   "source": [
    "c) Welcher Anteil der Tankstellen hat sonntags geoffnet?"
   ],
   "cell_type": "markdown",
   "metadata": {}
  },
  {
   "cell_type": "code",
   "execution_count": 18,
   "metadata": {},
   "outputs": [],
   "source": [
    "#TODO"
   ]
  },
  {
   "source": [
    "d) Visualisieren Sie in einem Kreisdiagramm die Zusammensetzung des Marktes in freie Tankstellen und Markentankstellen. Nehmen Sie vereinfachend an, dass eine Tankstelle dann\n",
    "eine freie Tankstelle ist, wenn sie gemaß der Spalte ¨ brand einer Marke angehort, die bun- ¨\n",
    "desweit hochstens 20 Niederlassungen betreibt."
   ],
   "cell_type": "markdown",
   "metadata": {}
  },
  {
   "cell_type": "code",
   "execution_count": 19,
   "metadata": {},
   "outputs": [],
   "source": [
    "#TODO"
   ]
  },
  {
   "source": [
    "e) Wie haufig wird an den bayerischen Tankstellen durchschnittlich pro Tag im Betrachtungs- ¨\n",
    "zeitraum ein Datensatz an die Markttransparenzstelle fur Kraftstoffe ¨ ubermittelt? "
   ],
   "cell_type": "markdown",
   "metadata": {}
  },
  {
   "cell_type": "code",
   "execution_count": 20,
   "metadata": {},
   "outputs": [],
   "source": [
    "#TODO"
   ]
  },
  {
   "source": [
    "f) In welchen zehn bayerischen Stadten war der durchschnittliche Diesel-Preis im Betrach- ¨\n",
    "tungszeitraum 2018-2021 am hochsten und wie hoch war er jeweils? In welchen zehn ¨\n",
    "Stadten war er am geringsten und wie hoch war er jeweils? "
   ],
   "cell_type": "markdown",
   "metadata": {}
  },
  {
   "cell_type": "code",
   "execution_count": 21,
   "metadata": {},
   "outputs": [],
   "source": [
    "#TODO"
   ]
  },
  {
   "source": [
    "g) Erstellen Sie mit folium eine interaktive Karte, auf der die einzelnen Tankstellen in Bayern\n",
    "als Marker (in einem Marker-Cluster) eingezeichnet sind. Beim Klick auf einen Marker soll\n",
    "der Name der Tankstelle und deren Adresse angezeigt werden."
   ],
   "cell_type": "markdown",
   "metadata": {}
  },
  {
   "cell_type": "code",
   "execution_count": 22,
   "metadata": {},
   "outputs": [],
   "source": [
    "#TODO"
   ]
  },
  {
   "source": [
    "### Aufgabe 3\n",
    "#### (Analyse der historischen Entwicklung der Kraftstoffpreise)"
   ],
   "cell_type": "markdown",
   "metadata": {}
  },
  {
   "source": [
    "a) In welchem Monat im Betrachtungszeitraum waren die Kraftstoffpreise fur Diesel in Bay- ¨\n",
    "ern durchschnittlich am hochsten? In welchem am geringsten? Wie hoch waren die durch- ¨\n",
    "schnittlichen Preise jeweils?"
   ],
   "cell_type": "markdown",
   "metadata": {}
  },
  {
   "cell_type": "code",
   "execution_count": 23,
   "metadata": {},
   "outputs": [],
   "source": [
    "#TODO"
   ]
  },
  {
   "source": [
    "b) Ermitteln Sie die Jahresdurchschnitte fur die einzelnen Kraftstoffsorten in den Jahren 2018- ¨\n",
    "2021 fur die bayerischen Tankstellen. Visualisieren Sie diese in einem geeigneten Dia- ¨\n",
    "gramm. Lassen sich Trends erkennen?"
   ],
   "cell_type": "markdown",
   "metadata": {}
  },
  {
   "cell_type": "code",
   "execution_count": 24,
   "metadata": {},
   "outputs": [],
   "source": [
    "#TODO"
   ]
  },
  {
   "source": [
    "c) Visualisieren Sie auf geeignete Weise den zeitlichen Verlauf der Preise fur die Kraftstoffe ¨\n",
    "Diesel und Super E5 und Super E10 an den bayerischen Tankstellen zwischen 2018 und\n",
    "2021. Beschreiben und interpretieren Sie Ihre Beobachtungen."
   ],
   "cell_type": "markdown",
   "metadata": {}
  },
  {
   "cell_type": "code",
   "execution_count": 25,
   "metadata": {},
   "outputs": [],
   "source": [
    "#TODO"
   ]
  },
  {
   "source": [
    "### Aufgabe 4\n",
    "#### (Abhangigkeit zwischen dem Roh ¨ olpreis und den Kraftstoffpreisen)"
   ],
   "cell_type": "markdown",
   "metadata": {}
  },
  {
   "source": [
    "a) Untersuchen Sie jeweils den Zusammenhang zwischen den Kraftstoffpreisen fur Diesel bzw. ¨\n",
    "Super E5 und dem Roholpreis. Berechnen Sie dazu die Tagesmittelwerte f ¨ ur die Kraftstoff- ¨\n",
    "preise fur alle Tage im Betrachtungszeitraum 2018-2021 (f ¨ ur die bayerischen Tankstellen) ¨\n",
    "und stellen Sie diese jeweils den Tagesschlusskursen fur die Roh ¨ olsorte Brent Crude Oil ¨\n",
    "(offentlich verf ¨ ugbar) in zwei Streudiagrammen (eines f ¨ ur Diesel und eines f ¨ ur E5) ge- ¨\n",
    "genuber. Laden Sie die verwendeten ¨ Olpreis-Daten in Form einer CSV-Datei mit Ihrer Ab- ¨\n",
    "gabe auf Moodle hoch."
   ],
   "cell_type": "markdown",
   "metadata": {}
  },
  {
   "cell_type": "code",
   "execution_count": 26,
   "metadata": {},
   "outputs": [],
   "source": [
    "#TODO"
   ]
  },
  {
   "source": [
    "b) Berechnen Sie jeweils fur Diesel und E5 den empirischen Korrelationskoeffizienten zwi- ¨\n",
    "schen den Roholpreisen und den Tagesmittelwerten der Kraftstoffpreise."
   ],
   "cell_type": "markdown",
   "metadata": {}
  },
  {
   "cell_type": "code",
   "execution_count": 27,
   "metadata": {},
   "outputs": [],
   "source": [
    "#TODO"
   ]
  },
  {
   "source": [
    "c) Diskutieren Sie, ob lineare Modelle sinnvoll waren, um die Zusammenh ¨ ange zwischen dem ¨\n",
    "Roholpreis und den Preisen f ¨ ur Diesel bzw. E5 darzustellen."
   ],
   "cell_type": "markdown",
   "metadata": {}
  },
  {
   "cell_type": "code",
   "execution_count": 28,
   "metadata": {},
   "outputs": [],
   "source": [
    "#TODO"
   ]
  },
  {
   "source": [
    "### Aufgabe 5\n",
    "#### (Einfluss des Wettbewerbs auf die Kraftstoffpreise in Bayern)\n",
    "Untersuchen Sie, welchen Einfluss der Wettbewerb zwischen mehreren Tankstellen auf die Preisgestaltung hat. Ermitteln Sie dazu zunachst f ¨ ur jede Tankstelle in Bayern, wie viele Tankstellen ¨\n",
    "sich im Umkreis von 5km Umgebung zu ihr befindet. Speichern Sie diese Angabe in einer Spalte namens neighbors. Speichern Sie den resultierenden DataFrame df stations BY als\n",
    "CSV-Datei namens stations BY.csv und laden Sie diese mit Ihrer Abgabe auf Moodle hoch.\n",
    "Stellen Sie zunachst m ¨ ogliche Hypothesen auf und untersuchen Sie diese anschließend, indem Sie ¨\n",
    "geeignete Auswertungen und Visualisierungen erstellen."
   ],
   "cell_type": "markdown",
   "metadata": {}
  },
  {
   "cell_type": "code",
   "execution_count": 29,
   "metadata": {},
   "outputs": [],
   "source": [
    "#TODO"
   ]
  },
  {
   "source": [
    "### Aufgabe 6\n",
    "#### (Tanken in Amberg, Interaktives Diagramm)\n",
    "Herr Sparfuchs, der als Rentner zeitlich flexibel ist, mochte wissen, wann und wo er in Am- ¨\n",
    "berg derzeit am gunstigsten tanken kann. Erstellen Sie dazu ein geeignetes interaktives Dia- ¨\n",
    "gramm mit Plotly, um die Kraftstoffpreise an den Tankstellen in Amberg zu analysieren, und\n",
    "leiten Sie Empfehlungen fur Herrn Sparfuchs ab. Erstellen Sie f ¨ ur die Analyse zwei DataFrames ¨\n",
    "namens df stations amberg und df prices amberg, die aus Filterung der Tankstellenund Preisdatensatze hervorgehen, und verwenden Sie ausschließlich diese f ¨ ur die Erzeugung des ¨\n",
    "Plotly-Diagramms. Dokumentieren Sie Ihre Analyseergebnisse."
   ],
   "cell_type": "markdown",
   "metadata": {}
  },
  {
   "cell_type": "code",
   "execution_count": 30,
   "metadata": {},
   "outputs": [],
   "source": [
    "#TODO"
   ]
  }
 ]
}