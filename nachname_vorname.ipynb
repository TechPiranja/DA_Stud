{
 "cells": [
  {
   "cell_type": "markdown",
   "metadata": {},
   "source": [
    "# Data Analytics SoSe 2021\n",
    "## Gruppenmitglieder: Anja Stricker, Annika Stadelmann"
   ]
  },
  {
   "cell_type": "markdown",
   "metadata": {},
   "source": [
    "### Inhaltsverzeichnis\n",
    "\n",
    "\n",
    "* [Aufgabe 1: Datenvorbereitung](#aufgabe1)\n",
    "    * [Aufgabe 1a](#aufgabe1a)\n",
    "    * [Aufgabe 1b](#aufgabe1b)\n",
    "    * [Aufgabe 1c](#aufgabe1c)\n",
    "    * [Aufgabe 1d](#aufgabe1d)\n",
    "    * [Aufgabe 1e](#aufgabe1e)\n",
    "    * [Aufgabe 1f](#aufgabe1f)\n",
    "    * [Aufgabe 1g](#aufgabe1g)\n",
    "* [Checkpoint](#checkpoint1)\n",
    "* [Aufgabe 2: Explorative Datenanalyse](#aufgabe2)\n",
    "    * [Aufgabe 2a](#aufgabe2a)\n",
    "    * [Aufgabe 2b](#aufgabe2b)\n",
    "    * [Aufgabe 2c](#aufgabe2c)\n",
    "    * [Aufgabe 2d](#aufgabe2d)\n",
    "    * [Aufgabe 2e](#aufgabe2e)\n",
    "    * [Aufgabe 2f](#aufgabe2f)\n",
    "    * [Aufgabe 2g](#aufgabe2g)\n",
    "* [Aufgabe 3: Analyse der historischen Entwicklung der Kraftstoffpreise](#aufgabe3)\n",
    "    * [Aufgabe 3a](#aufgabe3a)\n",
    "    * [Aufgabe 3b](#aufgabe3b)\n",
    "    * [Aufgabe 3c](#aufgabe3c)\n",
    "* [Aufgabe 4: Abh angigkeit zwischen dem Roh olpreis und den Kraftstoffpreisen](#aufgabe4)\n",
    "    * [Aufgabe 4a](#aufgabe4a)\n",
    "    * [Aufgabe 4b](#aufgabe4b)\n",
    "    * [Aufgabe 4c](#aufgabe4c)\n",
    "* [Aufgabe 5: Einfluss des Wettbewerbs auf die Kraftstoffpreise in Bayern](#aufgabe5)\n",
    "* [Checkpoint](#checkpoint2)\n",
    "* [Aufgabe 6: Tanken in Amberg, Interaktives Diagramm](#aufgabe6)\n",
    "* [Checkpoint](#checkpoint3)"
   ]
  },
  {
   "cell_type": "markdown",
   "metadata": {},
   "source": [
    "## Import Block\n",
    "#### Hier sind alle Import Anweisungen gebündelt "
   ]
  },
  {
   "cell_type": "code",
   "execution_count": null,
   "metadata": {},
   "outputs": [],
   "source": [
    "import pandas as pd\n",
    "import numpy as np\n",
    "from tqdm.auto import tqdm\n",
    "tqdm.pandas()\n",
    "from geopy.geocoders import Nominatim\n",
    "geolocator = Nominatim(user_agent=\"DA_stud\")\n",
    "import json\n",
    "import matplotlib.pyplot as plt\n",
    "import folium\n",
    "import math\n",
    "from folium.plugins import MarkerCluster\n",
    "import copy\n",
    "from functools import partial\n",
    "import pyproj\n",
    "from shapely.ops import transform\n",
    "from shapely.geometry import Point\n",
    "import plotly.express as px"
   ]
  },
  {
   "cell_type": "markdown",
   "metadata": {},
   "source": [
    "## Aufgabe 1 <a id=\"aufgabe1\"></a>\n",
    "#### (Datenvorbereitung)\n",
    "Lesen Sie den unter der o.g. Adresse verfügbaren Tankstellendatensatz zum Stand 31.05.2021\n",
    "in einen DataFrame namens df_stations ein. Dieser soll in dieser Aufgabe für die weitere\n",
    "Verwendung vorbereitet werden."
   ]
  },
  {
   "cell_type": "code",
   "execution_count": null,
   "metadata": {},
   "outputs": [],
   "source": [
    "df_stations = pd.read_csv(\"2021-05-31-stations.csv\")"
   ]
  },
  {
   "cell_type": "markdown",
   "metadata": {},
   "source": [
    "a) <a id=\"aufgabe1a\"></a> Untersuchen Sie den Datensatz auf fehlende Werte und setzen Sie ggf. eine geeignete Strategie um, um mit diesen zu verfahren. Begründen Sie Ihr Vorgehen."
   ]
  },
  {
   "cell_type": "markdown",
   "metadata": {},
   "source": [
    "Zunächst verschaffen wir uns einen Überblick über die Anzahl an NaN Werten zu jeder Spalte. "
   ]
  },
  {
   "cell_type": "code",
   "execution_count": null,
   "metadata": {},
   "outputs": [],
   "source": [
    "df_stations.isnull().sum()"
   ]
  },
  {
   "cell_type": "markdown",
   "metadata": {},
   "source": [
    "Im folgenden werden nur noch die Spalten betrachtet die einen NaN Wert haben.\n",
    "Alle Spalten mit 0 haben keine NaN Werte und müssen demnach nicht nochmal kontrolliert werden.\n",
    "\n",
    "NaN Werte werden durch passende Werte ersetzt.\n",
    "Für die Spalten \"brand\" und \"openingtimes_json\" wollten wir kein Leerzeichen stehen lassen und setzten deswegen \"no brand\"/\"no data\" um klarzumachen, dass es für diese Station keine Daten zu den Spalten gibt."
   ]
  },
  {
   "cell_type": "code",
   "execution_count": null,
   "metadata": {},
   "outputs": [],
   "source": [
    "df_stations[\"brand\"] = df_stations[\"brand\"].fillna(\"no brand\")\n",
    "df_stations[\"openingtimes_json\"] = df_stations[\"openingtimes_json\"].replace(\"{}\", \"no data\")"
   ]
  },
  {
   "cell_type": "markdown",
   "metadata": {},
   "source": [
    "Da wir im nächsten Schritt die Geokoordinaten benutzen wollen, um die fehlenden Werte \"street\", \"city\" und \"post_code\" zu ermitteln, wollen wir bereits hier die Koordinaten auf unphysikalische und ungültige Werte filtern. Zunächst betrachten wir die Geokoordinaten in einem Histogramm."
   ]
  },
  {
   "cell_type": "code",
   "execution_count": null,
   "metadata": {},
   "outputs": [],
   "source": [
    "plt.hist(df_stations[\"latitude\"], 60, label='latitude')\n",
    "plt.hist(df_stations[\"longitude\"], 50, label='longitude')\n",
    "plt.legend(loc='upper right')\n",
    "plt.title(\"Geokoordinaten der Tankstellen in Deutschland\")\n",
    "plt.xlabel('Koordinaten') \n",
    "plt.ylabel('Anzahl')\n",
    "plt.show()"
   ]
  },
  {
   "cell_type": "markdown",
   "metadata": {},
   "source": [
    "Bei Longitude & Latitude sind Ausreißer bei 0.0 zu erkennen. Diese werden in einem späteren Schritt rausfiltern.\n",
    "Um die unphysikalischen und ungütligen Werte nicht mehr in den folgenden Analysen zu betrachten, werden sie aus dem DataFrame gefiltert."
   ]
  },
  {
   "cell_type": "code",
   "execution_count": null,
   "metadata": {},
   "outputs": [],
   "source": [
    "df_stations = df_stations.loc[(df_stations[\"latitude\"] <= 90.0) & (df_stations[\"latitude\"] >= -90.0) & (df_stations[\"longitude\"] <= 180.0) & (df_stations[\"longitude\"] >= -180.0)]"
   ]
  },
  {
   "cell_type": "markdown",
   "metadata": {},
   "source": [
    "Jetzt werden fehlende Einträge von street, house_number, city und post_code mit geopy ermittelt und ersetzt."
   ]
  },
  {
   "cell_type": "code",
   "execution_count": null,
   "metadata": {},
   "outputs": [],
   "source": [
    "for i in tqdm(df_stations.loc[df_stations[\"street\"].isnull() | df_stations[\"city\"].isnull() | df_stations[\"post_code\"].isnull()].index):\n",
    "    data = df_stations.iloc[i]\n",
    "    if ((data[\"latitude\"] != 0.0) & (data[\"longitude\"] != 0.0)):\n",
    "        location = geolocator.reverse(str(data[\"latitude\"]) + \", \" + str(data[\"longitude\"]))\n",
    "        adressData = location.raw[\"address\"]\n",
    "        if \"road\" in adressData:\n",
    "            df_stations.at[i, \"street\"] = adressData[\"road\"]\n",
    "        if \"town\" in adressData:\n",
    "            df_stations.at[i, \"city\"] = adressData[\"town\"]\n",
    "        if \"postcode\" in adressData:\n",
    "            df_stations.at[i, \"post_code\"] = adressData[\"postcode\"]"
   ]
  },
  {
   "cell_type": "code",
   "execution_count": null,
   "metadata": {},
   "outputs": [],
   "source": [
    "for i in tqdm(df_stations.loc[df_stations[\"house_number\"].isnull()].index):\n",
    "    data = df_stations.iloc[i]\n",
    "    if ((data[\"latitude\"] != 0.0) & (data[\"longitude\"] != 0.0)):\n",
    "        location = geolocator.reverse(str(data[\"latitude\"]) + \", \" + str(data[\"longitude\"]))\n",
    "        adressData = location.raw[\"address\"]\n",
    "        if \"house_number\" in adressData:\n",
    "            df_stations.at[i, \"house_number\"] = adressData[\"house_number\"]"
   ]
  },
  {
   "cell_type": "markdown",
   "metadata": {},
   "source": [
    "Die restlichen NaN Werte, die nicht durch Geopy ermittelt und ersetzt werden konnten, werden mit fillna auf einen default Wert (\"\"/0) gesetzt."
   ]
  },
  {
   "cell_type": "code",
   "execution_count": null,
   "metadata": {},
   "outputs": [],
   "source": [
    "df_stations[\"street\"] = df_stations[\"street\"].fillna(\"\")\n",
    "df_stations[\"post_code\"] = df_stations[\"post_code\"].fillna(0)\n",
    "df_stations[\"city\"] = df_stations[\"city\"].fillna(\"\")\n",
    "df_stations[\"house_number\"] = df_stations[\"house_number\"].fillna(0)\n",
    "df_stations.isnull().sum()"
   ]
  },
  {
   "cell_type": "markdown",
   "metadata": {},
   "source": [
    "Was man durch den isnull() Check nicht sehen konnte, ist, dass es viele Latitude- und Longitude-Werte mit 0.0 gibt. Diese konnten wir bereits in dem Histogramm weiter oben ausfindig machen.\n",
    "\n",
    "Diese fehlerhaften Werte müssen ebenfalls korrigiert und ersetzt werden. Dies geschiet erneut mit Geopy.\n",
    "Dazu verwenden wir die Adressdaten \"street\", \"post_code\" und \"city\", und holen uns so die Geokoordinaten."
   ]
  },
  {
   "cell_type": "code",
   "execution_count": null,
   "metadata": {},
   "outputs": [],
   "source": [
    "df_stations.loc[(df_stations[\"latitude\"] == 0.0) & (df_stations[\"longitude\"] == 0.0)]"
   ]
  },
  {
   "cell_type": "code",
   "execution_count": null,
   "metadata": {},
   "outputs": [],
   "source": [
    "for i in tqdm(df_stations.loc[(df_stations[\"latitude\"] == 0.0) & (df_stations[\"longitude\"] == 0.0)].index):\n",
    "    data = df_stations.iloc[i]\n",
    "\n",
    "    if ((data[\"street\"] != \"\") & (data[\"post_code\"] != \"\") & (data[\"city\"] != \"\")):\n",
    "\n",
    "        loc = (data[\"street\"] + \" \" + data[\"post_code\"] + \" \" + data[\"city\"])\n",
    "        print(loc)\n",
    "        \n",
    "        location = geolocator.geocode(loc)        \n",
    "\n",
    "        if location != None:\n",
    "            df_stations.at[i, \"latitude\"] = location.latitude\n",
    "            df_stations.at[i, \"longitude\"] = location.longitude"
   ]
  },
  {
   "cell_type": "markdown",
   "metadata": {},
   "source": [
    "Jetzt prüfen wir ob alle Werte mit 0.0 ersetzt wurden."
   ]
  },
  {
   "cell_type": "code",
   "execution_count": null,
   "metadata": {},
   "outputs": [],
   "source": [
    "df_stations.loc[(df_stations[\"latitude\"] == 0.0) & (df_stations[\"longitude\"] == 0.0)]"
   ]
  },
  {
   "cell_type": "markdown",
   "metadata": {},
   "source": [
    "Diese drei Einträge konnten nicht ersetzt werden, da es unzureichende Daten für Geopy gab, also keine \"street\", \"post_code\" und \"city\".\n",
    "Da wir hier jedoch auch sehen, dass alle drei Datensätze beliebige Testwerte haben, und für die weitere Verarbeitung irrelevant sind, entfernen wir diese Zeilen mit dem Drop Befehl."
   ]
  },
  {
   "cell_type": "code",
   "execution_count": null,
   "metadata": {},
   "outputs": [],
   "source": [
    "df_stations.drop(df_stations[(df_stations[\"latitude\"] == 0.0) & (df_stations[\"longitude\"] == 0.0)].index, inplace=True)"
   ]
  },
  {
   "cell_type": "markdown",
   "metadata": {},
   "source": [
    "Zum Schluss wollen wir noch den Typen der \"post_code\" Spalte anpassen, damit wir diese im weiteren Verlauf besser verarbeiten können.\n",
    "Hierzu wandeln wir den String in einen float um, welcher in der letzten Befehlszeile in ein int64 umgewandelt wird."
   ]
  },
  {
   "cell_type": "code",
   "execution_count": null,
   "metadata": {},
   "outputs": [],
   "source": [
    "df_stations[\"post_code\"] = df_stations[\"post_code\"].apply(lambda x: pd.to_numeric(x, errors='coerce')).dropna()\n",
    "df_stations.dropna(subset = [\"post_code\"], inplace=True)\n",
    "np.isnan(df_stations['post_code']).sum()\n",
    "df_stations[\"post_code\"] = df_stations[\"post_code\"].astype(np.int64)"
   ]
  },
  {
   "cell_type": "markdown",
   "metadata": {},
   "source": [
    "Citys die einen NaN Wert haben, aber einen Postcode, werden mit den anderen Postcode Einträgen verglichen und erhalten den Namen der City."
   ]
  },
  {
   "cell_type": "code",
   "execution_count": null,
   "metadata": {},
   "outputs": [],
   "source": [
    "def findCityWithPostcode(row):\n",
    "    test = df_stations[\"city\"][(df_stations[\"post_code\"] == row[\"post_code\"]) & (df_stations[\"city\"].notnull())].item()\n",
    "    if (len(test) > 0):\n",
    "        return test\n",
    "    else:\n",
    "        return \"\"\n",
    "df_stations[\"city\"] = df_stations[[\"city\", \"post_code\"]].apply(lambda x: findCityWithPostcode(x) if x[\"city\"] is np.nan else x[\"city\"], axis=1)"
   ]
  },
  {
   "cell_type": "markdown",
   "metadata": {},
   "source": [
    "Damit wir keine doppelten Städte mit Umlauten haben, ersetzten wir diese ebenfalls."
   ]
  },
  {
   "cell_type": "code",
   "execution_count": null,
   "metadata": {},
   "outputs": [],
   "source": [
    "df_stations[\"city\"] = df_stations[\"city\"].str.replace(u\"Ü\", \"UE\")\n",
    "df_stations[\"city\"] = df_stations[\"city\"].str.replace(u\"Ö\", \"OE\")\n",
    "df_stations[\"city\"] = df_stations[\"city\"].str.replace(u\"Ä\", \"AE\")"
   ]
  },
  {
   "cell_type": "markdown",
   "metadata": {},
   "source": [
    "Zum Schluss prüfen wir ob wir alle NaN Werte erfolgreich korrigiert und ermittelt haben."
   ]
  },
  {
   "cell_type": "code",
   "execution_count": null,
   "metadata": {},
   "outputs": [],
   "source": [
    "df_stations.isnull().sum()"
   ]
  },
  {
   "cell_type": "markdown",
   "metadata": {},
   "source": [
    "b) <a id=\"aufgabe1b\"></a> Transformieren Sie die Spalten brand, street und city, sodass die Werte jeweils nur\n",
    "in Großbuchstaben ausgeben werden."
   ]
  },
  {
   "cell_type": "markdown",
   "metadata": {},
   "source": [
    "Hierzu wenden wir die Funktion upper() auf die genannten drei Spalten an."
   ]
  },
  {
   "cell_type": "code",
   "execution_count": null,
   "metadata": {},
   "outputs": [],
   "source": [
    "df_stations[\"brand\"] = df_stations[\"brand\"].str.upper()\n",
    "df_stations[\"street\"] = df_stations[\"street\"].str.upper()\n",
    "df_stations[\"city\"] = df_stations[\"city\"].str.upper()"
   ]
  },
  {
   "cell_type": "markdown",
   "metadata": {},
   "source": [
    "c) <a id=\"aufgabe1c\"></a> Überprüfen Sie, ob der Datensatz Duplikate enthält und entfernen Sie diese ggf. Ein Duplikat liege dann vor, wenn zwei Tankstellen in den Spalten name, street, house number und post code übereinstimmen. Geben Sie aus, wie viele Duplikate ermittelt und entfernt wurden."
   ]
  },
  {
   "cell_type": "markdown",
   "metadata": {},
   "source": [
    "Es wurden 48 Duplikate ermittelt und im Folgenden vollständig entfernt. Dazu wurde der erste Datensatz behalten."
   ]
  },
  {
   "cell_type": "code",
   "execution_count": null,
   "metadata": {},
   "outputs": [],
   "source": [
    "df_stations[[\"name\", \"street\", \"house_number\", \"post_code\"]].duplicated().sum()"
   ]
  },
  {
   "cell_type": "markdown",
   "metadata": {},
   "source": [
    "Damit durch das drop_duplicates unsere Indexwerte in df_stations nicht korrupt bleiben, wird der Index resettet. Dadurch werden die fehlenden Indexlücken beseitigt und wir erhalten einen sauberen Indexverlauf."
   ]
  },
  {
   "cell_type": "code",
   "execution_count": null,
   "metadata": {},
   "outputs": [],
   "source": [
    "df_stations.drop_duplicates(subset = {\"name\", \"street\", \"house_number\", \"post_code\"}, keep =  \"first\", inplace = True)\n",
    "df_stations = df_stations.reset_index(drop=True)\n",
    "df_stations[[\"name\", \"street\", \"house_number\", \"post_code\"]].duplicated().sum()"
   ]
  },
  {
   "cell_type": "markdown",
   "metadata": {},
   "source": [
    "d) <a id=\"aufgabe1d\"></a> Untersuchen Sie die Spalten longitude und latitude auf unphysikalische Werte, indem Sie zunächst deren Verteilung in einem Histogramm visualisieren. Entfernen oder korrigieren Sie anschließend die Einträge zu denjenigen Tankstellen, bei denen Sie unphysikalische Werte festgestellt haben. Zeichnen Sie anschließend erneut Histogramme für die beiden Spalten longitude und latitude."
   ]
  },
  {
   "cell_type": "markdown",
   "metadata": {},
   "source": [
    "Die Analyse der Longitude- und Latitude-Werte haben wir bereits in Aufgabe 1 a) durchgeführt. Die unphysikalischen und ungütligen Werte wurden gefiltert oder gelöscht.\n",
    "Nun geben wir erneut ein Histogram aus um uns die neuen Resulate anzusehen."
   ]
  },
  {
   "cell_type": "code",
   "execution_count": null,
   "metadata": {},
   "outputs": [],
   "source": [
    "plt.hist(df_stations[\"latitude\"], 20, label='latitude')\n",
    "plt.hist(df_stations[\"longitude\"], 80, label='longitude')\n",
    "plt.legend(loc='upper right')\n",
    "plt.title(\"Geokoordinaten der Tankstellen in Deutschland\")\n",
    "plt.xlabel('Koordinaten') \n",
    "plt.ylabel('Anzahl')\n",
    "plt.show()"
   ]
  },
  {
   "cell_type": "markdown",
   "metadata": {},
   "source": [
    "e) <a id=\"aufgabe1e\"></a> Reichern Sie den Tankstellendatensatz um die Spalte state an, die das Bundesland enthalten soll, in dem sich die Tankstelle befindet. Erzeugen Sie durch Filterung einen DataFrame\n",
    "namens df_stations_BY, der die Informationen zu allen Tankstellen in Bayern enthalt."
   ]
  },
  {
   "cell_type": "markdown",
   "metadata": {},
   "source": [
    "Um die States zu den einzelnen Zeilen nicht langwierig mit Geopy ermitteln zu müssen, haben wir uns für die Benutzung eines extra Datensatzes entschieden, welche die Informationen zu den jeweiligen post_codes enthält. Diese lesen wir zunächst ein.\n",
    "\n",
    "Quelle des Datensatzes: https://www.suche-postleitzahl.org/downloads"
   ]
  },
  {
   "cell_type": "code",
   "execution_count": null,
   "metadata": {},
   "outputs": [],
   "source": [
    "df_bundesland_plz = pd.read_csv(\"zuordnung_plz_ort_landkreis.csv\")\n",
    "df_bundesland_plz.head()"
   ]
  },
  {
   "cell_type": "markdown",
   "metadata": {},
   "source": [
    "Nun erstellen wir ein Dictionary, welches die Post Codes und Bundesländer enthält, und mappen diese mit dem post_code auf unseren df_stations DataFrame.\n",
    "Die neuen Werte werden in der neuen Spalte \"state\" abgespeichert."
   ]
  },
  {
   "cell_type": "code",
   "execution_count": null,
   "metadata": {},
   "outputs": [],
   "source": [
    "plz_bundesland_dict = {}\n",
    "\n",
    "for i, j in zip(df_bundesland_plz.plz, df_bundesland_plz.bundesland):\n",
    "    plz_bundesland_dict[i] = j"
   ]
  },
  {
   "cell_type": "markdown",
   "metadata": {},
   "source": [
    "Jetzt prüfen wir, ob wir zu allen Zeilen state Werte setzten konnten."
   ]
  },
  {
   "cell_type": "code",
   "execution_count": null,
   "metadata": {},
   "outputs": [],
   "source": [
    "df_stations[\"state\"] = df_stations[\"post_code\"].map(plz_bundesland_dict)\n",
    "df_stations.isnull().sum()"
   ]
  },
  {
   "cell_type": "markdown",
   "metadata": {},
   "source": [
    "Die 39 Bundesländer, die nun NaN sind, werden abschließend mit Geopy ermittelt."
   ]
  },
  {
   "cell_type": "code",
   "execution_count": null,
   "metadata": {},
   "outputs": [],
   "source": [
    "for i in tqdm(df_stations.loc[df_stations[\"state\"].isnull()].index):\n",
    "    data = df_stations.iloc[i]\n",
    "    location = geolocator.reverse(str(data[\"latitude\"]) + \", \" + str(data[\"longitude\"]))\n",
    "    adressData = location.raw[\"address\"]\n",
    "    if \"state\" in adressData:\n",
    "        df_stations.at[i, \"state\"] = adressData[\"state\"]\n",
    "\n",
    "df_stations[\"state\"].isnull().sum()"
   ]
  },
  {
   "cell_type": "markdown",
   "metadata": {},
   "source": [
    "Nun Erzeugen wir den neuen Dataframe df_stations_BY."
   ]
  },
  {
   "cell_type": "code",
   "execution_count": null,
   "metadata": {},
   "outputs": [],
   "source": [
    "df_stations_BY = df_stations.loc[df_stations[\"state\"] == \"Bayern\"]"
   ]
  },
  {
   "cell_type": "markdown",
   "metadata": {},
   "source": [
    "## Checkpoint Aufgabe 1e, df_stations, df_stations_BY <a id=\"checkpoint1\"></a>"
   ]
  },
  {
   "cell_type": "markdown",
   "metadata": {},
   "source": [
    "Speichern der Datensätze"
   ]
  },
  {
   "cell_type": "code",
   "execution_count": null,
   "metadata": {},
   "outputs": [],
   "source": [
    "df_stations.to_csv(\"state_1e_df_stations.csv\", index=False)"
   ]
  },
  {
   "cell_type": "code",
   "execution_count": null,
   "metadata": {},
   "outputs": [],
   "source": [
    "df_stations_BY.to_csv(\"state_1e_df_stations_BY.csv\", index=False)"
   ]
  },
  {
   "cell_type": "markdown",
   "metadata": {},
   "source": [
    "Einlesen der Datensätze"
   ]
  },
  {
   "cell_type": "code",
   "execution_count": null,
   "metadata": {},
   "outputs": [],
   "source": [
    "df_stations = pd.read_csv(\"state_1e_df_stations.csv\")"
   ]
  },
  {
   "cell_type": "code",
   "execution_count": null,
   "metadata": {},
   "outputs": [],
   "source": [
    "df_stations_BY = pd.read_csv(\"state_1e_df_stations_BY.csv\")"
   ]
  },
  {
   "cell_type": "markdown",
   "metadata": {},
   "source": [
    "## Aufgabe 1 weiterführend"
   ]
  },
  {
   "cell_type": "markdown",
   "metadata": {},
   "source": [
    "Lesen Sie nun den Preise-Datensatz aus dem GitLab-Repository in einen DataFrame namens\n",
    "df_prices_BY ein. Dieser wurde durch Filterung der auf der Tankerkönig-Seite verfügbaren Preise-Datensatze erzeugt und enthält die Angaben zur historischen Preisen und Preisänderungen an den Tankstellen in Bayern im Betrachtungszeitraum zwischen Januar 2018 und Mai 2021."
   ]
  },
  {
   "cell_type": "code",
   "execution_count": null,
   "metadata": {},
   "outputs": [],
   "source": [
    "df_prices_BY = pd.read_csv(\"prices_BY.csv\")"
   ]
  },
  {
   "cell_type": "markdown",
   "metadata": {},
   "source": [
    "f) <a id=\"aufgabe1f\"></a> Untersuchen Sie die Kraftstoffpreise auf Ausreißer und entfernen Sie diese ggf."
   ]
  },
  {
   "cell_type": "markdown",
   "metadata": {},
   "source": [
    "Zuerst lassen wir uns die Kraftstoffpreise in einem Histgram ausgeben, um die Daten auf Ausreißer analysieren zu können."
   ]
  },
  {
   "cell_type": "code",
   "execution_count": null,
   "metadata": {},
   "outputs": [],
   "source": [
    "plt.hist(df_prices_BY[\"diesel\"], 50, label='diesel', alpha=0.6)\n",
    "plt.hist(df_prices_BY[\"e5\"], 50, label='e5', alpha=0.6)\n",
    "plt.hist(df_prices_BY[\"e10\"], 50, label='e10', alpha=0.6)\n",
    "plt.legend(loc='upper right')\n",
    "plt.title(\"Kraftstoffpreise\")\n",
    "plt.xlabel('Preis in €') \n",
    "plt.ylabel('Anzahl')\n",
    "plt.show()"
   ]
  },
  {
   "cell_type": "markdown",
   "metadata": {},
   "source": [
    "Durch das Histogram lässt sich nun erkennen, dass es fehlerhafte Werte mit 0.0 gibt, diese sollen durch np.nan ersetzt werden.\n",
    "Außerdem möchten wir auftretende Preise unter 0.5 ebenfalls zu np.nan umwandeln."
   ]
  },
  {
   "cell_type": "code",
   "execution_count": null,
   "metadata": {},
   "outputs": [],
   "source": [
    "df_prices_BY[\"e10\"] = df_prices_BY[\"e10\"].replace(0.000, np.nan)\n",
    "df_prices_BY.loc[df_prices_BY[\"e10\"] < 0.5] = np.nan\n",
    "df_prices_BY[\"e5\"] = df_prices_BY[\"e5\"].replace(0.000, np.nan)\n",
    "df_prices_BY.loc[df_prices_BY[\"e5\"] < 0.5] = np.nan\n",
    "df_prices_BY[\"diesel\"] = df_prices_BY[\"diesel\"].replace(0.000, np.nan)\n",
    "df_prices_BY.loc[df_prices_BY[\"diesel\"] < 0.5] = np.nan"
   ]
  },
  {
   "cell_type": "markdown",
   "metadata": {},
   "source": [
    "Nun wollen wir uns die Ergebnisse erneut in einem Histogram anschauen."
   ]
  },
  {
   "cell_type": "code",
   "execution_count": null,
   "metadata": {},
   "outputs": [],
   "source": [
    "plt.hist(df_prices_BY[\"diesel\"], 30, label='diesel', alpha=0.6)\n",
    "plt.hist(df_prices_BY[\"e5\"], 30, label='e5', alpha=0.6)\n",
    "plt.hist(df_prices_BY[\"e10\"], 30, label='e10', alpha=0.6)\n",
    "plt.legend(loc='upper right')\n",
    "plt.title(\"Kraftstoffpreise\")\n",
    "plt.xlabel('Preis in €') \n",
    "plt.ylabel('Anzahl')\n",
    "plt.show()"
   ]
  },
  {
   "cell_type": "markdown",
   "metadata": {},
   "source": [
    "Die fehlerhaften Werte sind weg und wir können nun schöne Preiskurven für die Kraftstoffpreise betrachten."
   ]
  },
  {
   "cell_type": "markdown",
   "metadata": {},
   "source": [
    "g) <a id=\"aufgabe1g\"></a> Überführen Sie die Spalte date in ein DateTime-Format."
   ]
  },
  {
   "cell_type": "code",
   "execution_count": null,
   "metadata": {},
   "outputs": [],
   "source": [
    "df_prices_BY[\"date\"] = pd.to_datetime(df_prices_BY[\"date\"], infer_datetime_format=True, utc=True)\n",
    "df_prices_BY[\"date\"].head()"
   ]
  },
  {
   "cell_type": "markdown",
   "metadata": {},
   "source": [
    "## Aufgabe 2 <a id=\"aufgabe2\"></a>\n",
    "#### (Explorative Datenanalyse)\n",
    "In dieser Aufgabe sind erste einfache Analysen durchzuführen und Visualisierungen zu erstellen."
   ]
  },
  {
   "cell_type": "markdown",
   "metadata": {},
   "source": [
    "a) <a id=\"aufgabe2a\"></a> Wie viele Tankstellen gibt es insgesamt in Deutschland? Wie viele pro Bundesland?"
   ]
  },
  {
   "cell_type": "markdown",
   "metadata": {},
   "source": [
    "Zunächst wurde die Zahl an Tankstellen in Deutschland ausgegeben. Es handelt sich um insgesamt 16247 Tankstellen.\n",
    "Die einfachste Variante, die Tankstellen zu zählen, war die Länge des DataFrames ausugeben, da dieser nach Aufgabe 1 nun auch keine Duplikate mehr enthält."
   ]
  },
  {
   "cell_type": "code",
   "execution_count": null,
   "metadata": {},
   "outputs": [],
   "source": [
    "len(df_stations)"
   ]
  },
  {
   "cell_type": "markdown",
   "metadata": {},
   "source": [
    "Mit der Methode \"value_counts()\" konnte auch die Anzahl der Tankstellen ermittelt werden. Die Tankstellen im jeweiligen Bundesland wurden hier aufsummiert und man kann sich einen guten Überblick darüber verschaffen."
   ]
  },
  {
   "cell_type": "code",
   "execution_count": null,
   "metadata": {},
   "outputs": [],
   "source": [
    "df_stations[\"state\"].value_counts()"
   ]
  },
  {
   "cell_type": "markdown",
   "metadata": {},
   "source": [
    "b) <a id=\"aufgabe2b\"></a> Welches sind die zehn Tankstellenmarken mit den meisten Niederlassungen in Deutschland?\n",
    "Wie viele Niederlassungen sind es jeweils?"
   ]
  },
  {
   "cell_type": "markdown",
   "metadata": {},
   "source": [
    "Die Tankstellen mit den meisten Niederlassungen in Deutschland werden am einfachsten ermittelt, indem man auf die Spalte \"brand\" die Funktion \"value_counts()\" anwendet. Anschließend wird die Ausgabe mit \"head(10)\" auf die zehn Marken, die vorherrschend in Deutschland sind, beschränkt. Mit \"dict()\" wird das Ganze in einem Dictionary gespeichert, was die Daten übersichtlicher macht."
   ]
  },
  {
   "cell_type": "code",
   "execution_count": null,
   "metadata": {},
   "outputs": [],
   "source": [
    "meisteMarken = dict(df_stations['brand'].value_counts().head(10))\n",
    "meisteMarken"
   ]
  },
  {
   "cell_type": "markdown",
   "metadata": {},
   "source": [
    "c) <a id=\"aufgabe2c\"></a> Welcher Anteil der Tankstellen hat Sonntags geöffnet?"
   ]
  },
  {
   "cell_type": "markdown",
   "metadata": {},
   "source": [
    "Begonnen wurde mit zwei Dictionarys: Eines, in dem die Öffnungszeiten an Sonntagen eingetragen wurde (Voraussetzung hierfür war, dass der jeweilige Datensatz einen Eintrag zu den Öffnungszeiten enthielt) und ein Weiteres, in dem die Tankstellen, die keine Öffnungszeiten beinhalteten oder die, die fehlerhafte Einträge besitzen, enthalten sind."
   ]
  },
  {
   "cell_type": "code",
   "execution_count": null,
   "metadata": {},
   "outputs": [],
   "source": [
    "openingTimes = df_stations['openingtimes_json']\n",
    "openOnSunday = {\"Sonntags geöffnet\": 0, \"Sonntags geschlossen\": 0}\n",
    "errorData = {\"Keine Öffnungszeit\": 0, \"Fehlerhaft\": 0}\n",
    "\n",
    "for x in openingTimes:\n",
    "    if x != \"no data\":\n",
    "        if \"openingTimes\" in json.loads(x):\n",
    "            foundSunday = False\n",
    "            for y in json.loads(x)[\"openingTimes\"]:\n",
    "                bitValue = y[\"applicable_days\"]\n",
    "                mask = 1 << 6\n",
    "                if (bitValue & mask == mask):\n",
    "                    openOnSunday[\"Sonntags geöffnet\"] += 1\n",
    "                    foundSunday = True\n",
    "                    break\n",
    "            if (foundSunday == False):\n",
    "                openOnSunday[\"Sonntags geschlossen\"] += 1\n",
    "        else:\n",
    "            errorData[\"Fehlerhaft\"] += 1\n",
    "    else:\n",
    "        errorData[\"Keine Öffnungszeit\"] += 1\n",
    "\n",
    "openOnSunday"
   ]
  },
  {
   "cell_type": "markdown",
   "metadata": {},
   "source": [
    "Der Anteil der Tankstellen, die Sonntags geöffnet haben in dem Dictionary, das tatsächlich Öffnungszeiten enthält, wurde anschließend in einem Kuchendiagramm visualisiert. So kann man auf einen Blick erkennen, dass es 93.40% der Tankstellen sind, an denen man auch Sonntags Kunde werden kann."
   ]
  },
  {
   "cell_type": "code",
   "execution_count": null,
   "metadata": {},
   "outputs": [],
   "source": [
    "def pie_label_formatter(x):\n",
    "    return '{:.2f}%'.format(x)\n",
    "\n",
    "plt.pie(openOnSunday.values(), labels = openOnSunday.keys(), autopct=pie_label_formatter)\n",
    "plt.title(\"Anzahl der Tankstellen, die Sonntags geöffnet sind\")\n",
    "plt.show()"
   ]
  },
  {
   "cell_type": "markdown",
   "metadata": {},
   "source": [
    "Auch wurde das Dictionary, welches fehlerhafte oder keine Öffnungszeiteneinträge enthält visualisiert. Es zeigt, dass 98.50% dieser Tankstellen keine Öffnungszeiten angegeben haben, während 1.50% der Daten fehlerhaft waren."
   ]
  },
  {
   "cell_type": "code",
   "execution_count": null,
   "metadata": {},
   "outputs": [],
   "source": [
    "plt.pie(errorData.values(), labels = errorData.keys(), autopct=pie_label_formatter)\n",
    "plt.title(\"Anzahl der Tankstellen, die keine oder fehlerhafte Daten besitzen\")\n",
    "plt.show()"
   ]
  },
  {
   "cell_type": "markdown",
   "metadata": {},
   "source": [
    "Um nocheinmal einen Gesamtüberblick zu zeigen, wurde das \"openOnSunday\"-Dictionry kopiert. Hierbei wurde eine tiefe Kopie vorgenommen, da sonst das ursprüngliche Dictionary verändert würde.\n",
    "Anschließend wurde das neu angelegte Dictionary und \"errorData\" zusammengeführt, um danach ein Kuchendiagramm über alle Werte zu erzeugen."
   ]
  },
  {
   "cell_type": "code",
   "execution_count": null,
   "metadata": {},
   "outputs": [],
   "source": [
    "oeffnungszeitenGesamt = copy.deepcopy(openOnSunday)\n",
    "oeffnungszeitenGesamt.update(errorData)\n",
    "oeffnungszeitenGesamt"
   ]
  },
  {
   "cell_type": "markdown",
   "metadata": {},
   "source": [
    "Das nachfolgende Diagramm zeigt die prozentualen Anteile der Öffnungszeiten des gesamten DataFrames. So haben über 50% der Tankstellen in Deutschland am Sonntag geöffnet, während bei 43.95% keine Öffnungszeiten angegeben sind. Man kann also nicht ausschließen, dass es noch mehr Tankstellen gibt, an denen man Sonntag tanken kann."
   ]
  },
  {
   "cell_type": "code",
   "execution_count": null,
   "metadata": {},
   "outputs": [],
   "source": [
    "plt.pie(oeffnungszeitenGesamt.values(), labels = oeffnungszeitenGesamt.keys(), autopct=pie_label_formatter)\n",
    "plt.title(\"Überblick über sonntägliche Öffnungszeiten und fehlerhafte/nicht vorhandene Daten\")\n",
    "plt.show()"
   ]
  },
  {
   "cell_type": "markdown",
   "metadata": {},
   "source": [
    "d) <a id=\"aufgabe2d\"></a> Visualisieren Sie in einem Kreisdiagramm die Zusammensetzung des Marktes in freie Tankstellen und Markentankstellen. Nehmen Sie vereinfachend an, dass eine Tankstelle dann\n",
    "eine freie Tankstelle ist, wenn sie gemäß der Spalte \"brand\" einer Marke angehört, die bundesweit höchstens 20 Niederlassungen betreibt."
   ]
  },
  {
   "cell_type": "markdown",
   "metadata": {},
   "source": [
    "Zuerst wurde eine Liste mit allen möglichen Marken angelegt, die anschließend in ein Dictionary konvertiert wurden. \n",
    "Danach wurde in der for-Schleife gezählt, wie viele Tankstellen der jeweiligen Marke angehören.\n",
    "In einem neuen Dictionary, welches Marken- und freie Tankstellen und deren Anzahl beinhaltet, wurde nun mit Hilfe einer for-Schleife ermittelt, welche Tankstellenmarken öfter als 20-mal vorkommen und welche nicht. Je nachdem wurden die Werte in das Dictionary eingetragen."
   ]
  },
  {
   "cell_type": "code",
   "execution_count": null,
   "metadata": {},
   "outputs": [],
   "source": [
    "brand = list(df_stations['brand'].value_counts().index)\n",
    "\n",
    "def Convert(lst):\n",
    "    res_dct = {lst[i]: 0 for i in range(0, len(lst), 1)}\n",
    "    return res_dct\n",
    "\n",
    "lst = Convert(brand)\n",
    "\n",
    "for x in df_stations[\"brand\"]:\n",
    "    if x in lst:\n",
    "        lst[x] += 1\n",
    "\n",
    "tankstellenListe = {\"Markentankstellen\": 0, \"Freie Tankstellen\": 0}\n",
    "\n",
    "for x in lst.values():\n",
    "    if x > 20:\n",
    "        tankstellenListe[\"Markentankstellen\"] += x\n",
    "    else:\n",
    "        tankstellenListe[\"Freie Tankstellen\"] += x\n",
    "tankstellenListe"
   ]
  },
  {
   "cell_type": "markdown",
   "metadata": {},
   "source": [
    "Das Kuchendiagramm zeigt nun, dass fast 90% der Tankstellen in Deutschland einer Marke angehören, die mindestens 20 Niederlassungen in Deutschland hat."
   ]
  },
  {
   "cell_type": "code",
   "execution_count": null,
   "metadata": {},
   "outputs": [],
   "source": [
    "plt.pie(tankstellenListe.values(), labels = tankstellenListe.keys(), autopct=pie_label_formatter)\n",
    "plt.title(\"Anzahl der freien und Markentankstellen in Deutschland\")\n",
    "plt.show()"
   ]
  },
  {
   "cell_type": "markdown",
   "metadata": {},
   "source": [
    "e) <a id=\"aufgabe2e\"></a> Wie häufig wird an den bayerischen Tankstellen durchschnittlich pro Tag im Betrachtungszeitraum ein Datensatz an die Markttransparenzstelle für Kraftstoffe übermittelt? "
   ]
  },
  {
   "cell_type": "markdown",
   "metadata": {},
   "source": [
    "Um herauszufinden, wie oft am Tag Daten an die Markttransparenzstelle für Kraftstoffe übermittelt wurden, wurde der Mittelwert eines jeden Tages gebildet und im \"TagesDurchschnitt\" festgehalten. Anschließend wurde dann der allgemeine Durchschnitt berechnet, welcher bei ungefähr 32029 liegt. \n",
    "Dies ist mit der Methode \"mean()\" sehr einfach zu berechnen."
   ]
  },
  {
   "cell_type": "code",
   "execution_count": null,
   "metadata": {},
   "outputs": [],
   "source": [
    "TagesDurchschnitt = df_prices_BY[\"date\"].groupby(df_prices_BY[\"date\"].dt.date).count()\n",
    "TagesDurchschnitt"
   ]
  },
  {
   "cell_type": "code",
   "execution_count": null,
   "metadata": {},
   "outputs": [],
   "source": [
    "TagesDurchschnitt.mean()"
   ]
  },
  {
   "cell_type": "markdown",
   "metadata": {},
   "source": [
    "f) <a id=\"aufgabe2f\"></a> In welchen zehn bayerischen Städten war der durchschnittliche Diesel-Preis im Betrachtungszeitraum 2018-2021 am höchsten und wie hoch war er jeweils? In welchen zehn Städten war er am geringsten und wie hoch war er jeweils? "
   ]
  },
  {
   "cell_type": "markdown",
   "metadata": {},
   "source": [
    "Um Aufgabe 2f) zu beantworten, wurde zunächst ein DataFrame \"combined_df\" erstellt, welcher aus den Spalten \"station_uuid\" und \"diesel\" besteht."
   ]
  },
  {
   "cell_type": "code",
   "execution_count": null,
   "metadata": {},
   "outputs": [],
   "source": [
    "combinedStations = df_prices_BY.groupby(\"station_uuid\")[\"diesel\"].mean()"
   ]
  },
  {
   "cell_type": "code",
   "execution_count": null,
   "metadata": {},
   "outputs": [],
   "source": [
    "combined_df = pd.DataFrame(combinedStations)\n",
    "combined_df = combined_df.reset_index()"
   ]
  },
  {
   "cell_type": "markdown",
   "metadata": {},
   "source": [
    "Damit der DataFrame später mit dem, der die Informationen über die Tankstellen enthält, zusammengeführt werden kann, muss die Spalte, die bei beiden die gleichen Werte innehat, umbenannt werden. In diesem Fall wurde aus \"station_uuid\" nur \"uuid\"."
   ]
  },
  {
   "cell_type": "code",
   "execution_count": null,
   "metadata": {},
   "outputs": [],
   "source": [
    "combined_df.rename(columns = {\"station_uuid\":\"uuid\"}, inplace=\"True\")"
   ]
  },
  {
   "cell_type": "markdown",
   "metadata": {},
   "source": [
    "Danach wurde \"combined_df\" mit den Spalten \"uuid\" und \"city\" des DataFrames \"df_stations\" zusammengeführt. Dies geschieht auf Basis der uuid, die beide DataFrames haben.\n",
    "Auch hier wurde wieder der Durchschnitt der Preise gebildet, um nicht völlig abweichende Werte verwenden zu müssen."
   ]
  },
  {
   "cell_type": "code",
   "execution_count": null,
   "metadata": {},
   "outputs": [],
   "source": [
    "combined_df = combined_df.merge(df_stations[[\"uuid\", \"city\"]])\n",
    "combined_df = combined_df.groupby(\"city\")[\"diesel\"].mean()\n",
    "combined_df = pd.DataFrame(combined_df)\n",
    "combined_df = combined_df.reset_index()"
   ]
  },
  {
   "cell_type": "markdown",
   "metadata": {},
   "source": [
    "Nachfolgend sieht man die zehn Städte, in denen die Dieselpreise durchschnittlich am höchsten waren."
   ]
  },
  {
   "cell_type": "code",
   "execution_count": null,
   "metadata": {},
   "outputs": [],
   "source": [
    "combined_df.sort_values(by=[\"diesel\"], inplace=True, ascending=False)\n",
    "combined_df[0:10]"
   ]
  },
  {
   "cell_type": "markdown",
   "metadata": {},
   "source": [
    "Hier sind die 10 Städte zu sehen, in denen der Dieselpreis durchschnittlich am geringsten war."
   ]
  },
  {
   "cell_type": "code",
   "execution_count": null,
   "metadata": {},
   "outputs": [],
   "source": [
    "combined_df.sort_values(by=[\"diesel\"], ascending=True).head(10)"
   ]
  },
  {
   "cell_type": "markdown",
   "metadata": {},
   "source": [
    "g) <a id=\"aufgabe2g\"></a> Erstellen Sie mit folium eine interaktive Karte, auf der die einzelnen Tankstellen in Bayern\n",
    "als Marker (in einem Marker-Cluster) eingezeichnet sind. Beim Klick auf einen Marker soll\n",
    "der Name der Tankstelle und deren Adresse angezeigt werden."
   ]
  },
  {
   "cell_type": "markdown",
   "metadata": {},
   "source": [
    "Um geeignete Marker-Cluster zu erstellen, wurde zunächst erneut die CSV-Datei eingelesen, welche die Postleitzahlen mit zugehörigen Bundesländern und Landkreisen enthält. \n",
    "Damit die DataFrames zusammengeführt werden können, wurde in \"df_landkreise\" der Spaltenname der Postleitzahl geändert."
   ]
  },
  {
   "cell_type": "code",
   "execution_count": null,
   "metadata": {},
   "outputs": [],
   "source": [
    "df_landkreise = pd.read_csv(\"zuordnung_plz_ort_landkreis.csv\")\n",
    "df_landkreise.rename(columns = {\"plz\":\"post_code\"}, inplace=\"True\")"
   ]
  },
  {
   "cell_type": "markdown",
   "metadata": {},
   "source": [
    "Anschließend wurde zu \"df_stations_BY\" eine neue Spalte hinzugefügt, die die Information enthält, in welchem Landkreis sich die Tankstelle befindet."
   ]
  },
  {
   "cell_type": "code",
   "execution_count": null,
   "metadata": {},
   "outputs": [],
   "source": [
    "df_stations_BY = df_stations_BY.merge(df_landkreise[[\"post_code\", \"landkreis\"]])\n",
    "df_stations_BY = pd.DataFrame(df_stations_BY)\n",
    "df_stations_BY = df_stations_BY.reset_index()"
   ]
  },
  {
   "cell_type": "markdown",
   "metadata": {},
   "source": [
    "Insgesamt wurden 71 Landkreise eingetragen. Daraus resultiert, dass es insgesamt 71 Marker-Cluster geben muss."
   ]
  },
  {
   "cell_type": "code",
   "execution_count": null,
   "metadata": {},
   "outputs": [],
   "source": [
    "landkreise = list(df_stations_BY['landkreis'].value_counts().index)\n",
    "len(landkreise)"
   ]
  },
  {
   "cell_type": "markdown",
   "metadata": {},
   "source": [
    "Danach wurde der Mittelpunkt der Karte auf den Mittelpunkt Bayerns gesetzt. Die Koordinaten lauten: 48.9478033183036 und 11.404411169316944. \n",
    "Aus jedem der Landkreise wurde ein Marker-Cluster erstellt, welches die einzelnen Tankstellen des Landkreises als Marke beinhaltet. So sind die Cluster der Karte sinnvoll aufgeteilt und die Karte wirkt übersichtlicher. Auch lassen sich so bestimmte Tankstellen einfacher finden."
   ]
  },
  {
   "cell_type": "code",
   "execution_count": null,
   "metadata": {},
   "outputs": [],
   "source": [
    "m = folium.Map(location=[48.9478033183036, 11.404411169316944], zoom_start=7, tiles=\"openstreetmap\")\n",
    "\n",
    "for x in landkreise:\n",
    "    marker_cluster = MarkerCluster(name = x).add_to(m)\n",
    "    for i in df_stations_BY.loc[df_stations_BY[\"landkreis\"] == x].index:\n",
    "        folium.Marker([df_stations_BY[\"latitude\"][i], df_stations_BY[\"longitude\"][i]], \n",
    "        popup=df_stations_BY[\"name\"][i] + \" \" + df_stations_BY[\"street\"][i] + \" \" + str(df_stations_BY[\"post_code\"][i]) + \" \" + df_stations_BY[\"city\"][i]).add_to(marker_cluster)"
   ]
  },
  {
   "cell_type": "code",
   "execution_count": null,
   "metadata": {},
   "outputs": [],
   "source": [
    "m"
   ]
  },
  {
   "cell_type": "markdown",
   "metadata": {},
   "source": [
    "## Aufgabe 3  <a id=\"aufgabe3\"></a>\n",
    "#### (Analyse der historischen Entwicklung der Kraftstoffpreise)"
   ]
  },
  {
   "cell_type": "markdown",
   "metadata": {},
   "source": [
    "a) <a id=\"aufgabe3a\"></a> In welchem Monat im Betrachtungszeitraum waren die Kraftstoffpreise für Diesel in Bayern durchschnittlich am höchsten? In welchem am geringsten? Wie hoch waren die durchschnittlichen Preise jeweils?"
   ]
  },
  {
   "cell_type": "markdown",
   "metadata": {},
   "source": [
    "Zunächst erstellen wir eine neue Series, welche den Monatsdurchschnitt zu den Dieselpreisen enthält. Diese wandeln wir dann in einen DataFrame um und sortieren ihn."
   ]
  },
  {
   "cell_type": "code",
   "execution_count": null,
   "metadata": {},
   "outputs": [],
   "source": [
    "monthPrices = df_prices_BY.resample(rule='M', on='date')['diesel'].mean()\n",
    "monthPrices_df = pd.DataFrame(monthPrices)\n",
    "monthPrices_df = monthPrices_df.reset_index()"
   ]
  },
  {
   "cell_type": "markdown",
   "metadata": {},
   "source": [
    "Am höchsten war der Preis im November, 2018"
   ]
  },
  {
   "cell_type": "code",
   "execution_count": null,
   "metadata": {},
   "outputs": [],
   "source": [
    "monthPrices_df.sort_values(by=[\"diesel\"], inplace=True, ascending=False)\n",
    "monthPrices_df.head(1)"
   ]
  },
  {
   "cell_type": "markdown",
   "metadata": {},
   "source": [
    "Am niedrigsten war der Preis im Oktober, 2020"
   ]
  },
  {
   "cell_type": "code",
   "execution_count": null,
   "metadata": {},
   "outputs": [],
   "source": [
    "monthPrices_df.tail(1)"
   ]
  },
  {
   "cell_type": "markdown",
   "metadata": {},
   "source": [
    "b) <a id=\"aufgabe3b\"></a> Ermitteln Sie die Jahresdurchschnitte für die einzelnen Kraftstoffsorten in den Jahren 2018-2021 für die bayerischen Tankstellen. Visualisieren Sie diese in einem geeigneten Diagramm. Lassen sich Trends erkennen?"
   ]
  },
  {
   "cell_type": "markdown",
   "metadata": {},
   "source": [
    "Dazu erstellen wir drei neue DataFrames, welche auf dem df_prices_BY basieren. Wir filtern nach dem \"Y\", also Year und bilden den Mittelwert zum entsprechenden Kraftstoff."
   ]
  },
  {
   "cell_type": "code",
   "execution_count": null,
   "metadata": {},
   "outputs": [],
   "source": [
    "yearPrices_diesel = df_prices_BY.resample(rule='Y', on='date')['diesel'].mean()\n",
    "yearPrices_diesel_df = pd.DataFrame(yearPrices_diesel)\n",
    "yearPrices_diesel_df = yearPrices_diesel_df.reset_index()"
   ]
  },
  {
   "cell_type": "code",
   "execution_count": null,
   "metadata": {},
   "outputs": [],
   "source": [
    "yearPrices_e5 = df_prices_BY.resample(rule='Y', on='date')['e5'].mean()\n",
    "yearPrices_e5_df = pd.DataFrame(yearPrices_e5)\n",
    "yearPrices_e5_df = yearPrices_e5_df.reset_index()"
   ]
  },
  {
   "cell_type": "code",
   "execution_count": null,
   "metadata": {},
   "outputs": [],
   "source": [
    "yearPrices_e10 = df_prices_BY.resample(rule='Y', on='date')['e10'].mean()\n",
    "yearPrices_e10_df = pd.DataFrame(yearPrices_e10)\n",
    "yearPrices_e10_df = yearPrices_e10_df.reset_index()"
   ]
  },
  {
   "cell_type": "markdown",
   "metadata": {},
   "source": [
    "Nun mergen wir die neuen drei DataFrames wieder in einen Gemeinsamen namens merged_year_prices."
   ]
  },
  {
   "cell_type": "code",
   "execution_count": null,
   "metadata": {},
   "outputs": [],
   "source": [
    "merged_year_prices = yearPrices_diesel_df\n",
    "merged_year_prices = merged_year_prices.merge(yearPrices_e5_df, on=\"date\")\n",
    "merged_year_prices = merged_year_prices.merge(yearPrices_e10_df, on=\"date\")\n",
    "\n",
    "merged_year_prices"
   ]
  },
  {
   "cell_type": "markdown",
   "metadata": {},
   "source": [
    "Damit das Diagramm übersichtlicher ist, trimmen wir das date Format auf das Jahr."
   ]
  },
  {
   "cell_type": "code",
   "execution_count": null,
   "metadata": {},
   "outputs": [],
   "source": [
    "merged_year_prices[\"date\"] = merged_year_prices['date'].dt.strftime('%Y')"
   ]
  },
  {
   "cell_type": "markdown",
   "metadata": {},
   "source": [
    "Nun sortieren wir die Daten nach dem date, damit die Daten im Diagramm auch in der richtigen Reihenfolge angezeigt werden."
   ]
  },
  {
   "cell_type": "code",
   "execution_count": null,
   "metadata": {},
   "outputs": [],
   "source": [
    "merged_year_prices.sort_values(by=[\"date\"], inplace=True, ascending=True)"
   ]
  },
  {
   "cell_type": "markdown",
   "metadata": {},
   "source": [
    "Durch das Diagramm lässt sich nun erkennen, dass es zu 2020 einen Tiefpunkt bei allen Kraftstoffpreisen gab, dieser hat sich jedoch in 2021 wieder erholt.\n",
    "Was auch erkennbar ist, ist, dass die drei Krafstoffarten den gleichen preislichen Verlauf aufweisen."
   ]
  },
  {
   "cell_type": "code",
   "execution_count": null,
   "metadata": {},
   "outputs": [],
   "source": [
    "plt.plot(\"date\", \"diesel\", data=merged_year_prices)\n",
    "plt.plot(\"date\", \"e5\", data=merged_year_prices)\n",
    "plt.plot(\"date\", \"e10\", data=merged_year_prices)\n",
    "plt.xlabel(\"Jahr\")\n",
    "plt.ylabel(\"Preis in €\")\n",
    "plt.title(\"Jahresdurchschnitt der Kraftstoffpreise 2018 - 2021\")\n",
    "plt.legend()\n",
    "plt.show()"
   ]
  },
  {
   "cell_type": "markdown",
   "metadata": {},
   "source": [
    "c) <a id=\"aufgabe3c\"></a> Visualisieren Sie auf geeignete Weise den zeitlichen Verlauf der Preise für die Kraftstoffe Diesel und Super E5 und Super E10 an den bayerischen Tankstellen zwischen 2018 und 2021. Beschreiben und interpretieren Sie Ihre Beobachtungen."
   ]
  },
  {
   "cell_type": "markdown",
   "metadata": {},
   "source": [
    "Zuerst erstellen wir einen neuen DataFrame mit den Durchschnittswerten zu den einzelnen Kraftstoffen und gruppieren diese nach den Tagen."
   ]
  },
  {
   "cell_type": "code",
   "execution_count": null,
   "metadata": {},
   "outputs": [],
   "source": [
    "df_prices_BY"
   ]
  },
  {
   "cell_type": "code",
   "execution_count": null,
   "metadata": {},
   "outputs": [],
   "source": [
    "dayprices = df_prices_BY.resample(rule=\"D\", on=\"date\")[[\"diesel\", \"e5\", \"e10\"]].mean()"
   ]
  },
  {
   "cell_type": "markdown",
   "metadata": {},
   "source": [
    "Nun können wir die Daten in einem Line Plot anzeigen. Hier kann man zunächst erkennen, dass die drei Kraftstoffarten einen ähnlichen Preisverlauf haben, und, dass es Anfang 2020 einen Preissturz gab, welcher sich jedoch bereits Anfang 2021 wieder erholt hat."
   ]
  },
  {
   "cell_type": "code",
   "execution_count": null,
   "metadata": {},
   "outputs": [],
   "source": [
    "plt.figure(figsize=(10, 5))\n",
    "plt.plot(dayprices[\"diesel\"], label=\"Diesel\")\n",
    "plt.plot(dayprices[\"e5\"], label=\"e5\")\n",
    "plt.plot(dayprices[\"e10\"], label=\"e10\")\n",
    "plt.xlabel(\"Jahr\")\n",
    "plt.ylabel(\"Preise\")\n",
    "plt.title(\"Preisverlauf der Krafstoffarten 2018 - 2021\")\n",
    "plt.legend()\n",
    "plt.show()"
   ]
  },
  {
   "cell_type": "markdown",
   "metadata": {},
   "source": [
    "## Aufgabe 4 <a id=\"aufgabe4\"></a>\n",
    "#### (Abhängigkeit zwischen dem Rohölpreis und den Kraftstoffpreisen)"
   ]
  },
  {
   "cell_type": "markdown",
   "metadata": {},
   "source": [
    "a) <a id=\"aufgabe4a\"></a> Untersuchen Sie jeweils den Zusammenhang zwischen den Kraftstoffpreisen für Diesel bzw. Super E5 und dem Rohölpreis. Berechnen Sie dazu die Tagesmittelwerte für die Kraftstoffpreise für alle Tage im Betrachtungszeitraum 2018-2021 (für die bayerischen Tankstellen) und stellen Sie diese jeweils den Tagesschlusskursen für die Rohölsorte Brent Crude Oil (öffentlich verfügbar) in zwei Streudiagrammen (eines für Diesel und eines für E5) gegenüber. Laden Sie die verwendeten Ölpreis-Daten in Form einer CSV-Datei mit Ihrer Abgabe auf Moodle hoch."
   ]
  },
  {
   "cell_type": "markdown",
   "metadata": {},
   "source": [
    "Die Daten zum Brent-Crude-Oil-Preis wurden auf folgender Website gefunden und mit Hilfe eines CSV-Converters in eine CSV-Datei konvertiert:\n",
    "\n",
    "https://www.finanzen.net/rohstoffe/oelpreis/historisch/euro?type=Brent \n",
    "\n",
    "https://www.convertcsv.com/csv-to-csv.htm\n",
    "\n",
    "Die Tabelle zeigt den Ölpreis je Fass, was umgerechnet ca. 159 Litern entspricht."
   ]
  },
  {
   "cell_type": "code",
   "execution_count": null,
   "metadata": {},
   "outputs": [],
   "source": [
    "brent_preise = pd.read_csv(\"Brent_Crude_öl_preise.csv\")\n",
    "brent_preise['Datum'] = pd.to_datetime(brent_preise['Datum'], errors='coerce', utc=True)\n",
    "brent_preise[\"Datum\"] = brent_preise['Datum'].dt.strftime('%Y-%m-%d')"
   ]
  },
  {
   "cell_type": "code",
   "execution_count": null,
   "metadata": {},
   "outputs": [],
   "source": [
    "brent_preise"
   ]
  },
  {
   "cell_type": "markdown",
   "metadata": {},
   "source": [
    "Um nun einen DataFrame zu erstellen, in dem die Rohölpreise und die Kraftstoffpreise kombiniert zu sehen sind, musste die Spalte \"Datum\" des DataFrames \"brent_preise\" in \"date\" umbenannt werden. Dies dient dem Vorgang, die beiden DataFrames zusammenzuführen. Diese Zusammenführung wird mittels des Datums stattfinden, was heißt, dass das Datum eines Datensatzes mit einem anderen verglichen wird. Stimmen diese Daten überein, so findet sich der Datensatz kombiniert in einer Reihe wieder."
   ]
  },
  {
   "cell_type": "code",
   "execution_count": null,
   "metadata": {},
   "outputs": [],
   "source": [
    "brent_preise.rename(columns = {\"Datum\":\"date\"}, inplace=\"True\")"
   ]
  },
  {
   "cell_type": "markdown",
   "metadata": {},
   "source": [
    "Da im DataFrame dayprices das Datum als Index gesetzt war, wenden wir reset_index an um aufsteigende Indexwerte zu bekommen, und damit \"date\" eine eigenständige Spalte wird. Zusätzlich formatieren wir das Date Format von dayprices um, damit das mergen mit brent_preise funktioniert."
   ]
  },
  {
   "cell_type": "code",
   "execution_count": null,
   "metadata": {},
   "outputs": [],
   "source": [
    "dayprices = dayprices.reset_index()\n",
    "dayprices[\"date\"] = dayprices['date'].dt.strftime('%Y-%m-%d')"
   ]
  },
  {
   "cell_type": "code",
   "execution_count": null,
   "metadata": {},
   "outputs": [],
   "source": [
    "merged_fuel_oil = brent_preise.merge(dayprices, on=\"date\")"
   ]
  },
  {
   "cell_type": "markdown",
   "metadata": {},
   "source": [
    "In folgendem Diagramm erkennt man die Tagesschlusskurse zusammen mit den Dieselpreisen. Hier erkennt man gut, dass die Dieselpreise steigen, wenn auch der Rohölpreis steigt."
   ]
  },
  {
   "cell_type": "code",
   "execution_count": null,
   "metadata": {},
   "outputs": [],
   "source": [
    "plt.figure(figsize=(12,10))\n",
    "plt.scatter(merged_fuel_oil[\"diesel\"], merged_fuel_oil[\"Schluss\"])\n",
    "plt.title(\"Tagesschlusskurs korreliert mit Dieselpreis\")\n",
    "plt.xlabel(\"Dieselpreis in €\")\n",
    "plt.ylabel(\"Tagesschlusskurs\")\n",
    "plt.show()"
   ]
  },
  {
   "cell_type": "markdown",
   "metadata": {},
   "source": [
    "Auch hier bei dem Plot, der Super E5 und die Rohölpreise enthält, sieht man, dass die Tendenzen der Preise steigend sind. Man kann also vermuten, dass die jeweiligen Werte miteinander korrelieren."
   ]
  },
  {
   "cell_type": "code",
   "execution_count": null,
   "metadata": {},
   "outputs": [],
   "source": [
    "plt.figure(figsize=(12,10))\n",
    "plt.scatter(merged_fuel_oil[\"e5\"], merged_fuel_oil[\"Schluss\"])\n",
    "plt.title(\"Tagesschlusskurs korreliert mit Super E5 Preis\")\n",
    "plt.xlabel(\"Super E5 Preis in €\")\n",
    "plt.ylabel(\"Tagesschlusskurs\")\n",
    "plt.show()"
   ]
  },
  {
   "cell_type": "markdown",
   "metadata": {},
   "source": [
    "b) <a id=\"aufgabe4b\"></a> Berechnen Sie jeweils für Diesel und E5 den empirischen Korrelationskoeffizienten zwischen den Rohölpreisen und den Tagesmittelwerten der Kraftstoffpreise."
   ]
  },
  {
   "cell_type": "markdown",
   "metadata": {},
   "source": [
    "Um zu überprüfen, ob die Werte wirklich miteinander korrelieren, wurde zunächst der Korrelationskoeffizient ausgerechnet."
   ]
  },
  {
   "cell_type": "code",
   "execution_count": null,
   "metadata": {},
   "outputs": [],
   "source": [
    "merged_fuel_oil['diesel'].corr(merged_fuel_oil['Schluss'])"
   ]
  },
  {
   "cell_type": "code",
   "execution_count": null,
   "metadata": {},
   "outputs": [],
   "source": [
    "merged_fuel_oil['e5'].corr(merged_fuel_oil['Schluss'])"
   ]
  },
  {
   "cell_type": "markdown",
   "metadata": {},
   "source": [
    "Auch die Werte der Korrelationskoeffizienten zeigen die oben abgebildete Tendenz. Da diese Werte mit jeweils ca. 0.73 ziemlich nah an der 1 liegen, ist der lineare Zusammenhang zwischen Rohölpreisen und Diesel bzw. Rohölpreisen und E5 stark ausgeprägt."
   ]
  },
  {
   "cell_type": "markdown",
   "metadata": {},
   "source": [
    "c) <a id=\"aufgabe4c\"></a> Diskutieren Sie, ob lineare Modelle sinnvoll wären, um die Zusammenhänge zwischen dem Rohölpreis und den Preisen für Diesel bzw. E5 darzustellen."
   ]
  },
  {
   "cell_type": "markdown",
   "metadata": {},
   "source": [
    "Allgemein wären die Werte sicherlich geeignet, um die Daten mit einem linearen Modell darzustellen. Die Abbildungen zeigen, dass die Rohölpreise steigen, wenn auch die Kraftstoffpreise steigen. Dennoch ist der Nutzen eines linearen Modells nicht sehr sinnvoll. Der Grund hierfür liegt darin, dass die Preise sehr stark schwanken können, was ein lineares Modell nicht vorhersehen kann. So wäre ein lineares Modell zu ungenau, um den Zusammenhang zwischen Diesel- bzw. Super E5-Preisen und den Rohölpreisen zu zeigen."
   ]
  },
  {
   "cell_type": "markdown",
   "metadata": {},
   "source": [
    "## Aufgabe 5 <a id=\"aufgabe5\"></a>\n",
    "#### (Einfluss des Wettbewerbs auf die Kraftstoffpreise in Bayern)\n",
    "Untersuchen Sie, welchen Einfluss der Wettbewerb zwischen mehreren Tankstellen auf die Preisgestaltung hat. Ermitteln Sie dazu zunächst für jede Tankstelle in Bayern, wie viele Tankstellen sich im Umkreis von 5km Umgebung zu ihr befindet. Speichern Sie diese Angabe in einer Spalte namens neighbors. Speichern Sie den resultierenden DataFrame df_stations_BY als CSV-Datei namens stations_BY.csv und laden Sie diese mit Ihrer Abgabe auf Moodle hoch.\n",
    "Stellen Sie zunächst mögliche Hypothesen auf und untersuchen Sie diese anschließend, indem Sie geeignete Auswertungen und Visualisierungen erstellen."
   ]
  },
  {
   "cell_type": "markdown",
   "metadata": {},
   "source": [
    "### Hypothese\n",
    "\n",
    "Wir nehmen an, dass Tankstellen die im näheren Umfeld mehr Konkurrenz haben, günstiger sind und nur kleine Preisunterschiede haben, damit die Kunden sich für die günstigen Tankstellen entscheiden. In ländlichen Gebieten gibt es nahezu keine Konkurrenz, demnach können Tankstellen die Kraftstoffpreise erhöhen, da die Kunden auf die näheste Tankstelle angewiesen sind und keinen Preisvergleich zu anderen Tankstellen im Umfeld haben."
   ]
  },
  {
   "cell_type": "markdown",
   "metadata": {},
   "source": [
    "Um die Anzahl an Nachbar-Tankstellen zu zählen, haben wir eine Methode benutzt, die den Bereich der 5km in Longitude und Latitude berechnet. Wenn also eine Koordinate zwischen den beiden max und min Werten von Longitude und Latidude ist, so ist sie ein Nachbar der Tankstelle."
   ]
  },
  {
   "cell_type": "code",
   "execution_count": null,
   "metadata": {},
   "outputs": [],
   "source": [
    "def getNeighborCount(row, lat, lon):\n",
    "    coordRadius = getRadiusCoords(lat, lon, 5)\n",
    "    count = 0\n",
    "    for i, rowData in df_stations_BY.iterrows():\n",
    "        if row.name is not i:\n",
    "            if ((rowData[\"longitude\"] <= coordRadius[0]) & (rowData[\"latitude\"] <= coordRadius[1]) &\n",
    "                (rowData[\"longitude\"] >= coordRadius[2]) & (rowData[\"latitude\"] >= coordRadius[3])):\n",
    "                count += 1\n",
    "    return count\n",
    "\n",
    "proj_wgs84 = pyproj.Proj('+proj=longlat +datum=WGS84')\n",
    "\n",
    "def getRadiusCoords(lat, lon, km):\n",
    "    # Azimuthal equidistant projection\n",
    "    aeqd_proj = '+proj=aeqd +lat_0={lat} +lon_0={lon} +x_0=0 +y_0=0'\n",
    "    project = partial(\n",
    "        pyproj.transform,\n",
    "        pyproj.Proj(aeqd_proj.format(lat=lat, lon=lon)),\n",
    "        proj_wgs84)\n",
    "    buf = Point(0, 0).buffer(km * 1000)\n",
    "    coords = transform(project, buf).exterior.coords[:]\n",
    "    lonMax = max(coords,key=lambda item:item[0])[0]\n",
    "    latMax = max(coords,key=lambda item:item[1])[1]\n",
    "    lonMin = min(coords,key=lambda item:item[0])[0]\n",
    "    latMin = min(coords,key=lambda item:item[1])[1]\n",
    "    return [lonMax, latMax, lonMin, latMin]"
   ]
  },
  {
   "cell_type": "markdown",
   "metadata": {},
   "source": [
    "Hier werden die oben beschriebenen Funktionen angewendet. Die Anzahl an Tankstellen-Nachbarn wird danach in die neue Spalte \"neighbors\" eingefügt."
   ]
  },
  {
   "cell_type": "code",
   "execution_count": null,
   "metadata": {},
   "outputs": [],
   "source": [
    "df_stations_BY[\"neighbors\"] = df_stations_BY.progress_apply(lambda x: getNeighborCount(x, x[\"latitude\"], x[\"longitude\"]), axis=1)"
   ]
  },
  {
   "cell_type": "markdown",
   "metadata": {},
   "source": [
    "## Checkpoint Aufgabe 5, df_stations_BY, df_prices_BY <a id=\"checkpoint2\"></a>"
   ]
  },
  {
   "cell_type": "code",
   "execution_count": null,
   "metadata": {},
   "outputs": [],
   "source": [
    "df_stations_BY.to_csv(\"stations_BY.csv\", index=False)"
   ]
  },
  {
   "cell_type": "code",
   "execution_count": null,
   "metadata": {},
   "outputs": [],
   "source": [
    "df_stations_BY = pd.read_csv(\"stations_BY.csv\")"
   ]
  },
  {
   "cell_type": "markdown",
   "metadata": {},
   "source": [
    "Nun benennen wir die Spalte \"station_uuid\" in \"uuid\" um, damit wir diese später auf die uuid mergen können."
   ]
  },
  {
   "cell_type": "code",
   "execution_count": null,
   "metadata": {},
   "outputs": [],
   "source": [
    "df_prices_BY.rename(columns = {\"station_uuid\":\"uuid\"}, inplace=\"True\")"
   ]
  },
  {
   "cell_type": "markdown",
   "metadata": {},
   "source": [
    "Wir erstellen einen neuen DataFrame, bei dem der Durchschnitt der Kraftstoffpreise zur uuid gebildet wird. Damit dieser wieder einen Index besitzt, wird reset_index angewendet."
   ]
  },
  {
   "cell_type": "code",
   "execution_count": null,
   "metadata": {},
   "outputs": [],
   "source": [
    "mean_prices = df_prices_BY.groupby(\"uuid\")[[\"diesel\", \"e5\", \"e10\"]].mean()\n",
    "mean_prices = pd.DataFrame(mean_prices)\n",
    "mean_prices = mean_prices.reset_index()"
   ]
  },
  {
   "cell_type": "markdown",
   "metadata": {},
   "source": [
    "Nun erstellen wir einen gemergeden Datensatz aus mean_prices und df_stations_BY. Damit haben wir nun die Preise und die Nachbarinformationen in einem DataFrame."
   ]
  },
  {
   "cell_type": "code",
   "execution_count": null,
   "metadata": {},
   "outputs": [],
   "source": [
    "merged_price_count = mean_prices.merge(df_stations_BY[[\"uuid\", \"neighbors\"]], on=\"uuid\")"
   ]
  },
  {
   "cell_type": "markdown",
   "metadata": {},
   "source": [
    "Jetzt können wir ein Streudiagramm erstellen, in denen man übersichtlich sehen kann, wie sich die Preise bei vielen oder wenigen Tankstellennachbarn verhalten."
   ]
  },
  {
   "cell_type": "code",
   "execution_count": null,
   "metadata": {},
   "outputs": [],
   "source": [
    "plt.figure(figsize=(12,10))\n",
    "plt.scatter(merged_price_count[\"diesel\"], merged_price_count[\"neighbors\"], label=\"diesel\", alpha=0.5)\n",
    "plt.scatter(merged_price_count[\"e5\"], merged_price_count[\"neighbors\"], label=\"e5\", alpha=0.5)\n",
    "plt.scatter(merged_price_count[\"e10\"], merged_price_count[\"neighbors\"], label=\"e10\", alpha=0.5)\n",
    "plt.xlabel(\"Kraftstoffpreis in €\")\n",
    "plt.ylabel(\"Anzahl Nachbarn\")\n",
    "plt.title(\"Verteilung von Tankstellennachbarn und Preisen\")\n",
    "plt.legend()\n",
    "plt.show()"
   ]
  },
  {
   "cell_type": "markdown",
   "metadata": {},
   "source": [
    "## Hypothesen Analyse\n",
    "\n",
    "\n",
    "Es ist zu erkennen, dass Tankstellen die wenig Nachbarn haben, eine größere empirische Varianz zum arithmetischen Mittelwert der Preise besitzen. Außerdem besitzen Tankstellen mit wenigen Nachbarn viel höhere Preise als Tankstellen mit vielen Nachbarn. Daraus lässt sich stark herauslesen, dass der Wettbewerb der Tankstellen einen großen Einfluss auf die Preisgestaltung der Kraftstoffe hat.\n",
    "\n",
    "Außerdem lässt sich erkennen, dass ungefähr ab 40 Tankstellen-Nachbarn keine großen Preisunterschiede mehr erkennbar sind. Je weniger Nachbarn, desto mehr unterschiedliche Preise gibt es.\n",
    "\n",
    "Unsere Hypothese hat sich hiermit bestätigt."
   ]
  },
  {
   "cell_type": "markdown",
   "metadata": {},
   "source": [
    "## Aufgabe 6 <a id=\"aufgabe6\"></a>\n",
    "#### (Tanken in Amberg, Interaktives Diagramm)\n",
    "Herr Sparfuchs, der als Rentner zeitlich flexibel ist, möchte wissen, wann und wo er in Amberg derzeit am günstigsten tanken kann. Erstellen Sie dazu ein geeignetes interaktives Diagramm mit Plotly, um die Kraftstoffpreise an den Tankstellen in Amberg zu analysieren, und\n",
    "leiten Sie Empfehlungen für Herrn Sparfuchs ab. Erstellen Sie für die Analyse zwei DataFrames namens df_stations_amberg und df_prices_amberg, die aus Filterung der Tankstellen und Preisdatensätze hervorgehen, und verwenden Sie ausschließlich diese für die Erzeugung des Plotly-Diagramms. Dokumentieren Sie Ihre Analyseergebnisse."
   ]
  },
  {
   "cell_type": "markdown",
   "metadata": {},
   "source": [
    "Zunächst wurden zwei neue DataFrames gebildet, die nur die Daten der Tankstellen Ambergs enthalten."
   ]
  },
  {
   "cell_type": "code",
   "execution_count": null,
   "metadata": {},
   "outputs": [],
   "source": [
    "df_stations_amberg = df_stations.loc[df_stations[\"post_code\"] == 92224]\n",
    "df_stations_amberg = df_stations_amberg.reset_index(drop=True)"
   ]
  },
  {
   "cell_type": "markdown",
   "metadata": {},
   "source": [
    "Mit Hilfe von \"merge\" konnten die Preislisten so gefiltert werden, dass diese nur aus \"uuids\" der Tankstellen bestehen, die sich in Amberg befinden."
   ]
  },
  {
   "cell_type": "code",
   "execution_count": null,
   "metadata": {},
   "outputs": [],
   "source": [
    "df_prices_amberg = df_stations_amberg.merge(df_prices_BY[[\"uuid\", \"diesel\", \"e5\", \"e10\", \"date\"]], on=\"uuid\")"
   ]
  },
  {
   "cell_type": "markdown",
   "metadata": {},
   "source": [
    "Da Herr Sparfuchs aktuelle Preise im Diagramm vorfinden möchte, werden nur die Datensätze aus dem Monat Mai 2021 betrachtet.Um das Diagramm auch nicht zu sehr vollzupacken, wurden die Tagesdurchschnittspreise berechnet. Wichtig ist hier zu sagen, dass der Durchschnitt der Preise einer Tankstelle immer zur gleichen Zeit berechnet wurde. So sieht man im Verlauf des Tages gut, wann die Preise wie gestiegen sind."
   ]
  },
  {
   "cell_type": "code",
   "execution_count": null,
   "metadata": {},
   "outputs": [],
   "source": [
    "mask = df_prices_amberg['date'] >= '2021-05-1'\n",
    "df_prices_amberg = df_prices_amberg.loc[mask]"
   ]
  },
  {
   "cell_type": "code",
   "execution_count": null,
   "metadata": {},
   "outputs": [],
   "source": [
    "def hourGrouper(row):\n",
    "    return df_prices_amberg.at[row, \"date\"].hour\n",
    "\n",
    "df_amberg_daymean = df_prices_amberg.groupby(by=[\"uuid\", hourGrouper]).mean()"
   ]
  },
  {
   "cell_type": "code",
   "execution_count": null,
   "metadata": {},
   "outputs": [],
   "source": [
    "df_amberg_daymean = df_amberg_daymean.reset_index()\n",
    "df_amberg_daymean = df_amberg_daymean.merge(df_stations_amberg[[\"uuid\", \"name\"]], on=\"uuid\")"
   ]
  },
  {
   "cell_type": "code",
   "execution_count": null,
   "metadata": {},
   "outputs": [],
   "source": [
    "df_amberg_daymean.sort_values(by=[\"level_1\"], inplace=True)"
   ]
  },
  {
   "cell_type": "code",
   "execution_count": null,
   "metadata": {},
   "outputs": [],
   "source": [
    "df_amberg_daymean.rename(columns = {\"level_1\":\"Stunde\"}, inplace=\"True\")"
   ]
  },
  {
   "cell_type": "code",
   "execution_count": null,
   "metadata": {},
   "outputs": [],
   "source": [
    "df_amberg_daymean"
   ]
  },
  {
   "cell_type": "markdown",
   "metadata": {},
   "source": [
    "## Checkpoint Aufgabe 6 df_stations_amberg, df_prices_amberg <a id=\"checkpoint3\"></a>"
   ]
  },
  {
   "cell_type": "markdown",
   "metadata": {},
   "source": [
    "Um nicht jedes Mal viel Zeit in die Filterung der Daten zu stecken, werden zwei neue CSV-Dateien der Preise und der Tankstellen in Amberg gebildet."
   ]
  },
  {
   "cell_type": "code",
   "execution_count": null,
   "metadata": {},
   "outputs": [],
   "source": [
    "df_stations_amberg.to_csv(\"state_6_df_stations_amberg.csv\", index=False)\n",
    "df_prices_amberg.to_csv(\"state_6_df_prices_amberg.csv\", index=False)"
   ]
  },
  {
   "cell_type": "code",
   "execution_count": null,
   "metadata": {},
   "outputs": [],
   "source": [
    "df_stations_amberg = pd.read_csv(\"df_stations_amberg.csv\")\n",
    "df_prices_amberg = pd.read_csv(\"df_prices_amberg.csv\")"
   ]
  },
  {
   "cell_type": "code",
   "execution_count": null,
   "metadata": {},
   "outputs": [],
   "source": [
    "fig = px.line(df_amberg_daymean,y=[\"e5\", \"e10\", \"diesel\"], x=\"Stunde\", color=\"name\", title='Tankstellenpreise Amberg')"
   ]
  },
  {
   "cell_type": "markdown",
   "metadata": {},
   "source": [
    "Im interaktiven Plotly-Diagramm kann man nun also verschieden Lineplots sehen. Im ersten Diagrammteil ist eine Übersicht aller Kraftstoffarten aller Tankstellen abgebildet. Bei einem Klick auf die Tankstellennamen auf der rechten Seite kann man Tankstellen ausblenden, falls man nur bestimmte sehen will. \n",
    "Möchte Herr Sparfuchs die Werte der einzelnen Kraftstoffarten in einer Übersicht dargestellt haben, so kann er auf die Buttons klicken, um Super E5, Super E10 oder Diesel zu erhalten."
   ]
  },
  {
   "cell_type": "code",
   "execution_count": null,
   "metadata": {},
   "outputs": [],
   "source": [
    "fig.update_layout(\n",
    "    autosize=False,\n",
    "    width=1000,\n",
    "    height=500,\n",
    "    showlegend=True,\n",
    "    xaxis_title=\"Uhrzeit\",\n",
    "    yaxis_title=\"Kraftstoffpreis in €\",\n",
    "    updatemenus=[\n",
    "        dict(\n",
    "            type=\"buttons\",\n",
    "            direction=\"right\",\n",
    "            x=0.7,\n",
    "            y=1.2,\n",
    "            showactive=True,\n",
    "            buttons=list(\n",
    "                [\n",
    "                    dict(\n",
    "                        label=\"Vergleich\",\n",
    "                        method=\"update\",\n",
    "                        args=[{\"visible\": [True, True, True]}],\n",
    "                    ),\n",
    "                    dict(\n",
    "                        label=\"E5\",\n",
    "                        method=\"update\",\n",
    "                        args=[{\"visible\": [True, False, False]}],\n",
    "                    ),\n",
    "                    dict(\n",
    "                        label=\"E10\",\n",
    "                        method=\"update\",\n",
    "                        args=[{\"visible\": [False, True, False]}],\n",
    "                    ),\n",
    "                    dict(\n",
    "                        label=\"Diesel\",\n",
    "                        method=\"update\",\n",
    "                        args=[{\"visible\": [False, False, True]}],\n",
    "                    ),\n",
    "                ]\n",
    "            ),\n",
    "        )\n",
    "    ]\n",
    ")\n",
    "\n"
   ]
  },
  {
   "cell_type": "markdown",
   "metadata": {},
   "source": [
    "### Empfehlung für Herrn Sparfuchs: \n",
    "Um nun möglichst günstig tanken zu können, sollte er zwischen 14:00 Uhr und 18:00 Uhr eine Tankstelle in Amberg aufsuchen.\n",
    "Um 18:00 Uhr könnte er bei der Supermarkt-Tankstelle am real,-Markt am günstigens den Kraftstoff Super E10 tanken.\n",
    "Möchte er lieber Super E5 tanken, könnte er bei der SB-Markttankstelle um 19:00 Uhr am günstigsten tanken.\n",
    "Fährt Herr Sparfuchs Diesel, so kann entweder um 17:00 Uhr bei der Supermarkt-Tankstelle am real,-Markt oder um 19:00 Uhr bei der SB-Markttankstelle preisgünstig tanken."
   ]
  },
  {
   "cell_type": "markdown",
   "metadata": {},
   "source": [
    "## Zusammenfassung der Analyseergebnisse"
   ]
  },
  {
   "cell_type": "markdown",
   "metadata": {},
   "source": [
    "### Unscheinbarer Datensatz - viele Informationen\n",
    "Etwas sehr Erstaunliches waren die Fülle an Informationen, die man aus einem vielleicht auch eher uninteressanten Datensatz bekommt. Am Anfang der Projektarbeit wirkten die Datensätze über Tankstellen und deren Preise eher unscheinbar und auch etwas langweilig. Dass man aber so viele - auch interessante - Informationen herausfiltern kann, war wirklich erstaunlich. Das zeigt, dass im Unscheinbaren durchaus Schätze liegen können.\n",
    "\n",
    "### Vertraue keinem Datensatz\n",
    "Durch die Vorbereitung des Datensatzes für Aufgabe 1, ist schnell klar geworden, dass man niemals sofort mit der Analyse der Daten beginnen sollte. Die Daten sollten immer zuerst kontrolliert und aufbereitet werden. So sind Fehler in späteren Analysefällen vermeidbar.\n",
    "\n",
    "### Tankstellen in Deutschland\n",
    "In Deutschland überwiegen die Markentankstellen deutlich, sehr viele Tankstellen haben Sonntags geöffnet und die größte Tankstellenmarke ist ARAL.\n",
    "\n",
    "### Historische Entwicklung der Kraftstoffpreise: Starker Preissturz 2020\n",
    "In dem Diagramm in Aufgabe 3b) kann man erkennen, dass 2020 während der Pandemie der Preis aller Kraftstoffe stark einstürzte. Dies könnte daran liegen, dass viele Menschen in dieser Zeit im Homeoffice beschäftigt waren und kaum Freizeitaktivitäten unternehmen konnten, bei denen man ein Auto gebraucht hätte. Die daraus resultierende Frage, die man sich nun stellen könnte, wäre: Wären die Preise auch eingebrochen, wenn es keine Pandemie gegeben hätte?\n",
    "\n",
    "Ansonsten konnte man in jeder zeitlichen Phase erkennen, dass die Kraftstoffpreise ähnliche Preisverläufe hatten.\n",
    "\n",
    "### Wettbewerb beeinflusst Preise\n",
    "Aus der Analyse ging auch hervor, dass der Wettbewerb die Preise stark beeinflusst. Was Tankstellenpreise betrifft, gibt es schon die Vermutung, dass die Preise bei Tankstellen, die mehrere Nachbarn haben, eher gleich sind, aber, dass das wirklich zutrifft, war erstaunlich zu sehen. Auch, dass es teilweise vermutlich eher ländliche Tankstellen gibt, die dann die Preise so machen können, wie sie es für richtig halten, da es hier fast keine Konkurrenz gibt. Wenn man also wirklich günstig tanken will, sollte man das alles bedenken und in seine Überlegung zur Wahl der Tankstelle mit einbeziehen.\n",
    "\n",
    "### Tanken in Amberg\n",
    "Durch die Analyse der Tankstellendaten in Amberg und durch das ansprechende Diagramm, kann man gut erkennen, zu welchen Tageszeiten man in Amberg am günstigen tanken kann. Es ist klar zu erkennen, dass die Preise in die Höhe schießen, wenn der große Pendlerverkehr beginnt. \n",
    "Diese sind Morgens um 7:00 und 10:00, und Abends um 20:00. Diese basieren wahrscheinlich auf den durchschnittlichen Arbeitszeiten einer Person.\n",
    "Wenn man in Amberg günstig tanken will, so sollte man dies zwischen 14:00 und 18:00 Uhr tun."
   ]
  }
 ],
 "metadata": {
  "interpreter": {
   "hash": "aee8b7b246df8f9039afb4144a1f6fd8d2ca17a180786b69acc140d282b71a49"
  },
  "kernelspec": {
   "display_name": "Python 3",
   "language": "python",
   "name": "python3"
  },
  "language_info": {
   "codemirror_mode": {
    "name": "ipython",
    "version": 3
   },
   "file_extension": ".py",
   "mimetype": "text/x-python",
   "name": "python",
   "nbconvert_exporter": "python",
   "pygments_lexer": "ipython3",
   "version": "3.7.6"
  }
 },
 "nbformat": 4,
 "nbformat_minor": 2
}