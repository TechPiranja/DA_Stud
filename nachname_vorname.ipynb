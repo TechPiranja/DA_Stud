{
 "metadata": {
  "language_info": {
   "codemirror_mode": {
    "name": "ipython",
    "version": 3
   },
   "file_extension": ".py",
   "mimetype": "text/x-python",
   "name": "python",
   "nbconvert_exporter": "python",
   "pygments_lexer": "ipython3",
   "version": "3.9.1"
  },
  "orig_nbformat": 4,
  "kernelspec": {
   "name": "python3",
   "display_name": "Python 3.9.1 64-bit"
  },
  "interpreter": {
   "hash": "aee8b7b246df8f9039afb4144a1f6fd8d2ca17a180786b69acc140d282b71a49"
  }
 },
 "nbformat": 4,
 "nbformat_minor": 2,
 "cells": [
  {
   "source": [
    "# Data Analytics SoSe 2021\n",
    "## Gruppenmitglieder: Anja Stricker, Annika Stadelmann"
   ],
   "cell_type": "markdown",
   "metadata": {}
  },
  {
   "source": [
    "### Aufgabe 1\n",
    "#### (Datenvorbereitung)\n",
    "Lesen Sie den unter der o.g. Adresse verfugbaren tellendatensatz zum Stand 31.05.2021 ¨\n",
    "in einen DataFrame namens df stations ein. Dieser soll in dieser Aufgabe fur die weitere ¨\n",
    "Verwendung vorbereitet werden."
   ],
   "cell_type": "markdown",
   "metadata": {}
  },
  {
   "cell_type": "code",
   "execution_count": 8,
   "metadata": {},
   "outputs": [],
   "source": [
    "import pandas as pd\n",
    "\n",
    "df_stations = pd.read_csv(\"2021-05-31-stations.csv\")"
   ]
  },
  {
   "source": [
    "a) Untersuchen Sie den Datensatz auf fehlende Werte und setzen Sie ggf. eine geeignete Strategie um, um mit diesen zu verfahren. Begrunden Sie Ihr Vorgehen."
   ],
   "cell_type": "markdown",
   "metadata": {}
  },
  {
   "cell_type": "code",
   "execution_count": null,
   "metadata": {},
   "outputs": [],
   "source": [
    "#TODO"
   ]
  },
  {
   "source": [
    "b) Transformieren Sie die Spalten brand, street und city, sodass die Werte jeweils nur\n",
    "in Großbuchstaben ausgeben werden."
   ],
   "cell_type": "markdown",
   "metadata": {}
  },
  {
   "cell_type": "code",
   "execution_count": null,
   "metadata": {},
   "outputs": [],
   "source": [
    "#TODO"
   ]
  },
  {
   "source": [
    "c) Uberprüfen Sie, ob der Datensatz Duplikate enth ¨ alt und entfernen Sie diese ggf. Ein Dupli- ¨\n",
    "kat liege dann vor, wenn zwei Tankstellen in den Spalten name, street, house number\n",
    "und post code ubereinstimmen. Geben Sie aus, wie viele Duplikate ermittelt und entfernt ¨\n",
    "wurden."
   ],
   "cell_type": "markdown",
   "metadata": {}
  },
  {
   "cell_type": "code",
   "execution_count": null,
   "metadata": {},
   "outputs": [],
   "source": [
    "#TODO"
   ]
  },
  {
   "source": [
    "d) Untersuchen Sie die Spalten longitude und latitude auf unphysikalische Werte, indem Sie zunachst deren Verteilung in einem Histogramm visualisieren. Entfernen oder kor- ¨\n",
    "rigieren Sie anschließend die Eintrage zu denjenigen Tankstellen, bei denen Sie unphysi- ¨\n",
    "kalische Werte festgestellt haben. Zeichnen Sie anschließend erneut Histogramme fur die ¨\n",
    "beiden Spalten longitude und latitude."
   ],
   "cell_type": "markdown",
   "metadata": {}
  },
  {
   "cell_type": "code",
   "execution_count": null,
   "metadata": {},
   "outputs": [],
   "source": [
    "#TODO"
   ]
  },
  {
   "source": [
    "e) Reichern Sie den Tankstellendatensatz um die Spalte state an, die das Bundesland enthalten soll, in dem sich die Tankstelle befindet. Erzeugen Sie durch Filterung einen DataFrame\n",
    "namens df_stations_BY, der die Informationen zu allen Tankstellen in Bayern enthalt."
   ],
   "cell_type": "markdown",
   "metadata": {}
  },
  {
   "cell_type": "code",
   "execution_count": null,
   "metadata": {},
   "outputs": [],
   "source": [
    "#TODO"
   ]
  },
  {
   "source": [
    "Lesen Sie nun den Preise-Datensatz aus dem GitLab-Repository in einen DataFrame namens\n",
    "df_prices_BY ein. Dieser wurde durch Filterung der auf der Tankerkonig-Seite verf ¨ ugbaren ¨\n",
    "Preise-Datensatze erzeugt und enth ¨ alt die Angaben zur historischen Preisen und Preis ¨ anderungen ¨\n",
    "an den Tankstellen in Bayern im Betrachtungszeitraum zwischen Januar 2018 und Mai 2021."
   ],
   "cell_type": "markdown",
   "metadata": {}
  },
  {
   "source": [
    "f) Untersuchen Sie die Kraftstoffpreise auf Ausreißer und entfernen Sie diese ggf."
   ],
   "cell_type": "markdown",
   "metadata": {}
  },
  {
   "cell_type": "code",
   "execution_count": null,
   "metadata": {},
   "outputs": [],
   "source": [
    "#TODO"
   ]
  },
  {
   "source": [
    "g) Uberf ¨ uhren Sie die Spalte ¨ date in ein DateTime-Format."
   ],
   "cell_type": "markdown",
   "metadata": {}
  },
  {
   "cell_type": "code",
   "execution_count": null,
   "metadata": {},
   "outputs": [],
   "source": [
    "#TODO"
   ]
  },
  {
   "source": [
    "### Aufgabe 2 \n",
    "#### (Explorative Datenanalyse)\n",
    "In dieser Aufgabe sind erste einfache Analysen durchzufuhren und Visualisierungen zu erstellen"
   ],
   "cell_type": "markdown",
   "metadata": {}
  },
  {
   "source": [
    "a) Wie viele Tankstellen gibt es insgesamt in Deutschland? Wie viele pro Bundesland?"
   ],
   "cell_type": "markdown",
   "metadata": {}
  },
  {
   "cell_type": "code",
   "execution_count": null,
   "metadata": {},
   "outputs": [],
   "source": [
    "#TODO"
   ]
  },
  {
   "source": [
    "b) Welches sind die zehn Tankstellenmarken mit den meisten Niederlassungen in Deutschland?\n",
    "Wie viele Niederlassungen sind es jeweils?"
   ],
   "cell_type": "markdown",
   "metadata": {}
  },
  {
   "cell_type": "code",
   "execution_count": null,
   "metadata": {},
   "outputs": [],
   "source": [
    "#TODO"
   ]
  },
  {
   "source": [
    "c) Welcher Anteil der Tankstellen hat sonntags geoffnet?"
   ],
   "cell_type": "markdown",
   "metadata": {}
  },
  {
   "cell_type": "code",
   "execution_count": null,
   "metadata": {},
   "outputs": [],
   "source": [
    "#TODO"
   ]
  },
  {
   "source": [
    "d) Visualisieren Sie in einem Kreisdiagramm die Zusammensetzung des Marktes in freie Tankstellen und Markentankstellen. Nehmen Sie vereinfachend an, dass eine Tankstelle dann\n",
    "eine freie Tankstelle ist, wenn sie gemaß der Spalte ¨ brand einer Marke angehort, die bun- ¨\n",
    "desweit hochstens 20 Niederlassungen betreibt."
   ],
   "cell_type": "markdown",
   "metadata": {}
  },
  {
   "cell_type": "code",
   "execution_count": null,
   "metadata": {},
   "outputs": [],
   "source": [
    "#TODO"
   ]
  },
  {
   "source": [
    "e) Wie haufig wird an den bayerischen Tankstellen durchschnittlich pro Tag im Betrachtungs- ¨\n",
    "zeitraum ein Datensatz an die Markttransparenzstelle fur Kraftstoffe ¨ ubermittelt? "
   ],
   "cell_type": "markdown",
   "metadata": {}
  },
  {
   "cell_type": "code",
   "execution_count": null,
   "metadata": {},
   "outputs": [],
   "source": [
    "#TODO"
   ]
  },
  {
   "source": [
    "f) In welchen zehn bayerischen Stadten war der durchschnittliche Diesel-Preis im Betrach- ¨\n",
    "tungszeitraum 2018-2021 am hochsten und wie hoch war er jeweils? In welchen zehn ¨\n",
    "Stadten war er am geringsten und wie hoch war er jeweils? "
   ],
   "cell_type": "markdown",
   "metadata": {}
  },
  {
   "cell_type": "code",
   "execution_count": null,
   "metadata": {},
   "outputs": [],
   "source": [
    "#TODO"
   ]
  },
  {
   "source": [
    "g) Erstellen Sie mit folium eine interaktive Karte, auf der die einzelnen Tankstellen in Bayern\n",
    "als Marker (in einem Marker-Cluster) eingezeichnet sind. Beim Klick auf einen Marker soll\n",
    "der Name der Tankstelle und deren Adresse angezeigt werden."
   ],
   "cell_type": "markdown",
   "metadata": {}
  },
  {
   "cell_type": "code",
   "execution_count": null,
   "metadata": {},
   "outputs": [],
   "source": [
    "#TODO"
   ]
  },
  {
   "source": [
    "### Aufgabe 3\n",
    "#### (Analyse der historischen Entwicklung der Kraftstoffpreise)"
   ],
   "cell_type": "markdown",
   "metadata": {}
  },
  {
   "source": [
    "a) In welchem Monat im Betrachtungszeitraum waren die Kraftstoffpreise fur Diesel in Bay- ¨\n",
    "ern durchschnittlich am hochsten? In welchem am geringsten? Wie hoch waren die durch- ¨\n",
    "schnittlichen Preise jeweils?"
   ],
   "cell_type": "markdown",
   "metadata": {}
  },
  {
   "cell_type": "code",
   "execution_count": null,
   "metadata": {},
   "outputs": [],
   "source": [
    "#TODO"
   ]
  },
  {
   "source": [
    "b) Ermitteln Sie die Jahresdurchschnitte fur die einzelnen Kraftstoffsorten in den Jahren 2018- ¨\n",
    "2021 fur die bayerischen Tankstellen. Visualisieren Sie diese in einem geeigneten Dia- ¨\n",
    "gramm. Lassen sich Trends erkennen?"
   ],
   "cell_type": "markdown",
   "metadata": {}
  },
  {
   "cell_type": "code",
   "execution_count": null,
   "metadata": {},
   "outputs": [],
   "source": [
    "#TODO"
   ]
  },
  {
   "source": [
    "c) Visualisieren Sie auf geeignete Weise den zeitlichen Verlauf der Preise fur die Kraftstoffe ¨\n",
    "Diesel und Super E5 und Super E10 an den bayerischen Tankstellen zwischen 2018 und\n",
    "2021. Beschreiben und interpretieren Sie Ihre Beobachtungen."
   ],
   "cell_type": "markdown",
   "metadata": {}
  },
  {
   "cell_type": "code",
   "execution_count": null,
   "metadata": {},
   "outputs": [],
   "source": [
    "#TODO"
   ]
  },
  {
   "source": [
    "### Aufgabe 4\n",
    "#### (Abhangigkeit zwischen dem Roh ¨ olpreis und den Kraftstoffpreisen)"
   ],
   "cell_type": "markdown",
   "metadata": {}
  },
  {
   "source": [
    "a) Untersuchen Sie jeweils den Zusammenhang zwischen den Kraftstoffpreisen fur Diesel bzw. ¨\n",
    "Super E5 und dem Roholpreis. Berechnen Sie dazu die Tagesmittelwerte f ¨ ur die Kraftstoff- ¨\n",
    "preise fur alle Tage im Betrachtungszeitraum 2018-2021 (f ¨ ur die bayerischen Tankstellen) ¨\n",
    "und stellen Sie diese jeweils den Tagesschlusskursen fur die Roh ¨ olsorte Brent Crude Oil ¨\n",
    "(offentlich verf ¨ ugbar) in zwei Streudiagrammen (eines f ¨ ur Diesel und eines f ¨ ur E5) ge- ¨\n",
    "genuber. Laden Sie die verwendeten ¨ Olpreis-Daten in Form einer CSV-Datei mit Ihrer Ab- ¨\n",
    "gabe auf Moodle hoch."
   ],
   "cell_type": "markdown",
   "metadata": {}
  },
  {
   "cell_type": "code",
   "execution_count": null,
   "metadata": {},
   "outputs": [],
   "source": [
    "#TODO"
   ]
  },
  {
   "source": [
    "b) Berechnen Sie jeweils fur Diesel und E5 den empirischen Korrelationskoeffizienten zwi- ¨\n",
    "schen den Roholpreisen und den Tagesmittelwerten der Kraftstoffpreise."
   ],
   "cell_type": "markdown",
   "metadata": {}
  },
  {
   "cell_type": "code",
   "execution_count": null,
   "metadata": {},
   "outputs": [],
   "source": [
    "#TODO"
   ]
  },
  {
   "source": [
    "c) Diskutieren Sie, ob lineare Modelle sinnvoll waren, um die Zusammenh ¨ ange zwischen dem ¨\n",
    "Roholpreis und den Preisen f ¨ ur Diesel bzw. E5 darzustellen."
   ],
   "cell_type": "markdown",
   "metadata": {}
  },
  {
   "cell_type": "code",
   "execution_count": null,
   "metadata": {},
   "outputs": [],
   "source": [
    "#TODO"
   ]
  },
  {
   "source": [
    "### Aufgabe 5\n",
    "#### (Einfluss des Wettbewerbs auf die Kraftstoffpreise in Bayern)\n",
    "Untersuchen Sie, welchen Einfluss der Wettbewerb zwischen mehreren Tankstellen auf die Preisgestaltung hat. Ermitteln Sie dazu zunachst f ¨ ur jede Tankstelle in Bayern, wie viele Tankstellen ¨\n",
    "sich im Umkreis von 5km Umgebung zu ihr befindet. Speichern Sie diese Angabe in einer Spalte namens neighbors. Speichern Sie den resultierenden DataFrame df stations BY als\n",
    "CSV-Datei namens stations BY.csv und laden Sie diese mit Ihrer Abgabe auf Moodle hoch.\n",
    "Stellen Sie zunachst m ¨ ogliche Hypothesen auf und untersuchen Sie diese anschließend, indem Sie ¨\n",
    "geeignete Auswertungen und Visualisierungen erstellen."
   ],
   "cell_type": "markdown",
   "metadata": {}
  },
  {
   "cell_type": "code",
   "execution_count": null,
   "metadata": {},
   "outputs": [],
   "source": [
    "#TODO"
   ]
  },
  {
   "source": [
    "### Aufgabe 6\n",
    "#### (Tanken in Amberg, Interaktives Diagramm)\n",
    "Herr Sparfuchs, der als Rentner zeitlich flexibel ist, mochte wissen, wann und wo er in Am- ¨\n",
    "berg derzeit am gunstigsten tanken kann. Erstellen Sie dazu ein geeignetes interaktives Dia- ¨\n",
    "gramm mit Plotly, um die Kraftstoffpreise an den Tankstellen in Amberg zu analysieren, und\n",
    "leiten Sie Empfehlungen fur Herrn Sparfuchs ab. Erstellen Sie f ¨ ur die Analyse zwei DataFrames ¨\n",
    "namens df stations amberg und df prices amberg, die aus Filterung der Tankstellenund Preisdatensatze hervorgehen, und verwenden Sie ausschließlich diese f ¨ ur die Erzeugung des ¨\n",
    "Plotly-Diagramms. Dokumentieren Sie Ihre Analyseergebnisse."
   ],
   "cell_type": "markdown",
   "metadata": {}
  },
  {
   "cell_type": "code",
   "execution_count": null,
   "metadata": {},
   "outputs": [],
   "source": [
    "#TODO"
   ]
  }
 ]
}