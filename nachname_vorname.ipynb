{
 "metadata": {
  "language_info": {
   "codemirror_mode": {
    "name": "ipython",
    "version": 3
   },
   "file_extension": ".py",
   "mimetype": "text/x-python",
   "name": "python",
   "nbconvert_exporter": "python",
   "pygments_lexer": "ipython3",
   "version": "3.9.1"
  },
  "orig_nbformat": 4,
  "kernelspec": {
   "name": "python3",
   "display_name": "Python 3.9.1 64-bit"
  },
  "interpreter": {
   "hash": "aee8b7b246df8f9039afb4144a1f6fd8d2ca17a180786b69acc140d282b71a49"
  }
 },
 "nbformat": 4,
 "nbformat_minor": 2,
 "cells": [
  {
   "source": [
    "# Data Analytics SoSe 2021\n",
    "## Gruppenmitglieder: Anja Stricker, Annika Stadelmann"
   ],
   "cell_type": "markdown",
   "metadata": {}
  },
  {
   "source": [
    "### Aufgabe 1\n",
    "#### (Datenvorbereitung)\n",
    "Lesen Sie den unter der o.g. Adresse verfugbaren Tankstellendatensatz zum Stand 31.05.2021\n",
    "in einen DataFrame namens df stations ein. Dieser soll in dieser Aufgabe fur die weitere\n",
    "Verwendung vorbereitet werden."
   ],
   "cell_type": "markdown",
   "metadata": {}
  },
  {
   "cell_type": "code",
   "execution_count": 8,
   "metadata": {},
   "outputs": [
    {
     "output_type": "execute_result",
     "data": {
      "text/plain": [
       "                                   uuid                     name    brand  \\\n",
       "0  0e18d0d3-ed38-4e7f-a18e-507a78ad901d  OIL! Tankstelle München     OIL!   \n",
       "1  44e2bdb7-13e3-4156-8576-8326cdd20459           bft Tankstelle      NaN   \n",
       "2  ad812258-94e7-473d-aa80-d392f7532218   bft Bonn-Bad Godesberg      bft   \n",
       "3  e52d755d-4be7-4962-a917-3b0139e6f352          Esso Tankstelle     ESSO   \n",
       "4  e52a5d92-33c6-4c77-b6cd-ea90ca1c7c62     Friedrich Dankelmann  Markant   \n",
       "\n",
       "                street house_number post_code     city   latitude  longitude  \\\n",
       "0  Eversbuschstraße 33          NaN     80999  München  48.180700  11.460900   \n",
       "1       Schellengasse            53     36304  Alsfeld  50.752009   9.279039   \n",
       "2    Godesberger Allee           55     53175     Bonn  50.695100   7.142760   \n",
       "3  OSNABRUECKER STR. 5                  49163   BOHMTE  52.358250   8.304064   \n",
       "4     Strangenhäuschen           10     52070   Aachen  50.801680   6.110960   \n",
       "\n",
       "             first_active                                  openingtimes_json  \n",
       "0  1970-01-01 01:00:00+01  {\"openingTimes\":[{\"applicable_days\":192,\"perio...  \n",
       "1  1970-01-01 01:00:00+01  {\"openingTimes\":[{\"applicable_days\":63,\"period...  \n",
       "2  1970-01-01 01:00:00+01  {\"openingTimes\":[{\"applicable_days\":31,\"period...  \n",
       "3  2014-03-18 16:45:31+01  {\"openingTimes\":[{\"applicable_days\":31,\"period...  \n",
       "4  2014-03-18 16:45:31+01  {\"openingTimes\":[{\"applicable_days\":63,\"period...  "
      ],
      "text/html": "<div>\n<style scoped>\n    .dataframe tbody tr th:only-of-type {\n        vertical-align: middle;\n    }\n\n    .dataframe tbody tr th {\n        vertical-align: top;\n    }\n\n    .dataframe thead th {\n        text-align: right;\n    }\n</style>\n<table border=\"1\" class=\"dataframe\">\n  <thead>\n    <tr style=\"text-align: right;\">\n      <th></th>\n      <th>uuid</th>\n      <th>name</th>\n      <th>brand</th>\n      <th>street</th>\n      <th>house_number</th>\n      <th>post_code</th>\n      <th>city</th>\n      <th>latitude</th>\n      <th>longitude</th>\n      <th>first_active</th>\n      <th>openingtimes_json</th>\n    </tr>\n  </thead>\n  <tbody>\n    <tr>\n      <th>0</th>\n      <td>0e18d0d3-ed38-4e7f-a18e-507a78ad901d</td>\n      <td>OIL! Tankstelle München</td>\n      <td>OIL!</td>\n      <td>Eversbuschstraße 33</td>\n      <td>NaN</td>\n      <td>80999</td>\n      <td>München</td>\n      <td>48.180700</td>\n      <td>11.460900</td>\n      <td>1970-01-01 01:00:00+01</td>\n      <td>{\"openingTimes\":[{\"applicable_days\":192,\"perio...</td>\n    </tr>\n    <tr>\n      <th>1</th>\n      <td>44e2bdb7-13e3-4156-8576-8326cdd20459</td>\n      <td>bft Tankstelle</td>\n      <td>NaN</td>\n      <td>Schellengasse</td>\n      <td>53</td>\n      <td>36304</td>\n      <td>Alsfeld</td>\n      <td>50.752009</td>\n      <td>9.279039</td>\n      <td>1970-01-01 01:00:00+01</td>\n      <td>{\"openingTimes\":[{\"applicable_days\":63,\"period...</td>\n    </tr>\n    <tr>\n      <th>2</th>\n      <td>ad812258-94e7-473d-aa80-d392f7532218</td>\n      <td>bft Bonn-Bad Godesberg</td>\n      <td>bft</td>\n      <td>Godesberger Allee</td>\n      <td>55</td>\n      <td>53175</td>\n      <td>Bonn</td>\n      <td>50.695100</td>\n      <td>7.142760</td>\n      <td>1970-01-01 01:00:00+01</td>\n      <td>{\"openingTimes\":[{\"applicable_days\":31,\"period...</td>\n    </tr>\n    <tr>\n      <th>3</th>\n      <td>e52d755d-4be7-4962-a917-3b0139e6f352</td>\n      <td>Esso Tankstelle</td>\n      <td>ESSO</td>\n      <td>OSNABRUECKER STR. 5</td>\n      <td></td>\n      <td>49163</td>\n      <td>BOHMTE</td>\n      <td>52.358250</td>\n      <td>8.304064</td>\n      <td>2014-03-18 16:45:31+01</td>\n      <td>{\"openingTimes\":[{\"applicable_days\":31,\"period...</td>\n    </tr>\n    <tr>\n      <th>4</th>\n      <td>e52a5d92-33c6-4c77-b6cd-ea90ca1c7c62</td>\n      <td>Friedrich Dankelmann</td>\n      <td>Markant</td>\n      <td>Strangenhäuschen</td>\n      <td>10</td>\n      <td>52070</td>\n      <td>Aachen</td>\n      <td>50.801680</td>\n      <td>6.110960</td>\n      <td>2014-03-18 16:45:31+01</td>\n      <td>{\"openingTimes\":[{\"applicable_days\":63,\"period...</td>\n    </tr>\n  </tbody>\n</table>\n</div>"
     },
     "metadata": {},
     "execution_count": 8
    }
   ],
   "source": [
    "import pandas as pd\n",
    "import numpy as np\n",
    "from tqdm.auto import tqdm\n",
    "import json\n",
    "import matplotlib.pyplot as plt\n",
    "\n",
    "df_stations = pd.read_csv(\"2021-05-31-stations.csv\")\n",
    "df_stations.head()"
   ]
  },
  {
   "source": [
    "a) Untersuchen Sie den Datensatz auf fehlende Werte und setzen Sie ggf. eine geeignete Strategie um, um mit diesen zu verfahren. Begrunden Sie Ihr Vorgehen."
   ],
   "cell_type": "markdown",
   "metadata": {}
  },
  {
   "cell_type": "code",
   "execution_count": 2,
   "metadata": {},
   "outputs": [
    {
     "output_type": "execute_result",
     "data": {
      "text/plain": [
       "uuid                    0\n",
       "name                    0\n",
       "brand                 670\n",
       "street                  3\n",
       "house_number         2940\n",
       "post_code               3\n",
       "city                    4\n",
       "latitude                0\n",
       "longitude               0\n",
       "first_active            0\n",
       "openingtimes_json       0\n",
       "dtype: int64"
      ]
     },
     "metadata": {},
     "execution_count": 2
    }
   ],
   "source": [
    "df_stations.isnull().sum()"
   ]
  },
  {
   "source": [
    "Im folgenden werden nur noch die Spalten betrachtet die einen NaN Wert über 0 haben.\n",
    "Alle Spalten mit 0 haben keine NaN Werte und müssen demnach nicht nochmal kontrolliert werden.\n",
    "\n",
    "NaN Werte werden durch passende andere Werte ersetzt."
   ],
   "cell_type": "markdown",
   "metadata": {}
  },
  {
   "cell_type": "code",
   "execution_count": 3,
   "metadata": {},
   "outputs": [],
   "source": [
    "df_stations[\"brand\"] = df_stations[\"brand\"].fillna(\"other\")\n",
    "df_stations[\"openingtimes_json\"] = df_stations[\"openingtimes_json\"].replace(\"{}\", \"empty\")"
   ]
  },
  {
   "cell_type": "code",
   "execution_count": 53,
   "metadata": {},
   "outputs": [
    {
     "output_type": "execute_result",
     "data": {
      "text/plain": [
       "uuid                    0\n",
       "name                    0\n",
       "brand                   0\n",
       "street                  3\n",
       "house_number         2940\n",
       "post_code               3\n",
       "city                    4\n",
       "latitude                0\n",
       "longitude               0\n",
       "first_active            0\n",
       "openingtimes_json       0\n",
       "dtype: int64"
      ]
     },
     "metadata": {},
     "execution_count": 53
    }
   ],
   "source": [
    "df_stations.isnull().sum()"
   ]
  },
  {
   "source": [
    "Jetzt werden fehlende Einträge von street, house_number, city und post_code mit geopy ermittelt und ersetzt."
   ],
   "cell_type": "markdown",
   "metadata": {}
  },
  {
   "cell_type": "code",
   "execution_count": 5,
   "metadata": {},
   "outputs": [],
   "source": [
    "# from geopy.geocoders import Nominatim\n",
    "# geolocator = Nominatim(user_agent=\"DA_stud\")\n",
    "# df = pd.DataFrame()\n",
    "\n",
    "# for i in df_stations.loc[df_stations[\"street\"].isnull() | df_stations[\"house_number\"].isnull() | df_stations[\"city\"].isnull() | df_stations[\"post_code\"].isnull()].index:\n",
    "#     data = df_stations.iloc[i]\n",
    "#     if ((data[\"latitude\"] <= 90.0) & (data[\"latitude\"] >= -90.0) & (data[\"longitude\"] <= 180.0) & (data[\"longitude\"] >= -180.0) \n",
    "#     & (data[\"latitude\"] != 0.0) & (data[\"longitude\"] != 0.0)):\n",
    "#         location = geolocator.reverse(str(data[\"latitude\"]) + \", \" + str(data[\"longitude\"]))\n",
    "#         adressData = location.raw[\"address\"]\n",
    "#         if \"road\" in adressData:\n",
    "#             df_stations.at[i, \"street\"] = adressData[\"road\"]\n",
    "#         if \"house_number\" in adressData:\n",
    "#             df_stations.at[i, \"house_number\"] = adressData[\"house_number\"]\n",
    "#         if \"town\" in adressData:\n",
    "#             df_stations.at[i, \"city\"] = adressData[\"town\"]\n",
    "#         if \"postcode\" in adressData:\n",
    "#             df_stations.at[i, \"post_code\"] = adressData[\"postcode\"]\n",
    "\n",
    "# df_stations[df_stations[\"city\"].isnull()]"
   ]
  },
  {
   "cell_type": "code",
   "execution_count": 4,
   "metadata": {},
   "outputs": [
    {
     "output_type": "stream",
     "name": "stderr",
     "text": [
      "100%|██████████| 6/6 [00:02<00:00,  2.63it/s]\n"
     ]
    }
   ],
   "source": [
    "from geopy.geocoders import Nominatim\n",
    "geolocator = Nominatim(user_agent=\"DA_stud\")\n",
    "df = pd.DataFrame()\n",
    "\n",
    "for i in tqdm(df_stations.loc[df_stations[\"street\"].isnull() | df_stations[\"city\"].isnull() | df_stations[\"post_code\"].isnull()].index):\n",
    "    data = df_stations.iloc[i]\n",
    "    if ((data[\"latitude\"] <= 90.0) & (data[\"latitude\"] >= -90.0) & (data[\"longitude\"] <= 180.0) & (data[\"longitude\"] >= -180.0) \n",
    "    & (data[\"latitude\"] != 0.0) & (data[\"longitude\"] != 0.0)):\n",
    "        location = geolocator.reverse(str(data[\"latitude\"]) + \", \" + str(data[\"longitude\"]))\n",
    "        adressData = location.raw[\"address\"]\n",
    "        if \"road\" in adressData:\n",
    "            df_stations.at[i, \"street\"] = adressData[\"road\"]\n",
    "        if \"town\" in adressData:\n",
    "            df_stations.at[i, \"city\"] = adressData[\"town\"]\n",
    "        if \"postcode\" in adressData:\n",
    "            df_stations.at[i, \"post_code\"] = adressData[\"postcode\"]"
   ]
  },
  {
   "cell_type": "code",
   "execution_count": 5,
   "metadata": {},
   "outputs": [
    {
     "output_type": "stream",
     "name": "stderr",
     "text": [
      "100%|██████████| 2940/2940 [24:29<00:00,  2.00it/s]\n"
     ]
    }
   ],
   "source": [
    "for i in tqdm(df_stations.loc[df_stations[\"house_number\"].isnull()].index):\n",
    "    data = df_stations.iloc[i]\n",
    "    if ((data[\"latitude\"] <= 90.0) & (data[\"latitude\"] >= -90.0) & (data[\"longitude\"] <= 180.0) & (data[\"longitude\"] >= -180.0) \n",
    "    & (data[\"latitude\"] != 0.0) & (data[\"longitude\"] != 0.0)):\n",
    "        location = geolocator.reverse(str(data[\"latitude\"]) + \", \" + str(data[\"longitude\"]))\n",
    "        adressData = location.raw[\"address\"]\n",
    "        if \"house_number\" in adressData:\n",
    "            df_stations.at[i, \"house_number\"] = adressData[\"house_number\"]"
   ]
  },
  {
   "cell_type": "code",
   "execution_count": 15,
   "metadata": {},
   "outputs": [
    {
     "output_type": "execute_result",
     "data": {
      "text/plain": [
       "uuid                    0\n",
       "name                    0\n",
       "brand                   0\n",
       "street                  0\n",
       "house_number         1122\n",
       "post_code               0\n",
       "city                    0\n",
       "latitude                0\n",
       "longitude               0\n",
       "first_active            0\n",
       "openingtimes_json       0\n",
       "dtype: int64"
      ]
     },
     "metadata": {},
     "execution_count": 15
    }
   ],
   "source": [
    "df_stations[\"street\"] = df_stations[\"street\"].fillna(\"\")\n",
    "df_stations[\"post_code\"] = df_stations[\"post_code\"].fillna(\"\")\n",
    "df_stations[\"city\"] = df_stations[\"city\"].fillna(\"\")\n",
    "\n",
    "df_stations.isnull().sum()"
   ]
  },
  {
   "cell_type": "code",
   "execution_count": 34,
   "metadata": {},
   "outputs": [
    {
     "output_type": "stream",
     "name": "stderr",
     "text": [
      "  0%|          | 0/10 [00:00<?, ?it/s]please delete - bitte loeschen 00000 please delete - bitte loeschen\n",
      "Talstraße 26 58332 Schwelm\n",
      " 20%|██        | 2/10 [00:00<00:02,  2.88it/s]Südring 20  46342 Velen\n",
      " 40%|████      | 4/10 [00:01<00:01,  3.32it/s]Friedrichshofener Str. 85049 Ingolstadt\n",
      " 50%|█████     | 5/10 [00:01<00:02,  2.49it/s]Meinbrexer Str. 37697 Lauenförde\n",
      " 60%|██████    | 6/10 [00:02<00:01,  2.48it/s]Admi55 12345 Hh Admi-Testkasse\n",
      " 70%|███████   | 7/10 [00:02<00:01,  2.30it/s]Bergstr. 79737 Herrischried\n",
      " 80%|████████  | 8/10 [00:03<00:00,  2.19it/s]Mülhauserstrasse 79110 Freiburg\n",
      " 90%|█████████ | 9/10 [00:03<00:00,  2.25it/s]Dieselstrasse 79341 Kenzingen\n",
      "100%|██████████| 10/10 [00:04<00:00,  2.45it/s]\n"
     ]
    }
   ],
   "source": [
    "for i in tqdm(df_stations.loc[(df_stations[\"latitude\"] == 0.0) & (df_stations[\"longitude\"] == 0.0)].index):\n",
    "    data = df_stations.iloc[i]\n",
    "\n",
    "    if ((data[\"street\"] != \"\") & (data[\"post_code\"] != \"\") & (data[\"city\"] != \"\")):\n",
    "\n",
    "        #address we need to geocode\n",
    "        loc = data[\"street\"] + \" \" + data[\"post_code\"] + \" \" + data[\"city\"]\n",
    "        print(loc)\n",
    "        \n",
    "        #applying geocode method to get the location\n",
    "        location = geolocator.geocode(loc)\n",
    "        \n",
    "            #printing address and coordinates\n",
    "            # print(location.address)\n",
    "            # print((location.latitude, location.longitude))\n",
    "        \n",
    "\n",
    "        if location != None:\n",
    "            df_stations.at[i, \"latitude\"] = location.latitude\n",
    "            df_stations.at[i, \"longitude\"] = location.longitude"
   ]
  },
  {
   "cell_type": "code",
   "execution_count": 36,
   "metadata": {},
   "outputs": [
    {
     "output_type": "execute_result",
     "data": {
      "text/plain": [
       "                                       uuid                            name  \\\n",
       "12191  183311cd-53cd-4779-a829-3f91a0e2c3e8  please delete - bitte loeschen   \n",
       "14200  4e8ecfc5-5d0d-4463-901b-6b9ff8fee510                         01_test   \n",
       "16074  ce830342-ebca-4bf8-9593-653341732a59               Hh Admi-Testkasse   \n",
       "\n",
       "       brand                          street house_number post_code  \\\n",
       "12191  other  please delete - bitte loeschen            0     00000   \n",
       "14200  other                                          NaN             \n",
       "16074   OIL!                          Admi55          NaN     12345   \n",
       "\n",
       "                                 city  latitude  longitude  \\\n",
       "12191  please delete - bitte loeschen       0.0        0.0   \n",
       "14200                                       0.0        0.0   \n",
       "16074               Hh Admi-Testkasse       0.0        0.0   \n",
       "\n",
       "                 first_active openingtimes_json  \n",
       "12191  2014-03-18 16:45:31+01             empty  \n",
       "14200  2015-05-27 00:00:01+02             empty  \n",
       "16074  2020-09-16 08:01:15+02             empty  "
      ],
      "text/html": "<div>\n<style scoped>\n    .dataframe tbody tr th:only-of-type {\n        vertical-align: middle;\n    }\n\n    .dataframe tbody tr th {\n        vertical-align: top;\n    }\n\n    .dataframe thead th {\n        text-align: right;\n    }\n</style>\n<table border=\"1\" class=\"dataframe\">\n  <thead>\n    <tr style=\"text-align: right;\">\n      <th></th>\n      <th>uuid</th>\n      <th>name</th>\n      <th>brand</th>\n      <th>street</th>\n      <th>house_number</th>\n      <th>post_code</th>\n      <th>city</th>\n      <th>latitude</th>\n      <th>longitude</th>\n      <th>first_active</th>\n      <th>openingtimes_json</th>\n    </tr>\n  </thead>\n  <tbody>\n    <tr>\n      <th>12191</th>\n      <td>183311cd-53cd-4779-a829-3f91a0e2c3e8</td>\n      <td>please delete - bitte loeschen</td>\n      <td>other</td>\n      <td>please delete - bitte loeschen</td>\n      <td>0</td>\n      <td>00000</td>\n      <td>please delete - bitte loeschen</td>\n      <td>0.0</td>\n      <td>0.0</td>\n      <td>2014-03-18 16:45:31+01</td>\n      <td>empty</td>\n    </tr>\n    <tr>\n      <th>14200</th>\n      <td>4e8ecfc5-5d0d-4463-901b-6b9ff8fee510</td>\n      <td>01_test</td>\n      <td>other</td>\n      <td></td>\n      <td>NaN</td>\n      <td></td>\n      <td></td>\n      <td>0.0</td>\n      <td>0.0</td>\n      <td>2015-05-27 00:00:01+02</td>\n      <td>empty</td>\n    </tr>\n    <tr>\n      <th>16074</th>\n      <td>ce830342-ebca-4bf8-9593-653341732a59</td>\n      <td>Hh Admi-Testkasse</td>\n      <td>OIL!</td>\n      <td>Admi55</td>\n      <td>NaN</td>\n      <td>12345</td>\n      <td>Hh Admi-Testkasse</td>\n      <td>0.0</td>\n      <td>0.0</td>\n      <td>2020-09-16 08:01:15+02</td>\n      <td>empty</td>\n    </tr>\n  </tbody>\n</table>\n</div>"
     },
     "metadata": {},
     "execution_count": 36
    }
   ],
   "source": [
    "df_stations.loc[(df_stations[\"latitude\"] == 0.0) & (df_stations[\"longitude\"] == 0.0)]"
   ]
  },
  {
   "cell_type": "code",
   "execution_count": null,
   "metadata": {},
   "outputs": [],
   "source": [
    "df_stations.head()"
   ]
  },
  {
   "cell_type": "code",
   "execution_count": 52,
   "metadata": {},
   "outputs": [
    {
     "output_type": "execute_result",
     "data": {
      "text/plain": [
       "Empty DataFrame\n",
       "Columns: [uuid, name, brand, street, house_number, post_code, city, latitude, longitude, first_active, openingtimes_json]\n",
       "Index: []"
      ],
      "text/html": "<div>\n<style scoped>\n    .dataframe tbody tr th:only-of-type {\n        vertical-align: middle;\n    }\n\n    .dataframe tbody tr th {\n        vertical-align: top;\n    }\n\n    .dataframe thead th {\n        text-align: right;\n    }\n</style>\n<table border=\"1\" class=\"dataframe\">\n  <thead>\n    <tr style=\"text-align: right;\">\n      <th></th>\n      <th>uuid</th>\n      <th>name</th>\n      <th>brand</th>\n      <th>street</th>\n      <th>house_number</th>\n      <th>post_code</th>\n      <th>city</th>\n      <th>latitude</th>\n      <th>longitude</th>\n      <th>first_active</th>\n      <th>openingtimes_json</th>\n    </tr>\n  </thead>\n  <tbody>\n  </tbody>\n</table>\n</div>"
     },
     "metadata": {},
     "execution_count": 52
    }
   ],
   "source": [
    "df_stations.drop(df_stations[(df_stations[\"latitude\"] == 0.0) & (df_stations[\"longitude\"] == 0.0)].index, inplace=True)"
   ]
  },
  {
   "source": [
    "Prüfen ob Cities NaN sind"
   ],
   "cell_type": "markdown",
   "metadata": {}
  },
  {
   "cell_type": "markdown",
   "metadata": {},
   "source": [
    "Einträge die City, Post_Code und Coordinaten NaN haben werden gelöscht."
   ]
  },
  {
   "source": [
    "Citys die einen NaN Wert haben, aber einen Postcode, werden mit den anderen Postcode einträgen verglichen und erhalten den Namen der City."
   ],
   "cell_type": "markdown",
   "metadata": {}
  },
  {
   "cell_type": "code",
   "execution_count": 41,
   "metadata": {},
   "outputs": [],
   "source": [
    "def findCityWithPostcode(row):\n",
    "    test = df_stations[\"city\"][(df_stations[\"post_code\"] == row[\"post_code\"]) & (df_stations[\"city\"].notnull())].item()\n",
    "    if (len(test) > 0):\n",
    "        return test\n",
    "    else:\n",
    "        return \"\"\n",
    "df_stations[\"city\"] = df_stations[[\"city\", \"post_code\"]].apply(lambda x: findCityWithPostcode(x) if x[\"city\"] is np.nan else x[\"city\"], axis=1)"
   ]
  },
  {
   "cell_type": "code",
   "execution_count": 44,
   "metadata": {},
   "outputs": [
    {
     "output_type": "execute_result",
     "data": {
      "text/plain": [
       "uuid                 0\n",
       "name                 0\n",
       "brand                0\n",
       "street               0\n",
       "house_number         0\n",
       "post_code            0\n",
       "city                 0\n",
       "latitude             0\n",
       "longitude            0\n",
       "first_active         0\n",
       "openingtimes_json    0\n",
       "dtype: int64"
      ]
     },
     "metadata": {},
     "execution_count": 44
    }
   ],
   "source": [
    "df_stations[\"house_number\"] = df_stations[\"house_number\"].fillna(0)\n",
    "df_stations = df_stations.dropna(subset=[\"city\"])\n",
    "df_stations.isnull().sum()"
   ]
  },
  {
   "source": [
    "b) Transformieren Sie die Spalten brand, street und city, sodass die Werte jeweils nur\n",
    "in Großbuchstaben ausgeben werden."
   ],
   "cell_type": "markdown",
   "metadata": {}
  },
  {
   "cell_type": "code",
   "execution_count": 54,
   "metadata": {},
   "outputs": [],
   "source": [
    "df_stations[\"brand\"] = df_stations[\"brand\"].str.upper()\n",
    "df_stations[\"street\"] = df_stations[\"street\"].str.upper()\n",
    "df_stations[\"city\"] = df_stations[\"city\"].str.upper()"
   ]
  },
  {
   "source": [
    "c) Uberprüfen Sie, ob der Datensatz Duplikate enth ¨ alt und entfernen Sie diese ggf. Ein Dupli- ¨\n",
    "kat liege dann vor, wenn zwei Tankstellen in den Spalten name, street, house number\n",
    "und post code ubereinstimmen. Geben Sie aus, wie viele Duplikate ermittelt und entfernt ¨\n",
    "wurden."
   ],
   "cell_type": "markdown",
   "metadata": {}
  },
  {
   "cell_type": "code",
   "execution_count": 55,
   "metadata": {},
   "outputs": [
    {
     "output_type": "execute_result",
     "data": {
      "text/plain": [
       "48"
      ]
     },
     "metadata": {},
     "execution_count": 55
    }
   ],
   "source": [
    "df_stations[[\"name\", \"street\", \"house_number\", \"post_code\"]].duplicated().sum()"
   ]
  },
  {
   "cell_type": "code",
   "execution_count": 56,
   "metadata": {},
   "outputs": [
    {
     "output_type": "execute_result",
     "data": {
      "text/plain": [
       "0"
      ]
     },
     "metadata": {},
     "execution_count": 56
    }
   ],
   "source": [
    "#df_stations.duplicated(subset = {\"name\", \"street\", \"house_number\", \"post_code\"}, keep = \"first\") \n",
    "\n",
    "df_stations.drop_duplicates(subset = {\"name\", \"street\", \"house_number\", \"post_code\"}, keep =  \"first\", inplace = True)\n",
    "df_stations[[\"name\", \"street\", \"house_number\", \"post_code\"]].duplicated().sum()"
   ]
  },
  {
   "cell_type": "code",
   "execution_count": 57,
   "metadata": {},
   "outputs": [],
   "source": [
    "df_stations.to_csv(\"df_stations.csv\", index=True)"
   ]
  },
  {
   "source": [
    "Es wurden 52 Duplikate ermittelt"
   ],
   "cell_type": "markdown",
   "metadata": {}
  },
  {
   "cell_type": "code",
   "execution_count": 82,
   "metadata": {},
   "outputs": [],
   "source": [
    "# df_stations[[\"name\", \"street\", \"house_number\", \"post_code\"]] = df_stations[[\"name\", \"street\", \"house_number\", \"post_code\"]].drop_duplicates()"
   ]
  },
  {
   "source": [
    "d) Untersuchen Sie die Spalten longitude und latitude auf unphysikalische Werte, indem Sie zunachst deren Verteilung in einem Histogramm visualisieren. Entfernen oder kor- ¨\n",
    "rigieren Sie anschließend die Eintrage zu denjenigen Tankstellen, bei denen Sie unphysi- ¨\n",
    "kalische Werte festgestellt haben. Zeichnen Sie anschließend erneut Histogramme fur die ¨\n",
    "beiden Spalten longitude und latitude."
   ],
   "cell_type": "markdown",
   "metadata": {}
  },
  {
   "source": [
    "Zuerst analysieren wir die Daten."
   ],
   "cell_type": "markdown",
   "metadata": {}
  },
  {
   "cell_type": "code",
   "execution_count": null,
   "metadata": {},
   "outputs": [],
   "source": [
    "plt.hist(df_stations[\"latitude\"], 50, label='latitude')\n",
    "plt.hist(df_stations[\"longitude\"], 50, label='longitude')\n",
    "plt.legend(loc='upper right')\n",
    "plt.title(\"Geo Data\")\n",
    "plt.xlabel('coordinates') \n",
    "plt.ylabel('count')\n",
    "plt.show()"
   ]
  },
  {
   "source": [
    "Bei Longitude ist ein Ausreißer beim Wert 0 zu erkennen. Diese werden im Folgenden gefiltert.\n",
    "Ebenso sind unphysikalische Werte zu erkennen, welche ebenfalls korrigiert werden."
   ],
   "cell_type": "markdown",
   "metadata": {}
  },
  {
   "cell_type": "code",
   "execution_count": null,
   "metadata": {},
   "outputs": [],
   "source": [
    "df_stations = df_stations.loc[(df_stations[\"longitude\"] != 0.0) & (df_stations[\"latitude\"] != 0.0)]\n",
    "df_stations = df_stations.loc[(df_stations[\"latitude\"] <= 90.0) & (df_stations[\"latitude\"] >= -90.0) & (df_stations[\"longitude\"] <= 180.0) & (df_stations[\"longitude\"] >= -180.0)]"
   ]
  },
  {
   "cell_type": "code",
   "execution_count": null,
   "metadata": {},
   "outputs": [],
   "source": [
    "plt.hist(df_stations[\"latitude\"], 10, label='latitude')\n",
    "plt.hist(df_stations[\"longitude\"], 50, label='longitude')\n",
    "plt.legend(loc='upper right')\n",
    "plt.title(\"Geo Data\")\n",
    "plt.xlabel('coordinates') \n",
    "plt.ylabel('count')\n",
    "plt.show()"
   ]
  },
  {
   "source": [
    "Jetzt sehen wir die korrekte Koordinaten Daten"
   ],
   "cell_type": "markdown",
   "metadata": {}
  },
  {
   "source": [
    "e) Reichern Sie den Tankstellendatensatz um die Spalte state an, die das Bundesland enthalten soll, in dem sich die Tankstelle befindet. Erzeugen Sie durch Filterung einen DataFrame\n",
    "namens df_stations_BY, der die Informationen zu allen Tankstellen in Bayern enthalt."
   ],
   "cell_type": "markdown",
   "metadata": {}
  },
  {
   "cell_type": "code",
   "execution_count": null,
   "metadata": {},
   "outputs": [],
   "source": [
    "df_stations = df_stations.reset_index(drop=True)\n",
    "df_stations.shape[0]"
   ]
  },
  {
   "cell_type": "code",
   "execution_count": 53,
   "metadata": {},
   "outputs": [
    {
     "output_type": "execute_result",
     "data": {
      "text/plain": [
       "RangeIndex(start=16241, stop=16251, step=1)"
      ]
     },
     "metadata": {},
     "execution_count": 53
    }
   ],
   "source": [
    "df_stations[-10:].index"
   ]
  },
  {
   "cell_type": "code",
   "execution_count": 74,
   "metadata": {},
   "outputs": [
    {
     "output_type": "stream",
     "name": "stderr",
     "text": [
      "100%|██████████| 10/10 [00:05<00:00,  1.67it/s]\n"
     ]
    },
    {
     "output_type": "execute_result",
     "data": {
      "text/plain": [
       "0                     Bayern\n",
       "1                     Hessen\n",
       "2        Nordrhein-Westfalen\n",
       "3              Niedersachsen\n",
       "4        Nordrhein-Westfalen\n",
       "                ...         \n",
       "16286     Schleswig-Holstein\n",
       "16287          Niedersachsen\n",
       "16288          Niedersachsen\n",
       "16289          Niedersachsen\n",
       "16290    Nordrhein-Westfalen\n",
       "Name: state, Length: 16291, dtype: object"
      ]
     },
     "metadata": {},
     "execution_count": 74
    }
   ],
   "source": [
    "# for i in tqdm(df_stations.index):\n",
    "#     data = df_stations.iloc[i]\n",
    "#     location = geolocator.reverse(str(data[\"latitude\"]) + \", \" + str(data[\"longitude\"]))\n",
    "#     adressData = location.raw[\"address\"]\n",
    "#     if \"state\" in adressData:\n",
    "#         df_stations.at[i, \"state\"] = adressData[\"state\"]\n",
    "\n",
    "# df_stations[\"state\"]"
   ]
  },
  {
   "cell_type": "code",
   "execution_count": null,
   "metadata": {},
   "outputs": [],
   "source": [
    "df_bundesland_plz = pd.read_csv(\"zuordnung_plz_ort.csv\")\n",
    "df_bundesland_plz.head()"
   ]
  },
  {
   "cell_type": "code",
   "execution_count": null,
   "metadata": {},
   "outputs": [],
   "source": [
    "plz_bundesland_dict = {}\n",
    "\n",
    "for i, j in zip(df_bundesland_plz.plz, df_bundesland_plz.bundesland):\n",
    "    plz_bundesland_dict[str(i)] = j\n",
    "    "
   ]
  },
  {
   "cell_type": "code",
   "execution_count": null,
   "metadata": {},
   "outputs": [],
   "source": [
    "df_stations[\"state\"] = df_stations[\"post_code\"].map(plz_bundesland_dict)\n",
    "df_stations.isnull().sum()"
   ]
  },
  {
   "cell_type": "code",
   "execution_count": null,
   "metadata": {},
   "outputs": [],
   "source": [
    "for i in tqdm(df_stations.loc[df_stations[\"state\"].isnull()].index):\n",
    "    data = df_stations.iloc[i]\n",
    "    location = geolocator.reverse(str(data[\"latitude\"]) + \", \" + str(data[\"longitude\"]))\n",
    "    adressData = location.raw[\"address\"]\n",
    "    if \"state\" in adressData:\n",
    "        df_stations.at[i, \"state\"] = adressData[\"state\"]\n",
    "\n",
    "df_stations[\"state\"].isnull().sum()"
   ]
  },
  {
   "cell_type": "code",
   "execution_count": null,
   "metadata": {},
   "outputs": [],
   "source": [
    "df_stations[df_stations[\"state\"].isnull()]"
   ]
  },
  {
   "cell_type": "code",
   "execution_count": null,
   "metadata": {},
   "outputs": [],
   "source": [
    "df_stations.to_csv(\"State_checkpoint.csv\", index=False)"
   ]
  },
  {
   "cell_type": "code",
   "execution_count": null,
   "metadata": {},
   "outputs": [],
   "source": [
    "df_stations = pd.read_csv(\"State_checkpoint.csv\")"
   ]
  },
  {
   "cell_type": "code",
   "execution_count": null,
   "metadata": {},
   "outputs": [],
   "source": [
    "df_stations_BY = df_stations.loc[df_stations[\"state\"] == \"Bayern\"]"
   ]
  },
  {
   "source": [
    "Lesen Sie nun den Preise-Datensatz aus dem GitLab-Repository in einen DataFrame namens\n",
    "df_prices_BY ein. Dieser wurde durch Filterung der auf der Tankerkonig-Seite verf ¨ ugbaren ¨\n",
    "Preise-Datensatze erzeugt und enth ¨ alt die Angaben zur historischen Preisen und Preis ¨ anderungen ¨\n",
    "an den Tankstellen in Bayern im Betrachtungszeitraum zwischen Januar 2018 und Mai 2021."
   ],
   "cell_type": "markdown",
   "metadata": {}
  },
  {
   "cell_type": "code",
   "execution_count": null,
   "metadata": {},
   "outputs": [],
   "source": [
    "df_prices_BY = pd.read_csv(\"prices_BY.csv\")"
   ]
  },
  {
   "source": [
    "f) Untersuchen Sie die Kraftstoffpreise auf Ausreißer und entfernen Sie diese ggf."
   ],
   "cell_type": "markdown",
   "metadata": {}
  },
  {
   "cell_type": "code",
   "execution_count": null,
   "metadata": {},
   "outputs": [],
   "source": [
    "df_prices_BY.head()"
   ]
  },
  {
   "cell_type": "code",
   "execution_count": null,
   "metadata": {},
   "outputs": [],
   "source": [
    "import matplotlib.pyplot as plt\n",
    "plt.hist(df_prices_BY[\"diesel\"], 50, label='diesel')\n",
    "plt.hist(df_prices_BY[\"e5\"], 50, label='e5')\n",
    "plt.hist(df_prices_BY[\"e10\"], 50, label='e10')\n",
    "plt.legend(loc='upper right')\n",
    "plt.title(\"Geo Data\")\n",
    "plt.xlabel('coordinates') \n",
    "plt.ylabel('count')\n",
    "plt.show()"
   ]
  },
  {
   "cell_type": "code",
   "execution_count": null,
   "metadata": {},
   "outputs": [],
   "source": [
    "df_prices_BY[\"e10\"] = df_prices_BY[\"e10\"].replace(0.000, np.nan)\n",
    "df_prices_BY.loc[df_prices_BY[\"e10\"] < 0.5] = np.nan\n",
    "df_prices_BY[\"e5\"] = df_prices_BY[\"e5\"].replace(0.000, np.nan)\n",
    "df_prices_BY[\"diesel\"] = df_prices_BY[\"diesel\"].replace(0.000, np.nan)"
   ]
  },
  {
   "cell_type": "code",
   "execution_count": null,
   "metadata": {},
   "outputs": [],
   "source": [
    "import matplotlib.pyplot as plt\n",
    "plt.hist(df_prices_BY[\"diesel\"], 30, label='diesel')\n",
    "plt.hist(df_prices_BY[\"e5\"], 30, label='e5')\n",
    "plt.hist(df_prices_BY[\"e10\"], 30, label='e10')\n",
    "plt.legend(loc='upper right')\n",
    "plt.title(\"Geo Data\")\n",
    "plt.xlabel('coordinates') \n",
    "plt.ylabel('count')\n",
    "plt.show()"
   ]
  },
  {
   "source": [
    "g) Uberf ¨ uhren Sie die Spalte ¨ date in ein DateTime-Format."
   ],
   "cell_type": "markdown",
   "metadata": {}
  },
  {
   "cell_type": "code",
   "execution_count": null,
   "metadata": {},
   "outputs": [],
   "source": [
    "df_prices_BY[\"date\"] = pd.to_datetime(df_prices_BY[\"date\"], infer_datetime_format=True, utc=True)\n",
    "df_prices_BY[\"date\"].head()"
   ]
  },
  {
   "source": [
    "### Aufgabe 2 \n",
    "#### (Explorative Datenanalyse)\n",
    "In dieser Aufgabe sind erste einfache Analysen durchzufuhren und Visualisierungen zu erstellen"
   ],
   "cell_type": "markdown",
   "metadata": {}
  },
  {
   "source": [
    "a) Wie viele Tankstellen gibt es insgesamt in Deutschland? Wie viele pro Bundesland?"
   ],
   "cell_type": "markdown",
   "metadata": {}
  },
  {
   "cell_type": "code",
   "execution_count": null,
   "metadata": {},
   "outputs": [],
   "source": [
    "# tankstellenZahl = len(df_stations)\n",
    "# tankstellenZahl\n",
    "\n",
    "# need state df\n",
    "# TODO delete other\n",
    "\n",
    "haeufigkeitTankstellen = {\"Deutschland\": 0, \"Baden-Wuerttemberg\": 0, \"Bayern\": 0, \"Berlin\": 0, \"Brandenburg\": 0, \"Bremen\": 0, \"Hamburg\": 0, \"Hessen\": 0, \"Mecklenburg-Vorpommern\": 0, \"Niedersachsen\": 0, \"Nordrhein-Westfalen\": 0, \"Rheinland-Pfalz\": 0, \"Saarland\": 0, \"Sachsen\": 0, \"Sachsen-Anhalt\": 0, \"Schleswig-Holstein\": 0, \"Thueringen\": 0, \"other\": 0}\n",
    "\n",
    "for x in df_stations[\"state\"]:\n",
    "    if x == \"Baden-Württemberg\":\n",
    "        haeufigkeitTankstellen[\"Baden-Wuerttemberg\"] += 1\n",
    "    if x == \"Bayern\":\n",
    "        haeufigkeitTankstellen[\"Bayern\"] += 1\n",
    "    if x == \"Berlin\":\n",
    "        haeufigkeitTankstellen[\"Berlin\"] += 1\n",
    "    if x == \"Brandenburg\":\n",
    "        haeufigkeitTankstellen[\"Brandenburg\"] += 1\n",
    "    if x == \"Bremen\":\n",
    "        haeufigkeitTankstellen[\"Bremen\"] += 1\n",
    "    if x == \"Hamburg\":\n",
    "        haeufigkeitTankstellen[\"Hamburg\"] += 1\n",
    "    if x == \"Hessen\":\n",
    "        haeufigkeitTankstellen[\"Hessen\"] += 1\n",
    "    if x == \"Mecklenburg-Vorpommern\":\n",
    "        haeufigkeitTankstellen[\"Mecklenburg-Vorpommern\"] += 1\n",
    "    if x == \"Niedersachsen\":\n",
    "        haeufigkeitTankstellen[\"Niedersachsen\"] += 1\n",
    "    if x == \"Nordrhein-Westfalen\":\n",
    "        haeufigkeitTankstellen[\"Nordrhein-Westfalen\"] += 1\n",
    "    if x == \"Rheinland-Pfalz\":\n",
    "        haeufigkeitTankstellen[\"Rheinland-Pfalz\"] += 1\n",
    "    if x == \"Saarland\":\n",
    "        haeufigkeitTankstellen[\"Saarland\"] += 1\n",
    "    if x == \"Sachsen\":\n",
    "        haeufigkeitTankstellen[\"Sachsen\"] += 1\n",
    "    if x == \"Sachsen-Anhalt\":\n",
    "        haeufigkeitTankstellen[\"Sachsen-Anhalt\"] += 1\n",
    "    if x == \"Schleswig-Holstein\":\n",
    "        haeufigkeitTankstellen[\"Schleswig-Holstein\"] += 1\n",
    "    if x == \"Thüringen\":\n",
    "        haeufigkeitTankstellen[\"Thueringen\"] += 1\n",
    "    if x == \"other\":\n",
    "        haeufigkeitTankstellen[\"other\"] += 1\n",
    "    haeufigkeitTankstellen[\"Deutschland\"] += 1\n",
    "\n",
    "haeufigkeitTankstellen\n",
    "# df_stations.isnull().sum()"
   ]
  },
  {
   "source": [
    "b) Welches sind die zehn Tankstellenmarken mit den meisten Niederlassungen in Deutschland?\n",
    "Wie viele Niederlassungen sind es jeweils?"
   ],
   "cell_type": "markdown",
   "metadata": {}
  },
  {
   "cell_type": "code",
   "execution_count": null,
   "metadata": {},
   "outputs": [],
   "source": [
    "meisteMarken = list(df_stations['brand'].value_counts()[0:10].index)\n",
    "\n",
    "def Convert(lst):\n",
    "    res_dct = {lst[i]: 0 for i in range(0, len(lst), 1)}\n",
    "    return res_dct\n",
    "\n",
    "lst = Convert(meisteMarken)\n",
    "\n",
    "for x in df_stations[\"brand\"]:\n",
    "    if x in lst:\n",
    "        lst[x] += 1\n",
    "\n",
    "lst"
   ]
  },
  {
   "source": [
    "c) Welcher Anteil der Tankstellen hat sonntags geoffnet?"
   ],
   "cell_type": "markdown",
   "metadata": {}
  },
  {
   "cell_type": "code",
   "execution_count": 10,
   "metadata": {},
   "outputs": [],
   "source": [
    "df_stations = pd.read_csv(\"df_stations.csv\")"
   ]
  },
  {
   "cell_type": "code",
   "execution_count": 26,
   "metadata": {},
   "outputs": [
    {
     "output_type": "execute_result",
     "data": {
      "text/plain": [
       "{'Sonntags_geöffnet': 8403, 'Sonntags_geschlossen': 594}"
      ]
     },
     "metadata": {},
     "execution_count": 26
    }
   ],
   "source": [
    "openingTimes = df_stations['openingtimes_json']\n",
    "openOnSunday = {\"Sonntags_geöffnet\": 0, \"Sonntags_geschlossen\": 0}\n",
    "errorData = {\"Keine_Öffnungszeit\": 0, \"Fehlerhaft\": 0}\n",
    "\n",
    "for x in openingTimes:\n",
    "    if x != \"empty\":\n",
    "        if \"openingTimes\" in json.loads(x):\n",
    "            foundSunday = False\n",
    "            for y in json.loads(x)[\"openingTimes\"]:\n",
    "                bitValue = y[\"applicable_days\"]\n",
    "                mask = 1 << 6\n",
    "                if (bitValue & mask == mask):\n",
    "                    openOnSunday[\"Sonntags_geöffnet\"] += 1\n",
    "                    foundSunday = True\n",
    "                    break\n",
    "            if (foundSunday == False):\n",
    "                openOnSunday[\"Sonntags_geschlossen\"] += 1\n",
    "        else:\n",
    "            errorData[\"Fehlerhaft\"] += 1\n",
    "    else:\n",
    "        errorData[\"Keine_Öffnungszeit\"] += 1\n",
    "\n",
    "openOnSunday"
   ]
  },
  {
   "cell_type": "code",
   "execution_count": 27,
   "metadata": {},
   "outputs": [
    {
     "output_type": "display_data",
     "data": {
      "text/plain": "<Figure size 432x288 with 1 Axes>",
      "image/svg+xml": "<?xml version=\"1.0\" encoding=\"utf-8\" standalone=\"no\"?>\n<!DOCTYPE svg PUBLIC \"-//W3C//DTD SVG 1.1//EN\"\n  \"http://www.w3.org/Graphics/SVG/1.1/DTD/svg11.dtd\">\n<svg height=\"246.958125pt\" version=\"1.1\" viewBox=\"0 0 408.567873 246.958125\" width=\"408.567873pt\" xmlns=\"http://www.w3.org/2000/svg\" xmlns:xlink=\"http://www.w3.org/1999/xlink\">\n <metadata>\n  <rdf:RDF xmlns:cc=\"http://creativecommons.org/ns#\" xmlns:dc=\"http://purl.org/dc/elements/1.1/\" xmlns:rdf=\"http://www.w3.org/1999/02/22-rdf-syntax-ns#\">\n   <cc:Work>\n    <dc:type rdf:resource=\"http://purl.org/dc/dcmitype/StillImage\"/>\n    <dc:date>2021-06-21T17:43:37.853614</dc:date>\n    <dc:format>image/svg+xml</dc:format>\n    <dc:creator>\n     <cc:Agent>\n      <dc:title>Matplotlib v3.4.2, https://matplotlib.org/</dc:title>\n     </cc:Agent>\n    </dc:creator>\n   </cc:Work>\n  </rdf:RDF>\n </metadata>\n <defs>\n  <style type=\"text/css\">*{stroke-linecap:butt;stroke-linejoin:round;}</style>\n </defs>\n <g id=\"figure_1\">\n  <g id=\"patch_1\">\n   <path d=\"M 0 246.958125 \nL 408.567873 246.958125 \nL 408.567873 0 \nL 0 0 \nz\n\" style=\"fill:none;\"/>\n  </g>\n  <g id=\"axes_1\">\n   <g id=\"patch_2\">\n    <path d=\"M 281.61931 131.038125 \nC 281.61931 120.374951 279.658368 109.802121 275.834508 99.848158 \nC 272.010648 89.894195 266.388666 80.72777 259.249598 72.807101 \nC 252.110531 64.886432 243.57535 58.345736 234.070718 53.511974 \nC 224.566086 48.678211 214.253061 45.633292 203.647178 44.529426 \nC 193.041294 43.425561 182.322271 44.281455 172.025937 47.054323 \nC 161.729603 49.827191 152.030433 54.470047 143.413274 60.750801 \nC 134.796115 67.031554 127.406988 74.843776 121.615265 83.796945 \nC 115.823541 92.750113 111.727364 102.692515 109.531494 113.127142 \nC 107.335625 123.561769 107.077273 134.311805 108.769354 144.83987 \nC 110.461434 155.367935 114.075275 165.495628 119.430224 174.71668 \nC 124.785173 183.937733 131.79049 192.095891 140.095989 198.783341 \nC 148.401487 205.47079 157.866429 210.57421 168.017674 213.838488 \nC 178.168919 217.102765 188.834453 218.472586 199.481119 217.879476 \nC 210.127786 217.286365 220.575175 214.740373 230.301036 210.36877 \nC 240.026897 205.997167 248.866423 199.874031 256.377738 192.305449 \nC 263.889054 184.736867 269.944877 175.851091 274.242486 166.092308 \nL 194.64331 131.038125 \nL 281.61931 131.038125 \nz\n\" style=\"fill:#1f77b4;\"/>\n   </g>\n   <g id=\"patch_3\">\n    <path d=\"M 274.242486 166.092308 \nC 276.668236 160.584045 278.515689 154.838837 279.755128 148.9491 \nC 280.994568 143.059363 281.619311 137.056847 281.61931 131.038109 \nL 194.64331 131.038125 \nL 274.242486 166.092308 \nz\n\" style=\"fill:#ff7f0e;\"/>\n   </g>\n   <g id=\"matplotlib.axis_1\"/>\n   <g id=\"matplotlib.axis_2\"/>\n   <g id=\"text_1\">\n    <!-- Sonntags_geöffnet -->\n    <g transform=\"translate(7.2 113.956356)scale(0.1 -0.1)\">\n     <defs>\n      <path d=\"M 3425 4513 \nL 3425 3897 \nQ 3066 4069 2747 4153 \nQ 2428 4238 2131 4238 \nQ 1616 4238 1336 4038 \nQ 1056 3838 1056 3469 \nQ 1056 3159 1242 3001 \nQ 1428 2844 1947 2747 \nL 2328 2669 \nQ 3034 2534 3370 2195 \nQ 3706 1856 3706 1288 \nQ 3706 609 3251 259 \nQ 2797 -91 1919 -91 \nQ 1588 -91 1214 -16 \nQ 841 59 441 206 \nL 441 856 \nQ 825 641 1194 531 \nQ 1563 422 1919 422 \nQ 2459 422 2753 634 \nQ 3047 847 3047 1241 \nQ 3047 1584 2836 1778 \nQ 2625 1972 2144 2069 \nL 1759 2144 \nQ 1053 2284 737 2584 \nQ 422 2884 422 3419 \nQ 422 4038 858 4394 \nQ 1294 4750 2059 4750 \nQ 2388 4750 2728 4690 \nQ 3069 4631 3425 4513 \nz\n\" id=\"DejaVuSans-53\" transform=\"scale(0.015625)\"/>\n      <path d=\"M 1959 3097 \nQ 1497 3097 1228 2736 \nQ 959 2375 959 1747 \nQ 959 1119 1226 758 \nQ 1494 397 1959 397 \nQ 2419 397 2687 759 \nQ 2956 1122 2956 1747 \nQ 2956 2369 2687 2733 \nQ 2419 3097 1959 3097 \nz\nM 1959 3584 \nQ 2709 3584 3137 3096 \nQ 3566 2609 3566 1747 \nQ 3566 888 3137 398 \nQ 2709 -91 1959 -91 \nQ 1206 -91 779 398 \nQ 353 888 353 1747 \nQ 353 2609 779 3096 \nQ 1206 3584 1959 3584 \nz\n\" id=\"DejaVuSans-6f\" transform=\"scale(0.015625)\"/>\n      <path d=\"M 3513 2113 \nL 3513 0 \nL 2938 0 \nL 2938 2094 \nQ 2938 2591 2744 2837 \nQ 2550 3084 2163 3084 \nQ 1697 3084 1428 2787 \nQ 1159 2491 1159 1978 \nL 1159 0 \nL 581 0 \nL 581 3500 \nL 1159 3500 \nL 1159 2956 \nQ 1366 3272 1645 3428 \nQ 1925 3584 2291 3584 \nQ 2894 3584 3203 3211 \nQ 3513 2838 3513 2113 \nz\n\" id=\"DejaVuSans-6e\" transform=\"scale(0.015625)\"/>\n      <path d=\"M 1172 4494 \nL 1172 3500 \nL 2356 3500 \nL 2356 3053 \nL 1172 3053 \nL 1172 1153 \nQ 1172 725 1289 603 \nQ 1406 481 1766 481 \nL 2356 481 \nL 2356 0 \nL 1766 0 \nQ 1100 0 847 248 \nQ 594 497 594 1153 \nL 594 3053 \nL 172 3053 \nL 172 3500 \nL 594 3500 \nL 594 4494 \nL 1172 4494 \nz\n\" id=\"DejaVuSans-74\" transform=\"scale(0.015625)\"/>\n      <path d=\"M 2194 1759 \nQ 1497 1759 1228 1600 \nQ 959 1441 959 1056 \nQ 959 750 1161 570 \nQ 1363 391 1709 391 \nQ 2188 391 2477 730 \nQ 2766 1069 2766 1631 \nL 2766 1759 \nL 2194 1759 \nz\nM 3341 1997 \nL 3341 0 \nL 2766 0 \nL 2766 531 \nQ 2569 213 2275 61 \nQ 1981 -91 1556 -91 \nQ 1019 -91 701 211 \nQ 384 513 384 1019 \nQ 384 1609 779 1909 \nQ 1175 2209 1959 2209 \nL 2766 2209 \nL 2766 2266 \nQ 2766 2663 2505 2880 \nQ 2244 3097 1772 3097 \nQ 1472 3097 1187 3025 \nQ 903 2953 641 2809 \nL 641 3341 \nQ 956 3463 1253 3523 \nQ 1550 3584 1831 3584 \nQ 2591 3584 2966 3190 \nQ 3341 2797 3341 1997 \nz\n\" id=\"DejaVuSans-61\" transform=\"scale(0.015625)\"/>\n      <path d=\"M 2906 1791 \nQ 2906 2416 2648 2759 \nQ 2391 3103 1925 3103 \nQ 1463 3103 1205 2759 \nQ 947 2416 947 1791 \nQ 947 1169 1205 825 \nQ 1463 481 1925 481 \nQ 2391 481 2648 825 \nQ 2906 1169 2906 1791 \nz\nM 3481 434 \nQ 3481 -459 3084 -895 \nQ 2688 -1331 1869 -1331 \nQ 1566 -1331 1297 -1286 \nQ 1028 -1241 775 -1147 \nL 775 -588 \nQ 1028 -725 1275 -790 \nQ 1522 -856 1778 -856 \nQ 2344 -856 2625 -561 \nQ 2906 -266 2906 331 \nL 2906 616 \nQ 2728 306 2450 153 \nQ 2172 0 1784 0 \nQ 1141 0 747 490 \nQ 353 981 353 1791 \nQ 353 2603 747 3093 \nQ 1141 3584 1784 3584 \nQ 2172 3584 2450 3431 \nQ 2728 3278 2906 2969 \nL 2906 3500 \nL 3481 3500 \nL 3481 434 \nz\n\" id=\"DejaVuSans-67\" transform=\"scale(0.015625)\"/>\n      <path d=\"M 2834 3397 \nL 2834 2853 \nQ 2591 2978 2328 3040 \nQ 2066 3103 1784 3103 \nQ 1356 3103 1142 2972 \nQ 928 2841 928 2578 \nQ 928 2378 1081 2264 \nQ 1234 2150 1697 2047 \nL 1894 2003 \nQ 2506 1872 2764 1633 \nQ 3022 1394 3022 966 \nQ 3022 478 2636 193 \nQ 2250 -91 1575 -91 \nQ 1294 -91 989 -36 \nQ 684 19 347 128 \nL 347 722 \nQ 666 556 975 473 \nQ 1284 391 1588 391 \nQ 1994 391 2212 530 \nQ 2431 669 2431 922 \nQ 2431 1156 2273 1281 \nQ 2116 1406 1581 1522 \nL 1381 1569 \nQ 847 1681 609 1914 \nQ 372 2147 372 2553 \nQ 372 3047 722 3315 \nQ 1072 3584 1716 3584 \nQ 2034 3584 2315 3537 \nQ 2597 3491 2834 3397 \nz\n\" id=\"DejaVuSans-73\" transform=\"scale(0.015625)\"/>\n      <path d=\"M 3263 -1063 \nL 3263 -1509 \nL -63 -1509 \nL -63 -1063 \nL 3263 -1063 \nz\n\" id=\"DejaVuSans-5f\" transform=\"scale(0.015625)\"/>\n      <path d=\"M 3597 1894 \nL 3597 1613 \nL 953 1613 \nQ 991 1019 1311 708 \nQ 1631 397 2203 397 \nQ 2534 397 2845 478 \nQ 3156 559 3463 722 \nL 3463 178 \nQ 3153 47 2828 -22 \nQ 2503 -91 2169 -91 \nQ 1331 -91 842 396 \nQ 353 884 353 1716 \nQ 353 2575 817 3079 \nQ 1281 3584 2069 3584 \nQ 2775 3584 3186 3129 \nQ 3597 2675 3597 1894 \nz\nM 3022 2063 \nQ 3016 2534 2758 2815 \nQ 2500 3097 2075 3097 \nQ 1594 3097 1305 2825 \nQ 1016 2553 972 2059 \nL 3022 2063 \nz\n\" id=\"DejaVuSans-65\" transform=\"scale(0.015625)\"/>\n      <path d=\"M 1959 3097 \nQ 1497 3097 1228 2736 \nQ 959 2375 959 1747 \nQ 959 1119 1226 758 \nQ 1494 397 1959 397 \nQ 2419 397 2687 759 \nQ 2956 1122 2956 1747 \nQ 2956 2369 2687 2733 \nQ 2419 3097 1959 3097 \nz\nM 1959 3584 \nQ 2709 3584 3137 3096 \nQ 3566 2609 3566 1747 \nQ 3566 888 3137 398 \nQ 2709 -91 1959 -91 \nQ 1206 -91 779 398 \nQ 353 888 353 1747 \nQ 353 2609 779 3096 \nQ 1206 3584 1959 3584 \nz\nM 2254 4850 \nL 2888 4850 \nL 2888 4219 \nL 2254 4219 \nL 2254 4850 \nz\nM 1032 4850 \nL 1666 4850 \nL 1666 4219 \nL 1032 4219 \nL 1032 4850 \nz\n\" id=\"DejaVuSans-f6\" transform=\"scale(0.015625)\"/>\n      <path d=\"M 2375 4863 \nL 2375 4384 \nL 1825 4384 \nQ 1516 4384 1395 4259 \nQ 1275 4134 1275 3809 \nL 1275 3500 \nL 2222 3500 \nL 2222 3053 \nL 1275 3053 \nL 1275 0 \nL 697 0 \nL 697 3053 \nL 147 3053 \nL 147 3500 \nL 697 3500 \nL 697 3744 \nQ 697 4328 969 4595 \nQ 1241 4863 1831 4863 \nL 2375 4863 \nz\n\" id=\"DejaVuSans-66\" transform=\"scale(0.015625)\"/>\n     </defs>\n     <use xlink:href=\"#DejaVuSans-53\"/>\n     <use x=\"63.476562\" xlink:href=\"#DejaVuSans-6f\"/>\n     <use x=\"124.658203\" xlink:href=\"#DejaVuSans-6e\"/>\n     <use x=\"188.037109\" xlink:href=\"#DejaVuSans-6e\"/>\n     <use x=\"251.416016\" xlink:href=\"#DejaVuSans-74\"/>\n     <use x=\"290.625\" xlink:href=\"#DejaVuSans-61\"/>\n     <use x=\"351.904297\" xlink:href=\"#DejaVuSans-67\"/>\n     <use x=\"415.380859\" xlink:href=\"#DejaVuSans-73\"/>\n     <use x=\"467.480469\" xlink:href=\"#DejaVuSans-5f\"/>\n     <use x=\"517.480469\" xlink:href=\"#DejaVuSans-67\"/>\n     <use x=\"580.957031\" xlink:href=\"#DejaVuSans-65\"/>\n     <use x=\"642.480469\" xlink:href=\"#DejaVuSans-f6\"/>\n     <use x=\"703.662109\" xlink:href=\"#DejaVuSans-66\"/>\n     <use x=\"738.867188\" xlink:href=\"#DejaVuSans-66\"/>\n     <use x=\"774.072266\" xlink:href=\"#DejaVuSans-6e\"/>\n     <use x=\"837.451172\" xlink:href=\"#DejaVuSans-65\"/>\n     <use x=\"898.974609\" xlink:href=\"#DejaVuSans-74\"/>\n    </g>\n   </g>\n   <g id=\"text_2\">\n    <!-- 93.40% -->\n    <g transform=\"translate(124.511377 123.05091)scale(0.1 -0.1)\">\n     <defs>\n      <path d=\"M 703 97 \nL 703 672 \nQ 941 559 1184 500 \nQ 1428 441 1663 441 \nQ 2288 441 2617 861 \nQ 2947 1281 2994 2138 \nQ 2813 1869 2534 1725 \nQ 2256 1581 1919 1581 \nQ 1219 1581 811 2004 \nQ 403 2428 403 3163 \nQ 403 3881 828 4315 \nQ 1253 4750 1959 4750 \nQ 2769 4750 3195 4129 \nQ 3622 3509 3622 2328 \nQ 3622 1225 3098 567 \nQ 2575 -91 1691 -91 \nQ 1453 -91 1209 -44 \nQ 966 3 703 97 \nz\nM 1959 2075 \nQ 2384 2075 2632 2365 \nQ 2881 2656 2881 3163 \nQ 2881 3666 2632 3958 \nQ 2384 4250 1959 4250 \nQ 1534 4250 1286 3958 \nQ 1038 3666 1038 3163 \nQ 1038 2656 1286 2365 \nQ 1534 2075 1959 2075 \nz\n\" id=\"DejaVuSans-39\" transform=\"scale(0.015625)\"/>\n      <path d=\"M 2597 2516 \nQ 3050 2419 3304 2112 \nQ 3559 1806 3559 1356 \nQ 3559 666 3084 287 \nQ 2609 -91 1734 -91 \nQ 1441 -91 1130 -33 \nQ 819 25 488 141 \nL 488 750 \nQ 750 597 1062 519 \nQ 1375 441 1716 441 \nQ 2309 441 2620 675 \nQ 2931 909 2931 1356 \nQ 2931 1769 2642 2001 \nQ 2353 2234 1838 2234 \nL 1294 2234 \nL 1294 2753 \nL 1863 2753 \nQ 2328 2753 2575 2939 \nQ 2822 3125 2822 3475 \nQ 2822 3834 2567 4026 \nQ 2313 4219 1838 4219 \nQ 1578 4219 1281 4162 \nQ 984 4106 628 3988 \nL 628 4550 \nQ 988 4650 1302 4700 \nQ 1616 4750 1894 4750 \nQ 2613 4750 3031 4423 \nQ 3450 4097 3450 3541 \nQ 3450 3153 3228 2886 \nQ 3006 2619 2597 2516 \nz\n\" id=\"DejaVuSans-33\" transform=\"scale(0.015625)\"/>\n      <path d=\"M 684 794 \nL 1344 794 \nL 1344 0 \nL 684 0 \nL 684 794 \nz\n\" id=\"DejaVuSans-2e\" transform=\"scale(0.015625)\"/>\n      <path d=\"M 2419 4116 \nL 825 1625 \nL 2419 1625 \nL 2419 4116 \nz\nM 2253 4666 \nL 3047 4666 \nL 3047 1625 \nL 3713 1625 \nL 3713 1100 \nL 3047 1100 \nL 3047 0 \nL 2419 0 \nL 2419 1100 \nL 313 1100 \nL 313 1709 \nL 2253 4666 \nz\n\" id=\"DejaVuSans-34\" transform=\"scale(0.015625)\"/>\n      <path d=\"M 2034 4250 \nQ 1547 4250 1301 3770 \nQ 1056 3291 1056 2328 \nQ 1056 1369 1301 889 \nQ 1547 409 2034 409 \nQ 2525 409 2770 889 \nQ 3016 1369 3016 2328 \nQ 3016 3291 2770 3770 \nQ 2525 4250 2034 4250 \nz\nM 2034 4750 \nQ 2819 4750 3233 4129 \nQ 3647 3509 3647 2328 \nQ 3647 1150 3233 529 \nQ 2819 -91 2034 -91 \nQ 1250 -91 836 529 \nQ 422 1150 422 2328 \nQ 422 3509 836 4129 \nQ 1250 4750 2034 4750 \nz\n\" id=\"DejaVuSans-30\" transform=\"scale(0.015625)\"/>\n      <path d=\"M 4653 2053 \nQ 4381 2053 4226 1822 \nQ 4072 1591 4072 1178 \nQ 4072 772 4226 539 \nQ 4381 306 4653 306 \nQ 4919 306 5073 539 \nQ 5228 772 5228 1178 \nQ 5228 1588 5073 1820 \nQ 4919 2053 4653 2053 \nz\nM 4653 2450 \nQ 5147 2450 5437 2106 \nQ 5728 1763 5728 1178 \nQ 5728 594 5436 251 \nQ 5144 -91 4653 -91 \nQ 4153 -91 3862 251 \nQ 3572 594 3572 1178 \nQ 3572 1766 3864 2108 \nQ 4156 2450 4653 2450 \nz\nM 1428 4353 \nQ 1159 4353 1004 4120 \nQ 850 3888 850 3481 \nQ 850 3069 1003 2837 \nQ 1156 2606 1428 2606 \nQ 1700 2606 1854 2837 \nQ 2009 3069 2009 3481 \nQ 2009 3884 1853 4118 \nQ 1697 4353 1428 4353 \nz\nM 4250 4750 \nL 4750 4750 \nL 1831 -91 \nL 1331 -91 \nL 4250 4750 \nz\nM 1428 4750 \nQ 1922 4750 2215 4408 \nQ 2509 4066 2509 3481 \nQ 2509 2891 2217 2550 \nQ 1925 2209 1428 2209 \nQ 931 2209 642 2551 \nQ 353 2894 353 3481 \nQ 353 4063 643 4406 \nQ 934 4750 1428 4750 \nz\n\" id=\"DejaVuSans-25\" transform=\"scale(0.015625)\"/>\n     </defs>\n     <use xlink:href=\"#DejaVuSans-39\"/>\n     <use x=\"63.623047\" xlink:href=\"#DejaVuSans-33\"/>\n     <use x=\"127.246094\" xlink:href=\"#DejaVuSans-2e\"/>\n     <use x=\"159.033203\" xlink:href=\"#DejaVuSans-34\"/>\n     <use x=\"222.65625\" xlink:href=\"#DejaVuSans-30\"/>\n     <use x=\"286.279297\" xlink:href=\"#DejaVuSans-25\"/>\n    </g>\n   </g>\n   <g id=\"text_3\">\n    <!-- Sonntags_geschlossen -->\n    <g transform=\"translate(288.26631 153.36051)scale(0.1 -0.1)\">\n     <defs>\n      <path d=\"M 3122 3366 \nL 3122 2828 \nQ 2878 2963 2633 3030 \nQ 2388 3097 2138 3097 \nQ 1578 3097 1268 2742 \nQ 959 2388 959 1747 \nQ 959 1106 1268 751 \nQ 1578 397 2138 397 \nQ 2388 397 2633 464 \nQ 2878 531 3122 666 \nL 3122 134 \nQ 2881 22 2623 -34 \nQ 2366 -91 2075 -91 \nQ 1284 -91 818 406 \nQ 353 903 353 1747 \nQ 353 2603 823 3093 \nQ 1294 3584 2113 3584 \nQ 2378 3584 2631 3529 \nQ 2884 3475 3122 3366 \nz\n\" id=\"DejaVuSans-63\" transform=\"scale(0.015625)\"/>\n      <path d=\"M 3513 2113 \nL 3513 0 \nL 2938 0 \nL 2938 2094 \nQ 2938 2591 2744 2837 \nQ 2550 3084 2163 3084 \nQ 1697 3084 1428 2787 \nQ 1159 2491 1159 1978 \nL 1159 0 \nL 581 0 \nL 581 4863 \nL 1159 4863 \nL 1159 2956 \nQ 1366 3272 1645 3428 \nQ 1925 3584 2291 3584 \nQ 2894 3584 3203 3211 \nQ 3513 2838 3513 2113 \nz\n\" id=\"DejaVuSans-68\" transform=\"scale(0.015625)\"/>\n      <path d=\"M 603 4863 \nL 1178 4863 \nL 1178 0 \nL 603 0 \nL 603 4863 \nz\n\" id=\"DejaVuSans-6c\" transform=\"scale(0.015625)\"/>\n     </defs>\n     <use xlink:href=\"#DejaVuSans-53\"/>\n     <use x=\"63.476562\" xlink:href=\"#DejaVuSans-6f\"/>\n     <use x=\"124.658203\" xlink:href=\"#DejaVuSans-6e\"/>\n     <use x=\"188.037109\" xlink:href=\"#DejaVuSans-6e\"/>\n     <use x=\"251.416016\" xlink:href=\"#DejaVuSans-74\"/>\n     <use x=\"290.625\" xlink:href=\"#DejaVuSans-61\"/>\n     <use x=\"351.904297\" xlink:href=\"#DejaVuSans-67\"/>\n     <use x=\"415.380859\" xlink:href=\"#DejaVuSans-73\"/>\n     <use x=\"467.480469\" xlink:href=\"#DejaVuSans-5f\"/>\n     <use x=\"517.480469\" xlink:href=\"#DejaVuSans-67\"/>\n     <use x=\"580.957031\" xlink:href=\"#DejaVuSans-65\"/>\n     <use x=\"642.480469\" xlink:href=\"#DejaVuSans-73\"/>\n     <use x=\"694.580078\" xlink:href=\"#DejaVuSans-63\"/>\n     <use x=\"749.560547\" xlink:href=\"#DejaVuSans-68\"/>\n     <use x=\"812.939453\" xlink:href=\"#DejaVuSans-6c\"/>\n     <use x=\"840.722656\" xlink:href=\"#DejaVuSans-6f\"/>\n     <use x=\"901.904297\" xlink:href=\"#DejaVuSans-73\"/>\n     <use x=\"954.003906\" xlink:href=\"#DejaVuSans-73\"/>\n     <use x=\"1006.103516\" xlink:href=\"#DejaVuSans-65\"/>\n     <use x=\"1067.626953\" xlink:href=\"#DejaVuSans-6e\"/>\n    </g>\n   </g>\n   <g id=\"text_4\">\n    <!-- 6.60% -->\n    <g transform=\"translate(229.826807 144.544085)scale(0.1 -0.1)\">\n     <defs>\n      <path d=\"M 2113 2584 \nQ 1688 2584 1439 2293 \nQ 1191 2003 1191 1497 \nQ 1191 994 1439 701 \nQ 1688 409 2113 409 \nQ 2538 409 2786 701 \nQ 3034 994 3034 1497 \nQ 3034 2003 2786 2293 \nQ 2538 2584 2113 2584 \nz\nM 3366 4563 \nL 3366 3988 \nQ 3128 4100 2886 4159 \nQ 2644 4219 2406 4219 \nQ 1781 4219 1451 3797 \nQ 1122 3375 1075 2522 \nQ 1259 2794 1537 2939 \nQ 1816 3084 2150 3084 \nQ 2853 3084 3261 2657 \nQ 3669 2231 3669 1497 \nQ 3669 778 3244 343 \nQ 2819 -91 2113 -91 \nQ 1303 -91 875 529 \nQ 447 1150 447 2328 \nQ 447 3434 972 4092 \nQ 1497 4750 2381 4750 \nQ 2619 4750 2861 4703 \nQ 3103 4656 3366 4563 \nz\n\" id=\"DejaVuSans-36\" transform=\"scale(0.015625)\"/>\n     </defs>\n     <use xlink:href=\"#DejaVuSans-36\"/>\n     <use x=\"63.623047\" xlink:href=\"#DejaVuSans-2e\"/>\n     <use x=\"95.410156\" xlink:href=\"#DejaVuSans-36\"/>\n     <use x=\"159.033203\" xlink:href=\"#DejaVuSans-30\"/>\n     <use x=\"222.65625\" xlink:href=\"#DejaVuSans-25\"/>\n    </g>\n   </g>\n   <g id=\"text_5\">\n    <!-- Anzahl der Tankstellen die sonntags geöffnet sind -->\n    <g transform=\"translate(45.225498 16.318125)scale(0.12 -0.12)\">\n     <defs>\n      <path d=\"M 2188 4044 \nL 1331 1722 \nL 3047 1722 \nL 2188 4044 \nz\nM 1831 4666 \nL 2547 4666 \nL 4325 0 \nL 3669 0 \nL 3244 1197 \nL 1141 1197 \nL 716 0 \nL 50 0 \nL 1831 4666 \nz\n\" id=\"DejaVuSans-41\" transform=\"scale(0.015625)\"/>\n      <path d=\"M 353 3500 \nL 3084 3500 \nL 3084 2975 \nL 922 459 \nL 3084 459 \nL 3084 0 \nL 275 0 \nL 275 525 \nL 2438 3041 \nL 353 3041 \nL 353 3500 \nz\n\" id=\"DejaVuSans-7a\" transform=\"scale(0.015625)\"/>\n      <path id=\"DejaVuSans-20\" transform=\"scale(0.015625)\"/>\n      <path d=\"M 2906 2969 \nL 2906 4863 \nL 3481 4863 \nL 3481 0 \nL 2906 0 \nL 2906 525 \nQ 2725 213 2448 61 \nQ 2172 -91 1784 -91 \nQ 1150 -91 751 415 \nQ 353 922 353 1747 \nQ 353 2572 751 3078 \nQ 1150 3584 1784 3584 \nQ 2172 3584 2448 3432 \nQ 2725 3281 2906 2969 \nz\nM 947 1747 \nQ 947 1113 1208 752 \nQ 1469 391 1925 391 \nQ 2381 391 2643 752 \nQ 2906 1113 2906 1747 \nQ 2906 2381 2643 2742 \nQ 2381 3103 1925 3103 \nQ 1469 3103 1208 2742 \nQ 947 2381 947 1747 \nz\n\" id=\"DejaVuSans-64\" transform=\"scale(0.015625)\"/>\n      <path d=\"M 2631 2963 \nQ 2534 3019 2420 3045 \nQ 2306 3072 2169 3072 \nQ 1681 3072 1420 2755 \nQ 1159 2438 1159 1844 \nL 1159 0 \nL 581 0 \nL 581 3500 \nL 1159 3500 \nL 1159 2956 \nQ 1341 3275 1631 3429 \nQ 1922 3584 2338 3584 \nQ 2397 3584 2469 3576 \nQ 2541 3569 2628 3553 \nL 2631 2963 \nz\n\" id=\"DejaVuSans-72\" transform=\"scale(0.015625)\"/>\n      <path d=\"M -19 4666 \nL 3928 4666 \nL 3928 4134 \nL 2272 4134 \nL 2272 0 \nL 1638 0 \nL 1638 4134 \nL -19 4134 \nL -19 4666 \nz\n\" id=\"DejaVuSans-54\" transform=\"scale(0.015625)\"/>\n      <path d=\"M 581 4863 \nL 1159 4863 \nL 1159 1991 \nL 2875 3500 \nL 3609 3500 \nL 1753 1863 \nL 3688 0 \nL 2938 0 \nL 1159 1709 \nL 1159 0 \nL 581 0 \nL 581 4863 \nz\n\" id=\"DejaVuSans-6b\" transform=\"scale(0.015625)\"/>\n      <path d=\"M 603 3500 \nL 1178 3500 \nL 1178 0 \nL 603 0 \nL 603 3500 \nz\nM 603 4863 \nL 1178 4863 \nL 1178 4134 \nL 603 4134 \nL 603 4863 \nz\n\" id=\"DejaVuSans-69\" transform=\"scale(0.015625)\"/>\n     </defs>\n     <use xlink:href=\"#DejaVuSans-41\"/>\n     <use x=\"68.408203\" xlink:href=\"#DejaVuSans-6e\"/>\n     <use x=\"131.787109\" xlink:href=\"#DejaVuSans-7a\"/>\n     <use x=\"184.277344\" xlink:href=\"#DejaVuSans-61\"/>\n     <use x=\"245.556641\" xlink:href=\"#DejaVuSans-68\"/>\n     <use x=\"308.935547\" xlink:href=\"#DejaVuSans-6c\"/>\n     <use x=\"336.71875\" xlink:href=\"#DejaVuSans-20\"/>\n     <use x=\"368.505859\" xlink:href=\"#DejaVuSans-64\"/>\n     <use x=\"431.982422\" xlink:href=\"#DejaVuSans-65\"/>\n     <use x=\"493.505859\" xlink:href=\"#DejaVuSans-72\"/>\n     <use x=\"534.619141\" xlink:href=\"#DejaVuSans-20\"/>\n     <use x=\"566.40625\" xlink:href=\"#DejaVuSans-54\"/>\n     <use x=\"610.990234\" xlink:href=\"#DejaVuSans-61\"/>\n     <use x=\"672.269531\" xlink:href=\"#DejaVuSans-6e\"/>\n     <use x=\"735.648438\" xlink:href=\"#DejaVuSans-6b\"/>\n     <use x=\"793.558594\" xlink:href=\"#DejaVuSans-73\"/>\n     <use x=\"845.658203\" xlink:href=\"#DejaVuSans-74\"/>\n     <use x=\"884.867188\" xlink:href=\"#DejaVuSans-65\"/>\n     <use x=\"946.390625\" xlink:href=\"#DejaVuSans-6c\"/>\n     <use x=\"974.173828\" xlink:href=\"#DejaVuSans-6c\"/>\n     <use x=\"1001.957031\" xlink:href=\"#DejaVuSans-65\"/>\n     <use x=\"1063.480469\" xlink:href=\"#DejaVuSans-6e\"/>\n     <use x=\"1126.859375\" xlink:href=\"#DejaVuSans-20\"/>\n     <use x=\"1158.646484\" xlink:href=\"#DejaVuSans-64\"/>\n     <use x=\"1222.123047\" xlink:href=\"#DejaVuSans-69\"/>\n     <use x=\"1249.90625\" xlink:href=\"#DejaVuSans-65\"/>\n     <use x=\"1311.429688\" xlink:href=\"#DejaVuSans-20\"/>\n     <use x=\"1343.216797\" xlink:href=\"#DejaVuSans-73\"/>\n     <use x=\"1395.316406\" xlink:href=\"#DejaVuSans-6f\"/>\n     <use x=\"1456.498047\" xlink:href=\"#DejaVuSans-6e\"/>\n     <use x=\"1519.876953\" xlink:href=\"#DejaVuSans-6e\"/>\n     <use x=\"1583.255859\" xlink:href=\"#DejaVuSans-74\"/>\n     <use x=\"1622.464844\" xlink:href=\"#DejaVuSans-61\"/>\n     <use x=\"1683.744141\" xlink:href=\"#DejaVuSans-67\"/>\n     <use x=\"1747.220703\" xlink:href=\"#DejaVuSans-73\"/>\n     <use x=\"1799.320312\" xlink:href=\"#DejaVuSans-20\"/>\n     <use x=\"1831.107422\" xlink:href=\"#DejaVuSans-67\"/>\n     <use x=\"1894.583984\" xlink:href=\"#DejaVuSans-65\"/>\n     <use x=\"1956.107422\" xlink:href=\"#DejaVuSans-f6\"/>\n     <use x=\"2017.289062\" xlink:href=\"#DejaVuSans-66\"/>\n     <use x=\"2052.494141\" xlink:href=\"#DejaVuSans-66\"/>\n     <use x=\"2087.699219\" xlink:href=\"#DejaVuSans-6e\"/>\n     <use x=\"2151.078125\" xlink:href=\"#DejaVuSans-65\"/>\n     <use x=\"2212.601562\" xlink:href=\"#DejaVuSans-74\"/>\n     <use x=\"2251.810547\" xlink:href=\"#DejaVuSans-20\"/>\n     <use x=\"2283.597656\" xlink:href=\"#DejaVuSans-73\"/>\n     <use x=\"2335.697266\" xlink:href=\"#DejaVuSans-69\"/>\n     <use x=\"2363.480469\" xlink:href=\"#DejaVuSans-6e\"/>\n     <use x=\"2426.859375\" xlink:href=\"#DejaVuSans-64\"/>\n    </g>\n   </g>\n  </g>\n </g>\n</svg>\n",
      "image/png": "[encoded data removed]"
     },
     "metadata": {}
    }
   ],
   "source": [
    "def pie_label_formatter(x):\n",
    "    return '{:.2f}%'.format(x)\n",
    "\n",
    "plt.pie(openOnSunday.values(), labels = openOnSunday.keys(), autopct=pie_label_formatter)\n",
    "plt.title(\"Anzahl der Tankstellen die sonntags geöffnet sind\")\n",
    "plt.show()"
   ]
  },
  {
   "cell_type": "code",
   "execution_count": 28,
   "metadata": {},
   "outputs": [
    {
     "output_type": "display_data",
     "data": {
      "text/plain": "<Figure size 432x288 with 1 Axes>",
      "image/svg+xml": "<?xml version=\"1.0\" encoding=\"utf-8\" standalone=\"no\"?>\n<!DOCTYPE svg PUBLIC \"-//W3C//DTD SVG 1.1//EN\"\n  \"http://www.w3.org/Graphics/SVG/1.1/DTD/svg11.dtd\">\n<svg height=\"246.958125pt\" version=\"1.1\" viewBox=\"0 0 355.447303 246.958125\" width=\"355.447303pt\" xmlns=\"http://www.w3.org/2000/svg\" xmlns:xlink=\"http://www.w3.org/1999/xlink\">\n <metadata>\n  <rdf:RDF xmlns:cc=\"http://creativecommons.org/ns#\" xmlns:dc=\"http://purl.org/dc/elements/1.1/\" xmlns:rdf=\"http://www.w3.org/1999/02/22-rdf-syntax-ns#\">\n   <cc:Work>\n    <dc:type rdf:resource=\"http://purl.org/dc/dcmitype/StillImage\"/>\n    <dc:date>2021-06-21T17:43:44.358927</dc:date>\n    <dc:format>image/svg+xml</dc:format>\n    <dc:creator>\n     <cc:Agent>\n      <dc:title>Matplotlib v3.4.2, https://matplotlib.org/</dc:title>\n     </cc:Agent>\n    </dc:creator>\n   </cc:Work>\n  </rdf:RDF>\n </metadata>\n <defs>\n  <style type=\"text/css\">*{stroke-linecap:butt;stroke-linejoin:round;}</style>\n </defs>\n <g id=\"figure_1\">\n  <g id=\"patch_1\">\n   <path d=\"M 0 246.958125 \nL 355.447303 246.958125 \nL 355.447303 0 \nL 0 0 \nz\n\" style=\"fill:none;\"/>\n  </g>\n  <g id=\"axes_1\">\n   <g id=\"patch_2\">\n    <path d=\"M 285.80549 131.038125 \nC 285.80549 119.789255 283.623214 108.646475 279.379866 98.228651 \nC 275.136517 87.810826 268.912134 78.314462 261.052418 70.266982 \nC 253.192702 62.219502 243.845904 55.772701 233.531143 51.284631 \nC 223.216382 46.796561 212.128217 44.351877 200.882481 44.086358 \nC 189.636745 43.820838 178.445559 45.739491 167.930477 49.735754 \nC 157.415395 53.732017 147.774755 59.730512 139.543996 67.398085 \nC 131.313236 75.065658 124.647608 84.25768 119.917318 94.46363 \nC 115.187028 104.669581 112.481299 115.696952 111.950408 126.933287 \nC 111.419517 138.169622 113.073477 149.402978 116.820427 160.009459 \nC 120.567378 170.61594 126.336643 180.395483 133.8078 188.804935 \nC 141.278956 197.214388 150.311081 204.095128 160.402534 209.065003 \nC 170.493987 214.034877 181.454419 217.000143 192.675092 217.79611 \nC 203.895766 218.592077 215.165032 217.203731 225.857002 213.708181 \nC 236.548971 210.212631 246.461967 204.675811 255.045426 197.405234 \nC 263.628886 190.134656 270.720904 181.267461 275.927594 171.296129 \nC 281.134284 161.324798 284.357435 150.437412 285.418034 139.238653 \nL 198.82949 131.038125 \nL 285.80549 131.038125 \nz\n\" style=\"fill:#1f77b4;\"/>\n   </g>\n   <g id=\"patch_3\">\n    <path d=\"M 285.418034 139.238653 \nC 285.547096 137.875897 285.643969 136.510284 285.708572 135.142956 \nC 285.773175 133.775627 285.80549 132.406964 285.80549 131.038111 \nL 198.82949 131.038125 \nL 285.418034 139.238653 \nz\n\" style=\"fill:#ff7f0e;\"/>\n   </g>\n   <g id=\"matplotlib.axis_1\"/>\n   <g id=\"matplotlib.axis_2\"/>\n   <g id=\"text_1\">\n    <!-- Keine_Öffnungszeit -->\n    <g transform=\"translate(7.2 129.898584)scale(0.1 -0.1)\">\n     <defs>\n      <path d=\"M 628 4666 \nL 1259 4666 \nL 1259 2694 \nL 3353 4666 \nL 4166 4666 \nL 1850 2491 \nL 4331 0 \nL 3500 0 \nL 1259 2247 \nL 1259 0 \nL 628 0 \nL 628 4666 \nz\n\" id=\"DejaVuSans-4b\" transform=\"scale(0.015625)\"/>\n      <path d=\"M 3597 1894 \nL 3597 1613 \nL 953 1613 \nQ 991 1019 1311 708 \nQ 1631 397 2203 397 \nQ 2534 397 2845 478 \nQ 3156 559 3463 722 \nL 3463 178 \nQ 3153 47 2828 -22 \nQ 2503 -91 2169 -91 \nQ 1331 -91 842 396 \nQ 353 884 353 1716 \nQ 353 2575 817 3079 \nQ 1281 3584 2069 3584 \nQ 2775 3584 3186 3129 \nQ 3597 2675 3597 1894 \nz\nM 3022 2063 \nQ 3016 2534 2758 2815 \nQ 2500 3097 2075 3097 \nQ 1594 3097 1305 2825 \nQ 1016 2553 972 2059 \nL 3022 2063 \nz\n\" id=\"DejaVuSans-65\" transform=\"scale(0.015625)\"/>\n      <path d=\"M 603 3500 \nL 1178 3500 \nL 1178 0 \nL 603 0 \nL 603 3500 \nz\nM 603 4863 \nL 1178 4863 \nL 1178 4134 \nL 603 4134 \nL 603 4863 \nz\n\" id=\"DejaVuSans-69\" transform=\"scale(0.015625)\"/>\n      <path d=\"M 3513 2113 \nL 3513 0 \nL 2938 0 \nL 2938 2094 \nQ 2938 2591 2744 2837 \nQ 2550 3084 2163 3084 \nQ 1697 3084 1428 2787 \nQ 1159 2491 1159 1978 \nL 1159 0 \nL 581 0 \nL 581 3500 \nL 1159 3500 \nL 1159 2956 \nQ 1366 3272 1645 3428 \nQ 1925 3584 2291 3584 \nQ 2894 3584 3203 3211 \nQ 3513 2838 3513 2113 \nz\n\" id=\"DejaVuSans-6e\" transform=\"scale(0.015625)\"/>\n      <path d=\"M 3263 -1063 \nL 3263 -1509 \nL -63 -1509 \nL -63 -1063 \nL 3263 -1063 \nz\n\" id=\"DejaVuSans-5f\" transform=\"scale(0.015625)\"/>\n      <path d=\"M 2522 4238 \nQ 1834 4238 1429 3725 \nQ 1025 3213 1025 2328 \nQ 1025 1447 1429 934 \nQ 1834 422 2522 422 \nQ 3209 422 3611 934 \nQ 4013 1447 4013 2328 \nQ 4013 3213 3611 3725 \nQ 3209 4238 2522 4238 \nz\nM 2522 4750 \nQ 3503 4750 4090 4092 \nQ 4678 3434 4678 2328 \nQ 4678 1225 4090 567 \nQ 3503 -91 2522 -91 \nQ 1538 -91 948 565 \nQ 359 1222 359 2328 \nQ 359 3434 948 4092 \nQ 1538 4750 2522 4750 \nz\nM 2814 5830 \nL 3448 5830 \nL 3448 5196 \nL 2814 5196 \nL 2814 5830 \nz\nM 1592 5830 \nL 2226 5830 \nL 2226 5196 \nL 1592 5196 \nL 1592 5830 \nz\n\" id=\"DejaVuSans-d6\" transform=\"scale(0.015625)\"/>\n      <path d=\"M 2375 4863 \nL 2375 4384 \nL 1825 4384 \nQ 1516 4384 1395 4259 \nQ 1275 4134 1275 3809 \nL 1275 3500 \nL 2222 3500 \nL 2222 3053 \nL 1275 3053 \nL 1275 0 \nL 697 0 \nL 697 3053 \nL 147 3053 \nL 147 3500 \nL 697 3500 \nL 697 3744 \nQ 697 4328 969 4595 \nQ 1241 4863 1831 4863 \nL 2375 4863 \nz\n\" id=\"DejaVuSans-66\" transform=\"scale(0.015625)\"/>\n      <path d=\"M 544 1381 \nL 544 3500 \nL 1119 3500 \nL 1119 1403 \nQ 1119 906 1312 657 \nQ 1506 409 1894 409 \nQ 2359 409 2629 706 \nQ 2900 1003 2900 1516 \nL 2900 3500 \nL 3475 3500 \nL 3475 0 \nL 2900 0 \nL 2900 538 \nQ 2691 219 2414 64 \nQ 2138 -91 1772 -91 \nQ 1169 -91 856 284 \nQ 544 659 544 1381 \nz\nM 1991 3584 \nL 1991 3584 \nz\n\" id=\"DejaVuSans-75\" transform=\"scale(0.015625)\"/>\n      <path d=\"M 2906 1791 \nQ 2906 2416 2648 2759 \nQ 2391 3103 1925 3103 \nQ 1463 3103 1205 2759 \nQ 947 2416 947 1791 \nQ 947 1169 1205 825 \nQ 1463 481 1925 481 \nQ 2391 481 2648 825 \nQ 2906 1169 2906 1791 \nz\nM 3481 434 \nQ 3481 -459 3084 -895 \nQ 2688 -1331 1869 -1331 \nQ 1566 -1331 1297 -1286 \nQ 1028 -1241 775 -1147 \nL 775 -588 \nQ 1028 -725 1275 -790 \nQ 1522 -856 1778 -856 \nQ 2344 -856 2625 -561 \nQ 2906 -266 2906 331 \nL 2906 616 \nQ 2728 306 2450 153 \nQ 2172 0 1784 0 \nQ 1141 0 747 490 \nQ 353 981 353 1791 \nQ 353 2603 747 3093 \nQ 1141 3584 1784 3584 \nQ 2172 3584 2450 3431 \nQ 2728 3278 2906 2969 \nL 2906 3500 \nL 3481 3500 \nL 3481 434 \nz\n\" id=\"DejaVuSans-67\" transform=\"scale(0.015625)\"/>\n      <path d=\"M 2834 3397 \nL 2834 2853 \nQ 2591 2978 2328 3040 \nQ 2066 3103 1784 3103 \nQ 1356 3103 1142 2972 \nQ 928 2841 928 2578 \nQ 928 2378 1081 2264 \nQ 1234 2150 1697 2047 \nL 1894 2003 \nQ 2506 1872 2764 1633 \nQ 3022 1394 3022 966 \nQ 3022 478 2636 193 \nQ 2250 -91 1575 -91 \nQ 1294 -91 989 -36 \nQ 684 19 347 128 \nL 347 722 \nQ 666 556 975 473 \nQ 1284 391 1588 391 \nQ 1994 391 2212 530 \nQ 2431 669 2431 922 \nQ 2431 1156 2273 1281 \nQ 2116 1406 1581 1522 \nL 1381 1569 \nQ 847 1681 609 1914 \nQ 372 2147 372 2553 \nQ 372 3047 722 3315 \nQ 1072 3584 1716 3584 \nQ 2034 3584 2315 3537 \nQ 2597 3491 2834 3397 \nz\n\" id=\"DejaVuSans-73\" transform=\"scale(0.015625)\"/>\n      <path d=\"M 353 3500 \nL 3084 3500 \nL 3084 2975 \nL 922 459 \nL 3084 459 \nL 3084 0 \nL 275 0 \nL 275 525 \nL 2438 3041 \nL 353 3041 \nL 353 3500 \nz\n\" id=\"DejaVuSans-7a\" transform=\"scale(0.015625)\"/>\n      <path d=\"M 1172 4494 \nL 1172 3500 \nL 2356 3500 \nL 2356 3053 \nL 1172 3053 \nL 1172 1153 \nQ 1172 725 1289 603 \nQ 1406 481 1766 481 \nL 2356 481 \nL 2356 0 \nL 1766 0 \nQ 1100 0 847 248 \nQ 594 497 594 1153 \nL 594 3053 \nL 172 3053 \nL 172 3500 \nL 594 3500 \nL 594 4494 \nL 1172 4494 \nz\n\" id=\"DejaVuSans-74\" transform=\"scale(0.015625)\"/>\n     </defs>\n     <use xlink:href=\"#DejaVuSans-4b\"/>\n     <use x=\"60.576172\" xlink:href=\"#DejaVuSans-65\"/>\n     <use x=\"122.099609\" xlink:href=\"#DejaVuSans-69\"/>\n     <use x=\"149.882812\" xlink:href=\"#DejaVuSans-6e\"/>\n     <use x=\"213.261719\" xlink:href=\"#DejaVuSans-65\"/>\n     <use x=\"274.785156\" xlink:href=\"#DejaVuSans-5f\"/>\n     <use x=\"324.785156\" xlink:href=\"#DejaVuSans-d6\"/>\n     <use x=\"403.496094\" xlink:href=\"#DejaVuSans-66\"/>\n     <use x=\"438.701172\" xlink:href=\"#DejaVuSans-66\"/>\n     <use x=\"473.90625\" xlink:href=\"#DejaVuSans-6e\"/>\n     <use x=\"537.285156\" xlink:href=\"#DejaVuSans-75\"/>\n     <use x=\"600.664062\" xlink:href=\"#DejaVuSans-6e\"/>\n     <use x=\"664.042969\" xlink:href=\"#DejaVuSans-67\"/>\n     <use x=\"727.519531\" xlink:href=\"#DejaVuSans-73\"/>\n     <use x=\"779.619141\" xlink:href=\"#DejaVuSans-7a\"/>\n     <use x=\"832.109375\" xlink:href=\"#DejaVuSans-65\"/>\n     <use x=\"893.632812\" xlink:href=\"#DejaVuSans-69\"/>\n     <use x=\"921.416016\" xlink:href=\"#DejaVuSans-74\"/>\n    </g>\n   </g>\n   <g id=\"text_2\">\n    <!-- 98.50% -->\n    <g transform=\"translate(127.637197 131.334597)scale(0.1 -0.1)\">\n     <defs>\n      <path d=\"M 703 97 \nL 703 672 \nQ 941 559 1184 500 \nQ 1428 441 1663 441 \nQ 2288 441 2617 861 \nQ 2947 1281 2994 2138 \nQ 2813 1869 2534 1725 \nQ 2256 1581 1919 1581 \nQ 1219 1581 811 2004 \nQ 403 2428 403 3163 \nQ 403 3881 828 4315 \nQ 1253 4750 1959 4750 \nQ 2769 4750 3195 4129 \nQ 3622 3509 3622 2328 \nQ 3622 1225 3098 567 \nQ 2575 -91 1691 -91 \nQ 1453 -91 1209 -44 \nQ 966 3 703 97 \nz\nM 1959 2075 \nQ 2384 2075 2632 2365 \nQ 2881 2656 2881 3163 \nQ 2881 3666 2632 3958 \nQ 2384 4250 1959 4250 \nQ 1534 4250 1286 3958 \nQ 1038 3666 1038 3163 \nQ 1038 2656 1286 2365 \nQ 1534 2075 1959 2075 \nz\n\" id=\"DejaVuSans-39\" transform=\"scale(0.015625)\"/>\n      <path d=\"M 2034 2216 \nQ 1584 2216 1326 1975 \nQ 1069 1734 1069 1313 \nQ 1069 891 1326 650 \nQ 1584 409 2034 409 \nQ 2484 409 2743 651 \nQ 3003 894 3003 1313 \nQ 3003 1734 2745 1975 \nQ 2488 2216 2034 2216 \nz\nM 1403 2484 \nQ 997 2584 770 2862 \nQ 544 3141 544 3541 \nQ 544 4100 942 4425 \nQ 1341 4750 2034 4750 \nQ 2731 4750 3128 4425 \nQ 3525 4100 3525 3541 \nQ 3525 3141 3298 2862 \nQ 3072 2584 2669 2484 \nQ 3125 2378 3379 2068 \nQ 3634 1759 3634 1313 \nQ 3634 634 3220 271 \nQ 2806 -91 2034 -91 \nQ 1263 -91 848 271 \nQ 434 634 434 1313 \nQ 434 1759 690 2068 \nQ 947 2378 1403 2484 \nz\nM 1172 3481 \nQ 1172 3119 1398 2916 \nQ 1625 2713 2034 2713 \nQ 2441 2713 2670 2916 \nQ 2900 3119 2900 3481 \nQ 2900 3844 2670 4047 \nQ 2441 4250 2034 4250 \nQ 1625 4250 1398 4047 \nQ 1172 3844 1172 3481 \nz\n\" id=\"DejaVuSans-38\" transform=\"scale(0.015625)\"/>\n      <path d=\"M 684 794 \nL 1344 794 \nL 1344 0 \nL 684 0 \nL 684 794 \nz\n\" id=\"DejaVuSans-2e\" transform=\"scale(0.015625)\"/>\n      <path d=\"M 691 4666 \nL 3169 4666 \nL 3169 4134 \nL 1269 4134 \nL 1269 2991 \nQ 1406 3038 1543 3061 \nQ 1681 3084 1819 3084 \nQ 2600 3084 3056 2656 \nQ 3513 2228 3513 1497 \nQ 3513 744 3044 326 \nQ 2575 -91 1722 -91 \nQ 1428 -91 1123 -41 \nQ 819 9 494 109 \nL 494 744 \nQ 775 591 1075 516 \nQ 1375 441 1709 441 \nQ 2250 441 2565 725 \nQ 2881 1009 2881 1497 \nQ 2881 1984 2565 2268 \nQ 2250 2553 1709 2553 \nQ 1456 2553 1204 2497 \nQ 953 2441 691 2322 \nL 691 4666 \nz\n\" id=\"DejaVuSans-35\" transform=\"scale(0.015625)\"/>\n      <path d=\"M 2034 4250 \nQ 1547 4250 1301 3770 \nQ 1056 3291 1056 2328 \nQ 1056 1369 1301 889 \nQ 1547 409 2034 409 \nQ 2525 409 2770 889 \nQ 3016 1369 3016 2328 \nQ 3016 3291 2770 3770 \nQ 2525 4250 2034 4250 \nz\nM 2034 4750 \nQ 2819 4750 3233 4129 \nQ 3647 3509 3647 2328 \nQ 3647 1150 3233 529 \nQ 2819 -91 2034 -91 \nQ 1250 -91 836 529 \nQ 422 1150 422 2328 \nQ 422 3509 836 4129 \nQ 1250 4750 2034 4750 \nz\n\" id=\"DejaVuSans-30\" transform=\"scale(0.015625)\"/>\n      <path d=\"M 4653 2053 \nQ 4381 2053 4226 1822 \nQ 4072 1591 4072 1178 \nQ 4072 772 4226 539 \nQ 4381 306 4653 306 \nQ 4919 306 5073 539 \nQ 5228 772 5228 1178 \nQ 5228 1588 5073 1820 \nQ 4919 2053 4653 2053 \nz\nM 4653 2450 \nQ 5147 2450 5437 2106 \nQ 5728 1763 5728 1178 \nQ 5728 594 5436 251 \nQ 5144 -91 4653 -91 \nQ 4153 -91 3862 251 \nQ 3572 594 3572 1178 \nQ 3572 1766 3864 2108 \nQ 4156 2450 4653 2450 \nz\nM 1428 4353 \nQ 1159 4353 1004 4120 \nQ 850 3888 850 3481 \nQ 850 3069 1003 2837 \nQ 1156 2606 1428 2606 \nQ 1700 2606 1854 2837 \nQ 2009 3069 2009 3481 \nQ 2009 3884 1853 4118 \nQ 1697 4353 1428 4353 \nz\nM 4250 4750 \nL 4750 4750 \nL 1831 -91 \nL 1331 -91 \nL 4250 4750 \nz\nM 1428 4750 \nQ 1922 4750 2215 4408 \nQ 2509 4066 2509 3481 \nQ 2509 2891 2217 2550 \nQ 1925 2209 1428 2209 \nQ 931 2209 642 2551 \nQ 353 2894 353 3481 \nQ 353 4063 643 4406 \nQ 934 4750 1428 4750 \nz\n\" id=\"DejaVuSans-25\" transform=\"scale(0.015625)\"/>\n     </defs>\n     <use xlink:href=\"#DejaVuSans-39\"/>\n     <use x=\"63.623047\" xlink:href=\"#DejaVuSans-38\"/>\n     <use x=\"127.246094\" xlink:href=\"#DejaVuSans-2e\"/>\n     <use x=\"159.033203\" xlink:href=\"#DejaVuSans-35\"/>\n     <use x=\"222.65625\" xlink:href=\"#DejaVuSans-30\"/>\n     <use x=\"286.279297\" xlink:href=\"#DejaVuSans-25\"/>\n    </g>\n   </g>\n   <g id=\"text_3\">\n    <!-- Fehlerhaft -->\n    <g transform=\"translate(294.396481 138.312814)scale(0.1 -0.1)\">\n     <defs>\n      <path d=\"M 628 4666 \nL 3309 4666 \nL 3309 4134 \nL 1259 4134 \nL 1259 2759 \nL 3109 2759 \nL 3109 2228 \nL 1259 2228 \nL 1259 0 \nL 628 0 \nL 628 4666 \nz\n\" id=\"DejaVuSans-46\" transform=\"scale(0.015625)\"/>\n      <path d=\"M 3513 2113 \nL 3513 0 \nL 2938 0 \nL 2938 2094 \nQ 2938 2591 2744 2837 \nQ 2550 3084 2163 3084 \nQ 1697 3084 1428 2787 \nQ 1159 2491 1159 1978 \nL 1159 0 \nL 581 0 \nL 581 4863 \nL 1159 4863 \nL 1159 2956 \nQ 1366 3272 1645 3428 \nQ 1925 3584 2291 3584 \nQ 2894 3584 3203 3211 \nQ 3513 2838 3513 2113 \nz\n\" id=\"DejaVuSans-68\" transform=\"scale(0.015625)\"/>\n      <path d=\"M 603 4863 \nL 1178 4863 \nL 1178 0 \nL 603 0 \nL 603 4863 \nz\n\" id=\"DejaVuSans-6c\" transform=\"scale(0.015625)\"/>\n      <path d=\"M 2631 2963 \nQ 2534 3019 2420 3045 \nQ 2306 3072 2169 3072 \nQ 1681 3072 1420 2755 \nQ 1159 2438 1159 1844 \nL 1159 0 \nL 581 0 \nL 581 3500 \nL 1159 3500 \nL 1159 2956 \nQ 1341 3275 1631 3429 \nQ 1922 3584 2338 3584 \nQ 2397 3584 2469 3576 \nQ 2541 3569 2628 3553 \nL 2631 2963 \nz\n\" id=\"DejaVuSans-72\" transform=\"scale(0.015625)\"/>\n      <path d=\"M 2194 1759 \nQ 1497 1759 1228 1600 \nQ 959 1441 959 1056 \nQ 959 750 1161 570 \nQ 1363 391 1709 391 \nQ 2188 391 2477 730 \nQ 2766 1069 2766 1631 \nL 2766 1759 \nL 2194 1759 \nz\nM 3341 1997 \nL 3341 0 \nL 2766 0 \nL 2766 531 \nQ 2569 213 2275 61 \nQ 1981 -91 1556 -91 \nQ 1019 -91 701 211 \nQ 384 513 384 1019 \nQ 384 1609 779 1909 \nQ 1175 2209 1959 2209 \nL 2766 2209 \nL 2766 2266 \nQ 2766 2663 2505 2880 \nQ 2244 3097 1772 3097 \nQ 1472 3097 1187 3025 \nQ 903 2953 641 2809 \nL 641 3341 \nQ 956 3463 1253 3523 \nQ 1550 3584 1831 3584 \nQ 2591 3584 2966 3190 \nQ 3341 2797 3341 1997 \nz\n\" id=\"DejaVuSans-61\" transform=\"scale(0.015625)\"/>\n     </defs>\n     <use xlink:href=\"#DejaVuSans-46\"/>\n     <use x=\"52.019531\" xlink:href=\"#DejaVuSans-65\"/>\n     <use x=\"113.542969\" xlink:href=\"#DejaVuSans-68\"/>\n     <use x=\"176.921875\" xlink:href=\"#DejaVuSans-6c\"/>\n     <use x=\"204.705078\" xlink:href=\"#DejaVuSans-65\"/>\n     <use x=\"266.228516\" xlink:href=\"#DejaVuSans-72\"/>\n     <use x=\"305.591797\" xlink:href=\"#DejaVuSans-68\"/>\n     <use x=\"368.970703\" xlink:href=\"#DejaVuSans-61\"/>\n     <use x=\"430.25\" xlink:href=\"#DejaVuSans-66\"/>\n     <use x=\"463.705078\" xlink:href=\"#DejaVuSans-74\"/>\n    </g>\n   </g>\n   <g id=\"text_4\">\n    <!-- 1.50% -->\n    <g transform=\"translate(235.073346 136.260399)scale(0.1 -0.1)\">\n     <defs>\n      <path d=\"M 794 531 \nL 1825 531 \nL 1825 4091 \nL 703 3866 \nL 703 4441 \nL 1819 4666 \nL 2450 4666 \nL 2450 531 \nL 3481 531 \nL 3481 0 \nL 794 0 \nL 794 531 \nz\n\" id=\"DejaVuSans-31\" transform=\"scale(0.015625)\"/>\n     </defs>\n     <use xlink:href=\"#DejaVuSans-31\"/>\n     <use x=\"63.623047\" xlink:href=\"#DejaVuSans-2e\"/>\n     <use x=\"95.410156\" xlink:href=\"#DejaVuSans-35\"/>\n     <use x=\"159.033203\" xlink:href=\"#DejaVuSans-30\"/>\n     <use x=\"222.65625\" xlink:href=\"#DejaVuSans-25\"/>\n    </g>\n   </g>\n   <g id=\"text_5\">\n    <!-- Anzahl der Tankstellen die sonntags geöffnet sind -->\n    <g transform=\"translate(49.411678 16.318125)scale(0.12 -0.12)\">\n     <defs>\n      <path d=\"M 2188 4044 \nL 1331 1722 \nL 3047 1722 \nL 2188 4044 \nz\nM 1831 4666 \nL 2547 4666 \nL 4325 0 \nL 3669 0 \nL 3244 1197 \nL 1141 1197 \nL 716 0 \nL 50 0 \nL 1831 4666 \nz\n\" id=\"DejaVuSans-41\" transform=\"scale(0.015625)\"/>\n      <path id=\"DejaVuSans-20\" transform=\"scale(0.015625)\"/>\n      <path d=\"M 2906 2969 \nL 2906 4863 \nL 3481 4863 \nL 3481 0 \nL 2906 0 \nL 2906 525 \nQ 2725 213 2448 61 \nQ 2172 -91 1784 -91 \nQ 1150 -91 751 415 \nQ 353 922 353 1747 \nQ 353 2572 751 3078 \nQ 1150 3584 1784 3584 \nQ 2172 3584 2448 3432 \nQ 2725 3281 2906 2969 \nz\nM 947 1747 \nQ 947 1113 1208 752 \nQ 1469 391 1925 391 \nQ 2381 391 2643 752 \nQ 2906 1113 2906 1747 \nQ 2906 2381 2643 2742 \nQ 2381 3103 1925 3103 \nQ 1469 3103 1208 2742 \nQ 947 2381 947 1747 \nz\n\" id=\"DejaVuSans-64\" transform=\"scale(0.015625)\"/>\n      <path d=\"M -19 4666 \nL 3928 4666 \nL 3928 4134 \nL 2272 4134 \nL 2272 0 \nL 1638 0 \nL 1638 4134 \nL -19 4134 \nL -19 4666 \nz\n\" id=\"DejaVuSans-54\" transform=\"scale(0.015625)\"/>\n      <path d=\"M 581 4863 \nL 1159 4863 \nL 1159 1991 \nL 2875 3500 \nL 3609 3500 \nL 1753 1863 \nL 3688 0 \nL 2938 0 \nL 1159 1709 \nL 1159 0 \nL 581 0 \nL 581 4863 \nz\n\" id=\"DejaVuSans-6b\" transform=\"scale(0.015625)\"/>\n      <path d=\"M 1959 3097 \nQ 1497 3097 1228 2736 \nQ 959 2375 959 1747 \nQ 959 1119 1226 758 \nQ 1494 397 1959 397 \nQ 2419 397 2687 759 \nQ 2956 1122 2956 1747 \nQ 2956 2369 2687 2733 \nQ 2419 3097 1959 3097 \nz\nM 1959 3584 \nQ 2709 3584 3137 3096 \nQ 3566 2609 3566 1747 \nQ 3566 888 3137 398 \nQ 2709 -91 1959 -91 \nQ 1206 -91 779 398 \nQ 353 888 353 1747 \nQ 353 2609 779 3096 \nQ 1206 3584 1959 3584 \nz\n\" id=\"DejaVuSans-6f\" transform=\"scale(0.015625)\"/>\n      <path d=\"M 1959 3097 \nQ 1497 3097 1228 2736 \nQ 959 2375 959 1747 \nQ 959 1119 1226 758 \nQ 1494 397 1959 397 \nQ 2419 397 2687 759 \nQ 2956 1122 2956 1747 \nQ 2956 2369 2687 2733 \nQ 2419 3097 1959 3097 \nz\nM 1959 3584 \nQ 2709 3584 3137 3096 \nQ 3566 2609 3566 1747 \nQ 3566 888 3137 398 \nQ 2709 -91 1959 -91 \nQ 1206 -91 779 398 \nQ 353 888 353 1747 \nQ 353 2609 779 3096 \nQ 1206 3584 1959 3584 \nz\nM 2254 4850 \nL 2888 4850 \nL 2888 4219 \nL 2254 4219 \nL 2254 4850 \nz\nM 1032 4850 \nL 1666 4850 \nL 1666 4219 \nL 1032 4219 \nL 1032 4850 \nz\n\" id=\"DejaVuSans-f6\" transform=\"scale(0.015625)\"/>\n     </defs>\n     <use xlink:href=\"#DejaVuSans-41\"/>\n     <use x=\"68.408203\" xlink:href=\"#DejaVuSans-6e\"/>\n     <use x=\"131.787109\" xlink:href=\"#DejaVuSans-7a\"/>\n     <use x=\"184.277344\" xlink:href=\"#DejaVuSans-61\"/>\n     <use x=\"245.556641\" xlink:href=\"#DejaVuSans-68\"/>\n     <use x=\"308.935547\" xlink:href=\"#DejaVuSans-6c\"/>\n     <use x=\"336.71875\" xlink:href=\"#DejaVuSans-20\"/>\n     <use x=\"368.505859\" xlink:href=\"#DejaVuSans-64\"/>\n     <use x=\"431.982422\" xlink:href=\"#DejaVuSans-65\"/>\n     <use x=\"493.505859\" xlink:href=\"#DejaVuSans-72\"/>\n     <use x=\"534.619141\" xlink:href=\"#DejaVuSans-20\"/>\n     <use x=\"566.40625\" xlink:href=\"#DejaVuSans-54\"/>\n     <use x=\"610.990234\" xlink:href=\"#DejaVuSans-61\"/>\n     <use x=\"672.269531\" xlink:href=\"#DejaVuSans-6e\"/>\n     <use x=\"735.648438\" xlink:href=\"#DejaVuSans-6b\"/>\n     <use x=\"793.558594\" xlink:href=\"#DejaVuSans-73\"/>\n     <use x=\"845.658203\" xlink:href=\"#DejaVuSans-74\"/>\n     <use x=\"884.867188\" xlink:href=\"#DejaVuSans-65\"/>\n     <use x=\"946.390625\" xlink:href=\"#DejaVuSans-6c\"/>\n     <use x=\"974.173828\" xlink:href=\"#DejaVuSans-6c\"/>\n     <use x=\"1001.957031\" xlink:href=\"#DejaVuSans-65\"/>\n     <use x=\"1063.480469\" xlink:href=\"#DejaVuSans-6e\"/>\n     <use x=\"1126.859375\" xlink:href=\"#DejaVuSans-20\"/>\n     <use x=\"1158.646484\" xlink:href=\"#DejaVuSans-64\"/>\n     <use x=\"1222.123047\" xlink:href=\"#DejaVuSans-69\"/>\n     <use x=\"1249.90625\" xlink:href=\"#DejaVuSans-65\"/>\n     <use x=\"1311.429688\" xlink:href=\"#DejaVuSans-20\"/>\n     <use x=\"1343.216797\" xlink:href=\"#DejaVuSans-73\"/>\n     <use x=\"1395.316406\" xlink:href=\"#DejaVuSans-6f\"/>\n     <use x=\"1456.498047\" xlink:href=\"#DejaVuSans-6e\"/>\n     <use x=\"1519.876953\" xlink:href=\"#DejaVuSans-6e\"/>\n     <use x=\"1583.255859\" xlink:href=\"#DejaVuSans-74\"/>\n     <use x=\"1622.464844\" xlink:href=\"#DejaVuSans-61\"/>\n     <use x=\"1683.744141\" xlink:href=\"#DejaVuSans-67\"/>\n     <use x=\"1747.220703\" xlink:href=\"#DejaVuSans-73\"/>\n     <use x=\"1799.320312\" xlink:href=\"#DejaVuSans-20\"/>\n     <use x=\"1831.107422\" xlink:href=\"#DejaVuSans-67\"/>\n     <use x=\"1894.583984\" xlink:href=\"#DejaVuSans-65\"/>\n     <use x=\"1956.107422\" xlink:href=\"#DejaVuSans-f6\"/>\n     <use x=\"2017.289062\" xlink:href=\"#DejaVuSans-66\"/>\n     <use x=\"2052.494141\" xlink:href=\"#DejaVuSans-66\"/>\n     <use x=\"2087.699219\" xlink:href=\"#DejaVuSans-6e\"/>\n     <use x=\"2151.078125\" xlink:href=\"#DejaVuSans-65\"/>\n     <use x=\"2212.601562\" xlink:href=\"#DejaVuSans-74\"/>\n     <use x=\"2251.810547\" xlink:href=\"#DejaVuSans-20\"/>\n     <use x=\"2283.597656\" xlink:href=\"#DejaVuSans-73\"/>\n     <use x=\"2335.697266\" xlink:href=\"#DejaVuSans-69\"/>\n     <use x=\"2363.480469\" xlink:href=\"#DejaVuSans-6e\"/>\n     <use x=\"2426.859375\" xlink:href=\"#DejaVuSans-64\"/>\n    </g>\n   </g>\n  </g>\n </g>\n</svg>\n",
      "image/png": "[encoded data removed]"
     },
     "metadata": {}
    }
   ],
   "source": [
    "plt.pie(errorData.values(), labels = errorData.keys(), autopct=pie_label_formatter)\n",
    "plt.title(\"Anzahl der Tankstellen die sonntags geöffnet sind\")\n",
    "plt.show()"
   ]
  },
  {
   "source": [
    "d) Visualisieren Sie in einem Kreisdiagramm die Zusammensetzung des Marktes in freie Tankstellen und Markentankstellen. Nehmen Sie vereinfachend an, dass eine Tankstelle dann\n",
    "eine freie Tankstelle ist, wenn sie gemaß der Spalte ¨ brand einer Marke angehort, die bun- ¨\n",
    "desweit hochstens 20 Niederlassungen betreibt."
   ],
   "cell_type": "markdown",
   "metadata": {}
  },
  {
   "cell_type": "code",
   "execution_count": 29,
   "metadata": {},
   "outputs": [
    {
     "output_type": "execute_result",
     "data": {
      "text/plain": [
       "{'Markentankstellen': 14422, 'Freie Tankstellen': 1828}"
      ]
     },
     "metadata": {},
     "execution_count": 29
    }
   ],
   "source": [
    "brand = list(df_stations['brand'].value_counts().index)\n",
    "\n",
    "def Convert(lst):\n",
    "    res_dct = {lst[i]: 0 for i in range(0, len(lst), 1)}\n",
    "    return res_dct\n",
    "\n",
    "lst = Convert(brand)\n",
    "\n",
    "for x in df_stations[\"brand\"]:\n",
    "    if x in lst:\n",
    "        lst[x] += 1\n",
    "\n",
    "tankstellenListe = {\"Markentankstellen\": 0, \"Freie Tankstellen\": 0}\n",
    "\n",
    "for x in lst.values():\n",
    "    if x > 20:\n",
    "        tankstellenListe[\"Markentankstellen\"] += x\n",
    "    else:\n",
    "        tankstellenListe[\"Freie Tankstellen\"] += x\n",
    "tankstellenListe"
   ]
  },
  {
   "cell_type": "code",
   "execution_count": 30,
   "metadata": {},
   "outputs": [
    {
     "output_type": "display_data",
     "data": {
      "text/plain": "<Figure size 432x288 with 1 Axes>",
      "image/svg+xml": "<?xml version=\"1.0\" encoding=\"utf-8\" standalone=\"no\"?>\n<!DOCTYPE svg PUBLIC \"-//W3C//DTD SVG 1.1//EN\"\n  \"http://www.w3.org/Graphics/SVG/1.1/DTD/svg11.dtd\">\n<svg height=\"246.958125pt\" version=\"1.1\" viewBox=\"0 0 369.432818 246.958125\" width=\"369.432818pt\" xmlns=\"http://www.w3.org/2000/svg\" xmlns:xlink=\"http://www.w3.org/1999/xlink\">\n <metadata>\n  <rdf:RDF xmlns:cc=\"http://creativecommons.org/ns#\" xmlns:dc=\"http://purl.org/dc/elements/1.1/\" xmlns:rdf=\"http://www.w3.org/1999/02/22-rdf-syntax-ns#\">\n   <cc:Work>\n    <dc:type rdf:resource=\"http://purl.org/dc/dcmitype/StillImage\"/>\n    <dc:date>2021-06-21T17:44:10.521490</dc:date>\n    <dc:format>image/svg+xml</dc:format>\n    <dc:creator>\n     <cc:Agent>\n      <dc:title>Matplotlib v3.4.2, https://matplotlib.org/</dc:title>\n     </cc:Agent>\n    </dc:creator>\n   </cc:Work>\n  </rdf:RDF>\n </metadata>\n <defs>\n  <style type=\"text/css\">*{stroke-linecap:butt;stroke-linejoin:round;}</style>\n </defs>\n <g id=\"figure_1\">\n  <g id=\"patch_1\">\n   <path d=\"M 0 246.958125 \nL 369.432818 246.958125 \nL 369.432818 0 \nL 0 0 \nz\n\" style=\"fill:none;\"/>\n  </g>\n  <g id=\"axes_1\">\n   <g id=\"patch_2\">\n    <path d=\"M 276.229129 131.038125 \nC 276.229129 120.908232 274.459421 110.85578 270.999957 101.334916 \nC 267.540493 91.814053 262.444167 82.970348 255.941219 75.20334 \nC 249.438271 67.436333 241.628129 60.864778 232.863638 55.785563 \nC 224.099146 50.706348 214.514311 47.197133 204.542153 45.416455 \nC 194.569996 43.635778 184.362987 43.610865 174.382256 45.342841 \nC 164.401525 47.074817 154.799673 50.537201 146.010491 55.573571 \nC 137.22131 60.609941 129.379181 67.143292 122.838395 74.878462 \nC 116.29761 82.613632 111.158173 91.432354 107.652273 100.936216 \nC 104.146374 110.440078 102.327615 120.483772 102.278165 130.613544 \nC 102.228715 140.743316 103.94933 150.804288 107.362276 160.341926 \nC 110.775221 169.879563 115.828316 178.748041 122.293271 186.546701 \nC 128.758226 194.34536 136.536195 200.954963 145.275788 206.076902 \nC 154.01538 211.198841 163.582971 214.754804 173.546317 216.58414 \nC 183.509663 218.413476 193.716429 218.488215 203.705496 216.804981 \nC 213.694562 215.121748 223.313202 211.706277 232.126864 206.712872 \nC 240.940526 201.719468 248.814455 195.224477 255.392923 187.521328 \nL 189.253129 131.038125 \nL 276.229129 131.038125 \nz\n\" style=\"fill:#1f77b4;\"/>\n   </g>\n   <g id=\"patch_3\">\n    <path d=\"M 255.392923 187.521328 \nC 262.064003 179.709733 267.298726 170.777697 270.853983 161.140038 \nC 274.40924 151.502378 276.229128 141.310637 276.229129 131.038133 \nL 189.253129 131.038125 \nL 255.392923 187.521328 \nz\n\" style=\"fill:#ff7f0e;\"/>\n   </g>\n   <g id=\"matplotlib.axis_1\"/>\n   <g id=\"matplotlib.axis_2\"/>\n   <g id=\"text_1\">\n    <!-- Markentankstellen -->\n    <g transform=\"translate(7.2 100.6854)scale(0.1 -0.1)\">\n     <defs>\n      <path d=\"M 628 4666 \nL 1569 4666 \nL 2759 1491 \nL 3956 4666 \nL 4897 4666 \nL 4897 0 \nL 4281 0 \nL 4281 4097 \nL 3078 897 \nL 2444 897 \nL 1241 4097 \nL 1241 0 \nL 628 0 \nL 628 4666 \nz\n\" id=\"DejaVuSans-4d\" transform=\"scale(0.015625)\"/>\n      <path d=\"M 2194 1759 \nQ 1497 1759 1228 1600 \nQ 959 1441 959 1056 \nQ 959 750 1161 570 \nQ 1363 391 1709 391 \nQ 2188 391 2477 730 \nQ 2766 1069 2766 1631 \nL 2766 1759 \nL 2194 1759 \nz\nM 3341 1997 \nL 3341 0 \nL 2766 0 \nL 2766 531 \nQ 2569 213 2275 61 \nQ 1981 -91 1556 -91 \nQ 1019 -91 701 211 \nQ 384 513 384 1019 \nQ 384 1609 779 1909 \nQ 1175 2209 1959 2209 \nL 2766 2209 \nL 2766 2266 \nQ 2766 2663 2505 2880 \nQ 2244 3097 1772 3097 \nQ 1472 3097 1187 3025 \nQ 903 2953 641 2809 \nL 641 3341 \nQ 956 3463 1253 3523 \nQ 1550 3584 1831 3584 \nQ 2591 3584 2966 3190 \nQ 3341 2797 3341 1997 \nz\n\" id=\"DejaVuSans-61\" transform=\"scale(0.015625)\"/>\n      <path d=\"M 2631 2963 \nQ 2534 3019 2420 3045 \nQ 2306 3072 2169 3072 \nQ 1681 3072 1420 2755 \nQ 1159 2438 1159 1844 \nL 1159 0 \nL 581 0 \nL 581 3500 \nL 1159 3500 \nL 1159 2956 \nQ 1341 3275 1631 3429 \nQ 1922 3584 2338 3584 \nQ 2397 3584 2469 3576 \nQ 2541 3569 2628 3553 \nL 2631 2963 \nz\n\" id=\"DejaVuSans-72\" transform=\"scale(0.015625)\"/>\n      <path d=\"M 581 4863 \nL 1159 4863 \nL 1159 1991 \nL 2875 3500 \nL 3609 3500 \nL 1753 1863 \nL 3688 0 \nL 2938 0 \nL 1159 1709 \nL 1159 0 \nL 581 0 \nL 581 4863 \nz\n\" id=\"DejaVuSans-6b\" transform=\"scale(0.015625)\"/>\n      <path d=\"M 3597 1894 \nL 3597 1613 \nL 953 1613 \nQ 991 1019 1311 708 \nQ 1631 397 2203 397 \nQ 2534 397 2845 478 \nQ 3156 559 3463 722 \nL 3463 178 \nQ 3153 47 2828 -22 \nQ 2503 -91 2169 -91 \nQ 1331 -91 842 396 \nQ 353 884 353 1716 \nQ 353 2575 817 3079 \nQ 1281 3584 2069 3584 \nQ 2775 3584 3186 3129 \nQ 3597 2675 3597 1894 \nz\nM 3022 2063 \nQ 3016 2534 2758 2815 \nQ 2500 3097 2075 3097 \nQ 1594 3097 1305 2825 \nQ 1016 2553 972 2059 \nL 3022 2063 \nz\n\" id=\"DejaVuSans-65\" transform=\"scale(0.015625)\"/>\n      <path d=\"M 3513 2113 \nL 3513 0 \nL 2938 0 \nL 2938 2094 \nQ 2938 2591 2744 2837 \nQ 2550 3084 2163 3084 \nQ 1697 3084 1428 2787 \nQ 1159 2491 1159 1978 \nL 1159 0 \nL 581 0 \nL 581 3500 \nL 1159 3500 \nL 1159 2956 \nQ 1366 3272 1645 3428 \nQ 1925 3584 2291 3584 \nQ 2894 3584 3203 3211 \nQ 3513 2838 3513 2113 \nz\n\" id=\"DejaVuSans-6e\" transform=\"scale(0.015625)\"/>\n      <path d=\"M 1172 4494 \nL 1172 3500 \nL 2356 3500 \nL 2356 3053 \nL 1172 3053 \nL 1172 1153 \nQ 1172 725 1289 603 \nQ 1406 481 1766 481 \nL 2356 481 \nL 2356 0 \nL 1766 0 \nQ 1100 0 847 248 \nQ 594 497 594 1153 \nL 594 3053 \nL 172 3053 \nL 172 3500 \nL 594 3500 \nL 594 4494 \nL 1172 4494 \nz\n\" id=\"DejaVuSans-74\" transform=\"scale(0.015625)\"/>\n      <path d=\"M 2834 3397 \nL 2834 2853 \nQ 2591 2978 2328 3040 \nQ 2066 3103 1784 3103 \nQ 1356 3103 1142 2972 \nQ 928 2841 928 2578 \nQ 928 2378 1081 2264 \nQ 1234 2150 1697 2047 \nL 1894 2003 \nQ 2506 1872 2764 1633 \nQ 3022 1394 3022 966 \nQ 3022 478 2636 193 \nQ 2250 -91 1575 -91 \nQ 1294 -91 989 -36 \nQ 684 19 347 128 \nL 347 722 \nQ 666 556 975 473 \nQ 1284 391 1588 391 \nQ 1994 391 2212 530 \nQ 2431 669 2431 922 \nQ 2431 1156 2273 1281 \nQ 2116 1406 1581 1522 \nL 1381 1569 \nQ 847 1681 609 1914 \nQ 372 2147 372 2553 \nQ 372 3047 722 3315 \nQ 1072 3584 1716 3584 \nQ 2034 3584 2315 3537 \nQ 2597 3491 2834 3397 \nz\n\" id=\"DejaVuSans-73\" transform=\"scale(0.015625)\"/>\n      <path d=\"M 603 4863 \nL 1178 4863 \nL 1178 0 \nL 603 0 \nL 603 4863 \nz\n\" id=\"DejaVuSans-6c\" transform=\"scale(0.015625)\"/>\n     </defs>\n     <use xlink:href=\"#DejaVuSans-4d\"/>\n     <use x=\"86.279297\" xlink:href=\"#DejaVuSans-61\"/>\n     <use x=\"147.558594\" xlink:href=\"#DejaVuSans-72\"/>\n     <use x=\"188.671875\" xlink:href=\"#DejaVuSans-6b\"/>\n     <use x=\"242.957031\" xlink:href=\"#DejaVuSans-65\"/>\n     <use x=\"304.480469\" xlink:href=\"#DejaVuSans-6e\"/>\n     <use x=\"367.859375\" xlink:href=\"#DejaVuSans-74\"/>\n     <use x=\"407.068359\" xlink:href=\"#DejaVuSans-61\"/>\n     <use x=\"468.347656\" xlink:href=\"#DejaVuSans-6e\"/>\n     <use x=\"531.726562\" xlink:href=\"#DejaVuSans-6b\"/>\n     <use x=\"589.636719\" xlink:href=\"#DejaVuSans-73\"/>\n     <use x=\"641.736328\" xlink:href=\"#DejaVuSans-74\"/>\n     <use x=\"680.945312\" xlink:href=\"#DejaVuSans-65\"/>\n     <use x=\"742.46875\" xlink:href=\"#DejaVuSans-6c\"/>\n     <use x=\"770.251953\" xlink:href=\"#DejaVuSans-6c\"/>\n     <use x=\"798.035156\" xlink:href=\"#DejaVuSans-65\"/>\n     <use x=\"859.558594\" xlink:href=\"#DejaVuSans-6e\"/>\n    </g>\n   </g>\n   <g id=\"text_2\">\n    <!-- 88.75% -->\n    <g transform=\"translate(121.227772 115.736355)scale(0.1 -0.1)\">\n     <defs>\n      <path d=\"M 2034 2216 \nQ 1584 2216 1326 1975 \nQ 1069 1734 1069 1313 \nQ 1069 891 1326 650 \nQ 1584 409 2034 409 \nQ 2484 409 2743 651 \nQ 3003 894 3003 1313 \nQ 3003 1734 2745 1975 \nQ 2488 2216 2034 2216 \nz\nM 1403 2484 \nQ 997 2584 770 2862 \nQ 544 3141 544 3541 \nQ 544 4100 942 4425 \nQ 1341 4750 2034 4750 \nQ 2731 4750 3128 4425 \nQ 3525 4100 3525 3541 \nQ 3525 3141 3298 2862 \nQ 3072 2584 2669 2484 \nQ 3125 2378 3379 2068 \nQ 3634 1759 3634 1313 \nQ 3634 634 3220 271 \nQ 2806 -91 2034 -91 \nQ 1263 -91 848 271 \nQ 434 634 434 1313 \nQ 434 1759 690 2068 \nQ 947 2378 1403 2484 \nz\nM 1172 3481 \nQ 1172 3119 1398 2916 \nQ 1625 2713 2034 2713 \nQ 2441 2713 2670 2916 \nQ 2900 3119 2900 3481 \nQ 2900 3844 2670 4047 \nQ 2441 4250 2034 4250 \nQ 1625 4250 1398 4047 \nQ 1172 3844 1172 3481 \nz\n\" id=\"DejaVuSans-38\" transform=\"scale(0.015625)\"/>\n      <path d=\"M 684 794 \nL 1344 794 \nL 1344 0 \nL 684 0 \nL 684 794 \nz\n\" id=\"DejaVuSans-2e\" transform=\"scale(0.015625)\"/>\n      <path d=\"M 525 4666 \nL 3525 4666 \nL 3525 4397 \nL 1831 0 \nL 1172 0 \nL 2766 4134 \nL 525 4134 \nL 525 4666 \nz\n\" id=\"DejaVuSans-37\" transform=\"scale(0.015625)\"/>\n      <path d=\"M 691 4666 \nL 3169 4666 \nL 3169 4134 \nL 1269 4134 \nL 1269 2991 \nQ 1406 3038 1543 3061 \nQ 1681 3084 1819 3084 \nQ 2600 3084 3056 2656 \nQ 3513 2228 3513 1497 \nQ 3513 744 3044 326 \nQ 2575 -91 1722 -91 \nQ 1428 -91 1123 -41 \nQ 819 9 494 109 \nL 494 744 \nQ 775 591 1075 516 \nQ 1375 441 1709 441 \nQ 2250 441 2565 725 \nQ 2881 1009 2881 1497 \nQ 2881 1984 2565 2268 \nQ 2250 2553 1709 2553 \nQ 1456 2553 1204 2497 \nQ 953 2441 691 2322 \nL 691 4666 \nz\n\" id=\"DejaVuSans-35\" transform=\"scale(0.015625)\"/>\n      <path d=\"M 4653 2053 \nQ 4381 2053 4226 1822 \nQ 4072 1591 4072 1178 \nQ 4072 772 4226 539 \nQ 4381 306 4653 306 \nQ 4919 306 5073 539 \nQ 5228 772 5228 1178 \nQ 5228 1588 5073 1820 \nQ 4919 2053 4653 2053 \nz\nM 4653 2450 \nQ 5147 2450 5437 2106 \nQ 5728 1763 5728 1178 \nQ 5728 594 5436 251 \nQ 5144 -91 4653 -91 \nQ 4153 -91 3862 251 \nQ 3572 594 3572 1178 \nQ 3572 1766 3864 2108 \nQ 4156 2450 4653 2450 \nz\nM 1428 4353 \nQ 1159 4353 1004 4120 \nQ 850 3888 850 3481 \nQ 850 3069 1003 2837 \nQ 1156 2606 1428 2606 \nQ 1700 2606 1854 2837 \nQ 2009 3069 2009 3481 \nQ 2009 3884 1853 4118 \nQ 1697 4353 1428 4353 \nz\nM 4250 4750 \nL 4750 4750 \nL 1831 -91 \nL 1331 -91 \nL 4250 4750 \nz\nM 1428 4750 \nQ 1922 4750 2215 4408 \nQ 2509 4066 2509 3481 \nQ 2509 2891 2217 2550 \nQ 1925 2209 1428 2209 \nQ 931 2209 642 2551 \nQ 353 2894 353 3481 \nQ 353 4063 643 4406 \nQ 934 4750 1428 4750 \nz\n\" id=\"DejaVuSans-25\" transform=\"scale(0.015625)\"/>\n     </defs>\n     <use xlink:href=\"#DejaVuSans-38\"/>\n     <use x=\"63.623047\" xlink:href=\"#DejaVuSans-38\"/>\n     <use x=\"127.246094\" xlink:href=\"#DejaVuSans-2e\"/>\n     <use x=\"159.033203\" xlink:href=\"#DejaVuSans-37\"/>\n     <use x=\"222.65625\" xlink:href=\"#DejaVuSans-35\"/>\n     <use x=\"286.279297\" xlink:href=\"#DejaVuSans-25\"/>\n    </g>\n   </g>\n   <g id=\"text_3\">\n    <!-- Freie Tankstellen -->\n    <g transform=\"translate(279.014068 166.909604)scale(0.1 -0.1)\">\n     <defs>\n      <path d=\"M 628 4666 \nL 3309 4666 \nL 3309 4134 \nL 1259 4134 \nL 1259 2759 \nL 3109 2759 \nL 3109 2228 \nL 1259 2228 \nL 1259 0 \nL 628 0 \nL 628 4666 \nz\n\" id=\"DejaVuSans-46\" transform=\"scale(0.015625)\"/>\n      <path d=\"M 603 3500 \nL 1178 3500 \nL 1178 0 \nL 603 0 \nL 603 3500 \nz\nM 603 4863 \nL 1178 4863 \nL 1178 4134 \nL 603 4134 \nL 603 4863 \nz\n\" id=\"DejaVuSans-69\" transform=\"scale(0.015625)\"/>\n      <path id=\"DejaVuSans-20\" transform=\"scale(0.015625)\"/>\n      <path d=\"M -19 4666 \nL 3928 4666 \nL 3928 4134 \nL 2272 4134 \nL 2272 0 \nL 1638 0 \nL 1638 4134 \nL -19 4134 \nL -19 4666 \nz\n\" id=\"DejaVuSans-54\" transform=\"scale(0.015625)\"/>\n     </defs>\n     <use xlink:href=\"#DejaVuSans-46\"/>\n     <use x=\"50.269531\" xlink:href=\"#DejaVuSans-72\"/>\n     <use x=\"89.132812\" xlink:href=\"#DejaVuSans-65\"/>\n     <use x=\"150.65625\" xlink:href=\"#DejaVuSans-69\"/>\n     <use x=\"178.439453\" xlink:href=\"#DejaVuSans-65\"/>\n     <use x=\"239.962891\" xlink:href=\"#DejaVuSans-20\"/>\n     <use x=\"271.75\" xlink:href=\"#DejaVuSans-54\"/>\n     <use x=\"316.333984\" xlink:href=\"#DejaVuSans-61\"/>\n     <use x=\"377.613281\" xlink:href=\"#DejaVuSans-6e\"/>\n     <use x=\"440.992188\" xlink:href=\"#DejaVuSans-6b\"/>\n     <use x=\"498.902344\" xlink:href=\"#DejaVuSans-73\"/>\n     <use x=\"551.001953\" xlink:href=\"#DejaVuSans-74\"/>\n     <use x=\"590.210938\" xlink:href=\"#DejaVuSans-65\"/>\n     <use x=\"651.734375\" xlink:href=\"#DejaVuSans-6c\"/>\n     <use x=\"679.517578\" xlink:href=\"#DejaVuSans-6c\"/>\n     <use x=\"707.300781\" xlink:href=\"#DejaVuSans-65\"/>\n     <use x=\"768.824219\" xlink:href=\"#DejaVuSans-6e\"/>\n    </g>\n   </g>\n   <g id=\"text_4\">\n    <!-- 11.25% -->\n    <g transform=\"translate(219.148798 151.858648)scale(0.1 -0.1)\">\n     <defs>\n      <path d=\"M 794 531 \nL 1825 531 \nL 1825 4091 \nL 703 3866 \nL 703 4441 \nL 1819 4666 \nL 2450 4666 \nL 2450 531 \nL 3481 531 \nL 3481 0 \nL 794 0 \nL 794 531 \nz\n\" id=\"DejaVuSans-31\" transform=\"scale(0.015625)\"/>\n      <path d=\"M 1228 531 \nL 3431 531 \nL 3431 0 \nL 469 0 \nL 469 531 \nQ 828 903 1448 1529 \nQ 2069 2156 2228 2338 \nQ 2531 2678 2651 2914 \nQ 2772 3150 2772 3378 \nQ 2772 3750 2511 3984 \nQ 2250 4219 1831 4219 \nQ 1534 4219 1204 4116 \nQ 875 4013 500 3803 \nL 500 4441 \nQ 881 4594 1212 4672 \nQ 1544 4750 1819 4750 \nQ 2544 4750 2975 4387 \nQ 3406 4025 3406 3419 \nQ 3406 3131 3298 2873 \nQ 3191 2616 2906 2266 \nQ 2828 2175 2409 1742 \nQ 1991 1309 1228 531 \nz\n\" id=\"DejaVuSans-32\" transform=\"scale(0.015625)\"/>\n     </defs>\n     <use xlink:href=\"#DejaVuSans-31\"/>\n     <use x=\"63.623047\" xlink:href=\"#DejaVuSans-31\"/>\n     <use x=\"127.246094\" xlink:href=\"#DejaVuSans-2e\"/>\n     <use x=\"159.033203\" xlink:href=\"#DejaVuSans-32\"/>\n     <use x=\"222.65625\" xlink:href=\"#DejaVuSans-35\"/>\n     <use x=\"286.279297\" xlink:href=\"#DejaVuSans-25\"/>\n    </g>\n   </g>\n   <g id=\"text_5\">\n    <!-- Anzahl der freien und Markentankstellen -->\n    <g transform=\"translate(67.369691 16.318125)scale(0.12 -0.12)\">\n     <defs>\n      <path d=\"M 2188 4044 \nL 1331 1722 \nL 3047 1722 \nL 2188 4044 \nz\nM 1831 4666 \nL 2547 4666 \nL 4325 0 \nL 3669 0 \nL 3244 1197 \nL 1141 1197 \nL 716 0 \nL 50 0 \nL 1831 4666 \nz\n\" id=\"DejaVuSans-41\" transform=\"scale(0.015625)\"/>\n      <path d=\"M 353 3500 \nL 3084 3500 \nL 3084 2975 \nL 922 459 \nL 3084 459 \nL 3084 0 \nL 275 0 \nL 275 525 \nL 2438 3041 \nL 353 3041 \nL 353 3500 \nz\n\" id=\"DejaVuSans-7a\" transform=\"scale(0.015625)\"/>\n      <path d=\"M 3513 2113 \nL 3513 0 \nL 2938 0 \nL 2938 2094 \nQ 2938 2591 2744 2837 \nQ 2550 3084 2163 3084 \nQ 1697 3084 1428 2787 \nQ 1159 2491 1159 1978 \nL 1159 0 \nL 581 0 \nL 581 4863 \nL 1159 4863 \nL 1159 2956 \nQ 1366 3272 1645 3428 \nQ 1925 3584 2291 3584 \nQ 2894 3584 3203 3211 \nQ 3513 2838 3513 2113 \nz\n\" id=\"DejaVuSans-68\" transform=\"scale(0.015625)\"/>\n      <path d=\"M 2906 2969 \nL 2906 4863 \nL 3481 4863 \nL 3481 0 \nL 2906 0 \nL 2906 525 \nQ 2725 213 2448 61 \nQ 2172 -91 1784 -91 \nQ 1150 -91 751 415 \nQ 353 922 353 1747 \nQ 353 2572 751 3078 \nQ 1150 3584 1784 3584 \nQ 2172 3584 2448 3432 \nQ 2725 3281 2906 2969 \nz\nM 947 1747 \nQ 947 1113 1208 752 \nQ 1469 391 1925 391 \nQ 2381 391 2643 752 \nQ 2906 1113 2906 1747 \nQ 2906 2381 2643 2742 \nQ 2381 3103 1925 3103 \nQ 1469 3103 1208 2742 \nQ 947 2381 947 1747 \nz\n\" id=\"DejaVuSans-64\" transform=\"scale(0.015625)\"/>\n      <path d=\"M 2375 4863 \nL 2375 4384 \nL 1825 4384 \nQ 1516 4384 1395 4259 \nQ 1275 4134 1275 3809 \nL 1275 3500 \nL 2222 3500 \nL 2222 3053 \nL 1275 3053 \nL 1275 0 \nL 697 0 \nL 697 3053 \nL 147 3053 \nL 147 3500 \nL 697 3500 \nL 697 3744 \nQ 697 4328 969 4595 \nQ 1241 4863 1831 4863 \nL 2375 4863 \nz\n\" id=\"DejaVuSans-66\" transform=\"scale(0.015625)\"/>\n      <path d=\"M 544 1381 \nL 544 3500 \nL 1119 3500 \nL 1119 1403 \nQ 1119 906 1312 657 \nQ 1506 409 1894 409 \nQ 2359 409 2629 706 \nQ 2900 1003 2900 1516 \nL 2900 3500 \nL 3475 3500 \nL 3475 0 \nL 2900 0 \nL 2900 538 \nQ 2691 219 2414 64 \nQ 2138 -91 1772 -91 \nQ 1169 -91 856 284 \nQ 544 659 544 1381 \nz\nM 1991 3584 \nL 1991 3584 \nz\n\" id=\"DejaVuSans-75\" transform=\"scale(0.015625)\"/>\n     </defs>\n     <use xlink:href=\"#DejaVuSans-41\"/>\n     <use x=\"68.408203\" xlink:href=\"#DejaVuSans-6e\"/>\n     <use x=\"131.787109\" xlink:href=\"#DejaVuSans-7a\"/>\n     <use x=\"184.277344\" xlink:href=\"#DejaVuSans-61\"/>\n     <use x=\"245.556641\" xlink:href=\"#DejaVuSans-68\"/>\n     <use x=\"308.935547\" xlink:href=\"#DejaVuSans-6c\"/>\n     <use x=\"336.71875\" xlink:href=\"#DejaVuSans-20\"/>\n     <use x=\"368.505859\" xlink:href=\"#DejaVuSans-64\"/>\n     <use x=\"431.982422\" xlink:href=\"#DejaVuSans-65\"/>\n     <use x=\"493.505859\" xlink:href=\"#DejaVuSans-72\"/>\n     <use x=\"534.619141\" xlink:href=\"#DejaVuSans-20\"/>\n     <use x=\"566.40625\" xlink:href=\"#DejaVuSans-66\"/>\n     <use x=\"601.611328\" xlink:href=\"#DejaVuSans-72\"/>\n     <use x=\"640.474609\" xlink:href=\"#DejaVuSans-65\"/>\n     <use x=\"701.998047\" xlink:href=\"#DejaVuSans-69\"/>\n     <use x=\"729.78125\" xlink:href=\"#DejaVuSans-65\"/>\n     <use x=\"791.304688\" xlink:href=\"#DejaVuSans-6e\"/>\n     <use x=\"854.683594\" xlink:href=\"#DejaVuSans-20\"/>\n     <use x=\"886.470703\" xlink:href=\"#DejaVuSans-75\"/>\n     <use x=\"949.849609\" xlink:href=\"#DejaVuSans-6e\"/>\n     <use x=\"1013.228516\" xlink:href=\"#DejaVuSans-64\"/>\n     <use x=\"1076.705078\" xlink:href=\"#DejaVuSans-20\"/>\n     <use x=\"1108.492188\" xlink:href=\"#DejaVuSans-4d\"/>\n     <use x=\"1194.771484\" xlink:href=\"#DejaVuSans-61\"/>\n     <use x=\"1256.050781\" xlink:href=\"#DejaVuSans-72\"/>\n     <use x=\"1297.164062\" xlink:href=\"#DejaVuSans-6b\"/>\n     <use x=\"1351.449219\" xlink:href=\"#DejaVuSans-65\"/>\n     <use x=\"1412.972656\" xlink:href=\"#DejaVuSans-6e\"/>\n     <use x=\"1476.351562\" xlink:href=\"#DejaVuSans-74\"/>\n     <use x=\"1515.560547\" xlink:href=\"#DejaVuSans-61\"/>\n     <use x=\"1576.839844\" xlink:href=\"#DejaVuSans-6e\"/>\n     <use x=\"1640.21875\" xlink:href=\"#DejaVuSans-6b\"/>\n     <use x=\"1698.128906\" xlink:href=\"#DejaVuSans-73\"/>\n     <use x=\"1750.228516\" xlink:href=\"#DejaVuSans-74\"/>\n     <use x=\"1789.4375\" xlink:href=\"#DejaVuSans-65\"/>\n     <use x=\"1850.960938\" xlink:href=\"#DejaVuSans-6c\"/>\n     <use x=\"1878.744141\" xlink:href=\"#DejaVuSans-6c\"/>\n     <use x=\"1906.527344\" xlink:href=\"#DejaVuSans-65\"/>\n     <use x=\"1968.050781\" xlink:href=\"#DejaVuSans-6e\"/>\n    </g>\n   </g>\n  </g>\n </g>\n</svg>\n",
      "image/png": "[encoded data removed]"
     },
     "metadata": {}
    }
   ],
   "source": [
    "plt.pie(tankstellenListe.values(), labels = tankstellenListe.keys(), autopct=pie_label_formatter)\n",
    "plt.title(\"Anzahl der freien und Markentankstellen\")\n",
    "plt.show()"
   ]
  },
  {
   "source": [
    "e) Wie haufig wird an den bayerischen Tankstellen durchschnittlich pro Tag im Betrachtungs- ¨\n",
    "zeitraum ein Datensatz an die Markttransparenzstelle fur Kraftstoffe ¨ ubermittelt? "
   ],
   "cell_type": "markdown",
   "metadata": {}
  },
  {
   "cell_type": "code",
   "execution_count": null,
   "metadata": {},
   "outputs": [],
   "source": [
    "test = df_prices_BY[\"date\"].groupby(df_prices_BY[\"date\"].dt.date).count()\n",
    "test"
   ]
  },
  {
   "cell_type": "code",
   "execution_count": null,
   "metadata": {},
   "outputs": [],
   "source": [
    "test.mean()"
   ]
  },
  {
   "source": [
    "f) In welchen zehn bayerischen Stadten war der durchschnittliche Diesel-Preis im Betrach- ¨\n",
    "tungszeitraum 2018-2021 am hochsten und wie hoch war er jeweils? In welchen zehn ¨\n",
    "Stadten war er am geringsten und wie hoch war er jeweils? "
   ],
   "cell_type": "markdown",
   "metadata": {}
  },
  {
   "cell_type": "code",
   "execution_count": 37,
   "metadata": {},
   "outputs": [],
   "source": [
    "# TODO"
   ]
  },
  {
   "source": [
    "g) Erstellen Sie mit folium eine interaktive Karte, auf der die einzelnen Tankstellen in Bayern\n",
    "als Marker (in einem Marker-Cluster) eingezeichnet sind. Beim Klick auf einen Marker soll\n",
    "der Name der Tankstelle und deren Adresse angezeigt werden."
   ],
   "cell_type": "markdown",
   "metadata": {}
  },
  {
   "cell_type": "code",
   "execution_count": 38,
   "metadata": {},
   "outputs": [],
   "source": [
    "#TODO"
   ]
  },
  {
   "source": [
    "### Aufgabe 3\n",
    "#### (Analyse der historischen Entwicklung der Kraftstoffpreise)"
   ],
   "cell_type": "markdown",
   "metadata": {}
  },
  {
   "source": [
    "a) In welchem Monat im Betrachtungszeitraum waren die Kraftstoffpreise fur Diesel in Bay- ¨\n",
    "ern durchschnittlich am hochsten? In welchem am geringsten? Wie hoch waren die durch- ¨\n",
    "schnittlichen Preise jeweils?"
   ],
   "cell_type": "markdown",
   "metadata": {}
  },
  {
   "cell_type": "code",
   "execution_count": 39,
   "metadata": {},
   "outputs": [],
   "source": [
    "#TODO"
   ]
  },
  {
   "source": [
    "b) Ermitteln Sie die Jahresdurchschnitte fur die einzelnen Kraftstoffsorten in den Jahren 2018- ¨\n",
    "2021 fur die bayerischen Tankstellen. Visualisieren Sie diese in einem geeigneten Dia- ¨\n",
    "gramm. Lassen sich Trends erkennen?"
   ],
   "cell_type": "markdown",
   "metadata": {}
  },
  {
   "cell_type": "code",
   "execution_count": 40,
   "metadata": {},
   "outputs": [],
   "source": [
    "#TODO"
   ]
  },
  {
   "source": [
    "c) Visualisieren Sie auf geeignete Weise den zeitlichen Verlauf der Preise fur die Kraftstoffe ¨\n",
    "Diesel und Super E5 und Super E10 an den bayerischen Tankstellen zwischen 2018 und\n",
    "2021. Beschreiben und interpretieren Sie Ihre Beobachtungen."
   ],
   "cell_type": "markdown",
   "metadata": {}
  },
  {
   "cell_type": "code",
   "execution_count": 41,
   "metadata": {},
   "outputs": [],
   "source": [
    "#TODO"
   ]
  },
  {
   "source": [
    "### Aufgabe 4\n",
    "#### (Abhangigkeit zwischen dem Roh ¨ olpreis und den Kraftstoffpreisen)"
   ],
   "cell_type": "markdown",
   "metadata": {}
  },
  {
   "source": [
    "a) Untersuchen Sie jeweils den Zusammenhang zwischen den Kraftstoffpreisen fur Diesel bzw. ¨\n",
    "Super E5 und dem Roholpreis. Berechnen Sie dazu die Tagesmittelwerte f ¨ ur die Kraftstoff- ¨\n",
    "preise fur alle Tage im Betrachtungszeitraum 2018-2021 (f ¨ ur die bayerischen Tankstellen) ¨\n",
    "und stellen Sie diese jeweils den Tagesschlusskursen fur die Roh ¨ olsorte Brent Crude Oil ¨\n",
    "(offentlich verf ¨ ugbar) in zwei Streudiagrammen (eines f ¨ ur Diesel und eines f ¨ ur E5) ge- ¨\n",
    "genuber. Laden Sie die verwendeten ¨ Olpreis-Daten in Form einer CSV-Datei mit Ihrer Ab- ¨\n",
    "gabe auf Moodle hoch."
   ],
   "cell_type": "markdown",
   "metadata": {}
  },
  {
   "cell_type": "code",
   "execution_count": 42,
   "metadata": {},
   "outputs": [],
   "source": [
    "#TODO"
   ]
  },
  {
   "source": [
    "b) Berechnen Sie jeweils fur Diesel und E5 den empirischen Korrelationskoeffizienten zwi- ¨\n",
    "schen den Roholpreisen und den Tagesmittelwerten der Kraftstoffpreise."
   ],
   "cell_type": "markdown",
   "metadata": {}
  },
  {
   "cell_type": "code",
   "execution_count": 43,
   "metadata": {},
   "outputs": [],
   "source": [
    "#TODO"
   ]
  },
  {
   "source": [
    "c) Diskutieren Sie, ob lineare Modelle sinnvoll waren, um die Zusammenh ¨ ange zwischen dem ¨\n",
    "Roholpreis und den Preisen f ¨ ur Diesel bzw. E5 darzustellen."
   ],
   "cell_type": "markdown",
   "metadata": {}
  },
  {
   "cell_type": "code",
   "execution_count": 44,
   "metadata": {},
   "outputs": [],
   "source": [
    "#TODO"
   ]
  },
  {
   "source": [
    "### Aufgabe 5\n",
    "#### (Einfluss des Wettbewerbs auf die Kraftstoffpreise in Bayern)\n",
    "Untersuchen Sie, welchen Einfluss der Wettbewerb zwischen mehreren Tankstellen auf die Preisgestaltung hat. Ermitteln Sie dazu zunachst f ¨ ur jede Tankstelle in Bayern, wie viele Tankstellen ¨\n",
    "sich im Umkreis von 5km Umgebung zu ihr befindet. Speichern Sie diese Angabe in einer Spalte namens neighbors. Speichern Sie den resultierenden DataFrame df stations BY als\n",
    "CSV-Datei namens stations BY.csv und laden Sie diese mit Ihrer Abgabe auf Moodle hoch.\n",
    "Stellen Sie zunachst m ¨ ogliche Hypothesen auf und untersuchen Sie diese anschließend, indem Sie ¨\n",
    "geeignete Auswertungen und Visualisierungen erstellen."
   ],
   "cell_type": "markdown",
   "metadata": {}
  },
  {
   "cell_type": "code",
   "execution_count": 45,
   "metadata": {},
   "outputs": [],
   "source": [
    "#TODO"
   ]
  },
  {
   "source": [
    "### Aufgabe 6\n",
    "#### (Tanken in Amberg, Interaktives Diagramm)\n",
    "Herr Sparfuchs, der als Rentner zeitlich flexibel ist, mochte wissen, wann und wo er in Am- ¨\n",
    "berg derzeit am gunstigsten tanken kann. Erstellen Sie dazu ein geeignetes interaktives Dia- ¨\n",
    "gramm mit Plotly, um die Kraftstoffpreise an den Tankstellen in Amberg zu analysieren, und\n",
    "leiten Sie Empfehlungen fur Herrn Sparfuchs ab. Erstellen Sie f ¨ ur die Analyse zwei DataFrames ¨\n",
    "namens df stations amberg und df prices amberg, die aus Filterung der Tankstellenund Preisdatensatze hervorgehen, und verwenden Sie ausschließlich diese f ¨ ur die Erzeugung des ¨\n",
    "Plotly-Diagramms. Dokumentieren Sie Ihre Analyseergebnisse."
   ],
   "cell_type": "markdown",
   "metadata": {}
  },
  {
   "cell_type": "code",
   "execution_count": 46,
   "metadata": {},
   "outputs": [],
   "source": [
    "#TODO"
   ]
  }
 ]
}