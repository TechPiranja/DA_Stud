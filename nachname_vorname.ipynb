{
 "metadata": {
  "language_info": {
   "codemirror_mode": {
    "name": "ipython",
    "version": 3
   },
   "file_extension": ".py",
   "mimetype": "text/x-python",
   "name": "python",
   "nbconvert_exporter": "python",
   "pygments_lexer": "ipython3",
   "version": "3.9.1"
  },
  "orig_nbformat": 4,
  "kernelspec": {
   "name": "python3",
   "display_name": "Python 3.9.1 64-bit"
  },
  "interpreter": {
   "hash": "aee8b7b246df8f9039afb4144a1f6fd8d2ca17a180786b69acc140d282b71a49"
  }
 },
 "nbformat": 4,
 "nbformat_minor": 2,
 "cells": [
  {
   "source": [
    "# Data Analytics SoSe 2021\n",
    "## Gruppenmitglieder: Anja Stricker, Annika Stadelmann"
   ],
   "cell_type": "markdown",
   "metadata": {}
  },
  {
   "source": [
    "### Aufgabe 1\n",
    "#### (Datenvorbereitung)\n",
    "Lesen Sie den unter der o.g. Adresse verfugbaren Tankstellendatensatz zum Stand 31.05.2021\n",
    "in einen DataFrame namens df stations ein. Dieser soll in dieser Aufgabe fur die weitere\n",
    "Verwendung vorbereitet werden."
   ],
   "cell_type": "markdown",
   "metadata": {}
  },
  {
   "cell_type": "code",
   "execution_count": 37,
   "metadata": {},
   "outputs": [
    {
     "output_type": "execute_result",
     "data": {
      "text/plain": [
       "                                   uuid                     name    brand  \\\n",
       "0  0e18d0d3-ed38-4e7f-a18e-507a78ad901d  OIL! Tankstelle München     OIL!   \n",
       "1  44e2bdb7-13e3-4156-8576-8326cdd20459           bft Tankstelle      NaN   \n",
       "2  ad812258-94e7-473d-aa80-d392f7532218   bft Bonn-Bad Godesberg      bft   \n",
       "3  e52d755d-4be7-4962-a917-3b0139e6f352          Esso Tankstelle     ESSO   \n",
       "4  e52a5d92-33c6-4c77-b6cd-ea90ca1c7c62     Friedrich Dankelmann  Markant   \n",
       "\n",
       "                street house_number post_code     city   latitude  longitude  \\\n",
       "0  Eversbuschstraße 33          NaN     80999  München  48.180700  11.460900   \n",
       "1       Schellengasse            53     36304  Alsfeld  50.752009   9.279039   \n",
       "2    Godesberger Allee           55     53175     Bonn  50.695100   7.142760   \n",
       "3  OSNABRUECKER STR. 5                  49163   BOHMTE  52.358250   8.304064   \n",
       "4     Strangenhäuschen           10     52070   Aachen  50.801680   6.110960   \n",
       "\n",
       "             first_active                                  openingtimes_json  \n",
       "0  1970-01-01 01:00:00+01  {\"openingTimes\":[{\"applicable_days\":192,\"perio...  \n",
       "1  1970-01-01 01:00:00+01  {\"openingTimes\":[{\"applicable_days\":63,\"period...  \n",
       "2  1970-01-01 01:00:00+01  {\"openingTimes\":[{\"applicable_days\":31,\"period...  \n",
       "3  2014-03-18 16:45:31+01  {\"openingTimes\":[{\"applicable_days\":31,\"period...  \n",
       "4  2014-03-18 16:45:31+01  {\"openingTimes\":[{\"applicable_days\":63,\"period...  "
      ],
      "text/html": "<div>\n<style scoped>\n    .dataframe tbody tr th:only-of-type {\n        vertical-align: middle;\n    }\n\n    .dataframe tbody tr th {\n        vertical-align: top;\n    }\n\n    .dataframe thead th {\n        text-align: right;\n    }\n</style>\n<table border=\"1\" class=\"dataframe\">\n  <thead>\n    <tr style=\"text-align: right;\">\n      <th></th>\n      <th>uuid</th>\n      <th>name</th>\n      <th>brand</th>\n      <th>street</th>\n      <th>house_number</th>\n      <th>post_code</th>\n      <th>city</th>\n      <th>latitude</th>\n      <th>longitude</th>\n      <th>first_active</th>\n      <th>openingtimes_json</th>\n    </tr>\n  </thead>\n  <tbody>\n    <tr>\n      <th>0</th>\n      <td>0e18d0d3-ed38-4e7f-a18e-507a78ad901d</td>\n      <td>OIL! Tankstelle München</td>\n      <td>OIL!</td>\n      <td>Eversbuschstraße 33</td>\n      <td>NaN</td>\n      <td>80999</td>\n      <td>München</td>\n      <td>48.180700</td>\n      <td>11.460900</td>\n      <td>1970-01-01 01:00:00+01</td>\n      <td>{\"openingTimes\":[{\"applicable_days\":192,\"perio...</td>\n    </tr>\n    <tr>\n      <th>1</th>\n      <td>44e2bdb7-13e3-4156-8576-8326cdd20459</td>\n      <td>bft Tankstelle</td>\n      <td>NaN</td>\n      <td>Schellengasse</td>\n      <td>53</td>\n      <td>36304</td>\n      <td>Alsfeld</td>\n      <td>50.752009</td>\n      <td>9.279039</td>\n      <td>1970-01-01 01:00:00+01</td>\n      <td>{\"openingTimes\":[{\"applicable_days\":63,\"period...</td>\n    </tr>\n    <tr>\n      <th>2</th>\n      <td>ad812258-94e7-473d-aa80-d392f7532218</td>\n      <td>bft Bonn-Bad Godesberg</td>\n      <td>bft</td>\n      <td>Godesberger Allee</td>\n      <td>55</td>\n      <td>53175</td>\n      <td>Bonn</td>\n      <td>50.695100</td>\n      <td>7.142760</td>\n      <td>1970-01-01 01:00:00+01</td>\n      <td>{\"openingTimes\":[{\"applicable_days\":31,\"period...</td>\n    </tr>\n    <tr>\n      <th>3</th>\n      <td>e52d755d-4be7-4962-a917-3b0139e6f352</td>\n      <td>Esso Tankstelle</td>\n      <td>ESSO</td>\n      <td>OSNABRUECKER STR. 5</td>\n      <td></td>\n      <td>49163</td>\n      <td>BOHMTE</td>\n      <td>52.358250</td>\n      <td>8.304064</td>\n      <td>2014-03-18 16:45:31+01</td>\n      <td>{\"openingTimes\":[{\"applicable_days\":31,\"period...</td>\n    </tr>\n    <tr>\n      <th>4</th>\n      <td>e52a5d92-33c6-4c77-b6cd-ea90ca1c7c62</td>\n      <td>Friedrich Dankelmann</td>\n      <td>Markant</td>\n      <td>Strangenhäuschen</td>\n      <td>10</td>\n      <td>52070</td>\n      <td>Aachen</td>\n      <td>50.801680</td>\n      <td>6.110960</td>\n      <td>2014-03-18 16:45:31+01</td>\n      <td>{\"openingTimes\":[{\"applicable_days\":63,\"period...</td>\n    </tr>\n  </tbody>\n</table>\n</div>"
     },
     "metadata": {},
     "execution_count": 37
    }
   ],
   "source": [
    "import pandas as pd\n",
    "import numpy as np\n",
    "\n",
    "df_stations = pd.read_csv(\"2021-05-31-stations.csv\")\n",
    "df_stations.head()"
   ]
  },
  {
   "source": [
    "a) Untersuchen Sie den Datensatz auf fehlende Werte und setzen Sie ggf. eine geeignete Strategie um, um mit diesen zu verfahren. Begrunden Sie Ihr Vorgehen."
   ],
   "cell_type": "markdown",
   "metadata": {}
  },
  {
   "cell_type": "code",
   "execution_count": 38,
   "metadata": {},
   "outputs": [
    {
     "output_type": "execute_result",
     "data": {
      "text/plain": [
       "uuid                    0\n",
       "name                    0\n",
       "brand                 670\n",
       "street                  3\n",
       "house_number         2940\n",
       "post_code               3\n",
       "city                    4\n",
       "latitude                0\n",
       "longitude               0\n",
       "first_active            0\n",
       "openingtimes_json       0\n",
       "dtype: int64"
      ]
     },
     "metadata": {},
     "execution_count": 38
    }
   ],
   "source": [
    "df_stations.isnull().sum()"
   ]
  },
  {
   "source": [
    "Im folgenden werden nur noch die Spalten betrachtet die einen NaN Wert über 0 haben.\n",
    "Alle Spalten mit 0 haben keine NaN Werte und müssen demnach nicht nochmal kontrolliert werden.\n",
    "\n",
    "NaN Werte werden durch passende andere Werte ersetzt."
   ],
   "cell_type": "markdown",
   "metadata": {}
  },
  {
   "cell_type": "code",
   "execution_count": 39,
   "metadata": {},
   "outputs": [],
   "source": [
    "df_stations[\"brand\"] = df_stations[\"brand\"].fillna(\"other\")\n",
    "df_stations[\"openingtimes_json\"] = df_stations[\"openingtimes_json\"].replace(\"{}\", \"empty\")"
   ]
  },
  {
   "source": [
    "Jetzt werden fehlende Einträge von street, house_number, city und post_code mit geopy ermittelt und ersetzt."
   ],
   "cell_type": "markdown",
   "metadata": {}
  },
  {
   "cell_type": "code",
   "execution_count": 40,
   "metadata": {},
   "outputs": [
    {
     "output_type": "execute_result",
     "data": {
      "text/plain": [
       "                                       uuid  \\\n",
       "13379  5cbfcf42-67b5-495b-bcaa-e4871ceb3988   \n",
       "14200  4e8ecfc5-5d0d-4463-901b-6b9ff8fee510   \n",
       "15262  27b7b18e-85a8-455d-863c-2f8dbdcf256d   \n",
       "\n",
       "                                         name  brand               street  \\\n",
       "13379                            bft Grefrath    bft     Mülhausener Str.   \n",
       "14200                                 01_test  other                  NaN   \n",
       "15262  Dortmund (44357),Deininghauser Str. 2    Gulf  Deininghauser Str.    \n",
       "\n",
       "      house_number post_code city  latitude  longitude  \\\n",
       "13379            3     47929  NaN   51.3377    6.34416   \n",
       "14200          NaN       NaN  NaN    0.0000    0.00000   \n",
       "15262            2     44357  NaN   51.5521    7.36620   \n",
       "\n",
       "                 first_active  \\\n",
       "13379  2014-03-20 00:00:01+01   \n",
       "14200  2015-05-27 00:00:01+02   \n",
       "15262  2018-04-01 23:30:06+02   \n",
       "\n",
       "                                       openingtimes_json  \n",
       "13379  {\"openingTimes\":[{\"applicable_days\":31,\"period...  \n",
       "14200                                              empty  \n",
       "15262  {\"openingTimes\":[{\"applicable_days\":64,\"period...  "
      ],
      "text/html": "<div>\n<style scoped>\n    .dataframe tbody tr th:only-of-type {\n        vertical-align: middle;\n    }\n\n    .dataframe tbody tr th {\n        vertical-align: top;\n    }\n\n    .dataframe thead th {\n        text-align: right;\n    }\n</style>\n<table border=\"1\" class=\"dataframe\">\n  <thead>\n    <tr style=\"text-align: right;\">\n      <th></th>\n      <th>uuid</th>\n      <th>name</th>\n      <th>brand</th>\n      <th>street</th>\n      <th>house_number</th>\n      <th>post_code</th>\n      <th>city</th>\n      <th>latitude</th>\n      <th>longitude</th>\n      <th>first_active</th>\n      <th>openingtimes_json</th>\n    </tr>\n  </thead>\n  <tbody>\n    <tr>\n      <th>13379</th>\n      <td>5cbfcf42-67b5-495b-bcaa-e4871ceb3988</td>\n      <td>bft Grefrath</td>\n      <td>bft</td>\n      <td>Mülhausener Str.</td>\n      <td>3</td>\n      <td>47929</td>\n      <td>NaN</td>\n      <td>51.3377</td>\n      <td>6.34416</td>\n      <td>2014-03-20 00:00:01+01</td>\n      <td>{\"openingTimes\":[{\"applicable_days\":31,\"period...</td>\n    </tr>\n    <tr>\n      <th>14200</th>\n      <td>4e8ecfc5-5d0d-4463-901b-6b9ff8fee510</td>\n      <td>01_test</td>\n      <td>other</td>\n      <td>NaN</td>\n      <td>NaN</td>\n      <td>NaN</td>\n      <td>NaN</td>\n      <td>0.0000</td>\n      <td>0.00000</td>\n      <td>2015-05-27 00:00:01+02</td>\n      <td>empty</td>\n    </tr>\n    <tr>\n      <th>15262</th>\n      <td>27b7b18e-85a8-455d-863c-2f8dbdcf256d</td>\n      <td>Dortmund (44357),Deininghauser Str. 2</td>\n      <td>Gulf</td>\n      <td>Deininghauser Str.</td>\n      <td>2</td>\n      <td>44357</td>\n      <td>NaN</td>\n      <td>51.5521</td>\n      <td>7.36620</td>\n      <td>2018-04-01 23:30:06+02</td>\n      <td>{\"openingTimes\":[{\"applicable_days\":64,\"period...</td>\n    </tr>\n  </tbody>\n</table>\n</div>"
     },
     "metadata": {},
     "execution_count": 40
    }
   ],
   "source": [
    "from geopy.geocoders import Nominatim\n",
    "geolocator = Nominatim(user_agent=\"DA_stud\")\n",
    "df = pd.DataFrame()\n",
    "\n",
    "for i in df_stations.loc[df_stations[\"street\"].isnull() & df_stations[\"house_number\"].isnull() & df_stations[\"city\"].isnull() & df_stations[\"post_code\"].isnull()].index:\n",
    "    data = df_stations.iloc[i]\n",
    "    if ((data[\"latitude\"] <= 90.0) & (data[\"latitude\"] >= -90.0) & (data[\"longitude\"] <= 180.0) & (data[\"longitude\"] >= -180.0) \n",
    "    & (data[\"latitude\"] != 0.0) & (data[\"longitude\"] != 0.0)):\n",
    "        location = geolocator.reverse(str(data[\"latitude\"]) + \", \" + str(data[\"longitude\"]))\n",
    "        adressData = location.raw[\"address\"]\n",
    "        if \"road\" in adressData:\n",
    "            df_stations.at[i, \"street\"] = adressData[\"road\"]\n",
    "        if \"house_number\" in adressData:\n",
    "            df_stations.at[i, \"house_number\"] = adressData[\"house_number\"]\n",
    "        if \"town\" in adressData:\n",
    "            df_stations.at[i, \"city\"] = adressData[\"town\"]\n",
    "        if \"postcode\" in adressData:\n",
    "            df_stations.at[i, \"post_code\"] = adressData[\"postcode\"]\n",
    "\n",
    "df_stations[df_stations[\"city\"].isnull()]"
   ]
  },
  {
   "cell_type": "code",
   "execution_count": 41,
   "metadata": {},
   "outputs": [],
   "source": [
    "df_stations[\"post_code\"] = df_stations[\"post_code\"].fillna(00000)"
   ]
  },
  {
   "source": [
    "Prüfen ob Cities NaN sind"
   ],
   "cell_type": "markdown",
   "metadata": {}
  },
  {
   "cell_type": "code",
   "execution_count": 42,
   "metadata": {},
   "outputs": [
    {
     "output_type": "execute_result",
     "data": {
      "text/plain": [
       "                                       uuid  \\\n",
       "13379  5cbfcf42-67b5-495b-bcaa-e4871ceb3988   \n",
       "14200  4e8ecfc5-5d0d-4463-901b-6b9ff8fee510   \n",
       "15262  27b7b18e-85a8-455d-863c-2f8dbdcf256d   \n",
       "\n",
       "                                         name  brand               street  \\\n",
       "13379                            bft Grefrath    bft     Mülhausener Str.   \n",
       "14200                                 01_test  other                  NaN   \n",
       "15262  Dortmund (44357),Deininghauser Str. 2    Gulf  Deininghauser Str.    \n",
       "\n",
       "      house_number post_code city  latitude  longitude  \\\n",
       "13379            3     47929  NaN   51.3377    6.34416   \n",
       "14200          NaN         0  NaN    0.0000    0.00000   \n",
       "15262            2     44357  NaN   51.5521    7.36620   \n",
       "\n",
       "                 first_active  \\\n",
       "13379  2014-03-20 00:00:01+01   \n",
       "14200  2015-05-27 00:00:01+02   \n",
       "15262  2018-04-01 23:30:06+02   \n",
       "\n",
       "                                       openingtimes_json  \n",
       "13379  {\"openingTimes\":[{\"applicable_days\":31,\"period...  \n",
       "14200                                              empty  \n",
       "15262  {\"openingTimes\":[{\"applicable_days\":64,\"period...  "
      ],
      "text/html": "<div>\n<style scoped>\n    .dataframe tbody tr th:only-of-type {\n        vertical-align: middle;\n    }\n\n    .dataframe tbody tr th {\n        vertical-align: top;\n    }\n\n    .dataframe thead th {\n        text-align: right;\n    }\n</style>\n<table border=\"1\" class=\"dataframe\">\n  <thead>\n    <tr style=\"text-align: right;\">\n      <th></th>\n      <th>uuid</th>\n      <th>name</th>\n      <th>brand</th>\n      <th>street</th>\n      <th>house_number</th>\n      <th>post_code</th>\n      <th>city</th>\n      <th>latitude</th>\n      <th>longitude</th>\n      <th>first_active</th>\n      <th>openingtimes_json</th>\n    </tr>\n  </thead>\n  <tbody>\n    <tr>\n      <th>13379</th>\n      <td>5cbfcf42-67b5-495b-bcaa-e4871ceb3988</td>\n      <td>bft Grefrath</td>\n      <td>bft</td>\n      <td>Mülhausener Str.</td>\n      <td>3</td>\n      <td>47929</td>\n      <td>NaN</td>\n      <td>51.3377</td>\n      <td>6.34416</td>\n      <td>2014-03-20 00:00:01+01</td>\n      <td>{\"openingTimes\":[{\"applicable_days\":31,\"period...</td>\n    </tr>\n    <tr>\n      <th>14200</th>\n      <td>4e8ecfc5-5d0d-4463-901b-6b9ff8fee510</td>\n      <td>01_test</td>\n      <td>other</td>\n      <td>NaN</td>\n      <td>NaN</td>\n      <td>0</td>\n      <td>NaN</td>\n      <td>0.0000</td>\n      <td>0.00000</td>\n      <td>2015-05-27 00:00:01+02</td>\n      <td>empty</td>\n    </tr>\n    <tr>\n      <th>15262</th>\n      <td>27b7b18e-85a8-455d-863c-2f8dbdcf256d</td>\n      <td>Dortmund (44357),Deininghauser Str. 2</td>\n      <td>Gulf</td>\n      <td>Deininghauser Str.</td>\n      <td>2</td>\n      <td>44357</td>\n      <td>NaN</td>\n      <td>51.5521</td>\n      <td>7.36620</td>\n      <td>2018-04-01 23:30:06+02</td>\n      <td>{\"openingTimes\":[{\"applicable_days\":64,\"period...</td>\n    </tr>\n  </tbody>\n</table>\n</div>"
     },
     "metadata": {},
     "execution_count": 42
    }
   ],
   "source": [
    "df_stations[df_stations[\"city\"].isnull()]"
   ]
  },
  {
   "source": [
    "Einträge die City, Post_Code und Coordinaten NaN haben werden gelöscht."
   ],
   "cell_type": "markdown",
   "metadata": {}
  },
  {
   "cell_type": "code",
   "execution_count": 43,
   "metadata": {},
   "outputs": [],
   "source": [
    "df_stations = df_stations.drop(df_stations.loc[(df_stations[\"city\"].isnull()) & (df_stations[\"post_code\"] == 00000) & (df_stations[\"latitude\"] == 0.0) & (df_stations[\"longitude\"] == 0.0)].index)"
   ]
  },
  {
   "source": [
    "Citys die einen NaN Wert haben, aber einen Postcode, werden mit den anderen Postcode einträgen verglichen und erhalten den Namen der City."
   ],
   "cell_type": "markdown",
   "metadata": {}
  },
  {
   "cell_type": "code",
   "execution_count": 44,
   "metadata": {},
   "outputs": [],
   "source": [
    "def findCityWithPostcode(row):\n",
    "    return df_stations[\"city\"][(df_stations[\"post_code\"] == row[\"post_code\"]) & (df_stations[\"city\"].notnull())].item()\n",
    "df_stations[\"city\"] = df_stations[[\"city\", \"post_code\"]].apply(lambda x: findCityWithPostcode(x) if x[\"city\"] is np.nan else x[\"city\"], axis=1)"
   ]
  },
  {
   "source": [
    "b) Transformieren Sie die Spalten brand, street und city, sodass die Werte jeweils nur\n",
    "in Großbuchstaben ausgeben werden."
   ],
   "cell_type": "markdown",
   "metadata": {}
  },
  {
   "cell_type": "code",
   "execution_count": 45,
   "metadata": {},
   "outputs": [
    {
     "output_type": "execute_result",
     "data": {
      "text/plain": [
       "                                   uuid                     name    brand  \\\n",
       "0  0e18d0d3-ed38-4e7f-a18e-507a78ad901d  OIL! Tankstelle München     OIL!   \n",
       "1  44e2bdb7-13e3-4156-8576-8326cdd20459           bft Tankstelle    OTHER   \n",
       "2  ad812258-94e7-473d-aa80-d392f7532218   bft Bonn-Bad Godesberg      BFT   \n",
       "3  e52d755d-4be7-4962-a917-3b0139e6f352          Esso Tankstelle     ESSO   \n",
       "4  e52a5d92-33c6-4c77-b6cd-ea90ca1c7c62     Friedrich Dankelmann  MARKANT   \n",
       "\n",
       "                 street house_number post_code     city   latitude  longitude  \\\n",
       "0  EVERSBUSCHSTRASSE 33          NaN     80999  MÜNCHEN  48.180700  11.460900   \n",
       "1        SCHELLENGASSE            53     36304  ALSFELD  50.752009   9.279039   \n",
       "2     GODESBERGER ALLEE           55     53175     BONN  50.695100   7.142760   \n",
       "3   OSNABRUECKER STR. 5                  49163   BOHMTE  52.358250   8.304064   \n",
       "4      STRANGENHÄUSCHEN           10     52070   AACHEN  50.801680   6.110960   \n",
       "\n",
       "             first_active                                  openingtimes_json  \n",
       "0  1970-01-01 01:00:00+01  {\"openingTimes\":[{\"applicable_days\":192,\"perio...  \n",
       "1  1970-01-01 01:00:00+01  {\"openingTimes\":[{\"applicable_days\":63,\"period...  \n",
       "2  1970-01-01 01:00:00+01  {\"openingTimes\":[{\"applicable_days\":31,\"period...  \n",
       "3  2014-03-18 16:45:31+01  {\"openingTimes\":[{\"applicable_days\":31,\"period...  \n",
       "4  2014-03-18 16:45:31+01  {\"openingTimes\":[{\"applicable_days\":63,\"period...  "
      ],
      "text/html": "<div>\n<style scoped>\n    .dataframe tbody tr th:only-of-type {\n        vertical-align: middle;\n    }\n\n    .dataframe tbody tr th {\n        vertical-align: top;\n    }\n\n    .dataframe thead th {\n        text-align: right;\n    }\n</style>\n<table border=\"1\" class=\"dataframe\">\n  <thead>\n    <tr style=\"text-align: right;\">\n      <th></th>\n      <th>uuid</th>\n      <th>name</th>\n      <th>brand</th>\n      <th>street</th>\n      <th>house_number</th>\n      <th>post_code</th>\n      <th>city</th>\n      <th>latitude</th>\n      <th>longitude</th>\n      <th>first_active</th>\n      <th>openingtimes_json</th>\n    </tr>\n  </thead>\n  <tbody>\n    <tr>\n      <th>0</th>\n      <td>0e18d0d3-ed38-4e7f-a18e-507a78ad901d</td>\n      <td>OIL! Tankstelle München</td>\n      <td>OIL!</td>\n      <td>EVERSBUSCHSTRASSE 33</td>\n      <td>NaN</td>\n      <td>80999</td>\n      <td>MÜNCHEN</td>\n      <td>48.180700</td>\n      <td>11.460900</td>\n      <td>1970-01-01 01:00:00+01</td>\n      <td>{\"openingTimes\":[{\"applicable_days\":192,\"perio...</td>\n    </tr>\n    <tr>\n      <th>1</th>\n      <td>44e2bdb7-13e3-4156-8576-8326cdd20459</td>\n      <td>bft Tankstelle</td>\n      <td>OTHER</td>\n      <td>SCHELLENGASSE</td>\n      <td>53</td>\n      <td>36304</td>\n      <td>ALSFELD</td>\n      <td>50.752009</td>\n      <td>9.279039</td>\n      <td>1970-01-01 01:00:00+01</td>\n      <td>{\"openingTimes\":[{\"applicable_days\":63,\"period...</td>\n    </tr>\n    <tr>\n      <th>2</th>\n      <td>ad812258-94e7-473d-aa80-d392f7532218</td>\n      <td>bft Bonn-Bad Godesberg</td>\n      <td>BFT</td>\n      <td>GODESBERGER ALLEE</td>\n      <td>55</td>\n      <td>53175</td>\n      <td>BONN</td>\n      <td>50.695100</td>\n      <td>7.142760</td>\n      <td>1970-01-01 01:00:00+01</td>\n      <td>{\"openingTimes\":[{\"applicable_days\":31,\"period...</td>\n    </tr>\n    <tr>\n      <th>3</th>\n      <td>e52d755d-4be7-4962-a917-3b0139e6f352</td>\n      <td>Esso Tankstelle</td>\n      <td>ESSO</td>\n      <td>OSNABRUECKER STR. 5</td>\n      <td></td>\n      <td>49163</td>\n      <td>BOHMTE</td>\n      <td>52.358250</td>\n      <td>8.304064</td>\n      <td>2014-03-18 16:45:31+01</td>\n      <td>{\"openingTimes\":[{\"applicable_days\":31,\"period...</td>\n    </tr>\n    <tr>\n      <th>4</th>\n      <td>e52a5d92-33c6-4c77-b6cd-ea90ca1c7c62</td>\n      <td>Friedrich Dankelmann</td>\n      <td>MARKANT</td>\n      <td>STRANGENHÄUSCHEN</td>\n      <td>10</td>\n      <td>52070</td>\n      <td>AACHEN</td>\n      <td>50.801680</td>\n      <td>6.110960</td>\n      <td>2014-03-18 16:45:31+01</td>\n      <td>{\"openingTimes\":[{\"applicable_days\":63,\"period...</td>\n    </tr>\n  </tbody>\n</table>\n</div>"
     },
     "metadata": {},
     "execution_count": 45
    }
   ],
   "source": [
    "df_stations[\"brand\"] = df_stations[\"brand\"].str.upper()\n",
    "df_stations[\"street\"] = df_stations[\"street\"].str.upper()\n",
    "df_stations[\"city\"] = df_stations[\"city\"].str.upper()\n",
    "\n",
    "df_stations.head()"
   ]
  },
  {
   "source": [
    "c) Uberprüfen Sie, ob der Datensatz Duplikate enth ¨ alt und entfernen Sie diese ggf. Ein Dupli- ¨\n",
    "kat liege dann vor, wenn zwei Tankstellen in den Spalten name, street, house number\n",
    "und post code ubereinstimmen. Geben Sie aus, wie viele Duplikate ermittelt und entfernt ¨\n",
    "wurden."
   ],
   "cell_type": "markdown",
   "metadata": {}
  },
  {
   "cell_type": "code",
   "execution_count": 46,
   "metadata": {},
   "outputs": [
    {
     "output_type": "execute_result",
     "data": {
      "text/plain": [
       "52"
      ]
     },
     "metadata": {},
     "execution_count": 46
    }
   ],
   "source": [
    "df_stations[[\"name\", \"street\", \"house_number\", \"post_code\"]].duplicated().sum()"
   ]
  },
  {
   "source": [
    "Es wurden 52 Duplikate ermittelt"
   ],
   "cell_type": "markdown",
   "metadata": {}
  },
  {
   "cell_type": "code",
   "execution_count": 47,
   "metadata": {},
   "outputs": [
    {
     "output_type": "execute_result",
     "data": {
      "text/plain": [
       "51"
      ]
     },
     "metadata": {},
     "execution_count": 47
    }
   ],
   "source": [
    "df_stations[[\"name\", \"street\", \"house_number\", \"post_code\"]] = df_stations[[\"name\", \"street\", \"house_number\", \"post_code\"]].drop_duplicates()\n",
    "df_stations[[\"name\", \"street\", \"house_number\", \"post_code\"]].duplicated().sum()"
   ]
  },
  {
   "source": [
    "d) Untersuchen Sie die Spalten longitude und latitude auf unphysikalische Werte, indem Sie zunachst deren Verteilung in einem Histogramm visualisieren. Entfernen oder kor- ¨\n",
    "rigieren Sie anschließend die Eintrage zu denjenigen Tankstellen, bei denen Sie unphysi- ¨\n",
    "kalische Werte festgestellt haben. Zeichnen Sie anschließend erneut Histogramme fur die ¨\n",
    "beiden Spalten longitude und latitude."
   ],
   "cell_type": "markdown",
   "metadata": {}
  },
  {
   "source": [
    "Zuerst analysieren wir die Daten."
   ],
   "cell_type": "markdown",
   "metadata": {}
  },
  {
   "cell_type": "code",
   "execution_count": 48,
   "metadata": {},
   "outputs": [
    {
     "output_type": "display_data",
     "data": {
      "text/plain": "<Figure size 432x288 with 1 Axes>",
      "image/svg+xml": "<?xml version=\"1.0\" encoding=\"utf-8\" standalone=\"no\"?>\n<!DOCTYPE svg PUBLIC \"-//W3C//DTD SVG 1.1//EN\"\n  \"http://www.w3.org/Graphics/SVG/1.1/DTD/svg11.dtd\">\n<svg height=\"277.314375pt\" version=\"1.1\" viewBox=\"0 0 397.895216 277.314375\" width=\"397.895216pt\" xmlns=\"http://www.w3.org/2000/svg\" xmlns:xlink=\"http://www.w3.org/1999/xlink\">\n <metadata>\n  <rdf:RDF xmlns:cc=\"http://creativecommons.org/ns#\" xmlns:dc=\"http://purl.org/dc/elements/1.1/\" xmlns:rdf=\"http://www.w3.org/1999/02/22-rdf-syntax-ns#\">\n   <cc:Work>\n    <dc:type rdf:resource=\"http://purl.org/dc/dcmitype/StillImage\"/>\n    <dc:date>2021-06-17T13:28:13.864801</dc:date>\n    <dc:format>image/svg+xml</dc:format>\n    <dc:creator>\n     <cc:Agent>\n      <dc:title>Matplotlib v3.4.2, https://matplotlib.org/</dc:title>\n     </cc:Agent>\n    </dc:creator>\n   </cc:Work>\n  </rdf:RDF>\n </metadata>\n <defs>\n  <style type=\"text/css\">*{stroke-linecap:butt;stroke-linejoin:round;}</style>\n </defs>\n <g id=\"figure_1\">\n  <g id=\"patch_1\">\n   <path d=\"M 0 277.314375 \nL 397.895216 277.314375 \nL 397.895216 0 \nL 0 0 \nz\n\" style=\"fill:none;\"/>\n  </g>\n  <g id=\"axes_1\">\n   <g id=\"patch_2\">\n    <path d=\"M 53.328125 239.758125 \nL 388.128125 239.758125 \nL 388.128125 22.318125 \nL 53.328125 22.318125 \nz\n\" style=\"fill:#ffffff;\"/>\n   </g>\n   <g id=\"patch_3\">\n    <path clip-path=\"url(#p5d052bf822)\" d=\"M 68.546307 239.758125 \nL 71.98596 239.758125 \nL 71.98596 239.432063 \nL 68.546307 239.432063 \nz\n\" style=\"fill:#1f77b4;\"/>\n   </g>\n   <g id=\"patch_4\">\n    <path clip-path=\"url(#p5d052bf822)\" d=\"M 71.98596 239.758125 \nL 75.425614 239.758125 \nL 75.425614 239.758125 \nL 71.98596 239.758125 \nz\n\" style=\"fill:#1f77b4;\"/>\n   </g>\n   <g id=\"patch_5\">\n    <path clip-path=\"url(#p5d052bf822)\" d=\"M 75.425614 239.758125 \nL 78.865267 239.758125 \nL 78.865267 239.758125 \nL 75.425614 239.758125 \nz\n\" style=\"fill:#1f77b4;\"/>\n   </g>\n   <g id=\"patch_6\">\n    <path clip-path=\"url(#p5d052bf822)\" d=\"M 78.865267 239.758125 \nL 82.304921 239.758125 \nL 82.304921 239.758125 \nL 78.865267 239.758125 \nz\n\" style=\"fill:#1f77b4;\"/>\n   </g>\n   <g id=\"patch_7\">\n    <path clip-path=\"url(#p5d052bf822)\" d=\"M 82.304921 239.758125 \nL 85.744574 239.758125 \nL 85.744574 239.758125 \nL 82.304921 239.758125 \nz\n\" style=\"fill:#1f77b4;\"/>\n   </g>\n   <g id=\"patch_8\">\n    <path clip-path=\"url(#p5d052bf822)\" d=\"M 85.744574 239.758125 \nL 89.184228 239.758125 \nL 89.184228 239.758125 \nL 85.744574 239.758125 \nz\n\" style=\"fill:#1f77b4;\"/>\n   </g>\n   <g id=\"patch_9\">\n    <path clip-path=\"url(#p5d052bf822)\" d=\"M 89.184228 239.758125 \nL 92.623881 239.758125 \nL 92.623881 239.758125 \nL 89.184228 239.758125 \nz\n\" style=\"fill:#1f77b4;\"/>\n   </g>\n   <g id=\"patch_10\">\n    <path clip-path=\"url(#p5d052bf822)\" d=\"M 92.623881 239.758125 \nL 96.063534 239.758125 \nL 96.063534 239.758125 \nL 92.623881 239.758125 \nz\n\" style=\"fill:#1f77b4;\"/>\n   </g>\n   <g id=\"patch_11\">\n    <path clip-path=\"url(#p5d052bf822)\" d=\"M 96.063534 239.758125 \nL 99.503188 239.758125 \nL 99.503188 239.758125 \nL 96.063534 239.758125 \nz\n\" style=\"fill:#1f77b4;\"/>\n   </g>\n   <g id=\"patch_12\">\n    <path clip-path=\"url(#p5d052bf822)\" d=\"M 99.503188 239.758125 \nL 102.942841 239.758125 \nL 102.942841 239.758125 \nL 99.503188 239.758125 \nz\n\" style=\"fill:#1f77b4;\"/>\n   </g>\n   <g id=\"patch_13\">\n    <path clip-path=\"url(#p5d052bf822)\" d=\"M 102.942841 239.758125 \nL 106.382495 239.758125 \nL 106.382495 239.758125 \nL 102.942841 239.758125 \nz\n\" style=\"fill:#1f77b4;\"/>\n   </g>\n   <g id=\"patch_14\">\n    <path clip-path=\"url(#p5d052bf822)\" d=\"M 106.382495 239.758125 \nL 109.822148 239.758125 \nL 109.822148 239.758125 \nL 106.382495 239.758125 \nz\n\" style=\"fill:#1f77b4;\"/>\n   </g>\n   <g id=\"patch_15\">\n    <path clip-path=\"url(#p5d052bf822)\" d=\"M 109.822148 239.758125 \nL 113.261802 239.758125 \nL 113.261802 239.758125 \nL 109.822148 239.758125 \nz\n\" style=\"fill:#1f77b4;\"/>\n   </g>\n   <g id=\"patch_16\">\n    <path clip-path=\"url(#p5d052bf822)\" d=\"M 113.261802 239.758125 \nL 116.701455 239.758125 \nL 116.701455 239.758125 \nL 113.261802 239.758125 \nz\n\" style=\"fill:#1f77b4;\"/>\n   </g>\n   <g id=\"patch_17\">\n    <path clip-path=\"url(#p5d052bf822)\" d=\"M 116.701455 239.758125 \nL 120.141109 239.758125 \nL 120.141109 239.758125 \nL 116.701455 239.758125 \nz\n\" style=\"fill:#1f77b4;\"/>\n   </g>\n   <g id=\"patch_18\">\n    <path clip-path=\"url(#p5d052bf822)\" d=\"M 120.141109 239.758125 \nL 123.580762 239.758125 \nL 123.580762 239.758125 \nL 120.141109 239.758125 \nz\n\" style=\"fill:#1f77b4;\"/>\n   </g>\n   <g id=\"patch_19\">\n    <path clip-path=\"url(#p5d052bf822)\" d=\"M 123.580762 239.758125 \nL 127.020416 239.758125 \nL 127.020416 239.758125 \nL 123.580762 239.758125 \nz\n\" style=\"fill:#1f77b4;\"/>\n   </g>\n   <g id=\"patch_20\">\n    <path clip-path=\"url(#p5d052bf822)\" d=\"M 127.020416 239.758125 \nL 130.460069 239.758125 \nL 130.460069 239.758125 \nL 127.020416 239.758125 \nz\n\" style=\"fill:#1f77b4;\"/>\n   </g>\n   <g id=\"patch_21\">\n    <path clip-path=\"url(#p5d052bf822)\" d=\"M 130.460069 239.758125 \nL 133.899722 239.758125 \nL 133.899722 239.758125 \nL 130.460069 239.758125 \nz\n\" style=\"fill:#1f77b4;\"/>\n   </g>\n   <g id=\"patch_22\">\n    <path clip-path=\"url(#p5d052bf822)\" d=\"M 133.899722 239.758125 \nL 137.339376 239.758125 \nL 137.339376 239.758125 \nL 133.899722 239.758125 \nz\n\" style=\"fill:#1f77b4;\"/>\n   </g>\n   <g id=\"patch_23\">\n    <path clip-path=\"url(#p5d052bf822)\" d=\"M 137.339376 239.758125 \nL 140.779029 239.758125 \nL 140.779029 239.758125 \nL 137.339376 239.758125 \nz\n\" style=\"fill:#1f77b4;\"/>\n   </g>\n   <g id=\"patch_24\">\n    <path clip-path=\"url(#p5d052bf822)\" d=\"M 140.779029 239.758125 \nL 144.218683 239.758125 \nL 144.218683 239.758125 \nL 140.779029 239.758125 \nz\n\" style=\"fill:#1f77b4;\"/>\n   </g>\n   <g id=\"patch_25\">\n    <path clip-path=\"url(#p5d052bf822)\" d=\"M 144.218683 239.758125 \nL 147.658336 239.758125 \nL 147.658336 239.758125 \nL 144.218683 239.758125 \nz\n\" style=\"fill:#1f77b4;\"/>\n   </g>\n   <g id=\"patch_26\">\n    <path clip-path=\"url(#p5d052bf822)\" d=\"M 147.658336 239.758125 \nL 151.09799 239.758125 \nL 151.09799 239.758125 \nL 147.658336 239.758125 \nz\n\" style=\"fill:#1f77b4;\"/>\n   </g>\n   <g id=\"patch_27\">\n    <path clip-path=\"url(#p5d052bf822)\" d=\"M 151.09799 239.758125 \nL 154.537643 239.758125 \nL 154.537643 239.758125 \nL 151.09799 239.758125 \nz\n\" style=\"fill:#1f77b4;\"/>\n   </g>\n   <g id=\"patch_28\">\n    <path clip-path=\"url(#p5d052bf822)\" d=\"M 154.537643 239.758125 \nL 157.977297 239.758125 \nL 157.977297 239.758125 \nL 154.537643 239.758125 \nz\n\" style=\"fill:#1f77b4;\"/>\n   </g>\n   <g id=\"patch_29\">\n    <path clip-path=\"url(#p5d052bf822)\" d=\"M 157.977297 239.758125 \nL 161.41695 239.758125 \nL 161.41695 239.758125 \nL 157.977297 239.758125 \nz\n\" style=\"fill:#1f77b4;\"/>\n   </g>\n   <g id=\"patch_30\">\n    <path clip-path=\"url(#p5d052bf822)\" d=\"M 161.41695 239.758125 \nL 164.856604 239.758125 \nL 164.856604 239.758125 \nL 161.41695 239.758125 \nz\n\" style=\"fill:#1f77b4;\"/>\n   </g>\n   <g id=\"patch_31\">\n    <path clip-path=\"url(#p5d052bf822)\" d=\"M 164.856604 239.758125 \nL 168.296257 239.758125 \nL 168.296257 239.758125 \nL 164.856604 239.758125 \nz\n\" style=\"fill:#1f77b4;\"/>\n   </g>\n   <g id=\"patch_32\">\n    <path clip-path=\"url(#p5d052bf822)\" d=\"M 168.296257 239.758125 \nL 171.735911 239.758125 \nL 171.735911 239.758125 \nL 168.296257 239.758125 \nz\n\" style=\"fill:#1f77b4;\"/>\n   </g>\n   <g id=\"patch_33\">\n    <path clip-path=\"url(#p5d052bf822)\" d=\"M 171.735911 239.758125 \nL 175.175564 239.758125 \nL 175.175564 239.758125 \nL 171.735911 239.758125 \nz\n\" style=\"fill:#1f77b4;\"/>\n   </g>\n   <g id=\"patch_34\">\n    <path clip-path=\"url(#p5d052bf822)\" d=\"M 175.175564 239.758125 \nL 178.615217 239.758125 \nL 178.615217 239.758125 \nL 175.175564 239.758125 \nz\n\" style=\"fill:#1f77b4;\"/>\n   </g>\n   <g id=\"patch_35\">\n    <path clip-path=\"url(#p5d052bf822)\" d=\"M 178.615217 239.758125 \nL 182.054871 239.758125 \nL 182.054871 239.758125 \nL 178.615217 239.758125 \nz\n\" style=\"fill:#1f77b4;\"/>\n   </g>\n   <g id=\"patch_36\">\n    <path clip-path=\"url(#p5d052bf822)\" d=\"M 182.054871 239.758125 \nL 185.494524 239.758125 \nL 185.494524 239.758125 \nL 182.054871 239.758125 \nz\n\" style=\"fill:#1f77b4;\"/>\n   </g>\n   <g id=\"patch_37\">\n    <path clip-path=\"url(#p5d052bf822)\" d=\"M 185.494524 239.758125 \nL 188.934178 239.758125 \nL 188.934178 239.758125 \nL 185.494524 239.758125 \nz\n\" style=\"fill:#1f77b4;\"/>\n   </g>\n   <g id=\"patch_38\">\n    <path clip-path=\"url(#p5d052bf822)\" d=\"M 188.934178 239.758125 \nL 192.373831 239.758125 \nL 192.373831 239.758125 \nL 188.934178 239.758125 \nz\n\" style=\"fill:#1f77b4;\"/>\n   </g>\n   <g id=\"patch_39\">\n    <path clip-path=\"url(#p5d052bf822)\" d=\"M 192.373831 239.758125 \nL 195.813485 239.758125 \nL 195.813485 239.758125 \nL 192.373831 239.758125 \nz\n\" style=\"fill:#1f77b4;\"/>\n   </g>\n   <g id=\"patch_40\">\n    <path clip-path=\"url(#p5d052bf822)\" d=\"M 195.813485 239.758125 \nL 199.253138 239.758125 \nL 199.253138 239.758125 \nL 195.813485 239.758125 \nz\n\" style=\"fill:#1f77b4;\"/>\n   </g>\n   <g id=\"patch_41\">\n    <path clip-path=\"url(#p5d052bf822)\" d=\"M 199.253138 239.758125 \nL 202.692792 239.758125 \nL 202.692792 239.758125 \nL 199.253138 239.758125 \nz\n\" style=\"fill:#1f77b4;\"/>\n   </g>\n   <g id=\"patch_42\">\n    <path clip-path=\"url(#p5d052bf822)\" d=\"M 202.692792 239.758125 \nL 206.132445 239.758125 \nL 206.132445 239.758125 \nL 202.692792 239.758125 \nz\n\" style=\"fill:#1f77b4;\"/>\n   </g>\n   <g id=\"patch_43\">\n    <path clip-path=\"url(#p5d052bf822)\" d=\"M 206.132445 239.758125 \nL 209.572099 239.758125 \nL 209.572099 239.758125 \nL 206.132445 239.758125 \nz\n\" style=\"fill:#1f77b4;\"/>\n   </g>\n   <g id=\"patch_44\">\n    <path clip-path=\"url(#p5d052bf822)\" d=\"M 209.572099 239.758125 \nL 213.011752 239.758125 \nL 213.011752 239.758125 \nL 209.572099 239.758125 \nz\n\" style=\"fill:#1f77b4;\"/>\n   </g>\n   <g id=\"patch_45\">\n    <path clip-path=\"url(#p5d052bf822)\" d=\"M 213.011752 239.758125 \nL 216.451405 239.758125 \nL 216.451405 239.758125 \nL 213.011752 239.758125 \nz\n\" style=\"fill:#1f77b4;\"/>\n   </g>\n   <g id=\"patch_46\">\n    <path clip-path=\"url(#p5d052bf822)\" d=\"M 216.451405 239.758125 \nL 219.891059 239.758125 \nL 219.891059 180.161204 \nL 216.451405 180.161204 \nz\n\" style=\"fill:#1f77b4;\"/>\n   </g>\n   <g id=\"patch_47\">\n    <path clip-path=\"url(#p5d052bf822)\" d=\"M 219.891059 239.758125 \nL 223.330712 239.758125 \nL 223.330712 137.084767 \nL 219.891059 137.084767 \nz\n\" style=\"fill:#1f77b4;\"/>\n   </g>\n   <g id=\"patch_48\">\n    <path clip-path=\"url(#p5d052bf822)\" d=\"M 223.330712 239.758125 \nL 226.770366 239.758125 \nL 226.770366 152.40969 \nL 223.330712 152.40969 \nz\n\" style=\"fill:#1f77b4;\"/>\n   </g>\n   <g id=\"patch_49\">\n    <path clip-path=\"url(#p5d052bf822)\" d=\"M 226.770366 239.758125 \nL 230.210019 239.758125 \nL 230.210019 87.74069 \nL 226.770366 87.74069 \nz\n\" style=\"fill:#1f77b4;\"/>\n   </g>\n   <g id=\"patch_50\">\n    <path clip-path=\"url(#p5d052bf822)\" d=\"M 230.210019 239.758125 \nL 233.649673 239.758125 \nL 233.649673 136.650017 \nL 230.210019 136.650017 \nz\n\" style=\"fill:#1f77b4;\"/>\n   </g>\n   <g id=\"patch_51\">\n    <path clip-path=\"url(#p5d052bf822)\" d=\"M 233.649673 239.758125 \nL 237.089326 239.758125 \nL 237.089326 174.545689 \nL 233.649673 174.545689 \nz\n\" style=\"fill:#1f77b4;\"/>\n   </g>\n   <g id=\"patch_52\">\n    <path clip-path=\"url(#p5d052bf822)\" d=\"M 237.089326 239.758125 \nL 240.52898 239.758125 \nL 240.52898 219.506041 \nL 237.089326 219.506041 \nz\n\" style=\"fill:#1f77b4;\"/>\n   </g>\n   <g id=\"patch_53\">\n    <path clip-path=\"url(#p5d052bf822)\" d=\"M 68.546307 239.758125 \nL 74.63358 239.758125 \nL 74.63358 239.432063 \nL 68.546307 239.432063 \nz\n\" style=\"fill:#ff7f0e;\"/>\n   </g>\n   <g id=\"patch_54\">\n    <path clip-path=\"url(#p5d052bf822)\" d=\"M 74.63358 239.758125 \nL 80.720852 239.758125 \nL 80.720852 239.758125 \nL 74.63358 239.758125 \nz\n\" style=\"fill:#ff7f0e;\"/>\n   </g>\n   <g id=\"patch_55\">\n    <path clip-path=\"url(#p5d052bf822)\" d=\"M 80.720852 239.758125 \nL 86.808125 239.758125 \nL 86.808125 239.758125 \nL 80.720852 239.758125 \nz\n\" style=\"fill:#ff7f0e;\"/>\n   </g>\n   <g id=\"patch_56\">\n    <path clip-path=\"url(#p5d052bf822)\" d=\"M 86.808125 239.758125 \nL 92.895398 239.758125 \nL 92.895398 111.543229 \nL 86.808125 111.543229 \nz\n\" style=\"fill:#ff7f0e;\"/>\n   </g>\n   <g id=\"patch_57\">\n    <path clip-path=\"url(#p5d052bf822)\" d=\"M 92.895398 239.758125 \nL 98.98267 239.758125 \nL 98.98267 32.672411 \nL 92.895398 32.672411 \nz\n\" style=\"fill:#ff7f0e;\"/>\n   </g>\n   <g id=\"patch_58\">\n    <path clip-path=\"url(#p5d052bf822)\" d=\"M 98.98267 239.758125 \nL 105.069943 239.758125 \nL 105.069943 89.805751 \nL 98.98267 89.805751 \nz\n\" style=\"fill:#ff7f0e;\"/>\n   </g>\n   <g id=\"patch_59\">\n    <path clip-path=\"url(#p5d052bf822)\" d=\"M 105.069943 239.758125 \nL 111.157216 239.758125 \nL 111.157216 149.728734 \nL 105.069943 149.728734 \nz\n\" style=\"fill:#ff7f0e;\"/>\n   </g>\n   <g id=\"patch_60\">\n    <path clip-path=\"url(#p5d052bf822)\" d=\"M 111.157216 239.758125 \nL 117.244489 239.758125 \nL 117.244489 224.904181 \nL 111.157216 224.904181 \nz\n\" style=\"fill:#ff7f0e;\"/>\n   </g>\n   <g id=\"patch_61\">\n    <path clip-path=\"url(#p5d052bf822)\" d=\"M 117.244489 239.758125 \nL 123.331761 239.758125 \nL 123.331761 239.758125 \nL 117.244489 239.758125 \nz\n\" style=\"fill:#ff7f0e;\"/>\n   </g>\n   <g id=\"patch_62\">\n    <path clip-path=\"url(#p5d052bf822)\" d=\"M 123.331761 239.758125 \nL 129.419034 239.758125 \nL 129.419034 239.758125 \nL 123.331761 239.758125 \nz\n\" style=\"fill:#ff7f0e;\"/>\n   </g>\n   <g id=\"patch_63\">\n    <path clip-path=\"url(#p5d052bf822)\" d=\"M 129.419034 239.758125 \nL 135.506307 239.758125 \nL 135.506307 239.758125 \nL 129.419034 239.758125 \nz\n\" style=\"fill:#ff7f0e;\"/>\n   </g>\n   <g id=\"patch_64\">\n    <path clip-path=\"url(#p5d052bf822)\" d=\"M 135.506307 239.758125 \nL 141.59358 239.758125 \nL 141.59358 239.758125 \nL 135.506307 239.758125 \nz\n\" style=\"fill:#ff7f0e;\"/>\n   </g>\n   <g id=\"patch_65\">\n    <path clip-path=\"url(#p5d052bf822)\" d=\"M 141.59358 239.758125 \nL 147.680852 239.758125 \nL 147.680852 239.758125 \nL 141.59358 239.758125 \nz\n\" style=\"fill:#ff7f0e;\"/>\n   </g>\n   <g id=\"patch_66\">\n    <path clip-path=\"url(#p5d052bf822)\" d=\"M 147.680852 239.758125 \nL 153.768125 239.758125 \nL 153.768125 239.758125 \nL 147.680852 239.758125 \nz\n\" style=\"fill:#ff7f0e;\"/>\n   </g>\n   <g id=\"patch_67\">\n    <path clip-path=\"url(#p5d052bf822)\" d=\"M 153.768125 239.758125 \nL 159.855398 239.758125 \nL 159.855398 239.758125 \nL 153.768125 239.758125 \nz\n\" style=\"fill:#ff7f0e;\"/>\n   </g>\n   <g id=\"patch_68\">\n    <path clip-path=\"url(#p5d052bf822)\" d=\"M 159.855398 239.758125 \nL 165.94267 239.758125 \nL 165.94267 239.758125 \nL 159.855398 239.758125 \nz\n\" style=\"fill:#ff7f0e;\"/>\n   </g>\n   <g id=\"patch_69\">\n    <path clip-path=\"url(#p5d052bf822)\" d=\"M 165.94267 239.758125 \nL 172.029943 239.758125 \nL 172.029943 239.758125 \nL 165.94267 239.758125 \nz\n\" style=\"fill:#ff7f0e;\"/>\n   </g>\n   <g id=\"patch_70\">\n    <path clip-path=\"url(#p5d052bf822)\" d=\"M 172.029943 239.758125 \nL 178.117216 239.758125 \nL 178.117216 239.758125 \nL 172.029943 239.758125 \nz\n\" style=\"fill:#ff7f0e;\"/>\n   </g>\n   <g id=\"patch_71\">\n    <path clip-path=\"url(#p5d052bf822)\" d=\"M 178.117216 239.758125 \nL 184.204489 239.758125 \nL 184.204489 239.758125 \nL 178.117216 239.758125 \nz\n\" style=\"fill:#ff7f0e;\"/>\n   </g>\n   <g id=\"patch_72\">\n    <path clip-path=\"url(#p5d052bf822)\" d=\"M 184.204489 239.758125 \nL 190.291761 239.758125 \nL 190.291761 239.758125 \nL 184.204489 239.758125 \nz\n\" style=\"fill:#ff7f0e;\"/>\n   </g>\n   <g id=\"patch_73\">\n    <path clip-path=\"url(#p5d052bf822)\" d=\"M 190.291761 239.758125 \nL 196.379034 239.758125 \nL 196.379034 239.758125 \nL 190.291761 239.758125 \nz\n\" style=\"fill:#ff7f0e;\"/>\n   </g>\n   <g id=\"patch_74\">\n    <path clip-path=\"url(#p5d052bf822)\" d=\"M 196.379034 239.758125 \nL 202.466307 239.758125 \nL 202.466307 239.758125 \nL 196.379034 239.758125 \nz\n\" style=\"fill:#ff7f0e;\"/>\n   </g>\n   <g id=\"patch_75\">\n    <path clip-path=\"url(#p5d052bf822)\" d=\"M 202.466307 239.758125 \nL 208.55358 239.758125 \nL 208.55358 239.758125 \nL 202.466307 239.758125 \nz\n\" style=\"fill:#ff7f0e;\"/>\n   </g>\n   <g id=\"patch_76\">\n    <path clip-path=\"url(#p5d052bf822)\" d=\"M 208.55358 239.758125 \nL 214.640852 239.758125 \nL 214.640852 239.758125 \nL 208.55358 239.758125 \nz\n\" style=\"fill:#ff7f0e;\"/>\n   </g>\n   <g id=\"patch_77\">\n    <path clip-path=\"url(#p5d052bf822)\" d=\"M 214.640852 239.758125 \nL 220.728125 239.758125 \nL 220.728125 239.758125 \nL 214.640852 239.758125 \nz\n\" style=\"fill:#ff7f0e;\"/>\n   </g>\n   <g id=\"patch_78\">\n    <path clip-path=\"url(#p5d052bf822)\" d=\"M 220.728125 239.758125 \nL 226.815398 239.758125 \nL 226.815398 239.758125 \nL 220.728125 239.758125 \nz\n\" style=\"fill:#ff7f0e;\"/>\n   </g>\n   <g id=\"patch_79\">\n    <path clip-path=\"url(#p5d052bf822)\" d=\"M 226.815398 239.758125 \nL 232.90267 239.758125 \nL 232.90267 239.758125 \nL 226.815398 239.758125 \nz\n\" style=\"fill:#ff7f0e;\"/>\n   </g>\n   <g id=\"patch_80\">\n    <path clip-path=\"url(#p5d052bf822)\" d=\"M 232.90267 239.758125 \nL 238.989943 239.758125 \nL 238.989943 239.758125 \nL 232.90267 239.758125 \nz\n\" style=\"fill:#ff7f0e;\"/>\n   </g>\n   <g id=\"patch_81\">\n    <path clip-path=\"url(#p5d052bf822)\" d=\"M 238.989943 239.758125 \nL 245.077216 239.758125 \nL 245.077216 239.758125 \nL 238.989943 239.758125 \nz\n\" style=\"fill:#ff7f0e;\"/>\n   </g>\n   <g id=\"patch_82\">\n    <path clip-path=\"url(#p5d052bf822)\" d=\"M 245.077216 239.758125 \nL 251.164489 239.758125 \nL 251.164489 239.758125 \nL 245.077216 239.758125 \nz\n\" style=\"fill:#ff7f0e;\"/>\n   </g>\n   <g id=\"patch_83\">\n    <path clip-path=\"url(#p5d052bf822)\" d=\"M 251.164489 239.758125 \nL 257.251761 239.758125 \nL 257.251761 239.758125 \nL 251.164489 239.758125 \nz\n\" style=\"fill:#ff7f0e;\"/>\n   </g>\n   <g id=\"patch_84\">\n    <path clip-path=\"url(#p5d052bf822)\" d=\"M 257.251761 239.758125 \nL 263.339034 239.758125 \nL 263.339034 239.758125 \nL 257.251761 239.758125 \nz\n\" style=\"fill:#ff7f0e;\"/>\n   </g>\n   <g id=\"patch_85\">\n    <path clip-path=\"url(#p5d052bf822)\" d=\"M 263.339034 239.758125 \nL 269.426307 239.758125 \nL 269.426307 239.758125 \nL 263.339034 239.758125 \nz\n\" style=\"fill:#ff7f0e;\"/>\n   </g>\n   <g id=\"patch_86\">\n    <path clip-path=\"url(#p5d052bf822)\" d=\"M 269.426307 239.758125 \nL 275.51358 239.758125 \nL 275.51358 239.758125 \nL 269.426307 239.758125 \nz\n\" style=\"fill:#ff7f0e;\"/>\n   </g>\n   <g id=\"patch_87\">\n    <path clip-path=\"url(#p5d052bf822)\" d=\"M 275.51358 239.758125 \nL 281.600852 239.758125 \nL 281.600852 239.758125 \nL 275.51358 239.758125 \nz\n\" style=\"fill:#ff7f0e;\"/>\n   </g>\n   <g id=\"patch_88\">\n    <path clip-path=\"url(#p5d052bf822)\" d=\"M 281.600852 239.758125 \nL 287.688125 239.758125 \nL 287.688125 239.758125 \nL 281.600852 239.758125 \nz\n\" style=\"fill:#ff7f0e;\"/>\n   </g>\n   <g id=\"patch_89\">\n    <path clip-path=\"url(#p5d052bf822)\" d=\"M 287.688125 239.758125 \nL 293.775398 239.758125 \nL 293.775398 239.758125 \nL 287.688125 239.758125 \nz\n\" style=\"fill:#ff7f0e;\"/>\n   </g>\n   <g id=\"patch_90\">\n    <path clip-path=\"url(#p5d052bf822)\" d=\"M 293.775398 239.758125 \nL 299.86267 239.758125 \nL 299.86267 239.758125 \nL 293.775398 239.758125 \nz\n\" style=\"fill:#ff7f0e;\"/>\n   </g>\n   <g id=\"patch_91\">\n    <path clip-path=\"url(#p5d052bf822)\" d=\"M 299.86267 239.758125 \nL 305.949943 239.758125 \nL 305.949943 239.758125 \nL 299.86267 239.758125 \nz\n\" style=\"fill:#ff7f0e;\"/>\n   </g>\n   <g id=\"patch_92\">\n    <path clip-path=\"url(#p5d052bf822)\" d=\"M 305.949943 239.758125 \nL 312.037216 239.758125 \nL 312.037216 239.758125 \nL 305.949943 239.758125 \nz\n\" style=\"fill:#ff7f0e;\"/>\n   </g>\n   <g id=\"patch_93\">\n    <path clip-path=\"url(#p5d052bf822)\" d=\"M 312.037216 239.758125 \nL 318.124489 239.758125 \nL 318.124489 239.758125 \nL 312.037216 239.758125 \nz\n\" style=\"fill:#ff7f0e;\"/>\n   </g>\n   <g id=\"patch_94\">\n    <path clip-path=\"url(#p5d052bf822)\" d=\"M 318.124489 239.758125 \nL 324.211761 239.758125 \nL 324.211761 239.758125 \nL 318.124489 239.758125 \nz\n\" style=\"fill:#ff7f0e;\"/>\n   </g>\n   <g id=\"patch_95\">\n    <path clip-path=\"url(#p5d052bf822)\" d=\"M 324.211761 239.758125 \nL 330.299034 239.758125 \nL 330.299034 239.758125 \nL 324.211761 239.758125 \nz\n\" style=\"fill:#ff7f0e;\"/>\n   </g>\n   <g id=\"patch_96\">\n    <path clip-path=\"url(#p5d052bf822)\" d=\"M 330.299034 239.758125 \nL 336.386307 239.758125 \nL 336.386307 239.758125 \nL 330.299034 239.758125 \nz\n\" style=\"fill:#ff7f0e;\"/>\n   </g>\n   <g id=\"patch_97\">\n    <path clip-path=\"url(#p5d052bf822)\" d=\"M 336.386307 239.758125 \nL 342.47358 239.758125 \nL 342.47358 239.758125 \nL 336.386307 239.758125 \nz\n\" style=\"fill:#ff7f0e;\"/>\n   </g>\n   <g id=\"patch_98\">\n    <path clip-path=\"url(#p5d052bf822)\" d=\"M 342.47358 239.758125 \nL 348.560852 239.758125 \nL 348.560852 239.758125 \nL 342.47358 239.758125 \nz\n\" style=\"fill:#ff7f0e;\"/>\n   </g>\n   <g id=\"patch_99\">\n    <path clip-path=\"url(#p5d052bf822)\" d=\"M 348.560852 239.758125 \nL 354.648125 239.758125 \nL 354.648125 239.758125 \nL 348.560852 239.758125 \nz\n\" style=\"fill:#ff7f0e;\"/>\n   </g>\n   <g id=\"patch_100\">\n    <path clip-path=\"url(#p5d052bf822)\" d=\"M 354.648125 239.758125 \nL 360.735398 239.758125 \nL 360.735398 239.758125 \nL 354.648125 239.758125 \nz\n\" style=\"fill:#ff7f0e;\"/>\n   </g>\n   <g id=\"patch_101\">\n    <path clip-path=\"url(#p5d052bf822)\" d=\"M 360.735398 239.758125 \nL 366.82267 239.758125 \nL 366.82267 239.758125 \nL 360.735398 239.758125 \nz\n\" style=\"fill:#ff7f0e;\"/>\n   </g>\n   <g id=\"patch_102\">\n    <path clip-path=\"url(#p5d052bf822)\" d=\"M 366.82267 239.758125 \nL 372.909943 239.758125 \nL 372.909943 239.685667 \nL 366.82267 239.685667 \nz\n\" style=\"fill:#ff7f0e;\"/>\n   </g>\n   <g id=\"matplotlib.axis_1\">\n    <g id=\"xtick_1\">\n     <g id=\"line2d_1\">\n      <defs>\n       <path d=\"M 0 0 \nL 0 3.5 \n\" id=\"mfba71c1dbb\" style=\"stroke:#000000;stroke-width:0.8;\"/>\n      </defs>\n      <g>\n       <use style=\"stroke:#000000;stroke-width:0.8;\" x=\"68.546307\" xlink:href=\"#mfba71c1dbb\" y=\"239.758125\"/>\n      </g>\n     </g>\n     <g id=\"text_1\">\n      <!-- 0 -->\n      <g transform=\"translate(65.365057 254.356562)scale(0.1 -0.1)\">\n       <defs>\n        <path d=\"M 2034 4250 \nQ 1547 4250 1301 3770 \nQ 1056 3291 1056 2328 \nQ 1056 1369 1301 889 \nQ 1547 409 2034 409 \nQ 2525 409 2770 889 \nQ 3016 1369 3016 2328 \nQ 3016 3291 2770 3770 \nQ 2525 4250 2034 4250 \nz\nM 2034 4750 \nQ 2819 4750 3233 4129 \nQ 3647 3509 3647 2328 \nQ 3647 1150 3233 529 \nQ 2819 -91 2034 -91 \nQ 1250 -91 836 529 \nQ 422 1150 422 2328 \nQ 422 3509 836 4129 \nQ 1250 4750 2034 4750 \nz\n\" id=\"DejaVuSans-30\" transform=\"scale(0.015625)\"/>\n       </defs>\n       <use xlink:href=\"#DejaVuSans-30\"/>\n      </g>\n     </g>\n    </g>\n    <g id=\"xtick_2\">\n     <g id=\"line2d_2\">\n      <g>\n       <use style=\"stroke:#000000;stroke-width:0.8;\" x=\"131.067339\" xlink:href=\"#mfba71c1dbb\" y=\"239.758125\"/>\n      </g>\n     </g>\n     <g id=\"text_2\">\n      <!-- 20 -->\n      <g transform=\"translate(124.704839 254.356562)scale(0.1 -0.1)\">\n       <defs>\n        <path d=\"M 1228 531 \nL 3431 531 \nL 3431 0 \nL 469 0 \nL 469 531 \nQ 828 903 1448 1529 \nQ 2069 2156 2228 2338 \nQ 2531 2678 2651 2914 \nQ 2772 3150 2772 3378 \nQ 2772 3750 2511 3984 \nQ 2250 4219 1831 4219 \nQ 1534 4219 1204 4116 \nQ 875 4013 500 3803 \nL 500 4441 \nQ 881 4594 1212 4672 \nQ 1544 4750 1819 4750 \nQ 2544 4750 2975 4387 \nQ 3406 4025 3406 3419 \nQ 3406 3131 3298 2873 \nQ 3191 2616 2906 2266 \nQ 2828 2175 2409 1742 \nQ 1991 1309 1228 531 \nz\n\" id=\"DejaVuSans-32\" transform=\"scale(0.015625)\"/>\n       </defs>\n       <use xlink:href=\"#DejaVuSans-32\"/>\n       <use x=\"63.623047\" xlink:href=\"#DejaVuSans-30\"/>\n      </g>\n     </g>\n    </g>\n    <g id=\"xtick_3\">\n     <g id=\"line2d_3\">\n      <g>\n       <use style=\"stroke:#000000;stroke-width:0.8;\" x=\"193.58837\" xlink:href=\"#mfba71c1dbb\" y=\"239.758125\"/>\n      </g>\n     </g>\n     <g id=\"text_3\">\n      <!-- 40 -->\n      <g transform=\"translate(187.22587 254.356562)scale(0.1 -0.1)\">\n       <defs>\n        <path d=\"M 2419 4116 \nL 825 1625 \nL 2419 1625 \nL 2419 4116 \nz\nM 2253 4666 \nL 3047 4666 \nL 3047 1625 \nL 3713 1625 \nL 3713 1100 \nL 3047 1100 \nL 3047 0 \nL 2419 0 \nL 2419 1100 \nL 313 1100 \nL 313 1709 \nL 2253 4666 \nz\n\" id=\"DejaVuSans-34\" transform=\"scale(0.015625)\"/>\n       </defs>\n       <use xlink:href=\"#DejaVuSans-34\"/>\n       <use x=\"63.623047\" xlink:href=\"#DejaVuSans-30\"/>\n      </g>\n     </g>\n    </g>\n    <g id=\"xtick_4\">\n     <g id=\"line2d_4\">\n      <g>\n       <use style=\"stroke:#000000;stroke-width:0.8;\" x=\"256.109402\" xlink:href=\"#mfba71c1dbb\" y=\"239.758125\"/>\n      </g>\n     </g>\n     <g id=\"text_4\">\n      <!-- 60 -->\n      <g transform=\"translate(249.746902 254.356562)scale(0.1 -0.1)\">\n       <defs>\n        <path d=\"M 2113 2584 \nQ 1688 2584 1439 2293 \nQ 1191 2003 1191 1497 \nQ 1191 994 1439 701 \nQ 1688 409 2113 409 \nQ 2538 409 2786 701 \nQ 3034 994 3034 1497 \nQ 3034 2003 2786 2293 \nQ 2538 2584 2113 2584 \nz\nM 3366 4563 \nL 3366 3988 \nQ 3128 4100 2886 4159 \nQ 2644 4219 2406 4219 \nQ 1781 4219 1451 3797 \nQ 1122 3375 1075 2522 \nQ 1259 2794 1537 2939 \nQ 1816 3084 2150 3084 \nQ 2853 3084 3261 2657 \nQ 3669 2231 3669 1497 \nQ 3669 778 3244 343 \nQ 2819 -91 2113 -91 \nQ 1303 -91 875 529 \nQ 447 1150 447 2328 \nQ 447 3434 972 4092 \nQ 1497 4750 2381 4750 \nQ 2619 4750 2861 4703 \nQ 3103 4656 3366 4563 \nz\n\" id=\"DejaVuSans-36\" transform=\"scale(0.015625)\"/>\n       </defs>\n       <use xlink:href=\"#DejaVuSans-36\"/>\n       <use x=\"63.623047\" xlink:href=\"#DejaVuSans-30\"/>\n      </g>\n     </g>\n    </g>\n    <g id=\"xtick_5\">\n     <g id=\"line2d_5\">\n      <g>\n       <use style=\"stroke:#000000;stroke-width:0.8;\" x=\"318.630434\" xlink:href=\"#mfba71c1dbb\" y=\"239.758125\"/>\n      </g>\n     </g>\n     <g id=\"text_5\">\n      <!-- 80 -->\n      <g transform=\"translate(312.267934 254.356562)scale(0.1 -0.1)\">\n       <defs>\n        <path d=\"M 2034 2216 \nQ 1584 2216 1326 1975 \nQ 1069 1734 1069 1313 \nQ 1069 891 1326 650 \nQ 1584 409 2034 409 \nQ 2484 409 2743 651 \nQ 3003 894 3003 1313 \nQ 3003 1734 2745 1975 \nQ 2488 2216 2034 2216 \nz\nM 1403 2484 \nQ 997 2584 770 2862 \nQ 544 3141 544 3541 \nQ 544 4100 942 4425 \nQ 1341 4750 2034 4750 \nQ 2731 4750 3128 4425 \nQ 3525 4100 3525 3541 \nQ 3525 3141 3298 2862 \nQ 3072 2584 2669 2484 \nQ 3125 2378 3379 2068 \nQ 3634 1759 3634 1313 \nQ 3634 634 3220 271 \nQ 2806 -91 2034 -91 \nQ 1263 -91 848 271 \nQ 434 634 434 1313 \nQ 434 1759 690 2068 \nQ 947 2378 1403 2484 \nz\nM 1172 3481 \nQ 1172 3119 1398 2916 \nQ 1625 2713 2034 2713 \nQ 2441 2713 2670 2916 \nQ 2900 3119 2900 3481 \nQ 2900 3844 2670 4047 \nQ 2441 4250 2034 4250 \nQ 1625 4250 1398 4047 \nQ 1172 3844 1172 3481 \nz\n\" id=\"DejaVuSans-38\" transform=\"scale(0.015625)\"/>\n       </defs>\n       <use xlink:href=\"#DejaVuSans-38\"/>\n       <use x=\"63.623047\" xlink:href=\"#DejaVuSans-30\"/>\n      </g>\n     </g>\n    </g>\n    <g id=\"xtick_6\">\n     <g id=\"line2d_6\">\n      <g>\n       <use style=\"stroke:#000000;stroke-width:0.8;\" x=\"381.151466\" xlink:href=\"#mfba71c1dbb\" y=\"239.758125\"/>\n      </g>\n     </g>\n     <g id=\"text_6\">\n      <!-- 100 -->\n      <g transform=\"translate(371.607716 254.356562)scale(0.1 -0.1)\">\n       <defs>\n        <path d=\"M 794 531 \nL 1825 531 \nL 1825 4091 \nL 703 3866 \nL 703 4441 \nL 1819 4666 \nL 2450 4666 \nL 2450 531 \nL 3481 531 \nL 3481 0 \nL 794 0 \nL 794 531 \nz\n\" id=\"DejaVuSans-31\" transform=\"scale(0.015625)\"/>\n       </defs>\n       <use xlink:href=\"#DejaVuSans-31\"/>\n       <use x=\"63.623047\" xlink:href=\"#DejaVuSans-30\"/>\n       <use x=\"127.246094\" xlink:href=\"#DejaVuSans-30\"/>\n      </g>\n     </g>\n    </g>\n    <g id=\"text_7\">\n     <!-- coordinates -->\n     <g transform=\"translate(191.454688 268.034687)scale(0.1 -0.1)\">\n      <defs>\n       <path d=\"M 3122 3366 \nL 3122 2828 \nQ 2878 2963 2633 3030 \nQ 2388 3097 2138 3097 \nQ 1578 3097 1268 2742 \nQ 959 2388 959 1747 \nQ 959 1106 1268 751 \nQ 1578 397 2138 397 \nQ 2388 397 2633 464 \nQ 2878 531 3122 666 \nL 3122 134 \nQ 2881 22 2623 -34 \nQ 2366 -91 2075 -91 \nQ 1284 -91 818 406 \nQ 353 903 353 1747 \nQ 353 2603 823 3093 \nQ 1294 3584 2113 3584 \nQ 2378 3584 2631 3529 \nQ 2884 3475 3122 3366 \nz\n\" id=\"DejaVuSans-63\" transform=\"scale(0.015625)\"/>\n       <path d=\"M 1959 3097 \nQ 1497 3097 1228 2736 \nQ 959 2375 959 1747 \nQ 959 1119 1226 758 \nQ 1494 397 1959 397 \nQ 2419 397 2687 759 \nQ 2956 1122 2956 1747 \nQ 2956 2369 2687 2733 \nQ 2419 3097 1959 3097 \nz\nM 1959 3584 \nQ 2709 3584 3137 3096 \nQ 3566 2609 3566 1747 \nQ 3566 888 3137 398 \nQ 2709 -91 1959 -91 \nQ 1206 -91 779 398 \nQ 353 888 353 1747 \nQ 353 2609 779 3096 \nQ 1206 3584 1959 3584 \nz\n\" id=\"DejaVuSans-6f\" transform=\"scale(0.015625)\"/>\n       <path d=\"M 2631 2963 \nQ 2534 3019 2420 3045 \nQ 2306 3072 2169 3072 \nQ 1681 3072 1420 2755 \nQ 1159 2438 1159 1844 \nL 1159 0 \nL 581 0 \nL 581 3500 \nL 1159 3500 \nL 1159 2956 \nQ 1341 3275 1631 3429 \nQ 1922 3584 2338 3584 \nQ 2397 3584 2469 3576 \nQ 2541 3569 2628 3553 \nL 2631 2963 \nz\n\" id=\"DejaVuSans-72\" transform=\"scale(0.015625)\"/>\n       <path d=\"M 2906 2969 \nL 2906 4863 \nL 3481 4863 \nL 3481 0 \nL 2906 0 \nL 2906 525 \nQ 2725 213 2448 61 \nQ 2172 -91 1784 -91 \nQ 1150 -91 751 415 \nQ 353 922 353 1747 \nQ 353 2572 751 3078 \nQ 1150 3584 1784 3584 \nQ 2172 3584 2448 3432 \nQ 2725 3281 2906 2969 \nz\nM 947 1747 \nQ 947 1113 1208 752 \nQ 1469 391 1925 391 \nQ 2381 391 2643 752 \nQ 2906 1113 2906 1747 \nQ 2906 2381 2643 2742 \nQ 2381 3103 1925 3103 \nQ 1469 3103 1208 2742 \nQ 947 2381 947 1747 \nz\n\" id=\"DejaVuSans-64\" transform=\"scale(0.015625)\"/>\n       <path d=\"M 603 3500 \nL 1178 3500 \nL 1178 0 \nL 603 0 \nL 603 3500 \nz\nM 603 4863 \nL 1178 4863 \nL 1178 4134 \nL 603 4134 \nL 603 4863 \nz\n\" id=\"DejaVuSans-69\" transform=\"scale(0.015625)\"/>\n       <path d=\"M 3513 2113 \nL 3513 0 \nL 2938 0 \nL 2938 2094 \nQ 2938 2591 2744 2837 \nQ 2550 3084 2163 3084 \nQ 1697 3084 1428 2787 \nQ 1159 2491 1159 1978 \nL 1159 0 \nL 581 0 \nL 581 3500 \nL 1159 3500 \nL 1159 2956 \nQ 1366 3272 1645 3428 \nQ 1925 3584 2291 3584 \nQ 2894 3584 3203 3211 \nQ 3513 2838 3513 2113 \nz\n\" id=\"DejaVuSans-6e\" transform=\"scale(0.015625)\"/>\n       <path d=\"M 2194 1759 \nQ 1497 1759 1228 1600 \nQ 959 1441 959 1056 \nQ 959 750 1161 570 \nQ 1363 391 1709 391 \nQ 2188 391 2477 730 \nQ 2766 1069 2766 1631 \nL 2766 1759 \nL 2194 1759 \nz\nM 3341 1997 \nL 3341 0 \nL 2766 0 \nL 2766 531 \nQ 2569 213 2275 61 \nQ 1981 -91 1556 -91 \nQ 1019 -91 701 211 \nQ 384 513 384 1019 \nQ 384 1609 779 1909 \nQ 1175 2209 1959 2209 \nL 2766 2209 \nL 2766 2266 \nQ 2766 2663 2505 2880 \nQ 2244 3097 1772 3097 \nQ 1472 3097 1187 3025 \nQ 903 2953 641 2809 \nL 641 3341 \nQ 956 3463 1253 3523 \nQ 1550 3584 1831 3584 \nQ 2591 3584 2966 3190 \nQ 3341 2797 3341 1997 \nz\n\" id=\"DejaVuSans-61\" transform=\"scale(0.015625)\"/>\n       <path d=\"M 1172 4494 \nL 1172 3500 \nL 2356 3500 \nL 2356 3053 \nL 1172 3053 \nL 1172 1153 \nQ 1172 725 1289 603 \nQ 1406 481 1766 481 \nL 2356 481 \nL 2356 0 \nL 1766 0 \nQ 1100 0 847 248 \nQ 594 497 594 1153 \nL 594 3053 \nL 172 3053 \nL 172 3500 \nL 594 3500 \nL 594 4494 \nL 1172 4494 \nz\n\" id=\"DejaVuSans-74\" transform=\"scale(0.015625)\"/>\n       <path d=\"M 3597 1894 \nL 3597 1613 \nL 953 1613 \nQ 991 1019 1311 708 \nQ 1631 397 2203 397 \nQ 2534 397 2845 478 \nQ 3156 559 3463 722 \nL 3463 178 \nQ 3153 47 2828 -22 \nQ 2503 -91 2169 -91 \nQ 1331 -91 842 396 \nQ 353 884 353 1716 \nQ 353 2575 817 3079 \nQ 1281 3584 2069 3584 \nQ 2775 3584 3186 3129 \nQ 3597 2675 3597 1894 \nz\nM 3022 2063 \nQ 3016 2534 2758 2815 \nQ 2500 3097 2075 3097 \nQ 1594 3097 1305 2825 \nQ 1016 2553 972 2059 \nL 3022 2063 \nz\n\" id=\"DejaVuSans-65\" transform=\"scale(0.015625)\"/>\n       <path d=\"M 2834 3397 \nL 2834 2853 \nQ 2591 2978 2328 3040 \nQ 2066 3103 1784 3103 \nQ 1356 3103 1142 2972 \nQ 928 2841 928 2578 \nQ 928 2378 1081 2264 \nQ 1234 2150 1697 2047 \nL 1894 2003 \nQ 2506 1872 2764 1633 \nQ 3022 1394 3022 966 \nQ 3022 478 2636 193 \nQ 2250 -91 1575 -91 \nQ 1294 -91 989 -36 \nQ 684 19 347 128 \nL 347 722 \nQ 666 556 975 473 \nQ 1284 391 1588 391 \nQ 1994 391 2212 530 \nQ 2431 669 2431 922 \nQ 2431 1156 2273 1281 \nQ 2116 1406 1581 1522 \nL 1381 1569 \nQ 847 1681 609 1914 \nQ 372 2147 372 2553 \nQ 372 3047 722 3315 \nQ 1072 3584 1716 3584 \nQ 2034 3584 2315 3537 \nQ 2597 3491 2834 3397 \nz\n\" id=\"DejaVuSans-73\" transform=\"scale(0.015625)\"/>\n      </defs>\n      <use xlink:href=\"#DejaVuSans-63\"/>\n      <use x=\"54.980469\" xlink:href=\"#DejaVuSans-6f\"/>\n      <use x=\"116.162109\" xlink:href=\"#DejaVuSans-6f\"/>\n      <use x=\"177.34375\" xlink:href=\"#DejaVuSans-72\"/>\n      <use x=\"216.707031\" xlink:href=\"#DejaVuSans-64\"/>\n      <use x=\"280.183594\" xlink:href=\"#DejaVuSans-69\"/>\n      <use x=\"307.966797\" xlink:href=\"#DejaVuSans-6e\"/>\n      <use x=\"371.345703\" xlink:href=\"#DejaVuSans-61\"/>\n      <use x=\"432.625\" xlink:href=\"#DejaVuSans-74\"/>\n      <use x=\"471.833984\" xlink:href=\"#DejaVuSans-65\"/>\n      <use x=\"533.357422\" xlink:href=\"#DejaVuSans-73\"/>\n     </g>\n    </g>\n   </g>\n   <g id=\"matplotlib.axis_2\">\n    <g id=\"ytick_1\">\n     <g id=\"line2d_7\">\n      <defs>\n       <path d=\"M 0 0 \nL -3.5 0 \n\" id=\"mc75c4b3a71\" style=\"stroke:#000000;stroke-width:0.8;\"/>\n      </defs>\n      <g>\n       <use style=\"stroke:#000000;stroke-width:0.8;\" x=\"53.328125\" xlink:href=\"#mc75c4b3a71\" y=\"239.758125\"/>\n      </g>\n     </g>\n     <g id=\"text_8\">\n      <!-- 0 -->\n      <g transform=\"translate(39.965625 243.557344)scale(0.1 -0.1)\">\n       <use xlink:href=\"#DejaVuSans-30\"/>\n      </g>\n     </g>\n    </g>\n    <g id=\"ytick_2\">\n     <g id=\"line2d_8\">\n      <g>\n       <use style=\"stroke:#000000;stroke-width:0.8;\" x=\"53.328125\" xlink:href=\"#mc75c4b3a71\" y=\"203.528994\"/>\n      </g>\n     </g>\n     <g id=\"text_9\">\n      <!-- 1000 -->\n      <g transform=\"translate(20.878125 207.328212)scale(0.1 -0.1)\">\n       <use xlink:href=\"#DejaVuSans-31\"/>\n       <use x=\"63.623047\" xlink:href=\"#DejaVuSans-30\"/>\n       <use x=\"127.246094\" xlink:href=\"#DejaVuSans-30\"/>\n       <use x=\"190.869141\" xlink:href=\"#DejaVuSans-30\"/>\n      </g>\n     </g>\n    </g>\n    <g id=\"ytick_3\">\n     <g id=\"line2d_9\">\n      <g>\n       <use style=\"stroke:#000000;stroke-width:0.8;\" x=\"53.328125\" xlink:href=\"#mc75c4b3a71\" y=\"167.299862\"/>\n      </g>\n     </g>\n     <g id=\"text_10\">\n      <!-- 2000 -->\n      <g transform=\"translate(20.878125 171.099081)scale(0.1 -0.1)\">\n       <use xlink:href=\"#DejaVuSans-32\"/>\n       <use x=\"63.623047\" xlink:href=\"#DejaVuSans-30\"/>\n       <use x=\"127.246094\" xlink:href=\"#DejaVuSans-30\"/>\n       <use x=\"190.869141\" xlink:href=\"#DejaVuSans-30\"/>\n      </g>\n     </g>\n    </g>\n    <g id=\"ytick_4\">\n     <g id=\"line2d_10\">\n      <g>\n       <use style=\"stroke:#000000;stroke-width:0.8;\" x=\"53.328125\" xlink:href=\"#mc75c4b3a71\" y=\"131.070731\"/>\n      </g>\n     </g>\n     <g id=\"text_11\">\n      <!-- 3000 -->\n      <g transform=\"translate(20.878125 134.86995)scale(0.1 -0.1)\">\n       <defs>\n        <path d=\"M 2597 2516 \nQ 3050 2419 3304 2112 \nQ 3559 1806 3559 1356 \nQ 3559 666 3084 287 \nQ 2609 -91 1734 -91 \nQ 1441 -91 1130 -33 \nQ 819 25 488 141 \nL 488 750 \nQ 750 597 1062 519 \nQ 1375 441 1716 441 \nQ 2309 441 2620 675 \nQ 2931 909 2931 1356 \nQ 2931 1769 2642 2001 \nQ 2353 2234 1838 2234 \nL 1294 2234 \nL 1294 2753 \nL 1863 2753 \nQ 2328 2753 2575 2939 \nQ 2822 3125 2822 3475 \nQ 2822 3834 2567 4026 \nQ 2313 4219 1838 4219 \nQ 1578 4219 1281 4162 \nQ 984 4106 628 3988 \nL 628 4550 \nQ 988 4650 1302 4700 \nQ 1616 4750 1894 4750 \nQ 2613 4750 3031 4423 \nQ 3450 4097 3450 3541 \nQ 3450 3153 3228 2886 \nQ 3006 2619 2597 2516 \nz\n\" id=\"DejaVuSans-33\" transform=\"scale(0.015625)\"/>\n       </defs>\n       <use xlink:href=\"#DejaVuSans-33\"/>\n       <use x=\"63.623047\" xlink:href=\"#DejaVuSans-30\"/>\n       <use x=\"127.246094\" xlink:href=\"#DejaVuSans-30\"/>\n       <use x=\"190.869141\" xlink:href=\"#DejaVuSans-30\"/>\n      </g>\n     </g>\n    </g>\n    <g id=\"ytick_5\">\n     <g id=\"line2d_11\">\n      <g>\n       <use style=\"stroke:#000000;stroke-width:0.8;\" x=\"53.328125\" xlink:href=\"#mc75c4b3a71\" y=\"94.8416\"/>\n      </g>\n     </g>\n     <g id=\"text_12\">\n      <!-- 4000 -->\n      <g transform=\"translate(20.878125 98.640819)scale(0.1 -0.1)\">\n       <use xlink:href=\"#DejaVuSans-34\"/>\n       <use x=\"63.623047\" xlink:href=\"#DejaVuSans-30\"/>\n       <use x=\"127.246094\" xlink:href=\"#DejaVuSans-30\"/>\n       <use x=\"190.869141\" xlink:href=\"#DejaVuSans-30\"/>\n      </g>\n     </g>\n    </g>\n    <g id=\"ytick_6\">\n     <g id=\"line2d_12\">\n      <g>\n       <use style=\"stroke:#000000;stroke-width:0.8;\" x=\"53.328125\" xlink:href=\"#mc75c4b3a71\" y=\"58.612469\"/>\n      </g>\n     </g>\n     <g id=\"text_13\">\n      <!-- 5000 -->\n      <g transform=\"translate(20.878125 62.411687)scale(0.1 -0.1)\">\n       <defs>\n        <path d=\"M 691 4666 \nL 3169 4666 \nL 3169 4134 \nL 1269 4134 \nL 1269 2991 \nQ 1406 3038 1543 3061 \nQ 1681 3084 1819 3084 \nQ 2600 3084 3056 2656 \nQ 3513 2228 3513 1497 \nQ 3513 744 3044 326 \nQ 2575 -91 1722 -91 \nQ 1428 -91 1123 -41 \nQ 819 9 494 109 \nL 494 744 \nQ 775 591 1075 516 \nQ 1375 441 1709 441 \nQ 2250 441 2565 725 \nQ 2881 1009 2881 1497 \nQ 2881 1984 2565 2268 \nQ 2250 2553 1709 2553 \nQ 1456 2553 1204 2497 \nQ 953 2441 691 2322 \nL 691 4666 \nz\n\" id=\"DejaVuSans-35\" transform=\"scale(0.015625)\"/>\n       </defs>\n       <use xlink:href=\"#DejaVuSans-35\"/>\n       <use x=\"63.623047\" xlink:href=\"#DejaVuSans-30\"/>\n       <use x=\"127.246094\" xlink:href=\"#DejaVuSans-30\"/>\n       <use x=\"190.869141\" xlink:href=\"#DejaVuSans-30\"/>\n      </g>\n     </g>\n    </g>\n    <g id=\"ytick_7\">\n     <g id=\"line2d_13\">\n      <g>\n       <use style=\"stroke:#000000;stroke-width:0.8;\" x=\"53.328125\" xlink:href=\"#mc75c4b3a71\" y=\"22.383337\"/>\n      </g>\n     </g>\n     <g id=\"text_14\">\n      <!-- 6000 -->\n      <g transform=\"translate(20.878125 26.182556)scale(0.1 -0.1)\">\n       <use xlink:href=\"#DejaVuSans-36\"/>\n       <use x=\"63.623047\" xlink:href=\"#DejaVuSans-30\"/>\n       <use x=\"127.246094\" xlink:href=\"#DejaVuSans-30\"/>\n       <use x=\"190.869141\" xlink:href=\"#DejaVuSans-30\"/>\n      </g>\n     </g>\n    </g>\n    <g id=\"text_15\">\n     <!-- count -->\n     <g transform=\"translate(14.798438 145.144375)rotate(-90)scale(0.1 -0.1)\">\n      <defs>\n       <path d=\"M 544 1381 \nL 544 3500 \nL 1119 3500 \nL 1119 1403 \nQ 1119 906 1312 657 \nQ 1506 409 1894 409 \nQ 2359 409 2629 706 \nQ 2900 1003 2900 1516 \nL 2900 3500 \nL 3475 3500 \nL 3475 0 \nL 2900 0 \nL 2900 538 \nQ 2691 219 2414 64 \nQ 2138 -91 1772 -91 \nQ 1169 -91 856 284 \nQ 544 659 544 1381 \nz\nM 1991 3584 \nL 1991 3584 \nz\n\" id=\"DejaVuSans-75\" transform=\"scale(0.015625)\"/>\n      </defs>\n      <use xlink:href=\"#DejaVuSans-63\"/>\n      <use x=\"54.980469\" xlink:href=\"#DejaVuSans-6f\"/>\n      <use x=\"116.162109\" xlink:href=\"#DejaVuSans-75\"/>\n      <use x=\"179.541016\" xlink:href=\"#DejaVuSans-6e\"/>\n      <use x=\"242.919922\" xlink:href=\"#DejaVuSans-74\"/>\n     </g>\n    </g>\n   </g>\n   <g id=\"patch_103\">\n    <path d=\"M 53.328125 239.758125 \nL 53.328125 22.318125 \n\" style=\"fill:none;stroke:#000000;stroke-linecap:square;stroke-linejoin:miter;stroke-width:0.8;\"/>\n   </g>\n   <g id=\"patch_104\">\n    <path d=\"M 388.128125 239.758125 \nL 388.128125 22.318125 \n\" style=\"fill:none;stroke:#000000;stroke-linecap:square;stroke-linejoin:miter;stroke-width:0.8;\"/>\n   </g>\n   <g id=\"patch_105\">\n    <path d=\"M 53.328125 239.758125 \nL 388.128125 239.758125 \n\" style=\"fill:none;stroke:#000000;stroke-linecap:square;stroke-linejoin:miter;stroke-width:0.8;\"/>\n   </g>\n   <g id=\"patch_106\">\n    <path d=\"M 53.328125 22.318125 \nL 388.128125 22.318125 \n\" style=\"fill:none;stroke:#000000;stroke-linecap:square;stroke-linejoin:miter;stroke-width:0.8;\"/>\n   </g>\n   <g id=\"text_16\">\n    <!-- Geo Data -->\n    <g transform=\"translate(192.483125 16.318125)scale(0.12 -0.12)\">\n     <defs>\n      <path d=\"M 3809 666 \nL 3809 1919 \nL 2778 1919 \nL 2778 2438 \nL 4434 2438 \nL 4434 434 \nQ 4069 175 3628 42 \nQ 3188 -91 2688 -91 \nQ 1594 -91 976 548 \nQ 359 1188 359 2328 \nQ 359 3472 976 4111 \nQ 1594 4750 2688 4750 \nQ 3144 4750 3555 4637 \nQ 3966 4525 4313 4306 \nL 4313 3634 \nQ 3963 3931 3569 4081 \nQ 3175 4231 2741 4231 \nQ 1884 4231 1454 3753 \nQ 1025 3275 1025 2328 \nQ 1025 1384 1454 906 \nQ 1884 428 2741 428 \nQ 3075 428 3337 486 \nQ 3600 544 3809 666 \nz\n\" id=\"DejaVuSans-47\" transform=\"scale(0.015625)\"/>\n      <path id=\"DejaVuSans-20\" transform=\"scale(0.015625)\"/>\n      <path d=\"M 1259 4147 \nL 1259 519 \nL 2022 519 \nQ 2988 519 3436 956 \nQ 3884 1394 3884 2338 \nQ 3884 3275 3436 3711 \nQ 2988 4147 2022 4147 \nL 1259 4147 \nz\nM 628 4666 \nL 1925 4666 \nQ 3281 4666 3915 4102 \nQ 4550 3538 4550 2338 \nQ 4550 1131 3912 565 \nQ 3275 0 1925 0 \nL 628 0 \nL 628 4666 \nz\n\" id=\"DejaVuSans-44\" transform=\"scale(0.015625)\"/>\n     </defs>\n     <use xlink:href=\"#DejaVuSans-47\"/>\n     <use x=\"77.490234\" xlink:href=\"#DejaVuSans-65\"/>\n     <use x=\"139.013672\" xlink:href=\"#DejaVuSans-6f\"/>\n     <use x=\"200.195312\" xlink:href=\"#DejaVuSans-20\"/>\n     <use x=\"231.982422\" xlink:href=\"#DejaVuSans-44\"/>\n     <use x=\"308.984375\" xlink:href=\"#DejaVuSans-61\"/>\n     <use x=\"370.263672\" xlink:href=\"#DejaVuSans-74\"/>\n     <use x=\"409.472656\" xlink:href=\"#DejaVuSans-61\"/>\n    </g>\n   </g>\n   <g id=\"legend_1\">\n    <g id=\"patch_107\">\n     <path d=\"M 302.007812 59.674375 \nL 381.128125 59.674375 \nQ 383.128125 59.674375 383.128125 57.674375 \nL 383.128125 29.318125 \nQ 383.128125 27.318125 381.128125 27.318125 \nL 302.007812 27.318125 \nQ 300.007812 27.318125 300.007812 29.318125 \nL 300.007812 57.674375 \nQ 300.007812 59.674375 302.007812 59.674375 \nz\n\" style=\"fill:#ffffff;opacity:0.8;stroke:#cccccc;stroke-linejoin:miter;\"/>\n    </g>\n    <g id=\"patch_108\">\n     <path d=\"M 304.007812 38.916562 \nL 324.007812 38.916562 \nL 324.007812 31.916562 \nL 304.007812 31.916562 \nz\n\" style=\"fill:#1f77b4;\"/>\n    </g>\n    <g id=\"text_17\">\n     <!-- latitude -->\n     <g transform=\"translate(332.007812 38.916562)scale(0.1 -0.1)\">\n      <defs>\n       <path d=\"M 603 4863 \nL 1178 4863 \nL 1178 0 \nL 603 0 \nL 603 4863 \nz\n\" id=\"DejaVuSans-6c\" transform=\"scale(0.015625)\"/>\n      </defs>\n      <use xlink:href=\"#DejaVuSans-6c\"/>\n      <use x=\"27.783203\" xlink:href=\"#DejaVuSans-61\"/>\n      <use x=\"89.0625\" xlink:href=\"#DejaVuSans-74\"/>\n      <use x=\"128.271484\" xlink:href=\"#DejaVuSans-69\"/>\n      <use x=\"156.054688\" xlink:href=\"#DejaVuSans-74\"/>\n      <use x=\"195.263672\" xlink:href=\"#DejaVuSans-75\"/>\n      <use x=\"258.642578\" xlink:href=\"#DejaVuSans-64\"/>\n      <use x=\"322.119141\" xlink:href=\"#DejaVuSans-65\"/>\n     </g>\n    </g>\n    <g id=\"patch_109\">\n     <path d=\"M 304.007812 53.594687 \nL 324.007812 53.594687 \nL 324.007812 46.594687 \nL 304.007812 46.594687 \nz\n\" style=\"fill:#ff7f0e;\"/>\n    </g>\n    <g id=\"text_18\">\n     <!-- longitude -->\n     <g transform=\"translate(332.007812 53.594687)scale(0.1 -0.1)\">\n      <defs>\n       <path d=\"M 2906 1791 \nQ 2906 2416 2648 2759 \nQ 2391 3103 1925 3103 \nQ 1463 3103 1205 2759 \nQ 947 2416 947 1791 \nQ 947 1169 1205 825 \nQ 1463 481 1925 481 \nQ 2391 481 2648 825 \nQ 2906 1169 2906 1791 \nz\nM 3481 434 \nQ 3481 -459 3084 -895 \nQ 2688 -1331 1869 -1331 \nQ 1566 -1331 1297 -1286 \nQ 1028 -1241 775 -1147 \nL 775 -588 \nQ 1028 -725 1275 -790 \nQ 1522 -856 1778 -856 \nQ 2344 -856 2625 -561 \nQ 2906 -266 2906 331 \nL 2906 616 \nQ 2728 306 2450 153 \nQ 2172 0 1784 0 \nQ 1141 0 747 490 \nQ 353 981 353 1791 \nQ 353 2603 747 3093 \nQ 1141 3584 1784 3584 \nQ 2172 3584 2450 3431 \nQ 2728 3278 2906 2969 \nL 2906 3500 \nL 3481 3500 \nL 3481 434 \nz\n\" id=\"DejaVuSans-67\" transform=\"scale(0.015625)\"/>\n      </defs>\n      <use xlink:href=\"#DejaVuSans-6c\"/>\n      <use x=\"27.783203\" xlink:href=\"#DejaVuSans-6f\"/>\n      <use x=\"88.964844\" xlink:href=\"#DejaVuSans-6e\"/>\n      <use x=\"152.34375\" xlink:href=\"#DejaVuSans-67\"/>\n      <use x=\"215.820312\" xlink:href=\"#DejaVuSans-69\"/>\n      <use x=\"243.603516\" xlink:href=\"#DejaVuSans-74\"/>\n      <use x=\"282.8125\" xlink:href=\"#DejaVuSans-75\"/>\n      <use x=\"346.191406\" xlink:href=\"#DejaVuSans-64\"/>\n      <use x=\"409.667969\" xlink:href=\"#DejaVuSans-65\"/>\n     </g>\n    </g>\n   </g>\n  </g>\n </g>\n <defs>\n  <clipPath id=\"p5d052bf822\">\n   <rect height=\"217.44\" width=\"334.8\" x=\"53.328125\" y=\"22.318125\"/>\n  </clipPath>\n </defs>\n</svg>\n",
      "image/png": "[encoded data removed]"
     },
     "metadata": {
      "needs_background": "light"
     }
    }
   ],
   "source": [
    "import matplotlib.pyplot as plt\n",
    "\n",
    "plt.hist(df_stations[\"latitude\"], 50, label='latitude')\n",
    "plt.hist(df_stations[\"longitude\"], 50, label='longitude')\n",
    "plt.legend(loc='upper right')\n",
    "plt.title(\"Geo Data\")\n",
    "plt.xlabel('coordinates') \n",
    "plt.ylabel('count')\n",
    "plt.show()"
   ]
  },
  {
   "source": [
    "Bei Longitude ist ein Ausreißer beim Wert 0 zu erkennen. Diese werden im Folgenden gefiltert.\n",
    "Ebenso sind unphysikalische Werte zu erkennen, welche ebenfalls korrigiert werden."
   ],
   "cell_type": "markdown",
   "metadata": {}
  },
  {
   "cell_type": "code",
   "execution_count": 49,
   "metadata": {},
   "outputs": [],
   "source": [
    "df_stations = df_stations.loc[(df_stations[\"longitude\"] != 0.0) & (df_stations[\"latitude\"] != 0.0)]\n",
    "df_stations = df_stations.loc[(df_stations[\"latitude\"] <= 90.0) & (df_stations[\"latitude\"] >= -90.0) & (df_stations[\"longitude\"] <= 180.0) & (df_stations[\"longitude\"] >= -180.0)]"
   ]
  },
  {
   "cell_type": "code",
   "execution_count": 50,
   "metadata": {},
   "outputs": [
    {
     "output_type": "display_data",
     "data": {
      "text/plain": "<Figure size 432x288 with 1 Axes>",
      "image/svg+xml": "<?xml version=\"1.0\" encoding=\"utf-8\" standalone=\"no\"?>\n<!DOCTYPE svg PUBLIC \"-//W3C//DTD SVG 1.1//EN\"\n  \"http://www.w3.org/Graphics/SVG/1.1/DTD/svg11.dtd\">\n<svg height=\"277.314375pt\" version=\"1.1\" viewBox=\"0 0 398.426951 277.314375\" width=\"398.426951pt\" xmlns=\"http://www.w3.org/2000/svg\" xmlns:xlink=\"http://www.w3.org/1999/xlink\">\n <metadata>\n  <rdf:RDF xmlns:cc=\"http://creativecommons.org/ns#\" xmlns:dc=\"http://purl.org/dc/elements/1.1/\" xmlns:rdf=\"http://www.w3.org/1999/02/22-rdf-syntax-ns#\">\n   <cc:Work>\n    <dc:type rdf:resource=\"http://purl.org/dc/dcmitype/StillImage\"/>\n    <dc:date>2021-06-17T13:28:14.435858</dc:date>\n    <dc:format>image/svg+xml</dc:format>\n    <dc:creator>\n     <cc:Agent>\n      <dc:title>Matplotlib v3.4.2, https://matplotlib.org/</dc:title>\n     </cc:Agent>\n    </dc:creator>\n   </cc:Work>\n  </rdf:RDF>\n </metadata>\n <defs>\n  <style type=\"text/css\">*{stroke-linecap:butt;stroke-linejoin:round;}</style>\n </defs>\n <g id=\"figure_1\">\n  <g id=\"patch_1\">\n   <path d=\"M 0 277.314375 \nL 398.426951 277.314375 \nL 398.426951 0 \nL 0 0 \nz\n\" style=\"fill:none;\"/>\n  </g>\n  <g id=\"axes_1\">\n   <g id=\"patch_2\">\n    <path d=\"M 53.328125 239.758125 \nL 388.128125 239.758125 \nL 388.128125 22.318125 \nL 53.328125 22.318125 \nz\n\" style=\"fill:#ffffff;\"/>\n   </g>\n   <g id=\"patch_3\">\n    <path clip-path=\"url(#pa618cdbb42)\" d=\"M 206.642569 239.758125 \nL 209.177101 239.758125 \nL 209.177101 199.223831 \nL 206.642569 199.223831 \nz\n\" style=\"fill:#1f77b4;\"/>\n   </g>\n   <g id=\"patch_4\">\n    <path clip-path=\"url(#pa618cdbb42)\" d=\"M 209.177101 239.758125 \nL 211.711632 239.758125 \nL 211.711632 167.249336 \nL 209.177101 167.249336 \nz\n\" style=\"fill:#1f77b4;\"/>\n   </g>\n   <g id=\"patch_5\">\n    <path clip-path=\"url(#pa618cdbb42)\" d=\"M 211.711632 239.758125 \nL 214.246164 239.758125 \nL 214.246164 168.285725 \nL 211.711632 168.285725 \nz\n\" style=\"fill:#1f77b4;\"/>\n   </g>\n   <g id=\"patch_6\">\n    <path clip-path=\"url(#pa618cdbb42)\" d=\"M 214.246164 239.758125 \nL 216.780696 239.758125 \nL 216.780696 173.813128 \nL 214.246164 173.813128 \nz\n\" style=\"fill:#1f77b4;\"/>\n   </g>\n   <g id=\"patch_7\">\n    <path clip-path=\"url(#pa618cdbb42)\" d=\"M 216.780696 239.758125 \nL 219.315228 239.758125 \nL 219.315228 144.256873 \nL 216.780696 144.256873 \nz\n\" style=\"fill:#1f77b4;\"/>\n   </g>\n   <g id=\"patch_8\">\n    <path clip-path=\"url(#pa618cdbb42)\" d=\"M 219.315228 239.758125 \nL 221.849759 239.758125 \nL 221.849759 134.814225 \nL 219.315228 134.814225 \nz\n\" style=\"fill:#1f77b4;\"/>\n   </g>\n   <g id=\"patch_9\">\n    <path clip-path=\"url(#pa618cdbb42)\" d=\"M 221.849759 239.758125 \nL 224.384291 239.758125 \nL 224.384291 159.303694 \nL 221.849759 159.303694 \nz\n\" style=\"fill:#1f77b4;\"/>\n   </g>\n   <g id=\"patch_10\">\n    <path clip-path=\"url(#pa618cdbb42)\" d=\"M 224.384291 239.758125 \nL 226.918823 239.758125 \nL 226.918823 196.690438 \nL 224.384291 196.690438 \nz\n\" style=\"fill:#1f77b4;\"/>\n   </g>\n   <g id=\"patch_11\">\n    <path clip-path=\"url(#pa618cdbb42)\" d=\"M 226.918823 239.758125 \nL 229.453354 239.758125 \nL 229.453354 199.914757 \nL 226.918823 199.914757 \nz\n\" style=\"fill:#1f77b4;\"/>\n   </g>\n   <g id=\"patch_12\">\n    <path clip-path=\"url(#pa618cdbb42)\" d=\"M 229.453354 239.758125 \nL 231.987886 239.758125 \nL 231.987886 228.703318 \nL 229.453354 228.703318 \nz\n\" style=\"fill:#1f77b4;\"/>\n   </g>\n   <g id=\"patch_13\">\n    <path clip-path=\"url(#pa618cdbb42)\" d=\"M 68.546307 239.758125 \nL 74.63358 239.758125 \nL 74.63358 110.094447 \nL 68.546307 110.094447 \nz\n\" style=\"fill:#ff7f0e;\"/>\n   </g>\n   <g id=\"patch_14\">\n    <path clip-path=\"url(#pa618cdbb42)\" d=\"M 74.63358 239.758125 \nL 80.720852 239.758125 \nL 80.720852 32.672411 \nL 74.63358 32.672411 \nz\n\" style=\"fill:#ff7f0e;\"/>\n   </g>\n   <g id=\"patch_15\">\n    <path clip-path=\"url(#pa618cdbb42)\" d=\"M 80.720852 239.758125 \nL 86.808125 239.758125 \nL 86.808125 87.332292 \nL 80.720852 87.332292 \nz\n\" style=\"fill:#ff7f0e;\"/>\n   </g>\n   <g id=\"patch_16\">\n    <path clip-path=\"url(#pa618cdbb42)\" d=\"M 86.808125 239.758125 \nL 92.895398 239.758125 \nL 92.895398 140.648706 \nL 86.808125 140.648706 \nz\n\" style=\"fill:#ff7f0e;\"/>\n   </g>\n   <g id=\"patch_17\">\n    <path clip-path=\"url(#pa618cdbb42)\" d=\"M 92.895398 239.758125 \nL 98.98267 239.758125 \nL 98.98267 202.793613 \nL 92.895398 202.793613 \nz\n\" style=\"fill:#ff7f0e;\"/>\n   </g>\n   <g id=\"patch_18\">\n    <path clip-path=\"url(#pa618cdbb42)\" d=\"M 98.98267 239.758125 \nL 105.069943 239.758125 \nL 105.069943 239.758125 \nL 98.98267 239.758125 \nz\n\" style=\"fill:#ff7f0e;\"/>\n   </g>\n   <g id=\"patch_19\">\n    <path clip-path=\"url(#pa618cdbb42)\" d=\"M 105.069943 239.758125 \nL 111.157216 239.758125 \nL 111.157216 239.758125 \nL 105.069943 239.758125 \nz\n\" style=\"fill:#ff7f0e;\"/>\n   </g>\n   <g id=\"patch_20\">\n    <path clip-path=\"url(#pa618cdbb42)\" d=\"M 111.157216 239.758125 \nL 117.244489 239.758125 \nL 117.244489 239.758125 \nL 111.157216 239.758125 \nz\n\" style=\"fill:#ff7f0e;\"/>\n   </g>\n   <g id=\"patch_21\">\n    <path clip-path=\"url(#pa618cdbb42)\" d=\"M 117.244489 239.758125 \nL 123.331761 239.758125 \nL 123.331761 239.758125 \nL 117.244489 239.758125 \nz\n\" style=\"fill:#ff7f0e;\"/>\n   </g>\n   <g id=\"patch_22\">\n    <path clip-path=\"url(#pa618cdbb42)\" d=\"M 123.331761 239.758125 \nL 129.419034 239.758125 \nL 129.419034 239.758125 \nL 123.331761 239.758125 \nz\n\" style=\"fill:#ff7f0e;\"/>\n   </g>\n   <g id=\"patch_23\">\n    <path clip-path=\"url(#pa618cdbb42)\" d=\"M 129.419034 239.758125 \nL 135.506307 239.758125 \nL 135.506307 239.758125 \nL 129.419034 239.758125 \nz\n\" style=\"fill:#ff7f0e;\"/>\n   </g>\n   <g id=\"patch_24\">\n    <path clip-path=\"url(#pa618cdbb42)\" d=\"M 135.506307 239.758125 \nL 141.59358 239.758125 \nL 141.59358 239.758125 \nL 135.506307 239.758125 \nz\n\" style=\"fill:#ff7f0e;\"/>\n   </g>\n   <g id=\"patch_25\">\n    <path clip-path=\"url(#pa618cdbb42)\" d=\"M 141.59358 239.758125 \nL 147.680852 239.758125 \nL 147.680852 239.758125 \nL 141.59358 239.758125 \nz\n\" style=\"fill:#ff7f0e;\"/>\n   </g>\n   <g id=\"patch_26\">\n    <path clip-path=\"url(#pa618cdbb42)\" d=\"M 147.680852 239.758125 \nL 153.768125 239.758125 \nL 153.768125 239.758125 \nL 147.680852 239.758125 \nz\n\" style=\"fill:#ff7f0e;\"/>\n   </g>\n   <g id=\"patch_27\">\n    <path clip-path=\"url(#pa618cdbb42)\" d=\"M 153.768125 239.758125 \nL 159.855398 239.758125 \nL 159.855398 239.758125 \nL 153.768125 239.758125 \nz\n\" style=\"fill:#ff7f0e;\"/>\n   </g>\n   <g id=\"patch_28\">\n    <path clip-path=\"url(#pa618cdbb42)\" d=\"M 159.855398 239.758125 \nL 165.94267 239.758125 \nL 165.94267 239.758125 \nL 159.855398 239.758125 \nz\n\" style=\"fill:#ff7f0e;\"/>\n   </g>\n   <g id=\"patch_29\">\n    <path clip-path=\"url(#pa618cdbb42)\" d=\"M 165.94267 239.758125 \nL 172.029943 239.758125 \nL 172.029943 239.758125 \nL 165.94267 239.758125 \nz\n\" style=\"fill:#ff7f0e;\"/>\n   </g>\n   <g id=\"patch_30\">\n    <path clip-path=\"url(#pa618cdbb42)\" d=\"M 172.029943 239.758125 \nL 178.117216 239.758125 \nL 178.117216 239.758125 \nL 172.029943 239.758125 \nz\n\" style=\"fill:#ff7f0e;\"/>\n   </g>\n   <g id=\"patch_31\">\n    <path clip-path=\"url(#pa618cdbb42)\" d=\"M 178.117216 239.758125 \nL 184.204489 239.758125 \nL 184.204489 239.758125 \nL 178.117216 239.758125 \nz\n\" style=\"fill:#ff7f0e;\"/>\n   </g>\n   <g id=\"patch_32\">\n    <path clip-path=\"url(#pa618cdbb42)\" d=\"M 184.204489 239.758125 \nL 190.291761 239.758125 \nL 190.291761 239.758125 \nL 184.204489 239.758125 \nz\n\" style=\"fill:#ff7f0e;\"/>\n   </g>\n   <g id=\"patch_33\">\n    <path clip-path=\"url(#pa618cdbb42)\" d=\"M 190.291761 239.758125 \nL 196.379034 239.758125 \nL 196.379034 239.758125 \nL 190.291761 239.758125 \nz\n\" style=\"fill:#ff7f0e;\"/>\n   </g>\n   <g id=\"patch_34\">\n    <path clip-path=\"url(#pa618cdbb42)\" d=\"M 196.379034 239.758125 \nL 202.466307 239.758125 \nL 202.466307 239.758125 \nL 196.379034 239.758125 \nz\n\" style=\"fill:#ff7f0e;\"/>\n   </g>\n   <g id=\"patch_35\">\n    <path clip-path=\"url(#pa618cdbb42)\" d=\"M 202.466307 239.758125 \nL 208.55358 239.758125 \nL 208.55358 239.758125 \nL 202.466307 239.758125 \nz\n\" style=\"fill:#ff7f0e;\"/>\n   </g>\n   <g id=\"patch_36\">\n    <path clip-path=\"url(#pa618cdbb42)\" d=\"M 208.55358 239.758125 \nL 214.640852 239.758125 \nL 214.640852 239.758125 \nL 208.55358 239.758125 \nz\n\" style=\"fill:#ff7f0e;\"/>\n   </g>\n   <g id=\"patch_37\">\n    <path clip-path=\"url(#pa618cdbb42)\" d=\"M 214.640852 239.758125 \nL 220.728125 239.758125 \nL 220.728125 239.758125 \nL 214.640852 239.758125 \nz\n\" style=\"fill:#ff7f0e;\"/>\n   </g>\n   <g id=\"patch_38\">\n    <path clip-path=\"url(#pa618cdbb42)\" d=\"M 220.728125 239.758125 \nL 226.815398 239.758125 \nL 226.815398 239.758125 \nL 220.728125 239.758125 \nz\n\" style=\"fill:#ff7f0e;\"/>\n   </g>\n   <g id=\"patch_39\">\n    <path clip-path=\"url(#pa618cdbb42)\" d=\"M 226.815398 239.758125 \nL 232.90267 239.758125 \nL 232.90267 239.758125 \nL 226.815398 239.758125 \nz\n\" style=\"fill:#ff7f0e;\"/>\n   </g>\n   <g id=\"patch_40\">\n    <path clip-path=\"url(#pa618cdbb42)\" d=\"M 232.90267 239.758125 \nL 238.989943 239.758125 \nL 238.989943 239.758125 \nL 232.90267 239.758125 \nz\n\" style=\"fill:#ff7f0e;\"/>\n   </g>\n   <g id=\"patch_41\">\n    <path clip-path=\"url(#pa618cdbb42)\" d=\"M 238.989943 239.758125 \nL 245.077216 239.758125 \nL 245.077216 239.758125 \nL 238.989943 239.758125 \nz\n\" style=\"fill:#ff7f0e;\"/>\n   </g>\n   <g id=\"patch_42\">\n    <path clip-path=\"url(#pa618cdbb42)\" d=\"M 245.077216 239.758125 \nL 251.164489 239.758125 \nL 251.164489 239.758125 \nL 245.077216 239.758125 \nz\n\" style=\"fill:#ff7f0e;\"/>\n   </g>\n   <g id=\"patch_43\">\n    <path clip-path=\"url(#pa618cdbb42)\" d=\"M 251.164489 239.758125 \nL 257.251761 239.758125 \nL 257.251761 239.758125 \nL 251.164489 239.758125 \nz\n\" style=\"fill:#ff7f0e;\"/>\n   </g>\n   <g id=\"patch_44\">\n    <path clip-path=\"url(#pa618cdbb42)\" d=\"M 257.251761 239.758125 \nL 263.339034 239.758125 \nL 263.339034 239.758125 \nL 257.251761 239.758125 \nz\n\" style=\"fill:#ff7f0e;\"/>\n   </g>\n   <g id=\"patch_45\">\n    <path clip-path=\"url(#pa618cdbb42)\" d=\"M 263.339034 239.758125 \nL 269.426307 239.758125 \nL 269.426307 239.758125 \nL 263.339034 239.758125 \nz\n\" style=\"fill:#ff7f0e;\"/>\n   </g>\n   <g id=\"patch_46\">\n    <path clip-path=\"url(#pa618cdbb42)\" d=\"M 269.426307 239.758125 \nL 275.51358 239.758125 \nL 275.51358 239.758125 \nL 269.426307 239.758125 \nz\n\" style=\"fill:#ff7f0e;\"/>\n   </g>\n   <g id=\"patch_47\">\n    <path clip-path=\"url(#pa618cdbb42)\" d=\"M 275.51358 239.758125 \nL 281.600852 239.758125 \nL 281.600852 239.758125 \nL 275.51358 239.758125 \nz\n\" style=\"fill:#ff7f0e;\"/>\n   </g>\n   <g id=\"patch_48\">\n    <path clip-path=\"url(#pa618cdbb42)\" d=\"M 281.600852 239.758125 \nL 287.688125 239.758125 \nL 287.688125 239.758125 \nL 281.600852 239.758125 \nz\n\" style=\"fill:#ff7f0e;\"/>\n   </g>\n   <g id=\"patch_49\">\n    <path clip-path=\"url(#pa618cdbb42)\" d=\"M 287.688125 239.758125 \nL 293.775398 239.758125 \nL 293.775398 239.758125 \nL 287.688125 239.758125 \nz\n\" style=\"fill:#ff7f0e;\"/>\n   </g>\n   <g id=\"patch_50\">\n    <path clip-path=\"url(#pa618cdbb42)\" d=\"M 293.775398 239.758125 \nL 299.86267 239.758125 \nL 299.86267 239.758125 \nL 293.775398 239.758125 \nz\n\" style=\"fill:#ff7f0e;\"/>\n   </g>\n   <g id=\"patch_51\">\n    <path clip-path=\"url(#pa618cdbb42)\" d=\"M 299.86267 239.758125 \nL 305.949943 239.758125 \nL 305.949943 239.758125 \nL 299.86267 239.758125 \nz\n\" style=\"fill:#ff7f0e;\"/>\n   </g>\n   <g id=\"patch_52\">\n    <path clip-path=\"url(#pa618cdbb42)\" d=\"M 305.949943 239.758125 \nL 312.037216 239.758125 \nL 312.037216 239.758125 \nL 305.949943 239.758125 \nz\n\" style=\"fill:#ff7f0e;\"/>\n   </g>\n   <g id=\"patch_53\">\n    <path clip-path=\"url(#pa618cdbb42)\" d=\"M 312.037216 239.758125 \nL 318.124489 239.758125 \nL 318.124489 239.758125 \nL 312.037216 239.758125 \nz\n\" style=\"fill:#ff7f0e;\"/>\n   </g>\n   <g id=\"patch_54\">\n    <path clip-path=\"url(#pa618cdbb42)\" d=\"M 318.124489 239.758125 \nL 324.211761 239.758125 \nL 324.211761 239.758125 \nL 318.124489 239.758125 \nz\n\" style=\"fill:#ff7f0e;\"/>\n   </g>\n   <g id=\"patch_55\">\n    <path clip-path=\"url(#pa618cdbb42)\" d=\"M 324.211761 239.758125 \nL 330.299034 239.758125 \nL 330.299034 239.758125 \nL 324.211761 239.758125 \nz\n\" style=\"fill:#ff7f0e;\"/>\n   </g>\n   <g id=\"patch_56\">\n    <path clip-path=\"url(#pa618cdbb42)\" d=\"M 330.299034 239.758125 \nL 336.386307 239.758125 \nL 336.386307 239.758125 \nL 330.299034 239.758125 \nz\n\" style=\"fill:#ff7f0e;\"/>\n   </g>\n   <g id=\"patch_57\">\n    <path clip-path=\"url(#pa618cdbb42)\" d=\"M 336.386307 239.758125 \nL 342.47358 239.758125 \nL 342.47358 239.758125 \nL 336.386307 239.758125 \nz\n\" style=\"fill:#ff7f0e;\"/>\n   </g>\n   <g id=\"patch_58\">\n    <path clip-path=\"url(#pa618cdbb42)\" d=\"M 342.47358 239.758125 \nL 348.560852 239.758125 \nL 348.560852 239.758125 \nL 342.47358 239.758125 \nz\n\" style=\"fill:#ff7f0e;\"/>\n   </g>\n   <g id=\"patch_59\">\n    <path clip-path=\"url(#pa618cdbb42)\" d=\"M 348.560852 239.758125 \nL 354.648125 239.758125 \nL 354.648125 239.758125 \nL 348.560852 239.758125 \nz\n\" style=\"fill:#ff7f0e;\"/>\n   </g>\n   <g id=\"patch_60\">\n    <path clip-path=\"url(#pa618cdbb42)\" d=\"M 354.648125 239.758125 \nL 360.735398 239.758125 \nL 360.735398 239.758125 \nL 354.648125 239.758125 \nz\n\" style=\"fill:#ff7f0e;\"/>\n   </g>\n   <g id=\"patch_61\">\n    <path clip-path=\"url(#pa618cdbb42)\" d=\"M 360.735398 239.758125 \nL 366.82267 239.758125 \nL 366.82267 239.758125 \nL 360.735398 239.758125 \nz\n\" style=\"fill:#ff7f0e;\"/>\n   </g>\n   <g id=\"patch_62\">\n    <path clip-path=\"url(#pa618cdbb42)\" d=\"M 366.82267 239.758125 \nL 372.909943 239.758125 \nL 372.909943 239.681356 \nL 366.82267 239.681356 \nz\n\" style=\"fill:#ff7f0e;\"/>\n   </g>\n   <g id=\"matplotlib.axis_1\">\n    <g id=\"xtick_1\">\n     <g id=\"line2d_1\">\n      <defs>\n       <path d=\"M 0 0 \nL 0 3.5 \n\" id=\"m62281284a9\" style=\"stroke:#000000;stroke-width:0.8;\"/>\n      </defs>\n      <g>\n       <use style=\"stroke:#000000;stroke-width:0.8;\" x=\"115.463884\" xlink:href=\"#m62281284a9\" y=\"239.758125\"/>\n      </g>\n     </g>\n     <g id=\"text_1\">\n      <!-- 20 -->\n      <g transform=\"translate(109.101384 254.356562)scale(0.1 -0.1)\">\n       <defs>\n        <path d=\"M 1228 531 \nL 3431 531 \nL 3431 0 \nL 469 0 \nL 469 531 \nQ 828 903 1448 1529 \nQ 2069 2156 2228 2338 \nQ 2531 2678 2651 2914 \nQ 2772 3150 2772 3378 \nQ 2772 3750 2511 3984 \nQ 2250 4219 1831 4219 \nQ 1534 4219 1204 4116 \nQ 875 4013 500 3803 \nL 500 4441 \nQ 881 4594 1212 4672 \nQ 1544 4750 1819 4750 \nQ 2544 4750 2975 4387 \nQ 3406 4025 3406 3419 \nQ 3406 3131 3298 2873 \nQ 3191 2616 2906 2266 \nQ 2828 2175 2409 1742 \nQ 1991 1309 1228 531 \nz\n\" id=\"DejaVuSans-32\" transform=\"scale(0.015625)\"/>\n        <path d=\"M 2034 4250 \nQ 1547 4250 1301 3770 \nQ 1056 3291 1056 2328 \nQ 1056 1369 1301 889 \nQ 1547 409 2034 409 \nQ 2525 409 2770 889 \nQ 3016 1369 3016 2328 \nQ 3016 3291 2770 3770 \nQ 2525 4250 2034 4250 \nz\nM 2034 4750 \nQ 2819 4750 3233 4129 \nQ 3647 3509 3647 2328 \nQ 3647 1150 3233 529 \nQ 2819 -91 2034 -91 \nQ 1250 -91 836 529 \nQ 422 1150 422 2328 \nQ 422 3509 836 4129 \nQ 1250 4750 2034 4750 \nz\n\" id=\"DejaVuSans-30\" transform=\"scale(0.015625)\"/>\n       </defs>\n       <use xlink:href=\"#DejaVuSans-32\"/>\n       <use x=\"63.623047\" xlink:href=\"#DejaVuSans-30\"/>\n      </g>\n     </g>\n    </g>\n    <g id=\"xtick_2\">\n     <g id=\"line2d_2\">\n      <g>\n       <use style=\"stroke:#000000;stroke-width:0.8;\" x=\"182.018713\" xlink:href=\"#m62281284a9\" y=\"239.758125\"/>\n      </g>\n     </g>\n     <g id=\"text_2\">\n      <!-- 40 -->\n      <g transform=\"translate(175.656213 254.356562)scale(0.1 -0.1)\">\n       <defs>\n        <path d=\"M 2419 4116 \nL 825 1625 \nL 2419 1625 \nL 2419 4116 \nz\nM 2253 4666 \nL 3047 4666 \nL 3047 1625 \nL 3713 1625 \nL 3713 1100 \nL 3047 1100 \nL 3047 0 \nL 2419 0 \nL 2419 1100 \nL 313 1100 \nL 313 1709 \nL 2253 4666 \nz\n\" id=\"DejaVuSans-34\" transform=\"scale(0.015625)\"/>\n       </defs>\n       <use xlink:href=\"#DejaVuSans-34\"/>\n       <use x=\"63.623047\" xlink:href=\"#DejaVuSans-30\"/>\n      </g>\n     </g>\n    </g>\n    <g id=\"xtick_3\">\n     <g id=\"line2d_3\">\n      <g>\n       <use style=\"stroke:#000000;stroke-width:0.8;\" x=\"248.573542\" xlink:href=\"#m62281284a9\" y=\"239.758125\"/>\n      </g>\n     </g>\n     <g id=\"text_3\">\n      <!-- 60 -->\n      <g transform=\"translate(242.211042 254.356562)scale(0.1 -0.1)\">\n       <defs>\n        <path d=\"M 2113 2584 \nQ 1688 2584 1439 2293 \nQ 1191 2003 1191 1497 \nQ 1191 994 1439 701 \nQ 1688 409 2113 409 \nQ 2538 409 2786 701 \nQ 3034 994 3034 1497 \nQ 3034 2003 2786 2293 \nQ 2538 2584 2113 2584 \nz\nM 3366 4563 \nL 3366 3988 \nQ 3128 4100 2886 4159 \nQ 2644 4219 2406 4219 \nQ 1781 4219 1451 3797 \nQ 1122 3375 1075 2522 \nQ 1259 2794 1537 2939 \nQ 1816 3084 2150 3084 \nQ 2853 3084 3261 2657 \nQ 3669 2231 3669 1497 \nQ 3669 778 3244 343 \nQ 2819 -91 2113 -91 \nQ 1303 -91 875 529 \nQ 447 1150 447 2328 \nQ 447 3434 972 4092 \nQ 1497 4750 2381 4750 \nQ 2619 4750 2861 4703 \nQ 3103 4656 3366 4563 \nz\n\" id=\"DejaVuSans-36\" transform=\"scale(0.015625)\"/>\n       </defs>\n       <use xlink:href=\"#DejaVuSans-36\"/>\n       <use x=\"63.623047\" xlink:href=\"#DejaVuSans-30\"/>\n      </g>\n     </g>\n    </g>\n    <g id=\"xtick_4\">\n     <g id=\"line2d_4\">\n      <g>\n       <use style=\"stroke:#000000;stroke-width:0.8;\" x=\"315.128372\" xlink:href=\"#m62281284a9\" y=\"239.758125\"/>\n      </g>\n     </g>\n     <g id=\"text_4\">\n      <!-- 80 -->\n      <g transform=\"translate(308.765872 254.356562)scale(0.1 -0.1)\">\n       <defs>\n        <path d=\"M 2034 2216 \nQ 1584 2216 1326 1975 \nQ 1069 1734 1069 1313 \nQ 1069 891 1326 650 \nQ 1584 409 2034 409 \nQ 2484 409 2743 651 \nQ 3003 894 3003 1313 \nQ 3003 1734 2745 1975 \nQ 2488 2216 2034 2216 \nz\nM 1403 2484 \nQ 997 2584 770 2862 \nQ 544 3141 544 3541 \nQ 544 4100 942 4425 \nQ 1341 4750 2034 4750 \nQ 2731 4750 3128 4425 \nQ 3525 4100 3525 3541 \nQ 3525 3141 3298 2862 \nQ 3072 2584 2669 2484 \nQ 3125 2378 3379 2068 \nQ 3634 1759 3634 1313 \nQ 3634 634 3220 271 \nQ 2806 -91 2034 -91 \nQ 1263 -91 848 271 \nQ 434 634 434 1313 \nQ 434 1759 690 2068 \nQ 947 2378 1403 2484 \nz\nM 1172 3481 \nQ 1172 3119 1398 2916 \nQ 1625 2713 2034 2713 \nQ 2441 2713 2670 2916 \nQ 2900 3119 2900 3481 \nQ 2900 3844 2670 4047 \nQ 2441 4250 2034 4250 \nQ 1625 4250 1398 4047 \nQ 1172 3844 1172 3481 \nz\n\" id=\"DejaVuSans-38\" transform=\"scale(0.015625)\"/>\n       </defs>\n       <use xlink:href=\"#DejaVuSans-38\"/>\n       <use x=\"63.623047\" xlink:href=\"#DejaVuSans-30\"/>\n      </g>\n     </g>\n    </g>\n    <g id=\"xtick_5\">\n     <g id=\"line2d_5\">\n      <g>\n       <use style=\"stroke:#000000;stroke-width:0.8;\" x=\"381.683201\" xlink:href=\"#m62281284a9\" y=\"239.758125\"/>\n      </g>\n     </g>\n     <g id=\"text_5\">\n      <!-- 100 -->\n      <g transform=\"translate(372.139451 254.356562)scale(0.1 -0.1)\">\n       <defs>\n        <path d=\"M 794 531 \nL 1825 531 \nL 1825 4091 \nL 703 3866 \nL 703 4441 \nL 1819 4666 \nL 2450 4666 \nL 2450 531 \nL 3481 531 \nL 3481 0 \nL 794 0 \nL 794 531 \nz\n\" id=\"DejaVuSans-31\" transform=\"scale(0.015625)\"/>\n       </defs>\n       <use xlink:href=\"#DejaVuSans-31\"/>\n       <use x=\"63.623047\" xlink:href=\"#DejaVuSans-30\"/>\n       <use x=\"127.246094\" xlink:href=\"#DejaVuSans-30\"/>\n      </g>\n     </g>\n    </g>\n    <g id=\"text_6\">\n     <!-- coordinates -->\n     <g transform=\"translate(191.454688 268.034687)scale(0.1 -0.1)\">\n      <defs>\n       <path d=\"M 3122 3366 \nL 3122 2828 \nQ 2878 2963 2633 3030 \nQ 2388 3097 2138 3097 \nQ 1578 3097 1268 2742 \nQ 959 2388 959 1747 \nQ 959 1106 1268 751 \nQ 1578 397 2138 397 \nQ 2388 397 2633 464 \nQ 2878 531 3122 666 \nL 3122 134 \nQ 2881 22 2623 -34 \nQ 2366 -91 2075 -91 \nQ 1284 -91 818 406 \nQ 353 903 353 1747 \nQ 353 2603 823 3093 \nQ 1294 3584 2113 3584 \nQ 2378 3584 2631 3529 \nQ 2884 3475 3122 3366 \nz\n\" id=\"DejaVuSans-63\" transform=\"scale(0.015625)\"/>\n       <path d=\"M 1959 3097 \nQ 1497 3097 1228 2736 \nQ 959 2375 959 1747 \nQ 959 1119 1226 758 \nQ 1494 397 1959 397 \nQ 2419 397 2687 759 \nQ 2956 1122 2956 1747 \nQ 2956 2369 2687 2733 \nQ 2419 3097 1959 3097 \nz\nM 1959 3584 \nQ 2709 3584 3137 3096 \nQ 3566 2609 3566 1747 \nQ 3566 888 3137 398 \nQ 2709 -91 1959 -91 \nQ 1206 -91 779 398 \nQ 353 888 353 1747 \nQ 353 2609 779 3096 \nQ 1206 3584 1959 3584 \nz\n\" id=\"DejaVuSans-6f\" transform=\"scale(0.015625)\"/>\n       <path d=\"M 2631 2963 \nQ 2534 3019 2420 3045 \nQ 2306 3072 2169 3072 \nQ 1681 3072 1420 2755 \nQ 1159 2438 1159 1844 \nL 1159 0 \nL 581 0 \nL 581 3500 \nL 1159 3500 \nL 1159 2956 \nQ 1341 3275 1631 3429 \nQ 1922 3584 2338 3584 \nQ 2397 3584 2469 3576 \nQ 2541 3569 2628 3553 \nL 2631 2963 \nz\n\" id=\"DejaVuSans-72\" transform=\"scale(0.015625)\"/>\n       <path d=\"M 2906 2969 \nL 2906 4863 \nL 3481 4863 \nL 3481 0 \nL 2906 0 \nL 2906 525 \nQ 2725 213 2448 61 \nQ 2172 -91 1784 -91 \nQ 1150 -91 751 415 \nQ 353 922 353 1747 \nQ 353 2572 751 3078 \nQ 1150 3584 1784 3584 \nQ 2172 3584 2448 3432 \nQ 2725 3281 2906 2969 \nz\nM 947 1747 \nQ 947 1113 1208 752 \nQ 1469 391 1925 391 \nQ 2381 391 2643 752 \nQ 2906 1113 2906 1747 \nQ 2906 2381 2643 2742 \nQ 2381 3103 1925 3103 \nQ 1469 3103 1208 2742 \nQ 947 2381 947 1747 \nz\n\" id=\"DejaVuSans-64\" transform=\"scale(0.015625)\"/>\n       <path d=\"M 603 3500 \nL 1178 3500 \nL 1178 0 \nL 603 0 \nL 603 3500 \nz\nM 603 4863 \nL 1178 4863 \nL 1178 4134 \nL 603 4134 \nL 603 4863 \nz\n\" id=\"DejaVuSans-69\" transform=\"scale(0.015625)\"/>\n       <path d=\"M 3513 2113 \nL 3513 0 \nL 2938 0 \nL 2938 2094 \nQ 2938 2591 2744 2837 \nQ 2550 3084 2163 3084 \nQ 1697 3084 1428 2787 \nQ 1159 2491 1159 1978 \nL 1159 0 \nL 581 0 \nL 581 3500 \nL 1159 3500 \nL 1159 2956 \nQ 1366 3272 1645 3428 \nQ 1925 3584 2291 3584 \nQ 2894 3584 3203 3211 \nQ 3513 2838 3513 2113 \nz\n\" id=\"DejaVuSans-6e\" transform=\"scale(0.015625)\"/>\n       <path d=\"M 2194 1759 \nQ 1497 1759 1228 1600 \nQ 959 1441 959 1056 \nQ 959 750 1161 570 \nQ 1363 391 1709 391 \nQ 2188 391 2477 730 \nQ 2766 1069 2766 1631 \nL 2766 1759 \nL 2194 1759 \nz\nM 3341 1997 \nL 3341 0 \nL 2766 0 \nL 2766 531 \nQ 2569 213 2275 61 \nQ 1981 -91 1556 -91 \nQ 1019 -91 701 211 \nQ 384 513 384 1019 \nQ 384 1609 779 1909 \nQ 1175 2209 1959 2209 \nL 2766 2209 \nL 2766 2266 \nQ 2766 2663 2505 2880 \nQ 2244 3097 1772 3097 \nQ 1472 3097 1187 3025 \nQ 903 2953 641 2809 \nL 641 3341 \nQ 956 3463 1253 3523 \nQ 1550 3584 1831 3584 \nQ 2591 3584 2966 3190 \nQ 3341 2797 3341 1997 \nz\n\" id=\"DejaVuSans-61\" transform=\"scale(0.015625)\"/>\n       <path d=\"M 1172 4494 \nL 1172 3500 \nL 2356 3500 \nL 2356 3053 \nL 1172 3053 \nL 1172 1153 \nQ 1172 725 1289 603 \nQ 1406 481 1766 481 \nL 2356 481 \nL 2356 0 \nL 1766 0 \nQ 1100 0 847 248 \nQ 594 497 594 1153 \nL 594 3053 \nL 172 3053 \nL 172 3500 \nL 594 3500 \nL 594 4494 \nL 1172 4494 \nz\n\" id=\"DejaVuSans-74\" transform=\"scale(0.015625)\"/>\n       <path d=\"M 3597 1894 \nL 3597 1613 \nL 953 1613 \nQ 991 1019 1311 708 \nQ 1631 397 2203 397 \nQ 2534 397 2845 478 \nQ 3156 559 3463 722 \nL 3463 178 \nQ 3153 47 2828 -22 \nQ 2503 -91 2169 -91 \nQ 1331 -91 842 396 \nQ 353 884 353 1716 \nQ 353 2575 817 3079 \nQ 1281 3584 2069 3584 \nQ 2775 3584 3186 3129 \nQ 3597 2675 3597 1894 \nz\nM 3022 2063 \nQ 3016 2534 2758 2815 \nQ 2500 3097 2075 3097 \nQ 1594 3097 1305 2825 \nQ 1016 2553 972 2059 \nL 3022 2063 \nz\n\" id=\"DejaVuSans-65\" transform=\"scale(0.015625)\"/>\n       <path d=\"M 2834 3397 \nL 2834 2853 \nQ 2591 2978 2328 3040 \nQ 2066 3103 1784 3103 \nQ 1356 3103 1142 2972 \nQ 928 2841 928 2578 \nQ 928 2378 1081 2264 \nQ 1234 2150 1697 2047 \nL 1894 2003 \nQ 2506 1872 2764 1633 \nQ 3022 1394 3022 966 \nQ 3022 478 2636 193 \nQ 2250 -91 1575 -91 \nQ 1294 -91 989 -36 \nQ 684 19 347 128 \nL 347 722 \nQ 666 556 975 473 \nQ 1284 391 1588 391 \nQ 1994 391 2212 530 \nQ 2431 669 2431 922 \nQ 2431 1156 2273 1281 \nQ 2116 1406 1581 1522 \nL 1381 1569 \nQ 847 1681 609 1914 \nQ 372 2147 372 2553 \nQ 372 3047 722 3315 \nQ 1072 3584 1716 3584 \nQ 2034 3584 2315 3537 \nQ 2597 3491 2834 3397 \nz\n\" id=\"DejaVuSans-73\" transform=\"scale(0.015625)\"/>\n      </defs>\n      <use xlink:href=\"#DejaVuSans-63\"/>\n      <use x=\"54.980469\" xlink:href=\"#DejaVuSans-6f\"/>\n      <use x=\"116.162109\" xlink:href=\"#DejaVuSans-6f\"/>\n      <use x=\"177.34375\" xlink:href=\"#DejaVuSans-72\"/>\n      <use x=\"216.707031\" xlink:href=\"#DejaVuSans-64\"/>\n      <use x=\"280.183594\" xlink:href=\"#DejaVuSans-69\"/>\n      <use x=\"307.966797\" xlink:href=\"#DejaVuSans-6e\"/>\n      <use x=\"371.345703\" xlink:href=\"#DejaVuSans-61\"/>\n      <use x=\"432.625\" xlink:href=\"#DejaVuSans-74\"/>\n      <use x=\"471.833984\" xlink:href=\"#DejaVuSans-65\"/>\n      <use x=\"533.357422\" xlink:href=\"#DejaVuSans-73\"/>\n     </g>\n    </g>\n   </g>\n   <g id=\"matplotlib.axis_2\">\n    <g id=\"ytick_1\">\n     <g id=\"line2d_6\">\n      <defs>\n       <path d=\"M 0 0 \nL -3.5 0 \n\" id=\"m7075a32d1e\" style=\"stroke:#000000;stroke-width:0.8;\"/>\n      </defs>\n      <g>\n       <use style=\"stroke:#000000;stroke-width:0.8;\" x=\"53.328125\" xlink:href=\"#m7075a32d1e\" y=\"239.758125\"/>\n      </g>\n     </g>\n     <g id=\"text_7\">\n      <!-- 0 -->\n      <g transform=\"translate(39.965625 243.557344)scale(0.1 -0.1)\">\n       <use xlink:href=\"#DejaVuSans-30\"/>\n      </g>\n     </g>\n    </g>\n    <g id=\"ytick_2\">\n     <g id=\"line2d_7\">\n      <g>\n       <use style=\"stroke:#000000;stroke-width:0.8;\" x=\"53.328125\" xlink:href=\"#m7075a32d1e\" y=\"201.373377\"/>\n      </g>\n     </g>\n     <g id=\"text_8\">\n      <!-- 1000 -->\n      <g transform=\"translate(20.878125 205.172596)scale(0.1 -0.1)\">\n       <use xlink:href=\"#DejaVuSans-31\"/>\n       <use x=\"63.623047\" xlink:href=\"#DejaVuSans-30\"/>\n       <use x=\"127.246094\" xlink:href=\"#DejaVuSans-30\"/>\n       <use x=\"190.869141\" xlink:href=\"#DejaVuSans-30\"/>\n      </g>\n     </g>\n    </g>\n    <g id=\"ytick_3\">\n     <g id=\"line2d_8\">\n      <g>\n       <use style=\"stroke:#000000;stroke-width:0.8;\" x=\"53.328125\" xlink:href=\"#m7075a32d1e\" y=\"162.988629\"/>\n      </g>\n     </g>\n     <g id=\"text_9\">\n      <!-- 2000 -->\n      <g transform=\"translate(20.878125 166.787848)scale(0.1 -0.1)\">\n       <use xlink:href=\"#DejaVuSans-32\"/>\n       <use x=\"63.623047\" xlink:href=\"#DejaVuSans-30\"/>\n       <use x=\"127.246094\" xlink:href=\"#DejaVuSans-30\"/>\n       <use x=\"190.869141\" xlink:href=\"#DejaVuSans-30\"/>\n      </g>\n     </g>\n    </g>\n    <g id=\"ytick_4\">\n     <g id=\"line2d_9\">\n      <g>\n       <use style=\"stroke:#000000;stroke-width:0.8;\" x=\"53.328125\" xlink:href=\"#m7075a32d1e\" y=\"124.603882\"/>\n      </g>\n     </g>\n     <g id=\"text_10\">\n      <!-- 3000 -->\n      <g transform=\"translate(20.878125 128.4031)scale(0.1 -0.1)\">\n       <defs>\n        <path d=\"M 2597 2516 \nQ 3050 2419 3304 2112 \nQ 3559 1806 3559 1356 \nQ 3559 666 3084 287 \nQ 2609 -91 1734 -91 \nQ 1441 -91 1130 -33 \nQ 819 25 488 141 \nL 488 750 \nQ 750 597 1062 519 \nQ 1375 441 1716 441 \nQ 2309 441 2620 675 \nQ 2931 909 2931 1356 \nQ 2931 1769 2642 2001 \nQ 2353 2234 1838 2234 \nL 1294 2234 \nL 1294 2753 \nL 1863 2753 \nQ 2328 2753 2575 2939 \nQ 2822 3125 2822 3475 \nQ 2822 3834 2567 4026 \nQ 2313 4219 1838 4219 \nQ 1578 4219 1281 4162 \nQ 984 4106 628 3988 \nL 628 4550 \nQ 988 4650 1302 4700 \nQ 1616 4750 1894 4750 \nQ 2613 4750 3031 4423 \nQ 3450 4097 3450 3541 \nQ 3450 3153 3228 2886 \nQ 3006 2619 2597 2516 \nz\n\" id=\"DejaVuSans-33\" transform=\"scale(0.015625)\"/>\n       </defs>\n       <use xlink:href=\"#DejaVuSans-33\"/>\n       <use x=\"63.623047\" xlink:href=\"#DejaVuSans-30\"/>\n       <use x=\"127.246094\" xlink:href=\"#DejaVuSans-30\"/>\n       <use x=\"190.869141\" xlink:href=\"#DejaVuSans-30\"/>\n      </g>\n     </g>\n    </g>\n    <g id=\"ytick_5\">\n     <g id=\"line2d_10\">\n      <g>\n       <use style=\"stroke:#000000;stroke-width:0.8;\" x=\"53.328125\" xlink:href=\"#m7075a32d1e\" y=\"86.219134\"/>\n      </g>\n     </g>\n     <g id=\"text_11\">\n      <!-- 4000 -->\n      <g transform=\"translate(20.878125 90.018353)scale(0.1 -0.1)\">\n       <use xlink:href=\"#DejaVuSans-34\"/>\n       <use x=\"63.623047\" xlink:href=\"#DejaVuSans-30\"/>\n       <use x=\"127.246094\" xlink:href=\"#DejaVuSans-30\"/>\n       <use x=\"190.869141\" xlink:href=\"#DejaVuSans-30\"/>\n      </g>\n     </g>\n    </g>\n    <g id=\"ytick_6\">\n     <g id=\"line2d_11\">\n      <g>\n       <use style=\"stroke:#000000;stroke-width:0.8;\" x=\"53.328125\" xlink:href=\"#m7075a32d1e\" y=\"47.834386\"/>\n      </g>\n     </g>\n     <g id=\"text_12\">\n      <!-- 5000 -->\n      <g transform=\"translate(20.878125 51.633605)scale(0.1 -0.1)\">\n       <defs>\n        <path d=\"M 691 4666 \nL 3169 4666 \nL 3169 4134 \nL 1269 4134 \nL 1269 2991 \nQ 1406 3038 1543 3061 \nQ 1681 3084 1819 3084 \nQ 2600 3084 3056 2656 \nQ 3513 2228 3513 1497 \nQ 3513 744 3044 326 \nQ 2575 -91 1722 -91 \nQ 1428 -91 1123 -41 \nQ 819 9 494 109 \nL 494 744 \nQ 775 591 1075 516 \nQ 1375 441 1709 441 \nQ 2250 441 2565 725 \nQ 2881 1009 2881 1497 \nQ 2881 1984 2565 2268 \nQ 2250 2553 1709 2553 \nQ 1456 2553 1204 2497 \nQ 953 2441 691 2322 \nL 691 4666 \nz\n\" id=\"DejaVuSans-35\" transform=\"scale(0.015625)\"/>\n       </defs>\n       <use xlink:href=\"#DejaVuSans-35\"/>\n       <use x=\"63.623047\" xlink:href=\"#DejaVuSans-30\"/>\n       <use x=\"127.246094\" xlink:href=\"#DejaVuSans-30\"/>\n       <use x=\"190.869141\" xlink:href=\"#DejaVuSans-30\"/>\n      </g>\n     </g>\n    </g>\n    <g id=\"text_13\">\n     <!-- count -->\n     <g transform=\"translate(14.798438 145.144375)rotate(-90)scale(0.1 -0.1)\">\n      <defs>\n       <path d=\"M 544 1381 \nL 544 3500 \nL 1119 3500 \nL 1119 1403 \nQ 1119 906 1312 657 \nQ 1506 409 1894 409 \nQ 2359 409 2629 706 \nQ 2900 1003 2900 1516 \nL 2900 3500 \nL 3475 3500 \nL 3475 0 \nL 2900 0 \nL 2900 538 \nQ 2691 219 2414 64 \nQ 2138 -91 1772 -91 \nQ 1169 -91 856 284 \nQ 544 659 544 1381 \nz\nM 1991 3584 \nL 1991 3584 \nz\n\" id=\"DejaVuSans-75\" transform=\"scale(0.015625)\"/>\n      </defs>\n      <use xlink:href=\"#DejaVuSans-63\"/>\n      <use x=\"54.980469\" xlink:href=\"#DejaVuSans-6f\"/>\n      <use x=\"116.162109\" xlink:href=\"#DejaVuSans-75\"/>\n      <use x=\"179.541016\" xlink:href=\"#DejaVuSans-6e\"/>\n      <use x=\"242.919922\" xlink:href=\"#DejaVuSans-74\"/>\n     </g>\n    </g>\n   </g>\n   <g id=\"patch_63\">\n    <path d=\"M 53.328125 239.758125 \nL 53.328125 22.318125 \n\" style=\"fill:none;stroke:#000000;stroke-linecap:square;stroke-linejoin:miter;stroke-width:0.8;\"/>\n   </g>\n   <g id=\"patch_64\">\n    <path d=\"M 388.128125 239.758125 \nL 388.128125 22.318125 \n\" style=\"fill:none;stroke:#000000;stroke-linecap:square;stroke-linejoin:miter;stroke-width:0.8;\"/>\n   </g>\n   <g id=\"patch_65\">\n    <path d=\"M 53.328125 239.758125 \nL 388.128125 239.758125 \n\" style=\"fill:none;stroke:#000000;stroke-linecap:square;stroke-linejoin:miter;stroke-width:0.8;\"/>\n   </g>\n   <g id=\"patch_66\">\n    <path d=\"M 53.328125 22.318125 \nL 388.128125 22.318125 \n\" style=\"fill:none;stroke:#000000;stroke-linecap:square;stroke-linejoin:miter;stroke-width:0.8;\"/>\n   </g>\n   <g id=\"text_14\">\n    <!-- Geo Data -->\n    <g transform=\"translate(192.483125 16.318125)scale(0.12 -0.12)\">\n     <defs>\n      <path d=\"M 3809 666 \nL 3809 1919 \nL 2778 1919 \nL 2778 2438 \nL 4434 2438 \nL 4434 434 \nQ 4069 175 3628 42 \nQ 3188 -91 2688 -91 \nQ 1594 -91 976 548 \nQ 359 1188 359 2328 \nQ 359 3472 976 4111 \nQ 1594 4750 2688 4750 \nQ 3144 4750 3555 4637 \nQ 3966 4525 4313 4306 \nL 4313 3634 \nQ 3963 3931 3569 4081 \nQ 3175 4231 2741 4231 \nQ 1884 4231 1454 3753 \nQ 1025 3275 1025 2328 \nQ 1025 1384 1454 906 \nQ 1884 428 2741 428 \nQ 3075 428 3337 486 \nQ 3600 544 3809 666 \nz\n\" id=\"DejaVuSans-47\" transform=\"scale(0.015625)\"/>\n      <path id=\"DejaVuSans-20\" transform=\"scale(0.015625)\"/>\n      <path d=\"M 1259 4147 \nL 1259 519 \nL 2022 519 \nQ 2988 519 3436 956 \nQ 3884 1394 3884 2338 \nQ 3884 3275 3436 3711 \nQ 2988 4147 2022 4147 \nL 1259 4147 \nz\nM 628 4666 \nL 1925 4666 \nQ 3281 4666 3915 4102 \nQ 4550 3538 4550 2338 \nQ 4550 1131 3912 565 \nQ 3275 0 1925 0 \nL 628 0 \nL 628 4666 \nz\n\" id=\"DejaVuSans-44\" transform=\"scale(0.015625)\"/>\n     </defs>\n     <use xlink:href=\"#DejaVuSans-47\"/>\n     <use x=\"77.490234\" xlink:href=\"#DejaVuSans-65\"/>\n     <use x=\"139.013672\" xlink:href=\"#DejaVuSans-6f\"/>\n     <use x=\"200.195312\" xlink:href=\"#DejaVuSans-20\"/>\n     <use x=\"231.982422\" xlink:href=\"#DejaVuSans-44\"/>\n     <use x=\"308.984375\" xlink:href=\"#DejaVuSans-61\"/>\n     <use x=\"370.263672\" xlink:href=\"#DejaVuSans-74\"/>\n     <use x=\"409.472656\" xlink:href=\"#DejaVuSans-61\"/>\n    </g>\n   </g>\n   <g id=\"legend_1\">\n    <g id=\"patch_67\">\n     <path d=\"M 302.007812 59.674375 \nL 381.128125 59.674375 \nQ 383.128125 59.674375 383.128125 57.674375 \nL 383.128125 29.318125 \nQ 383.128125 27.318125 381.128125 27.318125 \nL 302.007812 27.318125 \nQ 300.007812 27.318125 300.007812 29.318125 \nL 300.007812 57.674375 \nQ 300.007812 59.674375 302.007812 59.674375 \nz\n\" style=\"fill:#ffffff;opacity:0.8;stroke:#cccccc;stroke-linejoin:miter;\"/>\n    </g>\n    <g id=\"patch_68\">\n     <path d=\"M 304.007812 38.916562 \nL 324.007812 38.916562 \nL 324.007812 31.916562 \nL 304.007812 31.916562 \nz\n\" style=\"fill:#1f77b4;\"/>\n    </g>\n    <g id=\"text_15\">\n     <!-- latitude -->\n     <g transform=\"translate(332.007812 38.916562)scale(0.1 -0.1)\">\n      <defs>\n       <path d=\"M 603 4863 \nL 1178 4863 \nL 1178 0 \nL 603 0 \nL 603 4863 \nz\n\" id=\"DejaVuSans-6c\" transform=\"scale(0.015625)\"/>\n      </defs>\n      <use xlink:href=\"#DejaVuSans-6c\"/>\n      <use x=\"27.783203\" xlink:href=\"#DejaVuSans-61\"/>\n      <use x=\"89.0625\" xlink:href=\"#DejaVuSans-74\"/>\n      <use x=\"128.271484\" xlink:href=\"#DejaVuSans-69\"/>\n      <use x=\"156.054688\" xlink:href=\"#DejaVuSans-74\"/>\n      <use x=\"195.263672\" xlink:href=\"#DejaVuSans-75\"/>\n      <use x=\"258.642578\" xlink:href=\"#DejaVuSans-64\"/>\n      <use x=\"322.119141\" xlink:href=\"#DejaVuSans-65\"/>\n     </g>\n    </g>\n    <g id=\"patch_69\">\n     <path d=\"M 304.007812 53.594687 \nL 324.007812 53.594687 \nL 324.007812 46.594687 \nL 304.007812 46.594687 \nz\n\" style=\"fill:#ff7f0e;\"/>\n    </g>\n    <g id=\"text_16\">\n     <!-- longitude -->\n     <g transform=\"translate(332.007812 53.594687)scale(0.1 -0.1)\">\n      <defs>\n       <path d=\"M 2906 1791 \nQ 2906 2416 2648 2759 \nQ 2391 3103 1925 3103 \nQ 1463 3103 1205 2759 \nQ 947 2416 947 1791 \nQ 947 1169 1205 825 \nQ 1463 481 1925 481 \nQ 2391 481 2648 825 \nQ 2906 1169 2906 1791 \nz\nM 3481 434 \nQ 3481 -459 3084 -895 \nQ 2688 -1331 1869 -1331 \nQ 1566 -1331 1297 -1286 \nQ 1028 -1241 775 -1147 \nL 775 -588 \nQ 1028 -725 1275 -790 \nQ 1522 -856 1778 -856 \nQ 2344 -856 2625 -561 \nQ 2906 -266 2906 331 \nL 2906 616 \nQ 2728 306 2450 153 \nQ 2172 0 1784 0 \nQ 1141 0 747 490 \nQ 353 981 353 1791 \nQ 353 2603 747 3093 \nQ 1141 3584 1784 3584 \nQ 2172 3584 2450 3431 \nQ 2728 3278 2906 2969 \nL 2906 3500 \nL 3481 3500 \nL 3481 434 \nz\n\" id=\"DejaVuSans-67\" transform=\"scale(0.015625)\"/>\n      </defs>\n      <use xlink:href=\"#DejaVuSans-6c\"/>\n      <use x=\"27.783203\" xlink:href=\"#DejaVuSans-6f\"/>\n      <use x=\"88.964844\" xlink:href=\"#DejaVuSans-6e\"/>\n      <use x=\"152.34375\" xlink:href=\"#DejaVuSans-67\"/>\n      <use x=\"215.820312\" xlink:href=\"#DejaVuSans-69\"/>\n      <use x=\"243.603516\" xlink:href=\"#DejaVuSans-74\"/>\n      <use x=\"282.8125\" xlink:href=\"#DejaVuSans-75\"/>\n      <use x=\"346.191406\" xlink:href=\"#DejaVuSans-64\"/>\n      <use x=\"409.667969\" xlink:href=\"#DejaVuSans-65\"/>\n     </g>\n    </g>\n   </g>\n  </g>\n </g>\n <defs>\n  <clipPath id=\"pa618cdbb42\">\n   <rect height=\"217.44\" width=\"334.8\" x=\"53.328125\" y=\"22.318125\"/>\n  </clipPath>\n </defs>\n</svg>\n",
      "image/png": "[encoded data removed]"
     },
     "metadata": {
      "needs_background": "light"
     }
    }
   ],
   "source": [
    "plt.hist(df_stations[\"latitude\"], 10, label='latitude')\n",
    "plt.hist(df_stations[\"longitude\"], 50, label='longitude')\n",
    "plt.legend(loc='upper right')\n",
    "plt.title(\"Geo Data\")\n",
    "plt.xlabel('coordinates') \n",
    "plt.ylabel('count')\n",
    "plt.show()"
   ]
  },
  {
   "source": [
    "Jetzt sehen wir die korrekte Koordinaten Daten"
   ],
   "cell_type": "markdown",
   "metadata": {}
  },
  {
   "source": [
    "e) Reichern Sie den Tankstellendatensatz um die Spalte state an, die das Bundesland enthalten soll, in dem sich die Tankstelle befindet. Erzeugen Sie durch Filterung einen DataFrame\n",
    "namens df_stations_BY, der die Informationen zu allen Tankstellen in Bayern enthalt."
   ],
   "cell_type": "markdown",
   "metadata": {}
  },
  {
   "cell_type": "code",
   "execution_count": 33,
   "metadata": {},
   "outputs": [
    {
     "output_type": "error",
     "ename": "KeyboardInterrupt",
     "evalue": "",
     "traceback": [
      "\u001b[0;31m---------------------------------------------------------------------------\u001b[0m",
      "\u001b[0;31mKeyboardInterrupt\u001b[0m                         Traceback (most recent call last)",
      "\u001b[0;32m<ipython-input-33-636bd4b67cd7>\u001b[0m in \u001b[0;36m<module>\u001b[0;34m\u001b[0m\n\u001b[1;32m      1\u001b[0m \u001b[0;32mfor\u001b[0m \u001b[0mi\u001b[0m \u001b[0;32min\u001b[0m \u001b[0mdf_stations\u001b[0m\u001b[0;34m.\u001b[0m\u001b[0mindex\u001b[0m\u001b[0;34m:\u001b[0m\u001b[0;34m\u001b[0m\u001b[0;34m\u001b[0m\u001b[0m\n\u001b[1;32m      2\u001b[0m     \u001b[0mdata\u001b[0m \u001b[0;34m=\u001b[0m \u001b[0mdf_stations\u001b[0m\u001b[0;34m.\u001b[0m\u001b[0miloc\u001b[0m\u001b[0;34m[\u001b[0m\u001b[0mi\u001b[0m\u001b[0;34m]\u001b[0m\u001b[0;34m\u001b[0m\u001b[0;34m\u001b[0m\u001b[0m\n\u001b[0;32m----> 3\u001b[0;31m     \u001b[0mlocation\u001b[0m \u001b[0;34m=\u001b[0m \u001b[0mgeolocator\u001b[0m\u001b[0;34m.\u001b[0m\u001b[0mreverse\u001b[0m\u001b[0;34m(\u001b[0m\u001b[0mstr\u001b[0m\u001b[0;34m(\u001b[0m\u001b[0mdata\u001b[0m\u001b[0;34m[\u001b[0m\u001b[0;34m\"latitude\"\u001b[0m\u001b[0;34m]\u001b[0m\u001b[0;34m)\u001b[0m \u001b[0;34m+\u001b[0m \u001b[0;34m\", \"\u001b[0m \u001b[0;34m+\u001b[0m \u001b[0mstr\u001b[0m\u001b[0;34m(\u001b[0m\u001b[0mdata\u001b[0m\u001b[0;34m[\u001b[0m\u001b[0;34m\"longitude\"\u001b[0m\u001b[0;34m]\u001b[0m\u001b[0;34m)\u001b[0m\u001b[0;34m)\u001b[0m\u001b[0;34m\u001b[0m\u001b[0;34m\u001b[0m\u001b[0m\n\u001b[0m\u001b[1;32m      4\u001b[0m     \u001b[0madressData\u001b[0m \u001b[0;34m=\u001b[0m \u001b[0mlocation\u001b[0m\u001b[0;34m.\u001b[0m\u001b[0mraw\u001b[0m\u001b[0;34m[\u001b[0m\u001b[0;34m\"address\"\u001b[0m\u001b[0;34m]\u001b[0m\u001b[0;34m\u001b[0m\u001b[0;34m\u001b[0m\u001b[0m\n\u001b[1;32m      5\u001b[0m     \u001b[0;32mif\u001b[0m \u001b[0;34m\"state\"\u001b[0m \u001b[0;32min\u001b[0m \u001b[0madressData\u001b[0m\u001b[0;34m:\u001b[0m\u001b[0;34m\u001b[0m\u001b[0;34m\u001b[0m\u001b[0m\n",
      "\u001b[0;32m/Library/Frameworks/Python.framework/Versions/3.9/lib/python3.9/site-packages/geopy/geocoders/nominatim.py\u001b[0m in \u001b[0;36mreverse\u001b[0;34m(self, query, exactly_one, timeout, language, addressdetails, zoom)\u001b[0m\n\u001b[1;32m    360\u001b[0m         \u001b[0mlogger\u001b[0m\u001b[0;34m.\u001b[0m\u001b[0mdebug\u001b[0m\u001b[0;34m(\u001b[0m\u001b[0;34m\"%s.reverse: %s\"\u001b[0m\u001b[0;34m,\u001b[0m \u001b[0mself\u001b[0m\u001b[0;34m.\u001b[0m\u001b[0m__class__\u001b[0m\u001b[0;34m.\u001b[0m\u001b[0m__name__\u001b[0m\u001b[0;34m,\u001b[0m \u001b[0murl\u001b[0m\u001b[0;34m)\u001b[0m\u001b[0;34m\u001b[0m\u001b[0;34m\u001b[0m\u001b[0m\n\u001b[1;32m    361\u001b[0m         \u001b[0mcallback\u001b[0m \u001b[0;34m=\u001b[0m \u001b[0mpartial\u001b[0m\u001b[0;34m(\u001b[0m\u001b[0mself\u001b[0m\u001b[0;34m.\u001b[0m\u001b[0m_parse_json\u001b[0m\u001b[0;34m,\u001b[0m \u001b[0mexactly_one\u001b[0m\u001b[0;34m=\u001b[0m\u001b[0mexactly_one\u001b[0m\u001b[0;34m)\u001b[0m\u001b[0;34m\u001b[0m\u001b[0;34m\u001b[0m\u001b[0m\n\u001b[0;32m--> 362\u001b[0;31m         \u001b[0;32mreturn\u001b[0m \u001b[0mself\u001b[0m\u001b[0;34m.\u001b[0m\u001b[0m_call_geocoder\u001b[0m\u001b[0;34m(\u001b[0m\u001b[0murl\u001b[0m\u001b[0;34m,\u001b[0m \u001b[0mcallback\u001b[0m\u001b[0;34m,\u001b[0m \u001b[0mtimeout\u001b[0m\u001b[0;34m=\u001b[0m\u001b[0mtimeout\u001b[0m\u001b[0;34m)\u001b[0m\u001b[0;34m\u001b[0m\u001b[0;34m\u001b[0m\u001b[0m\n\u001b[0m\u001b[1;32m    363\u001b[0m \u001b[0;34m\u001b[0m\u001b[0m\n\u001b[1;32m    364\u001b[0m     \u001b[0;32mdef\u001b[0m \u001b[0m_parse_code\u001b[0m\u001b[0;34m(\u001b[0m\u001b[0mself\u001b[0m\u001b[0;34m,\u001b[0m \u001b[0mplace\u001b[0m\u001b[0;34m)\u001b[0m\u001b[0;34m:\u001b[0m\u001b[0;34m\u001b[0m\u001b[0;34m\u001b[0m\u001b[0m\n",
      "\u001b[0;32m/Library/Frameworks/Python.framework/Versions/3.9/lib/python3.9/site-packages/geopy/geocoders/base.py\u001b[0m in \u001b[0;36m_call_geocoder\u001b[0;34m(self, url, callback, timeout, is_json, headers)\u001b[0m\n\u001b[1;32m    358\u001b[0m         \u001b[0;32mtry\u001b[0m\u001b[0;34m:\u001b[0m\u001b[0;34m\u001b[0m\u001b[0;34m\u001b[0m\u001b[0m\n\u001b[1;32m    359\u001b[0m             \u001b[0;32mif\u001b[0m \u001b[0mis_json\u001b[0m\u001b[0;34m:\u001b[0m\u001b[0;34m\u001b[0m\u001b[0;34m\u001b[0m\u001b[0m\n\u001b[0;32m--> 360\u001b[0;31m                 \u001b[0mresult\u001b[0m \u001b[0;34m=\u001b[0m \u001b[0mself\u001b[0m\u001b[0;34m.\u001b[0m\u001b[0madapter\u001b[0m\u001b[0;34m.\u001b[0m\u001b[0mget_json\u001b[0m\u001b[0;34m(\u001b[0m\u001b[0murl\u001b[0m\u001b[0;34m,\u001b[0m \u001b[0mtimeout\u001b[0m\u001b[0;34m=\u001b[0m\u001b[0mtimeout\u001b[0m\u001b[0;34m,\u001b[0m \u001b[0mheaders\u001b[0m\u001b[0;34m=\u001b[0m\u001b[0mreq_headers\u001b[0m\u001b[0;34m)\u001b[0m\u001b[0;34m\u001b[0m\u001b[0;34m\u001b[0m\u001b[0m\n\u001b[0m\u001b[1;32m    361\u001b[0m             \u001b[0;32melse\u001b[0m\u001b[0;34m:\u001b[0m\u001b[0;34m\u001b[0m\u001b[0;34m\u001b[0m\u001b[0m\n\u001b[1;32m    362\u001b[0m                 \u001b[0mresult\u001b[0m \u001b[0;34m=\u001b[0m \u001b[0mself\u001b[0m\u001b[0;34m.\u001b[0m\u001b[0madapter\u001b[0m\u001b[0;34m.\u001b[0m\u001b[0mget_text\u001b[0m\u001b[0;34m(\u001b[0m\u001b[0murl\u001b[0m\u001b[0;34m,\u001b[0m \u001b[0mtimeout\u001b[0m\u001b[0;34m=\u001b[0m\u001b[0mtimeout\u001b[0m\u001b[0;34m,\u001b[0m \u001b[0mheaders\u001b[0m\u001b[0;34m=\u001b[0m\u001b[0mreq_headers\u001b[0m\u001b[0;34m)\u001b[0m\u001b[0;34m\u001b[0m\u001b[0;34m\u001b[0m\u001b[0m\n",
      "\u001b[0;32m/Library/Frameworks/Python.framework/Versions/3.9/lib/python3.9/site-packages/geopy/adapters.py\u001b[0m in \u001b[0;36mget_json\u001b[0;34m(self, url, timeout, headers)\u001b[0m\n\u001b[1;32m    375\u001b[0m \u001b[0;34m\u001b[0m\u001b[0m\n\u001b[1;32m    376\u001b[0m     \u001b[0;32mdef\u001b[0m \u001b[0mget_json\u001b[0m\u001b[0;34m(\u001b[0m\u001b[0mself\u001b[0m\u001b[0;34m,\u001b[0m \u001b[0murl\u001b[0m\u001b[0;34m,\u001b[0m \u001b[0;34m*\u001b[0m\u001b[0;34m,\u001b[0m \u001b[0mtimeout\u001b[0m\u001b[0;34m,\u001b[0m \u001b[0mheaders\u001b[0m\u001b[0;34m)\u001b[0m\u001b[0;34m:\u001b[0m\u001b[0;34m\u001b[0m\u001b[0;34m\u001b[0m\u001b[0m\n\u001b[0;32m--> 377\u001b[0;31m         \u001b[0mresp\u001b[0m \u001b[0;34m=\u001b[0m \u001b[0mself\u001b[0m\u001b[0;34m.\u001b[0m\u001b[0m_request\u001b[0m\u001b[0;34m(\u001b[0m\u001b[0murl\u001b[0m\u001b[0;34m,\u001b[0m \u001b[0mtimeout\u001b[0m\u001b[0;34m=\u001b[0m\u001b[0mtimeout\u001b[0m\u001b[0;34m,\u001b[0m \u001b[0mheaders\u001b[0m\u001b[0;34m=\u001b[0m\u001b[0mheaders\u001b[0m\u001b[0;34m)\u001b[0m\u001b[0;34m\u001b[0m\u001b[0;34m\u001b[0m\u001b[0m\n\u001b[0m\u001b[1;32m    378\u001b[0m         \u001b[0;32mtry\u001b[0m\u001b[0;34m:\u001b[0m\u001b[0;34m\u001b[0m\u001b[0;34m\u001b[0m\u001b[0m\n\u001b[1;32m    379\u001b[0m             \u001b[0;32mreturn\u001b[0m \u001b[0mresp\u001b[0m\u001b[0;34m.\u001b[0m\u001b[0mjson\u001b[0m\u001b[0;34m(\u001b[0m\u001b[0;34m)\u001b[0m\u001b[0;34m\u001b[0m\u001b[0;34m\u001b[0m\u001b[0m\n",
      "\u001b[0;32m/Library/Frameworks/Python.framework/Versions/3.9/lib/python3.9/site-packages/geopy/adapters.py\u001b[0m in \u001b[0;36m_request\u001b[0;34m(self, url, timeout, headers)\u001b[0m\n\u001b[1;32m    385\u001b[0m     \u001b[0;32mdef\u001b[0m \u001b[0m_request\u001b[0m\u001b[0;34m(\u001b[0m\u001b[0mself\u001b[0m\u001b[0;34m,\u001b[0m \u001b[0murl\u001b[0m\u001b[0;34m,\u001b[0m \u001b[0;34m*\u001b[0m\u001b[0;34m,\u001b[0m \u001b[0mtimeout\u001b[0m\u001b[0;34m,\u001b[0m \u001b[0mheaders\u001b[0m\u001b[0;34m)\u001b[0m\u001b[0;34m:\u001b[0m\u001b[0;34m\u001b[0m\u001b[0;34m\u001b[0m\u001b[0m\n\u001b[1;32m    386\u001b[0m         \u001b[0;32mtry\u001b[0m\u001b[0;34m:\u001b[0m\u001b[0;34m\u001b[0m\u001b[0;34m\u001b[0m\u001b[0m\n\u001b[0;32m--> 387\u001b[0;31m             \u001b[0mresp\u001b[0m \u001b[0;34m=\u001b[0m \u001b[0mself\u001b[0m\u001b[0;34m.\u001b[0m\u001b[0msession\u001b[0m\u001b[0;34m.\u001b[0m\u001b[0mget\u001b[0m\u001b[0;34m(\u001b[0m\u001b[0murl\u001b[0m\u001b[0;34m,\u001b[0m \u001b[0mtimeout\u001b[0m\u001b[0;34m=\u001b[0m\u001b[0mtimeout\u001b[0m\u001b[0;34m,\u001b[0m \u001b[0mheaders\u001b[0m\u001b[0;34m=\u001b[0m\u001b[0mheaders\u001b[0m\u001b[0;34m)\u001b[0m\u001b[0;34m\u001b[0m\u001b[0;34m\u001b[0m\u001b[0m\n\u001b[0m\u001b[1;32m    388\u001b[0m         \u001b[0;32mexcept\u001b[0m \u001b[0mException\u001b[0m \u001b[0;32mas\u001b[0m \u001b[0merror\u001b[0m\u001b[0;34m:\u001b[0m\u001b[0;34m\u001b[0m\u001b[0;34m\u001b[0m\u001b[0m\n\u001b[1;32m    389\u001b[0m             \u001b[0mmessage\u001b[0m \u001b[0;34m=\u001b[0m \u001b[0mstr\u001b[0m\u001b[0;34m(\u001b[0m\u001b[0merror\u001b[0m\u001b[0;34m)\u001b[0m\u001b[0;34m\u001b[0m\u001b[0;34m\u001b[0m\u001b[0m\n",
      "\u001b[0;32m/Library/Frameworks/Python.framework/Versions/3.9/lib/python3.9/site-packages/requests/sessions.py\u001b[0m in \u001b[0;36mget\u001b[0;34m(self, url, **kwargs)\u001b[0m\n\u001b[1;32m    553\u001b[0m \u001b[0;34m\u001b[0m\u001b[0m\n\u001b[1;32m    554\u001b[0m         \u001b[0mkwargs\u001b[0m\u001b[0;34m.\u001b[0m\u001b[0msetdefault\u001b[0m\u001b[0;34m(\u001b[0m\u001b[0;34m'allow_redirects'\u001b[0m\u001b[0;34m,\u001b[0m \u001b[0;32mTrue\u001b[0m\u001b[0;34m)\u001b[0m\u001b[0;34m\u001b[0m\u001b[0;34m\u001b[0m\u001b[0m\n\u001b[0;32m--> 555\u001b[0;31m         \u001b[0;32mreturn\u001b[0m \u001b[0mself\u001b[0m\u001b[0;34m.\u001b[0m\u001b[0mrequest\u001b[0m\u001b[0;34m(\u001b[0m\u001b[0;34m'GET'\u001b[0m\u001b[0;34m,\u001b[0m \u001b[0murl\u001b[0m\u001b[0;34m,\u001b[0m \u001b[0;34m**\u001b[0m\u001b[0mkwargs\u001b[0m\u001b[0;34m)\u001b[0m\u001b[0;34m\u001b[0m\u001b[0;34m\u001b[0m\u001b[0m\n\u001b[0m\u001b[1;32m    556\u001b[0m \u001b[0;34m\u001b[0m\u001b[0m\n\u001b[1;32m    557\u001b[0m     \u001b[0;32mdef\u001b[0m \u001b[0moptions\u001b[0m\u001b[0;34m(\u001b[0m\u001b[0mself\u001b[0m\u001b[0;34m,\u001b[0m \u001b[0murl\u001b[0m\u001b[0;34m,\u001b[0m \u001b[0;34m**\u001b[0m\u001b[0mkwargs\u001b[0m\u001b[0;34m)\u001b[0m\u001b[0;34m:\u001b[0m\u001b[0;34m\u001b[0m\u001b[0;34m\u001b[0m\u001b[0m\n",
      "\u001b[0;32m/Library/Frameworks/Python.framework/Versions/3.9/lib/python3.9/site-packages/requests/sessions.py\u001b[0m in \u001b[0;36mrequest\u001b[0;34m(self, method, url, params, data, headers, cookies, files, auth, timeout, allow_redirects, proxies, hooks, stream, verify, cert, json)\u001b[0m\n\u001b[1;32m    540\u001b[0m         }\n\u001b[1;32m    541\u001b[0m         \u001b[0msend_kwargs\u001b[0m\u001b[0;34m.\u001b[0m\u001b[0mupdate\u001b[0m\u001b[0;34m(\u001b[0m\u001b[0msettings\u001b[0m\u001b[0;34m)\u001b[0m\u001b[0;34m\u001b[0m\u001b[0;34m\u001b[0m\u001b[0m\n\u001b[0;32m--> 542\u001b[0;31m         \u001b[0mresp\u001b[0m \u001b[0;34m=\u001b[0m \u001b[0mself\u001b[0m\u001b[0;34m.\u001b[0m\u001b[0msend\u001b[0m\u001b[0;34m(\u001b[0m\u001b[0mprep\u001b[0m\u001b[0;34m,\u001b[0m \u001b[0;34m**\u001b[0m\u001b[0msend_kwargs\u001b[0m\u001b[0;34m)\u001b[0m\u001b[0;34m\u001b[0m\u001b[0;34m\u001b[0m\u001b[0m\n\u001b[0m\u001b[1;32m    543\u001b[0m \u001b[0;34m\u001b[0m\u001b[0m\n\u001b[1;32m    544\u001b[0m         \u001b[0;32mreturn\u001b[0m \u001b[0mresp\u001b[0m\u001b[0;34m\u001b[0m\u001b[0;34m\u001b[0m\u001b[0m\n",
      "\u001b[0;32m/Library/Frameworks/Python.framework/Versions/3.9/lib/python3.9/site-packages/requests/sessions.py\u001b[0m in \u001b[0;36msend\u001b[0;34m(self, request, **kwargs)\u001b[0m\n\u001b[1;32m    653\u001b[0m \u001b[0;34m\u001b[0m\u001b[0m\n\u001b[1;32m    654\u001b[0m         \u001b[0;31m# Send the request\u001b[0m\u001b[0;34m\u001b[0m\u001b[0;34m\u001b[0m\u001b[0;34m\u001b[0m\u001b[0m\n\u001b[0;32m--> 655\u001b[0;31m         \u001b[0mr\u001b[0m \u001b[0;34m=\u001b[0m \u001b[0madapter\u001b[0m\u001b[0;34m.\u001b[0m\u001b[0msend\u001b[0m\u001b[0;34m(\u001b[0m\u001b[0mrequest\u001b[0m\u001b[0;34m,\u001b[0m \u001b[0;34m**\u001b[0m\u001b[0mkwargs\u001b[0m\u001b[0;34m)\u001b[0m\u001b[0;34m\u001b[0m\u001b[0;34m\u001b[0m\u001b[0m\n\u001b[0m\u001b[1;32m    656\u001b[0m \u001b[0;34m\u001b[0m\u001b[0m\n\u001b[1;32m    657\u001b[0m         \u001b[0;31m# Total elapsed time of the request (approximately)\u001b[0m\u001b[0;34m\u001b[0m\u001b[0;34m\u001b[0m\u001b[0;34m\u001b[0m\u001b[0m\n",
      "\u001b[0;32m/Library/Frameworks/Python.framework/Versions/3.9/lib/python3.9/site-packages/requests/adapters.py\u001b[0m in \u001b[0;36msend\u001b[0;34m(self, request, stream, timeout, verify, cert, proxies)\u001b[0m\n\u001b[1;32m    437\u001b[0m         \u001b[0;32mtry\u001b[0m\u001b[0;34m:\u001b[0m\u001b[0;34m\u001b[0m\u001b[0;34m\u001b[0m\u001b[0m\n\u001b[1;32m    438\u001b[0m             \u001b[0;32mif\u001b[0m \u001b[0;32mnot\u001b[0m \u001b[0mchunked\u001b[0m\u001b[0;34m:\u001b[0m\u001b[0;34m\u001b[0m\u001b[0;34m\u001b[0m\u001b[0m\n\u001b[0;32m--> 439\u001b[0;31m                 resp = conn.urlopen(\n\u001b[0m\u001b[1;32m    440\u001b[0m                     \u001b[0mmethod\u001b[0m\u001b[0;34m=\u001b[0m\u001b[0mrequest\u001b[0m\u001b[0;34m.\u001b[0m\u001b[0mmethod\u001b[0m\u001b[0;34m,\u001b[0m\u001b[0;34m\u001b[0m\u001b[0;34m\u001b[0m\u001b[0m\n\u001b[1;32m    441\u001b[0m                     \u001b[0murl\u001b[0m\u001b[0;34m=\u001b[0m\u001b[0murl\u001b[0m\u001b[0;34m,\u001b[0m\u001b[0;34m\u001b[0m\u001b[0;34m\u001b[0m\u001b[0m\n",
      "\u001b[0;32m/Library/Frameworks/Python.framework/Versions/3.9/lib/python3.9/site-packages/urllib3/connectionpool.py\u001b[0m in \u001b[0;36murlopen\u001b[0;34m(self, method, url, body, headers, retries, redirect, assert_same_host, timeout, pool_timeout, release_conn, chunked, body_pos, **response_kw)\u001b[0m\n\u001b[1;32m    697\u001b[0m \u001b[0;34m\u001b[0m\u001b[0m\n\u001b[1;32m    698\u001b[0m             \u001b[0;31m# Make the request on the httplib connection object.\u001b[0m\u001b[0;34m\u001b[0m\u001b[0;34m\u001b[0m\u001b[0;34m\u001b[0m\u001b[0m\n\u001b[0;32m--> 699\u001b[0;31m             httplib_response = self._make_request(\n\u001b[0m\u001b[1;32m    700\u001b[0m                 \u001b[0mconn\u001b[0m\u001b[0;34m,\u001b[0m\u001b[0;34m\u001b[0m\u001b[0;34m\u001b[0m\u001b[0m\n\u001b[1;32m    701\u001b[0m                 \u001b[0mmethod\u001b[0m\u001b[0;34m,\u001b[0m\u001b[0;34m\u001b[0m\u001b[0;34m\u001b[0m\u001b[0m\n",
      "\u001b[0;32m/Library/Frameworks/Python.framework/Versions/3.9/lib/python3.9/site-packages/urllib3/connectionpool.py\u001b[0m in \u001b[0;36m_make_request\u001b[0;34m(self, conn, method, url, timeout, chunked, **httplib_request_kw)\u001b[0m\n\u001b[1;32m    443\u001b[0m                     \u001b[0;31m# Python 3 (including for exceptions like SystemExit).\u001b[0m\u001b[0;34m\u001b[0m\u001b[0;34m\u001b[0m\u001b[0;34m\u001b[0m\u001b[0m\n\u001b[1;32m    444\u001b[0m                     \u001b[0;31m# Otherwise it looks like a bug in the code.\u001b[0m\u001b[0;34m\u001b[0m\u001b[0;34m\u001b[0m\u001b[0;34m\u001b[0m\u001b[0m\n\u001b[0;32m--> 445\u001b[0;31m                     \u001b[0msix\u001b[0m\u001b[0;34m.\u001b[0m\u001b[0mraise_from\u001b[0m\u001b[0;34m(\u001b[0m\u001b[0me\u001b[0m\u001b[0;34m,\u001b[0m \u001b[0;32mNone\u001b[0m\u001b[0;34m)\u001b[0m\u001b[0;34m\u001b[0m\u001b[0;34m\u001b[0m\u001b[0m\n\u001b[0m\u001b[1;32m    446\u001b[0m         \u001b[0;32mexcept\u001b[0m \u001b[0;34m(\u001b[0m\u001b[0mSocketTimeout\u001b[0m\u001b[0;34m,\u001b[0m \u001b[0mBaseSSLError\u001b[0m\u001b[0;34m,\u001b[0m \u001b[0mSocketError\u001b[0m\u001b[0;34m)\u001b[0m \u001b[0;32mas\u001b[0m \u001b[0me\u001b[0m\u001b[0;34m:\u001b[0m\u001b[0;34m\u001b[0m\u001b[0;34m\u001b[0m\u001b[0m\n\u001b[1;32m    447\u001b[0m             \u001b[0mself\u001b[0m\u001b[0;34m.\u001b[0m\u001b[0m_raise_timeout\u001b[0m\u001b[0;34m(\u001b[0m\u001b[0merr\u001b[0m\u001b[0;34m=\u001b[0m\u001b[0me\u001b[0m\u001b[0;34m,\u001b[0m \u001b[0murl\u001b[0m\u001b[0;34m=\u001b[0m\u001b[0murl\u001b[0m\u001b[0;34m,\u001b[0m \u001b[0mtimeout_value\u001b[0m\u001b[0;34m=\u001b[0m\u001b[0mread_timeout\u001b[0m\u001b[0;34m)\u001b[0m\u001b[0;34m\u001b[0m\u001b[0;34m\u001b[0m\u001b[0m\n",
      "\u001b[0;32m/Library/Frameworks/Python.framework/Versions/3.9/lib/python3.9/site-packages/urllib3/packages/six.py\u001b[0m in \u001b[0;36mraise_from\u001b[0;34m(value, from_value)\u001b[0m\n",
      "\u001b[0;32m/Library/Frameworks/Python.framework/Versions/3.9/lib/python3.9/site-packages/urllib3/connectionpool.py\u001b[0m in \u001b[0;36m_make_request\u001b[0;34m(self, conn, method, url, timeout, chunked, **httplib_request_kw)\u001b[0m\n\u001b[1;32m    438\u001b[0m                 \u001b[0;31m# Python 3\u001b[0m\u001b[0;34m\u001b[0m\u001b[0;34m\u001b[0m\u001b[0;34m\u001b[0m\u001b[0m\n\u001b[1;32m    439\u001b[0m                 \u001b[0;32mtry\u001b[0m\u001b[0;34m:\u001b[0m\u001b[0;34m\u001b[0m\u001b[0;34m\u001b[0m\u001b[0m\n\u001b[0;32m--> 440\u001b[0;31m                     \u001b[0mhttplib_response\u001b[0m \u001b[0;34m=\u001b[0m \u001b[0mconn\u001b[0m\u001b[0;34m.\u001b[0m\u001b[0mgetresponse\u001b[0m\u001b[0;34m(\u001b[0m\u001b[0;34m)\u001b[0m\u001b[0;34m\u001b[0m\u001b[0;34m\u001b[0m\u001b[0m\n\u001b[0m\u001b[1;32m    441\u001b[0m                 \u001b[0;32mexcept\u001b[0m \u001b[0mBaseException\u001b[0m \u001b[0;32mas\u001b[0m \u001b[0me\u001b[0m\u001b[0;34m:\u001b[0m\u001b[0;34m\u001b[0m\u001b[0;34m\u001b[0m\u001b[0m\n\u001b[1;32m    442\u001b[0m                     \u001b[0;31m# Remove the TypeError from the exception chain in\u001b[0m\u001b[0;34m\u001b[0m\u001b[0;34m\u001b[0m\u001b[0;34m\u001b[0m\u001b[0m\n",
      "\u001b[0;32m/Library/Frameworks/Python.framework/Versions/3.9/lib/python3.9/http/client.py\u001b[0m in \u001b[0;36mgetresponse\u001b[0;34m(self)\u001b[0m\n\u001b[1;32m   1345\u001b[0m         \u001b[0;32mtry\u001b[0m\u001b[0;34m:\u001b[0m\u001b[0;34m\u001b[0m\u001b[0;34m\u001b[0m\u001b[0m\n\u001b[1;32m   1346\u001b[0m             \u001b[0;32mtry\u001b[0m\u001b[0;34m:\u001b[0m\u001b[0;34m\u001b[0m\u001b[0;34m\u001b[0m\u001b[0m\n\u001b[0;32m-> 1347\u001b[0;31m                 \u001b[0mresponse\u001b[0m\u001b[0;34m.\u001b[0m\u001b[0mbegin\u001b[0m\u001b[0;34m(\u001b[0m\u001b[0;34m)\u001b[0m\u001b[0;34m\u001b[0m\u001b[0;34m\u001b[0m\u001b[0m\n\u001b[0m\u001b[1;32m   1348\u001b[0m             \u001b[0;32mexcept\u001b[0m \u001b[0mConnectionError\u001b[0m\u001b[0;34m:\u001b[0m\u001b[0;34m\u001b[0m\u001b[0;34m\u001b[0m\u001b[0m\n\u001b[1;32m   1349\u001b[0m                 \u001b[0mself\u001b[0m\u001b[0;34m.\u001b[0m\u001b[0mclose\u001b[0m\u001b[0;34m(\u001b[0m\u001b[0;34m)\u001b[0m\u001b[0;34m\u001b[0m\u001b[0;34m\u001b[0m\u001b[0m\n",
      "\u001b[0;32m/Library/Frameworks/Python.framework/Versions/3.9/lib/python3.9/http/client.py\u001b[0m in \u001b[0;36mbegin\u001b[0;34m(self)\u001b[0m\n\u001b[1;32m    305\u001b[0m         \u001b[0;31m# read until we get a non-100 response\u001b[0m\u001b[0;34m\u001b[0m\u001b[0;34m\u001b[0m\u001b[0;34m\u001b[0m\u001b[0m\n\u001b[1;32m    306\u001b[0m         \u001b[0;32mwhile\u001b[0m \u001b[0;32mTrue\u001b[0m\u001b[0;34m:\u001b[0m\u001b[0;34m\u001b[0m\u001b[0;34m\u001b[0m\u001b[0m\n\u001b[0;32m--> 307\u001b[0;31m             \u001b[0mversion\u001b[0m\u001b[0;34m,\u001b[0m \u001b[0mstatus\u001b[0m\u001b[0;34m,\u001b[0m \u001b[0mreason\u001b[0m \u001b[0;34m=\u001b[0m \u001b[0mself\u001b[0m\u001b[0;34m.\u001b[0m\u001b[0m_read_status\u001b[0m\u001b[0;34m(\u001b[0m\u001b[0;34m)\u001b[0m\u001b[0;34m\u001b[0m\u001b[0;34m\u001b[0m\u001b[0m\n\u001b[0m\u001b[1;32m    308\u001b[0m             \u001b[0;32mif\u001b[0m \u001b[0mstatus\u001b[0m \u001b[0;34m!=\u001b[0m \u001b[0mCONTINUE\u001b[0m\u001b[0;34m:\u001b[0m\u001b[0;34m\u001b[0m\u001b[0;34m\u001b[0m\u001b[0m\n\u001b[1;32m    309\u001b[0m                 \u001b[0;32mbreak\u001b[0m\u001b[0;34m\u001b[0m\u001b[0;34m\u001b[0m\u001b[0m\n",
      "\u001b[0;32m/Library/Frameworks/Python.framework/Versions/3.9/lib/python3.9/http/client.py\u001b[0m in \u001b[0;36m_read_status\u001b[0;34m(self)\u001b[0m\n\u001b[1;32m    266\u001b[0m \u001b[0;34m\u001b[0m\u001b[0m\n\u001b[1;32m    267\u001b[0m     \u001b[0;32mdef\u001b[0m \u001b[0m_read_status\u001b[0m\u001b[0;34m(\u001b[0m\u001b[0mself\u001b[0m\u001b[0;34m)\u001b[0m\u001b[0;34m:\u001b[0m\u001b[0;34m\u001b[0m\u001b[0;34m\u001b[0m\u001b[0m\n\u001b[0;32m--> 268\u001b[0;31m         \u001b[0mline\u001b[0m \u001b[0;34m=\u001b[0m \u001b[0mstr\u001b[0m\u001b[0;34m(\u001b[0m\u001b[0mself\u001b[0m\u001b[0;34m.\u001b[0m\u001b[0mfp\u001b[0m\u001b[0;34m.\u001b[0m\u001b[0mreadline\u001b[0m\u001b[0;34m(\u001b[0m\u001b[0m_MAXLINE\u001b[0m \u001b[0;34m+\u001b[0m \u001b[0;36m1\u001b[0m\u001b[0;34m)\u001b[0m\u001b[0;34m,\u001b[0m \u001b[0;34m\"iso-8859-1\"\u001b[0m\u001b[0;34m)\u001b[0m\u001b[0;34m\u001b[0m\u001b[0;34m\u001b[0m\u001b[0m\n\u001b[0m\u001b[1;32m    269\u001b[0m         \u001b[0;32mif\u001b[0m \u001b[0mlen\u001b[0m\u001b[0;34m(\u001b[0m\u001b[0mline\u001b[0m\u001b[0;34m)\u001b[0m \u001b[0;34m>\u001b[0m \u001b[0m_MAXLINE\u001b[0m\u001b[0;34m:\u001b[0m\u001b[0;34m\u001b[0m\u001b[0;34m\u001b[0m\u001b[0m\n\u001b[1;32m    270\u001b[0m             \u001b[0;32mraise\u001b[0m \u001b[0mLineTooLong\u001b[0m\u001b[0;34m(\u001b[0m\u001b[0;34m\"status line\"\u001b[0m\u001b[0;34m)\u001b[0m\u001b[0;34m\u001b[0m\u001b[0;34m\u001b[0m\u001b[0m\n",
      "\u001b[0;32m/Library/Frameworks/Python.framework/Versions/3.9/lib/python3.9/socket.py\u001b[0m in \u001b[0;36mreadinto\u001b[0;34m(self, b)\u001b[0m\n\u001b[1;32m    702\u001b[0m         \u001b[0;32mwhile\u001b[0m \u001b[0;32mTrue\u001b[0m\u001b[0;34m:\u001b[0m\u001b[0;34m\u001b[0m\u001b[0;34m\u001b[0m\u001b[0m\n\u001b[1;32m    703\u001b[0m             \u001b[0;32mtry\u001b[0m\u001b[0;34m:\u001b[0m\u001b[0;34m\u001b[0m\u001b[0;34m\u001b[0m\u001b[0m\n\u001b[0;32m--> 704\u001b[0;31m                 \u001b[0;32mreturn\u001b[0m \u001b[0mself\u001b[0m\u001b[0;34m.\u001b[0m\u001b[0m_sock\u001b[0m\u001b[0;34m.\u001b[0m\u001b[0mrecv_into\u001b[0m\u001b[0;34m(\u001b[0m\u001b[0mb\u001b[0m\u001b[0;34m)\u001b[0m\u001b[0;34m\u001b[0m\u001b[0;34m\u001b[0m\u001b[0m\n\u001b[0m\u001b[1;32m    705\u001b[0m             \u001b[0;32mexcept\u001b[0m \u001b[0mtimeout\u001b[0m\u001b[0;34m:\u001b[0m\u001b[0;34m\u001b[0m\u001b[0;34m\u001b[0m\u001b[0m\n\u001b[1;32m    706\u001b[0m                 \u001b[0mself\u001b[0m\u001b[0;34m.\u001b[0m\u001b[0m_timeout_occurred\u001b[0m \u001b[0;34m=\u001b[0m \u001b[0;32mTrue\u001b[0m\u001b[0;34m\u001b[0m\u001b[0;34m\u001b[0m\u001b[0m\n",
      "\u001b[0;32m/Library/Frameworks/Python.framework/Versions/3.9/lib/python3.9/ssl.py\u001b[0m in \u001b[0;36mrecv_into\u001b[0;34m(self, buffer, nbytes, flags)\u001b[0m\n\u001b[1;32m   1239\u001b[0m                   \u001b[0;34m\"non-zero flags not allowed in calls to recv_into() on %s\"\u001b[0m \u001b[0;34m%\u001b[0m\u001b[0;34m\u001b[0m\u001b[0;34m\u001b[0m\u001b[0m\n\u001b[1;32m   1240\u001b[0m                   self.__class__)\n\u001b[0;32m-> 1241\u001b[0;31m             \u001b[0;32mreturn\u001b[0m \u001b[0mself\u001b[0m\u001b[0;34m.\u001b[0m\u001b[0mread\u001b[0m\u001b[0;34m(\u001b[0m\u001b[0mnbytes\u001b[0m\u001b[0;34m,\u001b[0m \u001b[0mbuffer\u001b[0m\u001b[0;34m)\u001b[0m\u001b[0;34m\u001b[0m\u001b[0;34m\u001b[0m\u001b[0m\n\u001b[0m\u001b[1;32m   1242\u001b[0m         \u001b[0;32melse\u001b[0m\u001b[0;34m:\u001b[0m\u001b[0;34m\u001b[0m\u001b[0;34m\u001b[0m\u001b[0m\n\u001b[1;32m   1243\u001b[0m             \u001b[0;32mreturn\u001b[0m \u001b[0msuper\u001b[0m\u001b[0;34m(\u001b[0m\u001b[0;34m)\u001b[0m\u001b[0;34m.\u001b[0m\u001b[0mrecv_into\u001b[0m\u001b[0;34m(\u001b[0m\u001b[0mbuffer\u001b[0m\u001b[0;34m,\u001b[0m \u001b[0mnbytes\u001b[0m\u001b[0;34m,\u001b[0m \u001b[0mflags\u001b[0m\u001b[0;34m)\u001b[0m\u001b[0;34m\u001b[0m\u001b[0;34m\u001b[0m\u001b[0m\n",
      "\u001b[0;32m/Library/Frameworks/Python.framework/Versions/3.9/lib/python3.9/ssl.py\u001b[0m in \u001b[0;36mread\u001b[0;34m(self, len, buffer)\u001b[0m\n\u001b[1;32m   1097\u001b[0m         \u001b[0;32mtry\u001b[0m\u001b[0;34m:\u001b[0m\u001b[0;34m\u001b[0m\u001b[0;34m\u001b[0m\u001b[0m\n\u001b[1;32m   1098\u001b[0m             \u001b[0;32mif\u001b[0m \u001b[0mbuffer\u001b[0m \u001b[0;32mis\u001b[0m \u001b[0;32mnot\u001b[0m \u001b[0;32mNone\u001b[0m\u001b[0;34m:\u001b[0m\u001b[0;34m\u001b[0m\u001b[0;34m\u001b[0m\u001b[0m\n\u001b[0;32m-> 1099\u001b[0;31m                 \u001b[0;32mreturn\u001b[0m \u001b[0mself\u001b[0m\u001b[0;34m.\u001b[0m\u001b[0m_sslobj\u001b[0m\u001b[0;34m.\u001b[0m\u001b[0mread\u001b[0m\u001b[0;34m(\u001b[0m\u001b[0mlen\u001b[0m\u001b[0;34m,\u001b[0m \u001b[0mbuffer\u001b[0m\u001b[0;34m)\u001b[0m\u001b[0;34m\u001b[0m\u001b[0;34m\u001b[0m\u001b[0m\n\u001b[0m\u001b[1;32m   1100\u001b[0m             \u001b[0;32melse\u001b[0m\u001b[0;34m:\u001b[0m\u001b[0;34m\u001b[0m\u001b[0;34m\u001b[0m\u001b[0m\n\u001b[1;32m   1101\u001b[0m                 \u001b[0;32mreturn\u001b[0m \u001b[0mself\u001b[0m\u001b[0;34m.\u001b[0m\u001b[0m_sslobj\u001b[0m\u001b[0;34m.\u001b[0m\u001b[0mread\u001b[0m\u001b[0;34m(\u001b[0m\u001b[0mlen\u001b[0m\u001b[0;34m)\u001b[0m\u001b[0;34m\u001b[0m\u001b[0;34m\u001b[0m\u001b[0m\n",
      "\u001b[0;31mKeyboardInterrupt\u001b[0m: "
     ]
    }
   ],
   "source": [
    "for i in df_stations.index:\n",
    "    data = df_stations.iloc[i]\n",
    "    location = geolocator.reverse(str(data[\"latitude\"]) + \", \" + str(data[\"longitude\"]))\n",
    "    adressData = location.raw[\"address\"]\n",
    "    if \"state\" in adressData:\n",
    "        df_stations.at[i, \"state\"] = adressData[\"state\"]\n",
    "\n",
    "df_stations[\"state\"]"
   ]
  },
  {
   "cell_type": "code",
   "execution_count": null,
   "metadata": {},
   "outputs": [],
   "source": [
    "df_stations_BY = df_stations.loc[df_stations[\"state\"] == \"Bayern\"]"
   ]
  },
  {
   "source": [
    "Lesen Sie nun den Preise-Datensatz aus dem GitLab-Repository in einen DataFrame namens\n",
    "df_prices_BY ein. Dieser wurde durch Filterung der auf der Tankerkonig-Seite verf ¨ ugbaren ¨\n",
    "Preise-Datensatze erzeugt und enth ¨ alt die Angaben zur historischen Preisen und Preis ¨ anderungen ¨\n",
    "an den Tankstellen in Bayern im Betrachtungszeitraum zwischen Januar 2018 und Mai 2021."
   ],
   "cell_type": "markdown",
   "metadata": {}
  },
  {
   "cell_type": "code",
   "execution_count": null,
   "metadata": {},
   "outputs": [],
   "source": [
    "df_prices_BY = df_stations = pd.read_csv(\"prices_BY.csv\")"
   ]
  },
  {
   "source": [
    "f) Untersuchen Sie die Kraftstoffpreise auf Ausreißer und entfernen Sie diese ggf."
   ],
   "cell_type": "markdown",
   "metadata": {}
  },
  {
   "cell_type": "code",
   "execution_count": 16,
   "metadata": {},
   "outputs": [],
   "source": [
    "#TODO"
   ]
  },
  {
   "source": [
    "g) Uberf ¨ uhren Sie die Spalte ¨ date in ein DateTime-Format."
   ],
   "cell_type": "markdown",
   "metadata": {}
  },
  {
   "cell_type": "code",
   "execution_count": 17,
   "metadata": {},
   "outputs": [],
   "source": [
    "#TODO"
   ]
  },
  {
   "source": [
    "### Aufgabe 2 \n",
    "#### (Explorative Datenanalyse)\n",
    "In dieser Aufgabe sind erste einfache Analysen durchzufuhren und Visualisierungen zu erstellen"
   ],
   "cell_type": "markdown",
   "metadata": {}
  },
  {
   "source": [
    "a) Wie viele Tankstellen gibt es insgesamt in Deutschland? Wie viele pro Bundesland?"
   ],
   "cell_type": "markdown",
   "metadata": {}
  },
  {
   "cell_type": "code",
   "execution_count": 18,
   "metadata": {},
   "outputs": [],
   "source": [
    "#TODO"
   ]
  },
  {
   "source": [
    "b) Welches sind die zehn Tankstellenmarken mit den meisten Niederlassungen in Deutschland?\n",
    "Wie viele Niederlassungen sind es jeweils?"
   ],
   "cell_type": "markdown",
   "metadata": {}
  },
  {
   "cell_type": "code",
   "execution_count": 19,
   "metadata": {},
   "outputs": [],
   "source": [
    "#TODO"
   ]
  },
  {
   "source": [
    "c) Welcher Anteil der Tankstellen hat sonntags geoffnet?"
   ],
   "cell_type": "markdown",
   "metadata": {}
  },
  {
   "cell_type": "code",
   "execution_count": 20,
   "metadata": {},
   "outputs": [],
   "source": [
    "#TODO"
   ]
  },
  {
   "source": [
    "d) Visualisieren Sie in einem Kreisdiagramm die Zusammensetzung des Marktes in freie Tankstellen und Markentankstellen. Nehmen Sie vereinfachend an, dass eine Tankstelle dann\n",
    "eine freie Tankstelle ist, wenn sie gemaß der Spalte ¨ brand einer Marke angehort, die bun- ¨\n",
    "desweit hochstens 20 Niederlassungen betreibt."
   ],
   "cell_type": "markdown",
   "metadata": {}
  },
  {
   "cell_type": "code",
   "execution_count": 21,
   "metadata": {},
   "outputs": [],
   "source": [
    "#TODO"
   ]
  },
  {
   "source": [
    "e) Wie haufig wird an den bayerischen Tankstellen durchschnittlich pro Tag im Betrachtungs- ¨\n",
    "zeitraum ein Datensatz an die Markttransparenzstelle fur Kraftstoffe ¨ ubermittelt? "
   ],
   "cell_type": "markdown",
   "metadata": {}
  },
  {
   "cell_type": "code",
   "execution_count": 22,
   "metadata": {},
   "outputs": [],
   "source": [
    "#TODO"
   ]
  },
  {
   "source": [
    "f) In welchen zehn bayerischen Stadten war der durchschnittliche Diesel-Preis im Betrach- ¨\n",
    "tungszeitraum 2018-2021 am hochsten und wie hoch war er jeweils? In welchen zehn ¨\n",
    "Stadten war er am geringsten und wie hoch war er jeweils? "
   ],
   "cell_type": "markdown",
   "metadata": {}
  },
  {
   "cell_type": "code",
   "execution_count": 23,
   "metadata": {},
   "outputs": [],
   "source": [
    "#TODO"
   ]
  },
  {
   "source": [
    "g) Erstellen Sie mit folium eine interaktive Karte, auf der die einzelnen Tankstellen in Bayern\n",
    "als Marker (in einem Marker-Cluster) eingezeichnet sind. Beim Klick auf einen Marker soll\n",
    "der Name der Tankstelle und deren Adresse angezeigt werden."
   ],
   "cell_type": "markdown",
   "metadata": {}
  },
  {
   "cell_type": "code",
   "execution_count": 24,
   "metadata": {},
   "outputs": [],
   "source": [
    "#TODO"
   ]
  },
  {
   "source": [
    "### Aufgabe 3\n",
    "#### (Analyse der historischen Entwicklung der Kraftstoffpreise)"
   ],
   "cell_type": "markdown",
   "metadata": {}
  },
  {
   "source": [
    "a) In welchem Monat im Betrachtungszeitraum waren die Kraftstoffpreise fur Diesel in Bay- ¨\n",
    "ern durchschnittlich am hochsten? In welchem am geringsten? Wie hoch waren die durch- ¨\n",
    "schnittlichen Preise jeweils?"
   ],
   "cell_type": "markdown",
   "metadata": {}
  },
  {
   "cell_type": "code",
   "execution_count": 25,
   "metadata": {},
   "outputs": [],
   "source": [
    "#TODO"
   ]
  },
  {
   "source": [
    "b) Ermitteln Sie die Jahresdurchschnitte fur die einzelnen Kraftstoffsorten in den Jahren 2018- ¨\n",
    "2021 fur die bayerischen Tankstellen. Visualisieren Sie diese in einem geeigneten Dia- ¨\n",
    "gramm. Lassen sich Trends erkennen?"
   ],
   "cell_type": "markdown",
   "metadata": {}
  },
  {
   "cell_type": "code",
   "execution_count": 26,
   "metadata": {},
   "outputs": [],
   "source": [
    "#TODO"
   ]
  },
  {
   "source": [
    "c) Visualisieren Sie auf geeignete Weise den zeitlichen Verlauf der Preise fur die Kraftstoffe ¨\n",
    "Diesel und Super E5 und Super E10 an den bayerischen Tankstellen zwischen 2018 und\n",
    "2021. Beschreiben und interpretieren Sie Ihre Beobachtungen."
   ],
   "cell_type": "markdown",
   "metadata": {}
  },
  {
   "cell_type": "code",
   "execution_count": 27,
   "metadata": {},
   "outputs": [],
   "source": [
    "#TODO"
   ]
  },
  {
   "source": [
    "### Aufgabe 4\n",
    "#### (Abhangigkeit zwischen dem Roh ¨ olpreis und den Kraftstoffpreisen)"
   ],
   "cell_type": "markdown",
   "metadata": {}
  },
  {
   "source": [
    "a) Untersuchen Sie jeweils den Zusammenhang zwischen den Kraftstoffpreisen fur Diesel bzw. ¨\n",
    "Super E5 und dem Roholpreis. Berechnen Sie dazu die Tagesmittelwerte f ¨ ur die Kraftstoff- ¨\n",
    "preise fur alle Tage im Betrachtungszeitraum 2018-2021 (f ¨ ur die bayerischen Tankstellen) ¨\n",
    "und stellen Sie diese jeweils den Tagesschlusskursen fur die Roh ¨ olsorte Brent Crude Oil ¨\n",
    "(offentlich verf ¨ ugbar) in zwei Streudiagrammen (eines f ¨ ur Diesel und eines f ¨ ur E5) ge- ¨\n",
    "genuber. Laden Sie die verwendeten ¨ Olpreis-Daten in Form einer CSV-Datei mit Ihrer Ab- ¨\n",
    "gabe auf Moodle hoch."
   ],
   "cell_type": "markdown",
   "metadata": {}
  },
  {
   "cell_type": "code",
   "execution_count": 28,
   "metadata": {},
   "outputs": [],
   "source": [
    "#TODO"
   ]
  },
  {
   "source": [
    "b) Berechnen Sie jeweils fur Diesel und E5 den empirischen Korrelationskoeffizienten zwi- ¨\n",
    "schen den Roholpreisen und den Tagesmittelwerten der Kraftstoffpreise."
   ],
   "cell_type": "markdown",
   "metadata": {}
  },
  {
   "cell_type": "code",
   "execution_count": 29,
   "metadata": {},
   "outputs": [],
   "source": [
    "#TODO"
   ]
  },
  {
   "source": [
    "c) Diskutieren Sie, ob lineare Modelle sinnvoll waren, um die Zusammenh ¨ ange zwischen dem ¨\n",
    "Roholpreis und den Preisen f ¨ ur Diesel bzw. E5 darzustellen."
   ],
   "cell_type": "markdown",
   "metadata": {}
  },
  {
   "cell_type": "code",
   "execution_count": 30,
   "metadata": {},
   "outputs": [],
   "source": [
    "#TODO"
   ]
  },
  {
   "source": [
    "### Aufgabe 5\n",
    "#### (Einfluss des Wettbewerbs auf die Kraftstoffpreise in Bayern)\n",
    "Untersuchen Sie, welchen Einfluss der Wettbewerb zwischen mehreren Tankstellen auf die Preisgestaltung hat. Ermitteln Sie dazu zunachst f ¨ ur jede Tankstelle in Bayern, wie viele Tankstellen ¨\n",
    "sich im Umkreis von 5km Umgebung zu ihr befindet. Speichern Sie diese Angabe in einer Spalte namens neighbors. Speichern Sie den resultierenden DataFrame df stations BY als\n",
    "CSV-Datei namens stations BY.csv und laden Sie diese mit Ihrer Abgabe auf Moodle hoch.\n",
    "Stellen Sie zunachst m ¨ ogliche Hypothesen auf und untersuchen Sie diese anschließend, indem Sie ¨\n",
    "geeignete Auswertungen und Visualisierungen erstellen."
   ],
   "cell_type": "markdown",
   "metadata": {}
  },
  {
   "cell_type": "code",
   "execution_count": 31,
   "metadata": {},
   "outputs": [],
   "source": [
    "#TODO"
   ]
  },
  {
   "source": [
    "### Aufgabe 6\n",
    "#### (Tanken in Amberg, Interaktives Diagramm)\n",
    "Herr Sparfuchs, der als Rentner zeitlich flexibel ist, mochte wissen, wann und wo er in Am- ¨\n",
    "berg derzeit am gunstigsten tanken kann. Erstellen Sie dazu ein geeignetes interaktives Dia- ¨\n",
    "gramm mit Plotly, um die Kraftstoffpreise an den Tankstellen in Amberg zu analysieren, und\n",
    "leiten Sie Empfehlungen fur Herrn Sparfuchs ab. Erstellen Sie f ¨ ur die Analyse zwei DataFrames ¨\n",
    "namens df stations amberg und df prices amberg, die aus Filterung der Tankstellenund Preisdatensatze hervorgehen, und verwenden Sie ausschließlich diese f ¨ ur die Erzeugung des ¨\n",
    "Plotly-Diagramms. Dokumentieren Sie Ihre Analyseergebnisse."
   ],
   "cell_type": "markdown",
   "metadata": {}
  },
  {
   "cell_type": "code",
   "execution_count": 32,
   "metadata": {},
   "outputs": [],
   "source": [
    "#TODO"
   ]
  }
 ]
}