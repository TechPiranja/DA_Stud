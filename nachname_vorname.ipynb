{
 "metadata": {
  "language_info": {
   "codemirror_mode": {
    "name": "ipython",
    "version": 3
   },
   "file_extension": ".py",
   "mimetype": "text/x-python",
   "name": "python",
   "nbconvert_exporter": "python",
   "pygments_lexer": "ipython3",
   "version": "3.9.1"
  },
  "orig_nbformat": 4,
  "kernelspec": {
   "name": "python3",
   "display_name": "Python 3.9.1 64-bit"
  },
  "interpreter": {
   "hash": "aee8b7b246df8f9039afb4144a1f6fd8d2ca17a180786b69acc140d282b71a49"
  }
 },
 "nbformat": 4,
 "nbformat_minor": 2,
 "cells": [
  {
   "source": [
    "# Data Analytics SoSe 2021\n",
    "## Gruppenmitglieder: Anja Stricker, Annika Stadelmann"
   ],
   "cell_type": "markdown",
   "metadata": {}
  },
  {
   "source": [
    "### Aufgabe 1\n",
    "#### (Datenvorbereitung)\n",
    "Lesen Sie den unter der o.g. Adresse verfugbaren Tankstellendatensatz zum Stand 31.05.2021\n",
    "in einen DataFrame namens df stations ein. Dieser soll in dieser Aufgabe fur die weitere\n",
    "Verwendung vorbereitet werden."
   ],
   "cell_type": "markdown",
   "metadata": {}
  },
  {
   "cell_type": "code",
   "execution_count": 2207,
   "metadata": {},
   "outputs": [
    {
     "output_type": "execute_result",
     "data": {
      "text/plain": [
       "uuid                  object\n",
       "name                  object\n",
       "brand                 object\n",
       "street                object\n",
       "house_number          object\n",
       "post_code             object\n",
       "city                  object\n",
       "latitude             float64\n",
       "longitude            float64\n",
       "first_active          object\n",
       "openingtimes_json     object\n",
       "dtype: object"
      ]
     },
     "metadata": {},
     "execution_count": 2207
    }
   ],
   "source": [
    "import pandas as pd\n",
    "import numpy as np\n",
    "\n",
    "df_stations = pd.read_csv(\"2021-05-31-stations.csv\")\n",
    "df_stations.dtypes"
   ]
  },
  {
   "source": [
    "a) Untersuchen Sie den Datensatz auf fehlende Werte und setzen Sie ggf. eine geeignete Strategie um, um mit diesen zu verfahren. Begrunden Sie Ihr Vorgehen."
   ],
   "cell_type": "markdown",
   "metadata": {}
  },
  {
   "cell_type": "code",
   "execution_count": 2208,
   "metadata": {},
   "outputs": [
    {
     "output_type": "execute_result",
     "data": {
      "text/plain": [
       "uuid                    0\n",
       "name                    0\n",
       "brand                 670\n",
       "street                  3\n",
       "house_number         2940\n",
       "post_code               3\n",
       "city                    4\n",
       "latitude                0\n",
       "longitude               0\n",
       "first_active            0\n",
       "openingtimes_json       0\n",
       "dtype: int64"
      ]
     },
     "metadata": {},
     "execution_count": 2208
    }
   ],
   "source": [
    "df_stations.isnull().sum()"
   ]
  },
  {
   "source": [
    "Im folgenden werden nur noch die Spalten betrachtet die einen NaN Wert über 0 haben.\n",
    "Alle Spalten mit 0 haben keine NaN Werte und müssen demnach nicht nochmal kontrolliert werden."
   ],
   "cell_type": "markdown",
   "metadata": {}
  },
  {
   "cell_type": "code",
   "execution_count": 2209,
   "metadata": {},
   "outputs": [],
   "source": [
    "df_stations[\"street\"] = df_stations[\"street\"].fillna(\"\")"
   ]
  },
  {
   "cell_type": "code",
   "execution_count": 2210,
   "metadata": {},
   "outputs": [],
   "source": [
    "df_stations[\"house_number\"] = df_stations[\"house_number\"].fillna(0)"
   ]
  },
  {
   "cell_type": "code",
   "execution_count": 2211,
   "metadata": {},
   "outputs": [],
   "source": [
    "df_stations[\"house_number\"] = df_stations[\"house_number\"].fillna(\"other\")\n",
    "df_stations[\"post_code\"] = df_stations[\"post_code\"].fillna(00000)"
   ]
  },
  {
   "cell_type": "code",
   "execution_count": 2212,
   "metadata": {},
   "outputs": [
    {
     "output_type": "execute_result",
     "data": {
      "text/plain": [
       "                                       uuid  \\\n",
       "4340   fe9134a0-cba9-42b1-812a-25a3ed0728b8   \n",
       "13379  5cbfcf42-67b5-495b-bcaa-e4871ceb3988   \n",
       "14200  4e8ecfc5-5d0d-4463-901b-6b9ff8fee510   \n",
       "15262  27b7b18e-85a8-455d-863c-2f8dbdcf256d   \n",
       "\n",
       "                                         name                 brand  \\\n",
       "4340                          RWG Kirchhatten  Raiffeisen Hatten eG   \n",
       "13379                            bft Grefrath                   bft   \n",
       "14200                                 01_test                   NaN   \n",
       "15262  Dortmund (44357),Deininghauser Str. 2                   Gulf   \n",
       "\n",
       "                    street house_number post_code city  latitude  longitude  \\\n",
       "4340                                  0         0  NaN  47.81321    8.33220   \n",
       "13379     Mülhausener Str.            3     47929  NaN  51.33770    6.34416   \n",
       "14200                                 0         0  NaN   0.00000    0.00000   \n",
       "15262  Deininghauser Str.             2     44357  NaN  51.55210    7.36620   \n",
       "\n",
       "                 first_active  \\\n",
       "4340   2014-03-18 16:45:31+01   \n",
       "13379  2014-03-20 00:00:01+01   \n",
       "14200  2015-05-27 00:00:01+02   \n",
       "15262  2018-04-01 23:30:06+02   \n",
       "\n",
       "                                       openingtimes_json  \n",
       "4340                                                  {}  \n",
       "13379  {\"openingTimes\":[{\"applicable_days\":31,\"period...  \n",
       "14200                                                 {}  \n",
       "15262  {\"openingTimes\":[{\"applicable_days\":64,\"period...  "
      ],
      "text/html": "<div>\n<style scoped>\n    .dataframe tbody tr th:only-of-type {\n        vertical-align: middle;\n    }\n\n    .dataframe tbody tr th {\n        vertical-align: top;\n    }\n\n    .dataframe thead th {\n        text-align: right;\n    }\n</style>\n<table border=\"1\" class=\"dataframe\">\n  <thead>\n    <tr style=\"text-align: right;\">\n      <th></th>\n      <th>uuid</th>\n      <th>name</th>\n      <th>brand</th>\n      <th>street</th>\n      <th>house_number</th>\n      <th>post_code</th>\n      <th>city</th>\n      <th>latitude</th>\n      <th>longitude</th>\n      <th>first_active</th>\n      <th>openingtimes_json</th>\n    </tr>\n  </thead>\n  <tbody>\n    <tr>\n      <th>4340</th>\n      <td>fe9134a0-cba9-42b1-812a-25a3ed0728b8</td>\n      <td>RWG Kirchhatten</td>\n      <td>Raiffeisen Hatten eG</td>\n      <td></td>\n      <td>0</td>\n      <td>0</td>\n      <td>NaN</td>\n      <td>47.81321</td>\n      <td>8.33220</td>\n      <td>2014-03-18 16:45:31+01</td>\n      <td>{}</td>\n    </tr>\n    <tr>\n      <th>13379</th>\n      <td>5cbfcf42-67b5-495b-bcaa-e4871ceb3988</td>\n      <td>bft Grefrath</td>\n      <td>bft</td>\n      <td>Mülhausener Str.</td>\n      <td>3</td>\n      <td>47929</td>\n      <td>NaN</td>\n      <td>51.33770</td>\n      <td>6.34416</td>\n      <td>2014-03-20 00:00:01+01</td>\n      <td>{\"openingTimes\":[{\"applicable_days\":31,\"period...</td>\n    </tr>\n    <tr>\n      <th>14200</th>\n      <td>4e8ecfc5-5d0d-4463-901b-6b9ff8fee510</td>\n      <td>01_test</td>\n      <td>NaN</td>\n      <td></td>\n      <td>0</td>\n      <td>0</td>\n      <td>NaN</td>\n      <td>0.00000</td>\n      <td>0.00000</td>\n      <td>2015-05-27 00:00:01+02</td>\n      <td>{}</td>\n    </tr>\n    <tr>\n      <th>15262</th>\n      <td>27b7b18e-85a8-455d-863c-2f8dbdcf256d</td>\n      <td>Dortmund (44357),Deininghauser Str. 2</td>\n      <td>Gulf</td>\n      <td>Deininghauser Str.</td>\n      <td>2</td>\n      <td>44357</td>\n      <td>NaN</td>\n      <td>51.55210</td>\n      <td>7.36620</td>\n      <td>2018-04-01 23:30:06+02</td>\n      <td>{\"openingTimes\":[{\"applicable_days\":64,\"period...</td>\n    </tr>\n  </tbody>\n</table>\n</div>"
     },
     "metadata": {},
     "execution_count": 2212
    }
   ],
   "source": [
    "df_stations[df_stations[\"city\"].isnull()]"
   ]
  },
  {
   "cell_type": "code",
   "execution_count": 2213,
   "metadata": {},
   "outputs": [
    {
     "output_type": "execute_result",
     "data": {
      "text/plain": [
       "                                       uuid  \\\n",
       "4340   fe9134a0-cba9-42b1-812a-25a3ed0728b8   \n",
       "13379  5cbfcf42-67b5-495b-bcaa-e4871ceb3988   \n",
       "15262  27b7b18e-85a8-455d-863c-2f8dbdcf256d   \n",
       "\n",
       "                                         name                 brand  \\\n",
       "4340                          RWG Kirchhatten  Raiffeisen Hatten eG   \n",
       "13379                            bft Grefrath                   bft   \n",
       "15262  Dortmund (44357),Deininghauser Str. 2                   Gulf   \n",
       "\n",
       "                    street house_number post_code city  latitude  longitude  \\\n",
       "4340                                  0         0  NaN  47.81321    8.33220   \n",
       "13379     Mülhausener Str.            3     47929  NaN  51.33770    6.34416   \n",
       "15262  Deininghauser Str.             2     44357  NaN  51.55210    7.36620   \n",
       "\n",
       "                 first_active  \\\n",
       "4340   2014-03-18 16:45:31+01   \n",
       "13379  2014-03-20 00:00:01+01   \n",
       "15262  2018-04-01 23:30:06+02   \n",
       "\n",
       "                                       openingtimes_json  \n",
       "4340                                                  {}  \n",
       "13379  {\"openingTimes\":[{\"applicable_days\":31,\"period...  \n",
       "15262  {\"openingTimes\":[{\"applicable_days\":64,\"period...  "
      ],
      "text/html": "<div>\n<style scoped>\n    .dataframe tbody tr th:only-of-type {\n        vertical-align: middle;\n    }\n\n    .dataframe tbody tr th {\n        vertical-align: top;\n    }\n\n    .dataframe thead th {\n        text-align: right;\n    }\n</style>\n<table border=\"1\" class=\"dataframe\">\n  <thead>\n    <tr style=\"text-align: right;\">\n      <th></th>\n      <th>uuid</th>\n      <th>name</th>\n      <th>brand</th>\n      <th>street</th>\n      <th>house_number</th>\n      <th>post_code</th>\n      <th>city</th>\n      <th>latitude</th>\n      <th>longitude</th>\n      <th>first_active</th>\n      <th>openingtimes_json</th>\n    </tr>\n  </thead>\n  <tbody>\n    <tr>\n      <th>4340</th>\n      <td>fe9134a0-cba9-42b1-812a-25a3ed0728b8</td>\n      <td>RWG Kirchhatten</td>\n      <td>Raiffeisen Hatten eG</td>\n      <td></td>\n      <td>0</td>\n      <td>0</td>\n      <td>NaN</td>\n      <td>47.81321</td>\n      <td>8.33220</td>\n      <td>2014-03-18 16:45:31+01</td>\n      <td>{}</td>\n    </tr>\n    <tr>\n      <th>13379</th>\n      <td>5cbfcf42-67b5-495b-bcaa-e4871ceb3988</td>\n      <td>bft Grefrath</td>\n      <td>bft</td>\n      <td>Mülhausener Str.</td>\n      <td>3</td>\n      <td>47929</td>\n      <td>NaN</td>\n      <td>51.33770</td>\n      <td>6.34416</td>\n      <td>2014-03-20 00:00:01+01</td>\n      <td>{\"openingTimes\":[{\"applicable_days\":31,\"period...</td>\n    </tr>\n    <tr>\n      <th>15262</th>\n      <td>27b7b18e-85a8-455d-863c-2f8dbdcf256d</td>\n      <td>Dortmund (44357),Deininghauser Str. 2</td>\n      <td>Gulf</td>\n      <td>Deininghauser Str.</td>\n      <td>2</td>\n      <td>44357</td>\n      <td>NaN</td>\n      <td>51.55210</td>\n      <td>7.36620</td>\n      <td>2018-04-01 23:30:06+02</td>\n      <td>{\"openingTimes\":[{\"applicable_days\":64,\"period...</td>\n    </tr>\n  </tbody>\n</table>\n</div>"
     },
     "metadata": {},
     "execution_count": 2213
    }
   ],
   "source": [
    "df_stations = df_stations.drop(df_stations.loc[(df_stations[\"city\"].isnull()) & (df_stations[\"post_code\"] == 00000) & (df_stations[\"latitude\"] == 0.0) & (df_stations[\"longitude\"] == 0.0) | (df_stations[\"openingtimes_json\"] == {})].index)\n",
    "df_stations[df_stations[\"city\"].isnull()]"
   ]
  },
  {
   "cell_type": "code",
   "execution_count": 2214,
   "metadata": {},
   "outputs": [
    {
     "output_type": "execute_result",
     "data": {
      "text/plain": [
       "                                       uuid  \\\n",
       "4340   fe9134a0-cba9-42b1-812a-25a3ed0728b8   \n",
       "13379  5cbfcf42-67b5-495b-bcaa-e4871ceb3988   \n",
       "15262  27b7b18e-85a8-455d-863c-2f8dbdcf256d   \n",
       "\n",
       "                                         name                 brand  \\\n",
       "4340                          RWG Kirchhatten  Raiffeisen Hatten eG   \n",
       "13379                            bft Grefrath                   bft   \n",
       "15262  Dortmund (44357),Deininghauser Str. 2                   Gulf   \n",
       "\n",
       "                    street house_number post_code city  latitude  longitude  \\\n",
       "4340                                  0         0  NaN  47.81321    8.33220   \n",
       "13379     Mülhausener Str.            3     47929  NaN  51.33770    6.34416   \n",
       "15262  Deininghauser Str.             2     44357  NaN  51.55210    7.36620   \n",
       "\n",
       "                 first_active  \\\n",
       "4340   2014-03-18 16:45:31+01   \n",
       "13379  2014-03-20 00:00:01+01   \n",
       "15262  2018-04-01 23:30:06+02   \n",
       "\n",
       "                                       openingtimes_json  \n",
       "4340                                                  {}  \n",
       "13379  {\"openingTimes\":[{\"applicable_days\":31,\"period...  \n",
       "15262  {\"openingTimes\":[{\"applicable_days\":64,\"period...  "
      ],
      "text/html": "<div>\n<style scoped>\n    .dataframe tbody tr th:only-of-type {\n        vertical-align: middle;\n    }\n\n    .dataframe tbody tr th {\n        vertical-align: top;\n    }\n\n    .dataframe thead th {\n        text-align: right;\n    }\n</style>\n<table border=\"1\" class=\"dataframe\">\n  <thead>\n    <tr style=\"text-align: right;\">\n      <th></th>\n      <th>uuid</th>\n      <th>name</th>\n      <th>brand</th>\n      <th>street</th>\n      <th>house_number</th>\n      <th>post_code</th>\n      <th>city</th>\n      <th>latitude</th>\n      <th>longitude</th>\n      <th>first_active</th>\n      <th>openingtimes_json</th>\n    </tr>\n  </thead>\n  <tbody>\n    <tr>\n      <th>4340</th>\n      <td>fe9134a0-cba9-42b1-812a-25a3ed0728b8</td>\n      <td>RWG Kirchhatten</td>\n      <td>Raiffeisen Hatten eG</td>\n      <td></td>\n      <td>0</td>\n      <td>0</td>\n      <td>NaN</td>\n      <td>47.81321</td>\n      <td>8.33220</td>\n      <td>2014-03-18 16:45:31+01</td>\n      <td>{}</td>\n    </tr>\n    <tr>\n      <th>13379</th>\n      <td>5cbfcf42-67b5-495b-bcaa-e4871ceb3988</td>\n      <td>bft Grefrath</td>\n      <td>bft</td>\n      <td>Mülhausener Str.</td>\n      <td>3</td>\n      <td>47929</td>\n      <td>NaN</td>\n      <td>51.33770</td>\n      <td>6.34416</td>\n      <td>2014-03-20 00:00:01+01</td>\n      <td>{\"openingTimes\":[{\"applicable_days\":31,\"period...</td>\n    </tr>\n    <tr>\n      <th>15262</th>\n      <td>27b7b18e-85a8-455d-863c-2f8dbdcf256d</td>\n      <td>Dortmund (44357),Deininghauser Str. 2</td>\n      <td>Gulf</td>\n      <td>Deininghauser Str.</td>\n      <td>2</td>\n      <td>44357</td>\n      <td>NaN</td>\n      <td>51.55210</td>\n      <td>7.36620</td>\n      <td>2018-04-01 23:30:06+02</td>\n      <td>{\"openingTimes\":[{\"applicable_days\":64,\"period...</td>\n    </tr>\n  </tbody>\n</table>\n</div>"
     },
     "metadata": {},
     "execution_count": 2214
    }
   ],
   "source": [
    "df_stations.loc[df_stations[\"city\"].isnull()]"
   ]
  },
  {
   "cell_type": "code",
   "execution_count": 2215,
   "metadata": {},
   "outputs": [
    {
     "output_type": "execute_result",
     "data": {
      "text/plain": [
       "'Grefrath'"
      ]
     },
     "metadata": {},
     "execution_count": 2215
    }
   ],
   "source": [
    "newRow = df_stations.loc[(df_stations[\"post_code\"] == \"47929\") & (df_stations[\"city\"].notnull())]\n",
    "newRow[\"city\"].item()"
   ]
  },
  {
   "cell_type": "code",
   "execution_count": 2216,
   "metadata": {},
   "outputs": [
    {
     "output_type": "execute_result",
     "data": {
      "text/plain": [
       "                                       uuid  \\\n",
       "4340   fe9134a0-cba9-42b1-812a-25a3ed0728b8   \n",
       "13379  5cbfcf42-67b5-495b-bcaa-e4871ceb3988   \n",
       "15262  27b7b18e-85a8-455d-863c-2f8dbdcf256d   \n",
       "\n",
       "                                         name                 brand  \\\n",
       "4340                          RWG Kirchhatten  Raiffeisen Hatten eG   \n",
       "13379                            bft Grefrath                   bft   \n",
       "15262  Dortmund (44357),Deininghauser Str. 2                   Gulf   \n",
       "\n",
       "                    street house_number post_code city  latitude  longitude  \\\n",
       "4340                                  0         0  NaN  47.81321    8.33220   \n",
       "13379     Mülhausener Str.            3     47929  NaN  51.33770    6.34416   \n",
       "15262  Deininghauser Str.             2     44357  NaN  51.55210    7.36620   \n",
       "\n",
       "                 first_active  \\\n",
       "4340   2014-03-18 16:45:31+01   \n",
       "13379  2014-03-20 00:00:01+01   \n",
       "15262  2018-04-01 23:30:06+02   \n",
       "\n",
       "                                       openingtimes_json  \n",
       "4340                                                  {}  \n",
       "13379  {\"openingTimes\":[{\"applicable_days\":31,\"period...  \n",
       "15262  {\"openingTimes\":[{\"applicable_days\":64,\"period...  "
      ],
      "text/html": "<div>\n<style scoped>\n    .dataframe tbody tr th:only-of-type {\n        vertical-align: middle;\n    }\n\n    .dataframe tbody tr th {\n        vertical-align: top;\n    }\n\n    .dataframe thead th {\n        text-align: right;\n    }\n</style>\n<table border=\"1\" class=\"dataframe\">\n  <thead>\n    <tr style=\"text-align: right;\">\n      <th></th>\n      <th>uuid</th>\n      <th>name</th>\n      <th>brand</th>\n      <th>street</th>\n      <th>house_number</th>\n      <th>post_code</th>\n      <th>city</th>\n      <th>latitude</th>\n      <th>longitude</th>\n      <th>first_active</th>\n      <th>openingtimes_json</th>\n    </tr>\n  </thead>\n  <tbody>\n    <tr>\n      <th>4340</th>\n      <td>fe9134a0-cba9-42b1-812a-25a3ed0728b8</td>\n      <td>RWG Kirchhatten</td>\n      <td>Raiffeisen Hatten eG</td>\n      <td></td>\n      <td>0</td>\n      <td>0</td>\n      <td>NaN</td>\n      <td>47.81321</td>\n      <td>8.33220</td>\n      <td>2014-03-18 16:45:31+01</td>\n      <td>{}</td>\n    </tr>\n    <tr>\n      <th>13379</th>\n      <td>5cbfcf42-67b5-495b-bcaa-e4871ceb3988</td>\n      <td>bft Grefrath</td>\n      <td>bft</td>\n      <td>Mülhausener Str.</td>\n      <td>3</td>\n      <td>47929</td>\n      <td>NaN</td>\n      <td>51.33770</td>\n      <td>6.34416</td>\n      <td>2014-03-20 00:00:01+01</td>\n      <td>{\"openingTimes\":[{\"applicable_days\":31,\"period...</td>\n    </tr>\n    <tr>\n      <th>15262</th>\n      <td>27b7b18e-85a8-455d-863c-2f8dbdcf256d</td>\n      <td>Dortmund (44357),Deininghauser Str. 2</td>\n      <td>Gulf</td>\n      <td>Deininghauser Str.</td>\n      <td>2</td>\n      <td>44357</td>\n      <td>NaN</td>\n      <td>51.55210</td>\n      <td>7.36620</td>\n      <td>2018-04-01 23:30:06+02</td>\n      <td>{\"openingTimes\":[{\"applicable_days\":64,\"period...</td>\n    </tr>\n  </tbody>\n</table>\n</div>"
     },
     "metadata": {},
     "execution_count": 2216
    }
   ],
   "source": [
    "df_stations.loc[df_stations[\"city\"].isnull()]"
   ]
  },
  {
   "cell_type": "code",
   "execution_count": 2217,
   "metadata": {},
   "outputs": [
    {
     "output_type": "execute_result",
     "data": {
      "text/plain": [
       "                                       uuid             name brand  \\\n",
       "4230   8b141166-cda5-41d7-af97-2107865c074f  AVIA Tankstelle  AVIA   \n",
       "13379  5cbfcf42-67b5-495b-bcaa-e4871ceb3988     bft Grefrath   bft   \n",
       "\n",
       "                   street house_number post_code      city  latitude  \\\n",
       "4230   Mülhausener Straße           39     47929  Grefrath  51.33914   \n",
       "13379    Mülhausener Str.            3     47929  Grefrath  51.33770   \n",
       "\n",
       "       longitude            first_active  \\\n",
       "4230    6.350694  2014-03-18 16:45:31+01   \n",
       "13379   6.344160  2014-03-20 00:00:01+01   \n",
       "\n",
       "                                       openingtimes_json  \n",
       "4230   {\"overrides\":[{\"startp\":\"2021-06-03 07:00\",\"en...  \n",
       "13379  {\"openingTimes\":[{\"applicable_days\":31,\"period...  "
      ],
      "text/html": "<div>\n<style scoped>\n    .dataframe tbody tr th:only-of-type {\n        vertical-align: middle;\n    }\n\n    .dataframe tbody tr th {\n        vertical-align: top;\n    }\n\n    .dataframe thead th {\n        text-align: right;\n    }\n</style>\n<table border=\"1\" class=\"dataframe\">\n  <thead>\n    <tr style=\"text-align: right;\">\n      <th></th>\n      <th>uuid</th>\n      <th>name</th>\n      <th>brand</th>\n      <th>street</th>\n      <th>house_number</th>\n      <th>post_code</th>\n      <th>city</th>\n      <th>latitude</th>\n      <th>longitude</th>\n      <th>first_active</th>\n      <th>openingtimes_json</th>\n    </tr>\n  </thead>\n  <tbody>\n    <tr>\n      <th>4230</th>\n      <td>8b141166-cda5-41d7-af97-2107865c074f</td>\n      <td>AVIA Tankstelle</td>\n      <td>AVIA</td>\n      <td>Mülhausener Straße</td>\n      <td>39</td>\n      <td>47929</td>\n      <td>Grefrath</td>\n      <td>51.33914</td>\n      <td>6.350694</td>\n      <td>2014-03-18 16:45:31+01</td>\n      <td>{\"overrides\":[{\"startp\":\"2021-06-03 07:00\",\"en...</td>\n    </tr>\n    <tr>\n      <th>13379</th>\n      <td>5cbfcf42-67b5-495b-bcaa-e4871ceb3988</td>\n      <td>bft Grefrath</td>\n      <td>bft</td>\n      <td>Mülhausener Str.</td>\n      <td>3</td>\n      <td>47929</td>\n      <td>Grefrath</td>\n      <td>51.33770</td>\n      <td>6.344160</td>\n      <td>2014-03-20 00:00:01+01</td>\n      <td>{\"openingTimes\":[{\"applicable_days\":31,\"period...</td>\n    </tr>\n  </tbody>\n</table>\n</div>"
     },
     "metadata": {},
     "execution_count": 2217
    }
   ],
   "source": [
    "def findCityWithPostcode(row):\n",
    "    return df_stations[\"city\"][(df_stations[\"post_code\"] == row[\"post_code\"]) & (df_stations[\"city\"].notnull())].item()\n",
    "df_stations[\"city\"] = df_stations[[\"city\", \"post_code\"]].apply(lambda x: findCityWithPostcode(x) if x[\"city\"] is np.nan else x[\"city\"], axis=1)\n",
    "df_stations.loc[df_stations[\"post_code\"] == \"47929\"]"
   ]
  },
  {
   "source": [
    "b) Transformieren Sie die Spalten brand, street und city, sodass die Werte jeweils nur\n",
    "in Großbuchstaben ausgeben werden."
   ],
   "cell_type": "markdown",
   "metadata": {}
  },
  {
   "cell_type": "code",
   "execution_count": 2218,
   "metadata": {},
   "outputs": [],
   "source": [
    "#TODO"
   ]
  },
  {
   "source": [
    "c) Uberprüfen Sie, ob der Datensatz Duplikate enth ¨ alt und entfernen Sie diese ggf. Ein Dupli- ¨\n",
    "kat liege dann vor, wenn zwei Tankstellen in den Spalten name, street, house number\n",
    "und post code ubereinstimmen. Geben Sie aus, wie viele Duplikate ermittelt und entfernt ¨\n",
    "wurden."
   ],
   "cell_type": "markdown",
   "metadata": {}
  },
  {
   "cell_type": "code",
   "execution_count": 2219,
   "metadata": {},
   "outputs": [],
   "source": [
    "#TODO"
   ]
  },
  {
   "source": [
    "d) Untersuchen Sie die Spalten longitude und latitude auf unphysikalische Werte, indem Sie zunachst deren Verteilung in einem Histogramm visualisieren. Entfernen oder kor- ¨\n",
    "rigieren Sie anschließend die Eintrage zu denjenigen Tankstellen, bei denen Sie unphysi- ¨\n",
    "kalische Werte festgestellt haben. Zeichnen Sie anschließend erneut Histogramme fur die ¨\n",
    "beiden Spalten longitude und latitude."
   ],
   "cell_type": "markdown",
   "metadata": {}
  },
  {
   "cell_type": "code",
   "execution_count": 2220,
   "metadata": {},
   "outputs": [],
   "source": [
    "#TODO"
   ]
  },
  {
   "source": [
    "e) Reichern Sie den Tankstellendatensatz um die Spalte state an, die das Bundesland enthalten soll, in dem sich die Tankstelle befindet. Erzeugen Sie durch Filterung einen DataFrame\n",
    "namens df_stations_BY, der die Informationen zu allen Tankstellen in Bayern enthalt."
   ],
   "cell_type": "markdown",
   "metadata": {}
  },
  {
   "cell_type": "code",
   "execution_count": 2221,
   "metadata": {},
   "outputs": [],
   "source": [
    "#TODO"
   ]
  },
  {
   "source": [
    "Lesen Sie nun den Preise-Datensatz aus dem GitLab-Repository in einen DataFrame namens\n",
    "df_prices_BY ein. Dieser wurde durch Filterung der auf der Tankerkonig-Seite verf ¨ ugbaren ¨\n",
    "Preise-Datensatze erzeugt und enth ¨ alt die Angaben zur historischen Preisen und Preis ¨ anderungen ¨\n",
    "an den Tankstellen in Bayern im Betrachtungszeitraum zwischen Januar 2018 und Mai 2021."
   ],
   "cell_type": "markdown",
   "metadata": {}
  },
  {
   "source": [
    "f) Untersuchen Sie die Kraftstoffpreise auf Ausreißer und entfernen Sie diese ggf."
   ],
   "cell_type": "markdown",
   "metadata": {}
  },
  {
   "cell_type": "code",
   "execution_count": 2222,
   "metadata": {},
   "outputs": [],
   "source": [
    "#TODO"
   ]
  },
  {
   "source": [
    "g) Uberf ¨ uhren Sie die Spalte ¨ date in ein DateTime-Format."
   ],
   "cell_type": "markdown",
   "metadata": {}
  },
  {
   "cell_type": "code",
   "execution_count": 2223,
   "metadata": {},
   "outputs": [],
   "source": [
    "#TODO"
   ]
  },
  {
   "source": [
    "### Aufgabe 2 \n",
    "#### (Explorative Datenanalyse)\n",
    "In dieser Aufgabe sind erste einfache Analysen durchzufuhren und Visualisierungen zu erstellen"
   ],
   "cell_type": "markdown",
   "metadata": {}
  },
  {
   "source": [
    "a) Wie viele Tankstellen gibt es insgesamt in Deutschland? Wie viele pro Bundesland?"
   ],
   "cell_type": "markdown",
   "metadata": {}
  },
  {
   "cell_type": "code",
   "execution_count": 2224,
   "metadata": {},
   "outputs": [],
   "source": [
    "#TODO"
   ]
  },
  {
   "source": [
    "b) Welches sind die zehn Tankstellenmarken mit den meisten Niederlassungen in Deutschland?\n",
    "Wie viele Niederlassungen sind es jeweils?"
   ],
   "cell_type": "markdown",
   "metadata": {}
  },
  {
   "cell_type": "code",
   "execution_count": 2225,
   "metadata": {},
   "outputs": [],
   "source": [
    "#TODO"
   ]
  },
  {
   "source": [
    "c) Welcher Anteil der Tankstellen hat sonntags geoffnet?"
   ],
   "cell_type": "markdown",
   "metadata": {}
  },
  {
   "cell_type": "code",
   "execution_count": 2226,
   "metadata": {},
   "outputs": [],
   "source": [
    "#TODO"
   ]
  },
  {
   "source": [
    "d) Visualisieren Sie in einem Kreisdiagramm die Zusammensetzung des Marktes in freie Tankstellen und Markentankstellen. Nehmen Sie vereinfachend an, dass eine Tankstelle dann\n",
    "eine freie Tankstelle ist, wenn sie gemaß der Spalte ¨ brand einer Marke angehort, die bun- ¨\n",
    "desweit hochstens 20 Niederlassungen betreibt."
   ],
   "cell_type": "markdown",
   "metadata": {}
  },
  {
   "cell_type": "code",
   "execution_count": 2227,
   "metadata": {},
   "outputs": [],
   "source": [
    "#TODO"
   ]
  },
  {
   "source": [
    "e) Wie haufig wird an den bayerischen Tankstellen durchschnittlich pro Tag im Betrachtungs- ¨\n",
    "zeitraum ein Datensatz an die Markttransparenzstelle fur Kraftstoffe ¨ ubermittelt? "
   ],
   "cell_type": "markdown",
   "metadata": {}
  },
  {
   "cell_type": "code",
   "execution_count": 2228,
   "metadata": {},
   "outputs": [],
   "source": [
    "#TODO"
   ]
  },
  {
   "source": [
    "f) In welchen zehn bayerischen Stadten war der durchschnittliche Diesel-Preis im Betrach- ¨\n",
    "tungszeitraum 2018-2021 am hochsten und wie hoch war er jeweils? In welchen zehn ¨\n",
    "Stadten war er am geringsten und wie hoch war er jeweils? "
   ],
   "cell_type": "markdown",
   "metadata": {}
  },
  {
   "cell_type": "code",
   "execution_count": 2229,
   "metadata": {},
   "outputs": [],
   "source": [
    "#TODO"
   ]
  },
  {
   "source": [
    "g) Erstellen Sie mit folium eine interaktive Karte, auf der die einzelnen Tankstellen in Bayern\n",
    "als Marker (in einem Marker-Cluster) eingezeichnet sind. Beim Klick auf einen Marker soll\n",
    "der Name der Tankstelle und deren Adresse angezeigt werden."
   ],
   "cell_type": "markdown",
   "metadata": {}
  },
  {
   "cell_type": "code",
   "execution_count": 2230,
   "metadata": {},
   "outputs": [],
   "source": [
    "#TODO"
   ]
  },
  {
   "source": [
    "### Aufgabe 3\n",
    "#### (Analyse der historischen Entwicklung der Kraftstoffpreise)"
   ],
   "cell_type": "markdown",
   "metadata": {}
  },
  {
   "source": [
    "a) In welchem Monat im Betrachtungszeitraum waren die Kraftstoffpreise fur Diesel in Bay- ¨\n",
    "ern durchschnittlich am hochsten? In welchem am geringsten? Wie hoch waren die durch- ¨\n",
    "schnittlichen Preise jeweils?"
   ],
   "cell_type": "markdown",
   "metadata": {}
  },
  {
   "cell_type": "code",
   "execution_count": 2231,
   "metadata": {},
   "outputs": [],
   "source": [
    "#TODO"
   ]
  },
  {
   "source": [
    "b) Ermitteln Sie die Jahresdurchschnitte fur die einzelnen Kraftstoffsorten in den Jahren 2018- ¨\n",
    "2021 fur die bayerischen Tankstellen. Visualisieren Sie diese in einem geeigneten Dia- ¨\n",
    "gramm. Lassen sich Trends erkennen?"
   ],
   "cell_type": "markdown",
   "metadata": {}
  },
  {
   "cell_type": "code",
   "execution_count": 2232,
   "metadata": {},
   "outputs": [],
   "source": [
    "#TODO"
   ]
  },
  {
   "source": [
    "c) Visualisieren Sie auf geeignete Weise den zeitlichen Verlauf der Preise fur die Kraftstoffe ¨\n",
    "Diesel und Super E5 und Super E10 an den bayerischen Tankstellen zwischen 2018 und\n",
    "2021. Beschreiben und interpretieren Sie Ihre Beobachtungen."
   ],
   "cell_type": "markdown",
   "metadata": {}
  },
  {
   "cell_type": "code",
   "execution_count": 2233,
   "metadata": {},
   "outputs": [],
   "source": [
    "#TODO"
   ]
  },
  {
   "source": [
    "### Aufgabe 4\n",
    "#### (Abhangigkeit zwischen dem Roh ¨ olpreis und den Kraftstoffpreisen)"
   ],
   "cell_type": "markdown",
   "metadata": {}
  },
  {
   "source": [
    "a) Untersuchen Sie jeweils den Zusammenhang zwischen den Kraftstoffpreisen fur Diesel bzw. ¨\n",
    "Super E5 und dem Roholpreis. Berechnen Sie dazu die Tagesmittelwerte f ¨ ur die Kraftstoff- ¨\n",
    "preise fur alle Tage im Betrachtungszeitraum 2018-2021 (f ¨ ur die bayerischen Tankstellen) ¨\n",
    "und stellen Sie diese jeweils den Tagesschlusskursen fur die Roh ¨ olsorte Brent Crude Oil ¨\n",
    "(offentlich verf ¨ ugbar) in zwei Streudiagrammen (eines f ¨ ur Diesel und eines f ¨ ur E5) ge- ¨\n",
    "genuber. Laden Sie die verwendeten ¨ Olpreis-Daten in Form einer CSV-Datei mit Ihrer Ab- ¨\n",
    "gabe auf Moodle hoch."
   ],
   "cell_type": "markdown",
   "metadata": {}
  },
  {
   "cell_type": "code",
   "execution_count": 2234,
   "metadata": {},
   "outputs": [],
   "source": [
    "#TODO"
   ]
  },
  {
   "source": [
    "b) Berechnen Sie jeweils fur Diesel und E5 den empirischen Korrelationskoeffizienten zwi- ¨\n",
    "schen den Roholpreisen und den Tagesmittelwerten der Kraftstoffpreise."
   ],
   "cell_type": "markdown",
   "metadata": {}
  },
  {
   "cell_type": "code",
   "execution_count": 2235,
   "metadata": {},
   "outputs": [],
   "source": [
    "#TODO"
   ]
  },
  {
   "source": [
    "c) Diskutieren Sie, ob lineare Modelle sinnvoll waren, um die Zusammenh ¨ ange zwischen dem ¨\n",
    "Roholpreis und den Preisen f ¨ ur Diesel bzw. E5 darzustellen."
   ],
   "cell_type": "markdown",
   "metadata": {}
  },
  {
   "cell_type": "code",
   "execution_count": 2236,
   "metadata": {},
   "outputs": [],
   "source": [
    "#TODO"
   ]
  },
  {
   "source": [
    "### Aufgabe 5\n",
    "#### (Einfluss des Wettbewerbs auf die Kraftstoffpreise in Bayern)\n",
    "Untersuchen Sie, welchen Einfluss der Wettbewerb zwischen mehreren Tankstellen auf die Preisgestaltung hat. Ermitteln Sie dazu zunachst f ¨ ur jede Tankstelle in Bayern, wie viele Tankstellen ¨\n",
    "sich im Umkreis von 5km Umgebung zu ihr befindet. Speichern Sie diese Angabe in einer Spalte namens neighbors. Speichern Sie den resultierenden DataFrame df stations BY als\n",
    "CSV-Datei namens stations BY.csv und laden Sie diese mit Ihrer Abgabe auf Moodle hoch.\n",
    "Stellen Sie zunachst m ¨ ogliche Hypothesen auf und untersuchen Sie diese anschließend, indem Sie ¨\n",
    "geeignete Auswertungen und Visualisierungen erstellen."
   ],
   "cell_type": "markdown",
   "metadata": {}
  },
  {
   "cell_type": "code",
   "execution_count": 2237,
   "metadata": {},
   "outputs": [],
   "source": [
    "#TODO"
   ]
  },
  {
   "source": [
    "### Aufgabe 6\n",
    "#### (Tanken in Amberg, Interaktives Diagramm)\n",
    "Herr Sparfuchs, der als Rentner zeitlich flexibel ist, mochte wissen, wann und wo er in Am- ¨\n",
    "berg derzeit am gunstigsten tanken kann. Erstellen Sie dazu ein geeignetes interaktives Dia- ¨\n",
    "gramm mit Plotly, um die Kraftstoffpreise an den Tankstellen in Amberg zu analysieren, und\n",
    "leiten Sie Empfehlungen fur Herrn Sparfuchs ab. Erstellen Sie f ¨ ur die Analyse zwei DataFrames ¨\n",
    "namens df stations amberg und df prices amberg, die aus Filterung der Tankstellenund Preisdatensatze hervorgehen, und verwenden Sie ausschließlich diese f ¨ ur die Erzeugung des ¨\n",
    "Plotly-Diagramms. Dokumentieren Sie Ihre Analyseergebnisse."
   ],
   "cell_type": "markdown",
   "metadata": {}
  },
  {
   "cell_type": "code",
   "execution_count": 2238,
   "metadata": {},
   "outputs": [],
   "source": [
    "#TODO"
   ]
  }
 ]
}